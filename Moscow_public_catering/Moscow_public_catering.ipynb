{
 "cells": [
  {
   "cell_type": "markdown",
   "metadata": {},
   "source": [
    "# Исследования рынка общепита в Москве для принятия решения об открытии нового заведения"
   ]
  },
  {
   "cell_type": "markdown",
   "metadata": {},
   "source": [
    "В рамках проекта необходимо открыть небольшое кафе в Москве. Оно оригинальное — гостей должны обслуживать роботы.<br>\n",
    "Необходимо участие инвесторов, которых интересует текущее положение дел на рынке — сможет ли кафе снискать популярность на долгое время, когда все посетители насмотрятся на роботов-официантов?\n",
    "\n",
    "Проект основан на открытых данных о заведениях общественного питания в Москве.\n",
    "\n",
    "Выполнен в следующем порядке:\n",
    "1. [Загрузка данных и подготовка к анализу](#start)\n",
    "2. [Анализ данных](#analysis)\n",
    "    * [Cоотношение видов объектов общественного питания по количеству](#2.1)\n",
    "    * [Cоотношение сетевых и несетевых заведений по количеству](#2.2)\n",
    "    * [Для какого вида объекта общественного питания характерно сетевое распространение?](#2.3)\n",
    "    * [Что характерно для сетевых заведений: много заведений с небольшим числом посадочных мест в каждом или мало заведений с большим количеством посадочных мест?](#2.4)\n",
    "    * [Cреднее количество посадочных мест для каждого вида объекта общественного питания. Какой вид предоставляет в среднем самое большое количество посадочных мест?](#2.5)\n",
    "    * [Информация об улице из столбца address](#2.6)\n",
    "    * [Топ-10 улиц по количеству объектов общественного питания. В каких районах Москвы находятся эти улицы?](#2.7)\n",
    "    * [Число улиц с одним объектом общественного питания. В каких районах Москвы находятся эти улицы?](#2.8)\n",
    "    * [Закономерности распределение количества посадочных мест для улиц с большим количеством объектов общественного питания](#2.9)\n",
    "3. [Вывод](#conclusion)"
   ]
  },
  {
   "cell_type": "markdown",
   "metadata": {},
   "source": [
    "<a id=\"start\"></a>\n",
    "## 1. Загрузка данных и подготовка к анализу"
   ]
  },
  {
   "cell_type": "markdown",
   "metadata": {},
   "source": [
    "<font color=grey>Проверка типов данных, пропущенных значений и дубликатов</font>"
   ]
  },
  {
   "cell_type": "code",
   "execution_count": 1,
   "metadata": {},
   "outputs": [],
   "source": [
    "import pandas as pd\n",
    "from IPython.display import display\n",
    "import matplotlib.pyplot as plt\n",
    "import numpy as np\n",
    "import datetime as dt\n",
    "from datetime import date\n",
    "from scipy import stats as st\n",
    "import seaborn as sns\n",
    "import scipy.stats as stats\n",
    "import requests\n",
    "import json\n",
    "from bs4 import BeautifulSoup\n",
    "\n",
    "#импорт необходимых библиотек"
   ]
  },
  {
   "cell_type": "code",
   "execution_count": 2,
   "metadata": {},
   "outputs": [],
   "source": [
    "#path = 'C://Users//79313//8//'\n",
    "path = '/datasets/'\n",
    "data = pd.read_csv(path + 'rest_data.csv')"
   ]
  },
  {
   "cell_type": "code",
   "execution_count": 3,
   "metadata": {},
   "outputs": [
    {
     "data": {
      "text/html": [
       "<div>\n",
       "<style scoped>\n",
       "    .dataframe tbody tr th:only-of-type {\n",
       "        vertical-align: middle;\n",
       "    }\n",
       "\n",
       "    .dataframe tbody tr th {\n",
       "        vertical-align: top;\n",
       "    }\n",
       "\n",
       "    .dataframe thead th {\n",
       "        text-align: right;\n",
       "    }\n",
       "</style>\n",
       "<table border=\"1\" class=\"dataframe\">\n",
       "  <thead>\n",
       "    <tr style=\"text-align: right;\">\n",
       "      <th></th>\n",
       "      <th>id</th>\n",
       "      <th>object_name</th>\n",
       "      <th>chain</th>\n",
       "      <th>object_type</th>\n",
       "      <th>address</th>\n",
       "      <th>number</th>\n",
       "    </tr>\n",
       "  </thead>\n",
       "  <tbody>\n",
       "    <tr>\n",
       "      <td>0</td>\n",
       "      <td>151635</td>\n",
       "      <td>СМЕТАНА</td>\n",
       "      <td>нет</td>\n",
       "      <td>кафе</td>\n",
       "      <td>город Москва, улица Егора Абакумова, дом 9</td>\n",
       "      <td>48</td>\n",
       "    </tr>\n",
       "    <tr>\n",
       "      <td>1</td>\n",
       "      <td>77874</td>\n",
       "      <td>Родник</td>\n",
       "      <td>нет</td>\n",
       "      <td>кафе</td>\n",
       "      <td>город Москва, улица Талалихина, дом 2/1, корпус 1</td>\n",
       "      <td>35</td>\n",
       "    </tr>\n",
       "    <tr>\n",
       "      <td>2</td>\n",
       "      <td>24309</td>\n",
       "      <td>Кафе «Академия»</td>\n",
       "      <td>нет</td>\n",
       "      <td>кафе</td>\n",
       "      <td>город Москва, Абельмановская улица, дом 6</td>\n",
       "      <td>95</td>\n",
       "    </tr>\n",
       "    <tr>\n",
       "      <td>3</td>\n",
       "      <td>21894</td>\n",
       "      <td>ПИЦЦЕТОРИЯ</td>\n",
       "      <td>да</td>\n",
       "      <td>кафе</td>\n",
       "      <td>город Москва, Абрамцевская улица, дом 1</td>\n",
       "      <td>40</td>\n",
       "    </tr>\n",
       "    <tr>\n",
       "      <td>4</td>\n",
       "      <td>119365</td>\n",
       "      <td>Кафе «Вишневая метель»</td>\n",
       "      <td>нет</td>\n",
       "      <td>кафе</td>\n",
       "      <td>город Москва, Абрамцевская улица, дом 9, корпус 1</td>\n",
       "      <td>50</td>\n",
       "    </tr>\n",
       "  </tbody>\n",
       "</table>\n",
       "</div>"
      ],
      "text/plain": [
       "       id             object_name chain object_type  \\\n",
       "0  151635                 СМЕТАНА   нет        кафе   \n",
       "1   77874                  Родник   нет        кафе   \n",
       "2   24309         Кафе «Академия»   нет        кафе   \n",
       "3   21894              ПИЦЦЕТОРИЯ    да        кафе   \n",
       "4  119365  Кафе «Вишневая метель»   нет        кафе   \n",
       "\n",
       "                                             address  number  \n",
       "0         город Москва, улица Егора Абакумова, дом 9      48  \n",
       "1  город Москва, улица Талалихина, дом 2/1, корпус 1      35  \n",
       "2          город Москва, Абельмановская улица, дом 6      95  \n",
       "3            город Москва, Абрамцевская улица, дом 1      40  \n",
       "4  город Москва, Абрамцевская улица, дом 9, корпус 1      50  "
      ]
     },
     "metadata": {},
     "output_type": "display_data"
    }
   ],
   "source": [
    "display(data.head())"
   ]
  },
  {
   "cell_type": "markdown",
   "metadata": {},
   "source": [
    "Описание данных в таблице:\n",
    "<ul>\n",
    " <li>id — идентификатор объекта;</li>\n",
    " <li>object_name — название объекта общественного питания;</li>\n",
    " <li>chain — сетевой ресторан;</li>\n",
    " <li>object_type — тип объекта общественного питания;</li>\n",
    " <li>address — адрес;</li>\n",
    " <li>number — количество посадочных мест.</li>\n",
    "</ul>"
   ]
  },
  {
   "cell_type": "code",
   "execution_count": 4,
   "metadata": {},
   "outputs": [
    {
     "name": "stdout",
     "output_type": "stream",
     "text": [
      "<class 'pandas.core.frame.DataFrame'>\n",
      "RangeIndex: 15366 entries, 0 to 15365\n",
      "Data columns (total 6 columns):\n",
      "id             15366 non-null int64\n",
      "object_name    15366 non-null object\n",
      "chain          15366 non-null object\n",
      "object_type    15366 non-null object\n",
      "address        15366 non-null object\n",
      "number         15366 non-null int64\n",
      "dtypes: int64(2), object(4)\n",
      "memory usage: 720.4+ KB\n"
     ]
    }
   ],
   "source": [
    "data.info()"
   ]
  },
  {
   "cell_type": "markdown",
   "metadata": {},
   "source": [
    "Типы данных по столбцам корректные, пропусков нет."
   ]
  },
  {
   "cell_type": "code",
   "execution_count": 5,
   "metadata": {},
   "outputs": [
    {
     "data": {
      "text/plain": [
       "['бар',\n",
       " 'буфет',\n",
       " 'закусочная',\n",
       " 'кафе',\n",
       " 'кафетерий',\n",
       " 'магазин (отдел кулинарии)',\n",
       " 'предприятие быстрого обслуживания',\n",
       " 'ресторан',\n",
       " 'столовая']"
      ]
     },
     "execution_count": 5,
     "metadata": {},
     "output_type": "execute_result"
    }
   ],
   "source": [
    "sorted(data['object_type'].unique()) #вывод списка типов объектов"
   ]
  },
  {
   "cell_type": "code",
   "execution_count": 6,
   "metadata": {},
   "outputs": [
    {
     "data": {
      "text/plain": [
       "['да', 'нет']"
      ]
     },
     "execution_count": 6,
     "metadata": {},
     "output_type": "execute_result"
    }
   ],
   "source": [
    "sorted(data['chain'].unique()) #вывод списка принадлежности к сети"
   ]
  },
  {
   "cell_type": "code",
   "execution_count": 7,
   "metadata": {},
   "outputs": [],
   "source": [
    "data = data.applymap(lambda s:s.lower() if type(s) == str else s) #приведение всех текстовых данных к нижнему регистру"
   ]
  },
  {
   "cell_type": "markdown",
   "metadata": {},
   "source": [
    "Приводим все текстовые данные к нижнему регистру для дальнейшей корректной работы."
   ]
  },
  {
   "cell_type": "code",
   "execution_count": 8,
   "metadata": {},
   "outputs": [],
   "source": [
    "data['object_name'] = data['object_name'].str.replace(\"«\", \"\").str.strip()\n",
    "data['object_name'] = data['object_name'].str.replace(\"»\", \"\").str.strip()"
   ]
  },
  {
   "cell_type": "markdown",
   "metadata": {},
   "source": [
    "Удаляем символы кавычек в названиях заведений."
   ]
  },
  {
   "cell_type": "code",
   "execution_count": 9,
   "metadata": {},
   "outputs": [
    {
     "name": "stdout",
     "output_type": "stream",
     "text": [
      "Всего дубликатов: 0\n"
     ]
    }
   ],
   "source": [
    "print('Всего дубликатов:',data.duplicated().sum()) #проверка количества дубликатов"
   ]
  },
  {
   "cell_type": "markdown",
   "metadata": {},
   "source": [
    "Полных дубликатов нет."
   ]
  },
  {
   "cell_type": "code",
   "execution_count": 10,
   "metadata": {},
   "outputs": [
    {
     "name": "stdout",
     "output_type": "stream",
     "text": [
      "Всего дубликатов: 185\n"
     ]
    }
   ],
   "source": [
    "print('Всего дубликатов:',data[['object_name','address','object_type']].duplicated().sum()) #проверка количества дубликатов"
   ]
  },
  {
   "cell_type": "markdown",
   "metadata": {},
   "source": [
    "После расширенной проверки выявлены дубликаты.<br>\n",
    "Расширенная проверка проводилась по следующим критериям: в одном адресе не могут распологаться заведения с одинаковым именем и типом объекта."
   ]
  },
  {
   "cell_type": "code",
   "execution_count": 11,
   "metadata": {},
   "outputs": [],
   "source": [
    "data = data.drop_duplicates(subset=['object_name','address','object_type'])"
   ]
  },
  {
   "cell_type": "markdown",
   "metadata": {},
   "source": [
    "Удаляем дубликаты данных."
   ]
  },
  {
   "cell_type": "code",
   "execution_count": 12,
   "metadata": {},
   "outputs": [
    {
     "data": {
      "text/plain": [
       "count    15181.000000\n",
       "mean        59.922074\n",
       "std         74.982762\n",
       "min          0.000000\n",
       "25%         14.000000\n",
       "50%         40.000000\n",
       "75%         80.000000\n",
       "max       1700.000000\n",
       "Name: number, dtype: float64"
      ]
     },
     "execution_count": 12,
     "metadata": {},
     "output_type": "execute_result"
    }
   ],
   "source": [
    "data['number'].describe()"
   ]
  },
  {
   "cell_type": "markdown",
   "metadata": {},
   "source": [
    "В столбце с количеством посадочных мест есть элементы с нулевым значением."
   ]
  },
  {
   "cell_type": "code",
   "execution_count": 13,
   "metadata": {},
   "outputs": [
    {
     "name": "stdout",
     "output_type": "stream",
     "text": [
      "Количество элементов с нулевым значением: 1583\n"
     ]
    }
   ],
   "source": [
    "print('Количество элементов с нулевым значением:',data.query('number==0')['number'].count())"
   ]
  },
  {
   "cell_type": "markdown",
   "metadata": {},
   "source": [
    "При анализе информации, которая касается количества посадочных мест необходимо учитывать эту особенность."
   ]
  },
  {
   "cell_type": "code",
   "execution_count": 14,
   "metadata": {},
   "outputs": [
    {
     "data": {
      "text/html": [
       "<div>\n",
       "<style scoped>\n",
       "    .dataframe tbody tr th:only-of-type {\n",
       "        vertical-align: middle;\n",
       "    }\n",
       "\n",
       "    .dataframe tbody tr th {\n",
       "        vertical-align: top;\n",
       "    }\n",
       "\n",
       "    .dataframe thead th {\n",
       "        text-align: right;\n",
       "    }\n",
       "</style>\n",
       "<table border=\"1\" class=\"dataframe\">\n",
       "  <thead>\n",
       "    <tr style=\"text-align: right;\">\n",
       "      <th></th>\n",
       "      <th>object_type</th>\n",
       "      <th>id</th>\n",
       "    </tr>\n",
       "  </thead>\n",
       "  <tbody>\n",
       "    <tr>\n",
       "      <td>0</td>\n",
       "      <td>бар</td>\n",
       "      <td>28</td>\n",
       "    </tr>\n",
       "    <tr>\n",
       "      <td>1</td>\n",
       "      <td>буфет</td>\n",
       "      <td>64</td>\n",
       "    </tr>\n",
       "    <tr>\n",
       "      <td>2</td>\n",
       "      <td>закусочная</td>\n",
       "      <td>181</td>\n",
       "    </tr>\n",
       "    <tr>\n",
       "      <td>3</td>\n",
       "      <td>кафе</td>\n",
       "      <td>304</td>\n",
       "    </tr>\n",
       "    <tr>\n",
       "      <td>4</td>\n",
       "      <td>кафетерий</td>\n",
       "      <td>110</td>\n",
       "    </tr>\n",
       "    <tr>\n",
       "      <td>5</td>\n",
       "      <td>магазин (отдел кулинарии)</td>\n",
       "      <td>144</td>\n",
       "    </tr>\n",
       "    <tr>\n",
       "      <td>6</td>\n",
       "      <td>предприятие быстрого обслуживания</td>\n",
       "      <td>689</td>\n",
       "    </tr>\n",
       "    <tr>\n",
       "      <td>7</td>\n",
       "      <td>ресторан</td>\n",
       "      <td>44</td>\n",
       "    </tr>\n",
       "    <tr>\n",
       "      <td>8</td>\n",
       "      <td>столовая</td>\n",
       "      <td>19</td>\n",
       "    </tr>\n",
       "  </tbody>\n",
       "</table>\n",
       "</div>"
      ],
      "text/plain": [
       "                         object_type   id\n",
       "0                                бар   28\n",
       "1                              буфет   64\n",
       "2                         закусочная  181\n",
       "3                               кафе  304\n",
       "4                          кафетерий  110\n",
       "5          магазин (отдел кулинарии)  144\n",
       "6  предприятие быстрого обслуживания  689\n",
       "7                           ресторан   44\n",
       "8                           столовая   19"
      ]
     },
     "execution_count": 14,
     "metadata": {},
     "output_type": "execute_result"
    }
   ],
   "source": [
    "data.query('number==0').groupby('object_type')['id'].count().reset_index()"
   ]
  },
  {
   "cell_type": "markdown",
   "metadata": {},
   "source": [
    "Принимаем допущение, что без посадочных мест могут быть только заведения: закусочная, магазин (отдел кулинарии), предприятие быстрого обслуживания."
   ]
  },
  {
   "cell_type": "code",
   "execution_count": 15,
   "metadata": {},
   "outputs": [],
   "source": [
    "data_clear = data.query('number!=0 or (number==0 and(object_type==\"закусочная\"\\\n",
    "                        or object_type==\"магазин (отдел кулинарии)\" or object_type==\"предприятие быстрого обслуживания\"))')"
   ]
  },
  {
   "cell_type": "markdown",
   "metadata": {},
   "source": [
    "Формируем датасет, из которого исключаем заведения с нулевым количеством посадочных мест, которые не соответствуют ранее определённым параметрам (закусочная, магазин (отдел кулинарии), предприятие быстрого обслуживания)."
   ]
  },
  {
   "cell_type": "code",
   "execution_count": 16,
   "metadata": {},
   "outputs": [
    {
     "data": {
      "text/html": [
       "<div>\n",
       "<style scoped>\n",
       "    .dataframe tbody tr th:only-of-type {\n",
       "        vertical-align: middle;\n",
       "    }\n",
       "\n",
       "    .dataframe tbody tr th {\n",
       "        vertical-align: top;\n",
       "    }\n",
       "\n",
       "    .dataframe thead th {\n",
       "        text-align: right;\n",
       "    }\n",
       "</style>\n",
       "<table border=\"1\" class=\"dataframe\">\n",
       "  <thead>\n",
       "    <tr style=\"text-align: right;\">\n",
       "      <th></th>\n",
       "      <th>object_type</th>\n",
       "      <th>id</th>\n",
       "    </tr>\n",
       "  </thead>\n",
       "  <tbody>\n",
       "    <tr>\n",
       "      <td>0</td>\n",
       "      <td>закусочная</td>\n",
       "      <td>181</td>\n",
       "    </tr>\n",
       "    <tr>\n",
       "      <td>1</td>\n",
       "      <td>магазин (отдел кулинарии)</td>\n",
       "      <td>144</td>\n",
       "    </tr>\n",
       "    <tr>\n",
       "      <td>2</td>\n",
       "      <td>предприятие быстрого обслуживания</td>\n",
       "      <td>689</td>\n",
       "    </tr>\n",
       "  </tbody>\n",
       "</table>\n",
       "</div>"
      ],
      "text/plain": [
       "                         object_type   id\n",
       "0                         закусочная  181\n",
       "1          магазин (отдел кулинарии)  144\n",
       "2  предприятие быстрого обслуживания  689"
      ]
     },
     "execution_count": 16,
     "metadata": {},
     "output_type": "execute_result"
    }
   ],
   "source": [
    "data_clear.query('number==0').groupby('object_type')['id'].count().reset_index()"
   ]
  },
  {
   "cell_type": "markdown",
   "metadata": {},
   "source": [
    "<a id=\"analysis\"></a>\n",
    "## 2. Анализ данных"
   ]
  },
  {
   "cell_type": "markdown",
   "metadata": {},
   "source": [
    "<a id=\"2.1\"></a>\n",
    "### Cоотношение видов объектов общественного питания по количеству"
   ]
  },
  {
   "cell_type": "code",
   "execution_count": 17,
   "metadata": {},
   "outputs": [],
   "source": [
    "type_quantity = data.groupby('object_type')['id'].count().reset_index()"
   ]
  },
  {
   "cell_type": "markdown",
   "metadata": {},
   "source": [
    "Формируем таблицу с данными."
   ]
  },
  {
   "cell_type": "code",
   "execution_count": 18,
   "metadata": {},
   "outputs": [
    {
     "name": "stdout",
     "output_type": "stream",
     "text": [
      "Всего объектов общественного питания: 15181\n"
     ]
    }
   ],
   "source": [
    "print('Всего объектов общественного питания:', type_quantity['id'].sum())"
   ]
  },
  {
   "cell_type": "code",
   "execution_count": 19,
   "metadata": {},
   "outputs": [
    {
     "data": {
      "image/png": "[encoded data removed]",
      "text/plain": [
       "<Figure size 576x576 with 1 Axes>"
      ]
     },
     "metadata": {},
     "output_type": "display_data"
    }
   ],
   "source": [
    "plt.style.use('seaborn-pastel')\n",
    "\n",
    "type_quantity['id'].plot(figsize = (8,8), legend=False, title='Cоотношение видов объектов общественного питания',\n",
    "        kind='pie', labels=type_quantity['object_type'],\n",
    "        autopct=lambda p: '{:.0f}%({:.0f})'.format(p,(p/100)*type_quantity['id'].sum()));"
   ]
  },
  {
   "cell_type": "markdown",
   "metadata": {},
   "source": [
    "Самый распространенный вид объекта в Москве - кафе.<br>\n",
    "Также распространены рестораны, столовые и предприятия быстрого обслуживания (фаст фуд).<br>\n",
    "Самый редкий тип объектов - закусочная, кафетерий, магазин (отдел кулинарии), бар и буфет."
   ]
  },
  {
   "cell_type": "markdown",
   "metadata": {},
   "source": [
    "<a id=\"2.2\"></a>\n",
    "### Cоотношение сетевых и несетевых заведений по количеству"
   ]
  },
  {
   "cell_type": "code",
   "execution_count": 20,
   "metadata": {},
   "outputs": [],
   "source": [
    "data['chain'] = data['chain'].str.replace(\"да\", \"сетевые\")\n",
    "#заменяю значение на более понятное"
   ]
  },
  {
   "cell_type": "code",
   "execution_count": 21,
   "metadata": {},
   "outputs": [],
   "source": [
    "chain_quantity = data.groupby('chain')['id'].count().reset_index()"
   ]
  },
  {
   "cell_type": "markdown",
   "metadata": {},
   "source": [
    "Формируем таблицу с данными."
   ]
  },
  {
   "cell_type": "code",
   "execution_count": 22,
   "metadata": {},
   "outputs": [
    {
     "data": {
      "image/png": "[encoded data removed]",
      "text/plain": [
       "<Figure size 576x576 with 1 Axes>"
      ]
     },
     "metadata": {},
     "output_type": "display_data"
    }
   ],
   "source": [
    "plt.style.use('seaborn-pastel')\n",
    "\n",
    "chain_quantity['id'].plot(figsize = (8,8), legend=False, title='Cоотношение сетевых и несетевых заведений',\n",
    "        kind='pie', labels=chain_quantity['chain'],\n",
    "        autopct=lambda p: '{:.0f}%({:.0f})'.format(p,(p/100)*chain_quantity['id'].sum()));"
   ]
  },
  {
   "cell_type": "markdown",
   "metadata": {},
   "source": [
    "Доля сетевых заведений составляет 19%, что является значимым результатом в структуре распределения."
   ]
  },
  {
   "cell_type": "markdown",
   "metadata": {},
   "source": [
    "<a id=\"2.3\"></a>\n",
    "### Для какого вида объекта общественного питания характерно сетевое распространение?"
   ]
  },
  {
   "cell_type": "code",
   "execution_count": 23,
   "metadata": {},
   "outputs": [],
   "source": [
    "type_chain = data.pivot_table(index = 'object_type', columns='chain', values='id', aggfunc='count').reset_index()"
   ]
  },
  {
   "cell_type": "markdown",
   "metadata": {},
   "source": [
    "Формируем таблицу с данными."
   ]
  },
  {
   "cell_type": "code",
   "execution_count": 24,
   "metadata": {},
   "outputs": [
    {
     "data": {
      "text/html": [
       "<div>\n",
       "<style scoped>\n",
       "    .dataframe tbody tr th:only-of-type {\n",
       "        vertical-align: middle;\n",
       "    }\n",
       "\n",
       "    .dataframe tbody tr th {\n",
       "        vertical-align: top;\n",
       "    }\n",
       "\n",
       "    .dataframe thead th {\n",
       "        text-align: right;\n",
       "    }\n",
       "</style>\n",
       "<table border=\"1\" class=\"dataframe\">\n",
       "  <thead>\n",
       "    <tr style=\"text-align: right;\">\n",
       "      <th>chain</th>\n",
       "      <th>object_type</th>\n",
       "      <th>нет</th>\n",
       "      <th>сетевые</th>\n",
       "      <th>%</th>\n",
       "    </tr>\n",
       "  </thead>\n",
       "  <tbody>\n",
       "    <tr>\n",
       "      <td>0</td>\n",
       "      <td>бар</td>\n",
       "      <td>816</td>\n",
       "      <td>37</td>\n",
       "      <td>4%</td>\n",
       "    </tr>\n",
       "    <tr>\n",
       "      <td>1</td>\n",
       "      <td>буфет</td>\n",
       "      <td>559</td>\n",
       "      <td>11</td>\n",
       "      <td>2%</td>\n",
       "    </tr>\n",
       "    <tr>\n",
       "      <td>2</td>\n",
       "      <td>закусочная</td>\n",
       "      <td>291</td>\n",
       "      <td>56</td>\n",
       "      <td>16%</td>\n",
       "    </tr>\n",
       "    <tr>\n",
       "      <td>3</td>\n",
       "      <td>кафе</td>\n",
       "      <td>4621</td>\n",
       "      <td>1387</td>\n",
       "      <td>23%</td>\n",
       "    </tr>\n",
       "    <tr>\n",
       "      <td>4</td>\n",
       "      <td>кафетерий</td>\n",
       "      <td>342</td>\n",
       "      <td>51</td>\n",
       "      <td>13%</td>\n",
       "    </tr>\n",
       "    <tr>\n",
       "      <td>5</td>\n",
       "      <td>магазин (отдел кулинарии)</td>\n",
       "      <td>194</td>\n",
       "      <td>78</td>\n",
       "      <td>29%</td>\n",
       "    </tr>\n",
       "    <tr>\n",
       "      <td>6</td>\n",
       "      <td>предприятие быстрого обслуживания</td>\n",
       "      <td>1106</td>\n",
       "      <td>784</td>\n",
       "      <td>41%</td>\n",
       "    </tr>\n",
       "    <tr>\n",
       "      <td>7</td>\n",
       "      <td>ресторан</td>\n",
       "      <td>1732</td>\n",
       "      <td>541</td>\n",
       "      <td>24%</td>\n",
       "    </tr>\n",
       "    <tr>\n",
       "      <td>8</td>\n",
       "      <td>столовая</td>\n",
       "      <td>2572</td>\n",
       "      <td>3</td>\n",
       "      <td>0%</td>\n",
       "    </tr>\n",
       "  </tbody>\n",
       "</table>\n",
       "</div>"
      ],
      "text/plain": [
       "chain                        object_type   нет  сетевые    %\n",
       "0                                    бар   816       37   4%\n",
       "1                                  буфет   559       11   2%\n",
       "2                             закусочная   291       56  16%\n",
       "3                                   кафе  4621     1387  23%\n",
       "4                              кафетерий   342       51  13%\n",
       "5              магазин (отдел кулинарии)   194       78  29%\n",
       "6      предприятие быстрого обслуживания  1106      784  41%\n",
       "7                               ресторан  1732      541  24%\n",
       "8                               столовая  2572        3   0%"
      ]
     },
     "metadata": {},
     "output_type": "display_data"
    }
   ],
   "source": [
    "type_chain['%'] = (type_chain['сетевые']/(type_chain['сетевые']+type_chain['нет'])).apply('{:.0%}'.format)\n",
    "#добавляю столбец с процентным соотношением\n",
    "display(type_chain)"
   ]
  },
  {
   "cell_type": "code",
   "execution_count": 25,
   "metadata": {},
   "outputs": [
    {
     "data": {
      "image/png": "[encoded data removed]",
      "text/plain": [
       "<Figure size 864x432 with 1 Axes>"
      ]
     },
     "metadata": {
      "needs_background": "light"
     },
     "output_type": "display_data"
    }
   ],
   "source": [
    "fig, test = plt.subplots()\n",
    "fig.set_figheight(6) # высота \n",
    "fig.set_figwidth(12) # ширина\n",
    "\n",
    "test.set_title('Количество объектов с сетевым распределением')\n",
    "ax=sns.barplot(x=\"object_type\", y=\"сетевые\", data=type_chain.sort_values(by='сетевые', ascending=False))\n",
    "test.set_ylabel('Количество объектов')\n",
    "test.set_xlabel('Тип объекта')\n",
    "ax.set_xticklabels(ax.get_xticklabels(),rotation=75);\n",
    "\n",
    "for p in ax.patches:\n",
    "    ax.annotate(format(p.get_height(), '.0f'), \n",
    "                   (p.get_x() + p.get_width() / 2., p.get_height()), \n",
    "                   ha = 'center', va = 'center', \n",
    "                   xytext = (0, 9), \n",
    "                   textcoords = 'offset points')"
   ]
  },
  {
   "cell_type": "markdown",
   "metadata": {},
   "source": [
    "В количественном выражении больше всего сетевых объектов представлены в виде кафе, предприятий быстрого обслуживания и ресторанов.\n"
   ]
  },
  {
   "cell_type": "code",
   "execution_count": 26,
   "metadata": {},
   "outputs": [
    {
     "data": {
      "image/png": "[encoded data removed]",
      "text/plain": [
       "<Figure size 864x432 with 1 Axes>"
      ]
     },
     "metadata": {
      "needs_background": "light"
     },
     "output_type": "display_data"
    }
   ],
   "source": [
    "type_chain['share'] = (type_chain['сетевые']/(type_chain['сетевые']+type_chain['нет']))*100\n",
    "fig, test = plt.subplots()\n",
    "fig.set_figheight(6) # высота \n",
    "fig.set_figwidth(12) # ширина\n",
    "\n",
    "test.set_title('Доля объектов с сетевым распределением')\n",
    "ax=sns.barplot(x=\"object_type\", y=\"share\", data=type_chain.sort_values(by='share', ascending=False))\n",
    "test.set_ylabel('Доля, %')\n",
    "test.set_xlabel('Тип объекта')\n",
    "ax.set_xticklabels(ax.get_xticklabels(),rotation=75);\n",
    "\n",
    "for p in ax.patches:\n",
    "    ax.annotate(format(p.get_height(), '.0f'), \n",
    "                   (p.get_x() + p.get_width() / 2., p.get_height()), \n",
    "                   ha = 'center', va = 'center', \n",
    "                   xytext = (0, 9), \n",
    "                   textcoords = 'offset points')"
   ]
  },
  {
   "cell_type": "markdown",
   "metadata": {},
   "source": [
    "В доле от общего количества объектов того же типа сетевое распространение характерно для предприятий быстрого обслуживания.<br>\n",
    "Также отчасти характерно для магазинов(отделов кулинарии).<br>\n",
    "Меньше всего сетевых заведений среди столовых, баров и буфетов, что коррелирует с общими показателями распределения по типам объектов.<br>"
   ]
  },
  {
   "cell_type": "markdown",
   "metadata": {},
   "source": [
    "<a id=\"2.4\"></a>\n",
    "### Что характерно для сетевых заведений: много заведений с небольшим числом посадочных мест в каждом или мало заведений с большим количеством посадочных мест?"
   ]
  },
  {
   "cell_type": "code",
   "execution_count": 27,
   "metadata": {
    "scrolled": false
   },
   "outputs": [
    {
     "data": {
      "image/png": "[encoded data removed]",
      "text/plain": [
       "<Figure size 1080x432 with 1 Axes>"
      ]
     },
     "metadata": {
      "needs_background": "light"
     },
     "output_type": "display_data"
    }
   ],
   "source": [
    "fig, test = plt.subplots()\n",
    "fig.set_figheight(6) # высота \n",
    "fig.set_figwidth(15) # ширина\n",
    "sns.boxplot(x=data_clear.query('chain==\"да\"')['number'])\n",
    "test.set_title('Диаграмма размаха данных в сетевых заведениях по количеству посадочных мест')\n",
    "test.set_xlabel('Количество посадочных мест');"
   ]
  },
  {
   "cell_type": "markdown",
   "metadata": {},
   "source": [
    "Определяю границу выбросов в 180 посадочных мест."
   ]
  },
  {
   "cell_type": "code",
   "execution_count": 28,
   "metadata": {},
   "outputs": [
    {
     "data": {
      "image/png": "[encoded data removed]",
      "text/plain": [
       "<Figure size 864x432 with 1 Axes>"
      ]
     },
     "metadata": {
      "needs_background": "light"
     },
     "output_type": "display_data"
    }
   ],
   "source": [
    "fig, test = plt.subplots()\n",
    "fig.set_figheight(6) # высота \n",
    "fig.set_figwidth(12) # ширина\n",
    "sns.distplot(data_clear.query('chain==\"да\" and number<180')['number'], bins=100)\n",
    "test.set_title('Распределение сетевых заведений по количеству посадочных мест')\n",
    "test.set_ylabel('Плотность распределения')\n",
    "test.set_xlabel('Количество посадочных мест');"
   ]
  },
  {
   "cell_type": "code",
   "execution_count": 29,
   "metadata": {},
   "outputs": [
    {
     "data": {
      "image/png": "[encoded data removed]",
      "text/plain": [
       "<Figure size 864x432 with 1 Axes>"
      ]
     },
     "metadata": {
      "needs_background": "light"
     },
     "output_type": "display_data"
    }
   ],
   "source": [
    "x_values = pd.Series(range(0,len(data_clear.query('chain==\"да\" and number<180')['number'])))\n",
    "fig, test = plt.subplots()\n",
    "fig.set_figheight(6) # высота \n",
    "fig.set_figwidth(12) # ширина\n",
    "sns.scatterplot(x=x_values, y=data_clear.query('chain==\"да\" and number<180')['number'])\n",
    "test.set_title('Распределение сетевых заведений по количеству посадочных мест')\n",
    "test.set_ylabel('Количество посадочных мест')\n",
    "test.set_xlabel('Общее количество объектов');"
   ]
  },
  {
   "cell_type": "markdown",
   "metadata": {},
   "source": [
    "Для сетевых заведений характерно много заведений (до 50) с небольшим числом посадочных мест в каждом.<br>\n",
    "Также существует доля заведений (примерно 1/3) с вместимостью от 50 до 100 мест.<br>\n",
    "Сетевые заведения с вместимостью более 100 мест представлены редко."
   ]
  },
  {
   "cell_type": "markdown",
   "metadata": {},
   "source": [
    "<a id=\"2.5\"></a>\n",
    "### Cреднее количество посадочных мест для каждого вида объекта общественного питания. Какой вид предоставляет в среднем самое большое количество посадочных мест?"
   ]
  },
  {
   "cell_type": "code",
   "execution_count": 30,
   "metadata": {},
   "outputs": [],
   "source": [
    "type_number = data_clear.groupby('object_type')['number'].mean().reset_index().sort_values(by='number', ascending=False)\n",
    "type_number['number'] = type_number['number'].astype(int)"
   ]
  },
  {
   "cell_type": "code",
   "execution_count": 31,
   "metadata": {},
   "outputs": [
    {
     "data": {
      "text/html": [
       "<div>\n",
       "<style scoped>\n",
       "    .dataframe tbody tr th:only-of-type {\n",
       "        vertical-align: middle;\n",
       "    }\n",
       "\n",
       "    .dataframe tbody tr th {\n",
       "        vertical-align: top;\n",
       "    }\n",
       "\n",
       "    .dataframe thead th {\n",
       "        text-align: right;\n",
       "    }\n",
       "</style>\n",
       "<table border=\"1\" class=\"dataframe\">\n",
       "  <thead>\n",
       "    <tr style=\"text-align: right;\">\n",
       "      <th></th>\n",
       "      <th>object_type</th>\n",
       "      <th>number</th>\n",
       "    </tr>\n",
       "  </thead>\n",
       "  <tbody>\n",
       "    <tr>\n",
       "      <td>8</td>\n",
       "      <td>столовая</td>\n",
       "      <td>131</td>\n",
       "    </tr>\n",
       "    <tr>\n",
       "      <td>7</td>\n",
       "      <td>ресторан</td>\n",
       "      <td>99</td>\n",
       "    </tr>\n",
       "    <tr>\n",
       "      <td>1</td>\n",
       "      <td>буфет</td>\n",
       "      <td>58</td>\n",
       "    </tr>\n",
       "    <tr>\n",
       "      <td>0</td>\n",
       "      <td>бар</td>\n",
       "      <td>45</td>\n",
       "    </tr>\n",
       "    <tr>\n",
       "      <td>3</td>\n",
       "      <td>кафе</td>\n",
       "      <td>42</td>\n",
       "    </tr>\n",
       "    <tr>\n",
       "      <td>6</td>\n",
       "      <td>предприятие быстрого обслуживания</td>\n",
       "      <td>20</td>\n",
       "    </tr>\n",
       "    <tr>\n",
       "      <td>4</td>\n",
       "      <td>кафетерий</td>\n",
       "      <td>12</td>\n",
       "    </tr>\n",
       "    <tr>\n",
       "      <td>2</td>\n",
       "      <td>закусочная</td>\n",
       "      <td>7</td>\n",
       "    </tr>\n",
       "    <tr>\n",
       "      <td>5</td>\n",
       "      <td>магазин (отдел кулинарии)</td>\n",
       "      <td>5</td>\n",
       "    </tr>\n",
       "  </tbody>\n",
       "</table>\n",
       "</div>"
      ],
      "text/plain": [
       "                         object_type  number\n",
       "8                           столовая     131\n",
       "7                           ресторан      99\n",
       "1                              буфет      58\n",
       "0                                бар      45\n",
       "3                               кафе      42\n",
       "6  предприятие быстрого обслуживания      20\n",
       "4                          кафетерий      12\n",
       "2                         закусочная       7\n",
       "5          магазин (отдел кулинарии)       5"
      ]
     },
     "metadata": {},
     "output_type": "display_data"
    }
   ],
   "source": [
    "display(type_number)"
   ]
  },
  {
   "cell_type": "code",
   "execution_count": 32,
   "metadata": {},
   "outputs": [
    {
     "data": {
      "image/png": "[encoded data removed]",
      "text/plain": [
       "<Figure size 864x432 with 1 Axes>"
      ]
     },
     "metadata": {
      "needs_background": "light"
     },
     "output_type": "display_data"
    }
   ],
   "source": [
    "fig, test = plt.subplots()\n",
    "fig.set_figheight(6) # высота \n",
    "fig.set_figwidth(12) # ширина\n",
    "\n",
    "test.set_title('Cреднее количество посадочных мест для каждого вида объекта общественного питания')\n",
    "ax=sns.barplot(x=\"object_type\", y=\"number\", data=type_number)\n",
    "test.set_ylabel('Среднее количество')\n",
    "test.set_xlabel('Тип объекта')\n",
    "ax.set_xticklabels(ax.get_xticklabels(),rotation=75);\n",
    "\n",
    "for p in ax.patches:\n",
    "    ax.annotate(format(p.get_height(), '.0f'), \n",
    "                   (p.get_x() + p.get_width() / 2., p.get_height()), \n",
    "                   ha = 'center', va = 'center', \n",
    "                   xytext = (0, 9), \n",
    "                   textcoords = 'offset points')"
   ]
  },
  {
   "cell_type": "markdown",
   "metadata": {},
   "source": [
    "В среднем больше всего посадочных мест предоставляют столовые и рестораны (100-130 мест).<br>\n",
    "Буфеты, бары и кафе располагают 40-60 посадочными местами.<br>\n",
    "Меньше всего посадочных мест в предприятиях быстрого обслуживания, кафетериях и закусочных (до 20 мест)."
   ]
  },
  {
   "cell_type": "markdown",
   "metadata": {},
   "source": [
    "<a id=\"2.6\"></a>\n",
    "### Информация об улице из столбца address"
   ]
  },
  {
   "cell_type": "code",
   "execution_count": 33,
   "metadata": {},
   "outputs": [],
   "source": [
    "streets_names = ['улица','проспект','шоссе','проезд',\n",
    "                 'бульвар','переулок','набережная','площадь','вал','аллея']\n",
    " \n",
    "def get_street(address):\n",
    "    for position in [1,0,2]:\n",
    "        for address_part in address.split(',')[position].split(' '):           \n",
    "            if address_part in streets_names:\n",
    "                street = address.split(', ')[position]\n",
    "                return street"
   ]
  },
  {
   "cell_type": "code",
   "execution_count": 34,
   "metadata": {},
   "outputs": [],
   "source": [
    "data['street'] = data['address'].apply(get_street)"
   ]
  },
  {
   "cell_type": "code",
   "execution_count": 35,
   "metadata": {},
   "outputs": [],
   "source": [
    "pd.options.mode.chained_assignment = None  # default='warn'\n",
    "data_clear['street'] = data_clear['address'].copy().apply(get_street)"
   ]
  },
  {
   "cell_type": "markdown",
   "metadata": {},
   "source": [
    "С помощью функции формируем столбец с информацией о улице."
   ]
  },
  {
   "cell_type": "code",
   "execution_count": 36,
   "metadata": {},
   "outputs": [
    {
     "data": {
      "text/html": [
       "<div>\n",
       "<style scoped>\n",
       "    .dataframe tbody tr th:only-of-type {\n",
       "        vertical-align: middle;\n",
       "    }\n",
       "\n",
       "    .dataframe tbody tr th {\n",
       "        vertical-align: top;\n",
       "    }\n",
       "\n",
       "    .dataframe thead th {\n",
       "        text-align: right;\n",
       "    }\n",
       "</style>\n",
       "<table border=\"1\" class=\"dataframe\">\n",
       "  <thead>\n",
       "    <tr style=\"text-align: right;\">\n",
       "      <th></th>\n",
       "      <th>id</th>\n",
       "      <th>object_name</th>\n",
       "      <th>chain</th>\n",
       "      <th>object_type</th>\n",
       "      <th>address</th>\n",
       "      <th>number</th>\n",
       "      <th>street</th>\n",
       "    </tr>\n",
       "  </thead>\n",
       "  <tbody>\n",
       "    <tr>\n",
       "      <td>0</td>\n",
       "      <td>151635</td>\n",
       "      <td>сметана</td>\n",
       "      <td>нет</td>\n",
       "      <td>кафе</td>\n",
       "      <td>город москва, улица егора абакумова, дом 9</td>\n",
       "      <td>48</td>\n",
       "      <td>улица егора абакумова</td>\n",
       "    </tr>\n",
       "    <tr>\n",
       "      <td>1</td>\n",
       "      <td>77874</td>\n",
       "      <td>родник</td>\n",
       "      <td>нет</td>\n",
       "      <td>кафе</td>\n",
       "      <td>город москва, улица талалихина, дом 2/1, корпус 1</td>\n",
       "      <td>35</td>\n",
       "      <td>улица талалихина</td>\n",
       "    </tr>\n",
       "    <tr>\n",
       "      <td>2</td>\n",
       "      <td>24309</td>\n",
       "      <td>кафе академия</td>\n",
       "      <td>нет</td>\n",
       "      <td>кафе</td>\n",
       "      <td>город москва, абельмановская улица, дом 6</td>\n",
       "      <td>95</td>\n",
       "      <td>абельмановская улица</td>\n",
       "    </tr>\n",
       "    <tr>\n",
       "      <td>3</td>\n",
       "      <td>21894</td>\n",
       "      <td>пиццетория</td>\n",
       "      <td>сетевые</td>\n",
       "      <td>кафе</td>\n",
       "      <td>город москва, абрамцевская улица, дом 1</td>\n",
       "      <td>40</td>\n",
       "      <td>абрамцевская улица</td>\n",
       "    </tr>\n",
       "    <tr>\n",
       "      <td>4</td>\n",
       "      <td>119365</td>\n",
       "      <td>кафе вишневая метель</td>\n",
       "      <td>нет</td>\n",
       "      <td>кафе</td>\n",
       "      <td>город москва, абрамцевская улица, дом 9, корпус 1</td>\n",
       "      <td>50</td>\n",
       "      <td>абрамцевская улица</td>\n",
       "    </tr>\n",
       "  </tbody>\n",
       "</table>\n",
       "</div>"
      ],
      "text/plain": [
       "       id           object_name    chain object_type  \\\n",
       "0  151635               сметана      нет        кафе   \n",
       "1   77874                родник      нет        кафе   \n",
       "2   24309         кафе академия      нет        кафе   \n",
       "3   21894            пиццетория  сетевые        кафе   \n",
       "4  119365  кафе вишневая метель      нет        кафе   \n",
       "\n",
       "                                             address  number  \\\n",
       "0         город москва, улица егора абакумова, дом 9      48   \n",
       "1  город москва, улица талалихина, дом 2/1, корпус 1      35   \n",
       "2          город москва, абельмановская улица, дом 6      95   \n",
       "3            город москва, абрамцевская улица, дом 1      40   \n",
       "4  город москва, абрамцевская улица, дом 9, корпус 1      50   \n",
       "\n",
       "                  street  \n",
       "0  улица егора абакумова  \n",
       "1       улица талалихина  \n",
       "2   абельмановская улица  \n",
       "3     абрамцевская улица  \n",
       "4     абрамцевская улица  "
      ]
     },
     "metadata": {},
     "output_type": "display_data"
    }
   ],
   "source": [
    "display(data.head(5))"
   ]
  },
  {
   "cell_type": "markdown",
   "metadata": {},
   "source": [
    "<a id=\"2.7\"></a>\n",
    "### Топ-10 улиц по количеству объектов общественного питания. В каких районах Москвы находятся эти улицы?"
   ]
  },
  {
   "cell_type": "code",
   "execution_count": 37,
   "metadata": {},
   "outputs": [],
   "source": [
    "top10_streets = data.groupby('street')['id'].count().reset_index().sort_values(by='id', ascending = False)\n",
    "top10_streets.rename(columns={'id': 'quantity'}, inplace=True) \n"
   ]
  },
  {
   "cell_type": "markdown",
   "metadata": {},
   "source": [
    "Формируем таблицу с данными о количестве объектов общественного питания."
   ]
  },
  {
   "cell_type": "code",
   "execution_count": 38,
   "metadata": {},
   "outputs": [],
   "source": [
    "class color:\n",
    "   PURPLE = '\\033[95m'\n",
    "   CYAN = '\\033[96m'\n",
    "   DARKCYAN = '\\033[36m'\n",
    "   BLUE = '\\033[94m'\n",
    "   GREEN = '\\033[92m'\n",
    "   YELLOW = '\\033[93m'\n",
    "   RED = '\\033[91m'\n",
    "   BOLD = '\\033[1m'\n",
    "   UNDERLINE = '\\033[4m'\n",
    "   END = '\\033[0m'"
   ]
  },
  {
   "cell_type": "code",
   "execution_count": 39,
   "metadata": {},
   "outputs": [
    {
     "name": "stdout",
     "output_type": "stream",
     "text": [
      "\u001b[1mТоп 10 улиц по количеству объектов общественного питания:\u001b[0m\n"
     ]
    },
    {
     "data": {
      "text/html": [
       "<div>\n",
       "<style scoped>\n",
       "    .dataframe tbody tr th:only-of-type {\n",
       "        vertical-align: middle;\n",
       "    }\n",
       "\n",
       "    .dataframe tbody tr th {\n",
       "        vertical-align: top;\n",
       "    }\n",
       "\n",
       "    .dataframe thead th {\n",
       "        text-align: right;\n",
       "    }\n",
       "</style>\n",
       "<table border=\"1\" class=\"dataframe\">\n",
       "  <thead>\n",
       "    <tr style=\"text-align: right;\">\n",
       "      <th></th>\n",
       "      <th>street</th>\n",
       "      <th>quantity</th>\n",
       "    </tr>\n",
       "  </thead>\n",
       "  <tbody>\n",
       "    <tr>\n",
       "      <td>1055</td>\n",
       "      <td>проспект мира</td>\n",
       "      <td>196</td>\n",
       "    </tr>\n",
       "    <tr>\n",
       "      <td>1059</td>\n",
       "      <td>профсоюзная улица</td>\n",
       "      <td>181</td>\n",
       "    </tr>\n",
       "    <tr>\n",
       "      <td>684</td>\n",
       "      <td>ленинградский проспект</td>\n",
       "      <td>172</td>\n",
       "    </tr>\n",
       "    <tr>\n",
       "      <td>1010</td>\n",
       "      <td>пресненская набережная</td>\n",
       "      <td>165</td>\n",
       "    </tr>\n",
       "    <tr>\n",
       "      <td>400</td>\n",
       "      <td>варшавское шоссе</td>\n",
       "      <td>163</td>\n",
       "    </tr>\n",
       "    <tr>\n",
       "      <td>687</td>\n",
       "      <td>ленинский проспект</td>\n",
       "      <td>148</td>\n",
       "    </tr>\n",
       "    <tr>\n",
       "      <td>1051</td>\n",
       "      <td>проспект вернадского</td>\n",
       "      <td>126</td>\n",
       "    </tr>\n",
       "    <tr>\n",
       "      <td>675</td>\n",
       "      <td>кутузовский проспект</td>\n",
       "      <td>114</td>\n",
       "    </tr>\n",
       "    <tr>\n",
       "      <td>598</td>\n",
       "      <td>каширское шоссе</td>\n",
       "      <td>110</td>\n",
       "    </tr>\n",
       "    <tr>\n",
       "      <td>606</td>\n",
       "      <td>кировоградская улица</td>\n",
       "      <td>107</td>\n",
       "    </tr>\n",
       "  </tbody>\n",
       "</table>\n",
       "</div>"
      ],
      "text/plain": [
       "                      street  quantity\n",
       "1055           проспект мира       196\n",
       "1059       профсоюзная улица       181\n",
       "684   ленинградский проспект       172\n",
       "1010  пресненская набережная       165\n",
       "400         варшавское шоссе       163\n",
       "687       ленинский проспект       148\n",
       "1051    проспект вернадского       126\n",
       "675     кутузовский проспект       114\n",
       "598          каширское шоссе       110\n",
       "606     кировоградская улица       107"
      ]
     },
     "metadata": {},
     "output_type": "display_data"
    }
   ],
   "source": [
    "print(color.BOLD + 'Топ 10 улиц по количеству объектов общественного питания:'+ color.END)\n",
    "display(top10_streets.head(10))"
   ]
  },
  {
   "cell_type": "code",
   "execution_count": 40,
   "metadata": {},
   "outputs": [
    {
     "data": {
      "image/png": "[encoded data removed]",
      "text/plain": [
       "<Figure size 864x432 with 1 Axes>"
      ]
     },
     "metadata": {
      "needs_background": "light"
     },
     "output_type": "display_data"
    }
   ],
   "source": [
    "top10_streets=top10_streets.head(10)\n",
    "\n",
    "fig, test = plt.subplots()\n",
    "fig.set_figheight(6) # высота \n",
    "fig.set_figwidth(12) # ширина\n",
    "\n",
    "test.set_title('Топ-10 улиц по количеству объектов')\n",
    "ax=sns.barplot(x=\"street\", y=\"quantity\", data=top10_streets)\n",
    "test.set_ylabel('Количество')\n",
    "test.set_xlabel('Улица')\n",
    "ax.set_xticklabels(ax.get_xticklabels(),rotation=30);\n",
    "\n",
    "for p in ax.patches:\n",
    "    ax.annotate(format(p.get_height(), '.0f'), \n",
    "                   (p.get_x() + p.get_width() / 2., p.get_height()), \n",
    "                   ha = 'center', va = 'center', \n",
    "                   xytext = (0, 9), \n",
    "                   textcoords = 'offset points')"
   ]
  },
  {
   "cell_type": "markdown",
   "metadata": {},
   "source": [
    "Улицы с максимальным количеством объектов: Проспект мира, Профсоюзная улица, Ленинградский проспект, Пресненская набережная, Варшавская шоссе."
   ]
  },
  {
   "cell_type": "code",
   "execution_count": 41,
   "metadata": {},
   "outputs": [],
   "source": [
    "street_list = top10_streets['street']"
   ]
  },
  {
   "cell_type": "markdown",
   "metadata": {},
   "source": [
    "Формируем массив со список улиц топ-10"
   ]
  },
  {
   "cell_type": "code",
   "execution_count": 42,
   "metadata": {},
   "outputs": [],
   "source": [
    "data_top_10 = data.query('street in @street_list')[['address', 'street']].reset_index()"
   ]
  },
  {
   "cell_type": "markdown",
   "metadata": {},
   "source": [
    "Формируем датафрейм со списком адресов по улицам, входяших только в топ-10"
   ]
  },
  {
   "cell_type": "code",
   "execution_count": 43,
   "metadata": {},
   "outputs": [],
   "source": [
    "data_top_10 = data_top_10.drop_duplicates(subset=['address'])"
   ]
  },
  {
   "cell_type": "markdown",
   "metadata": {},
   "source": [
    "Удаляем дубликаты для более быстрой обработки."
   ]
  },
  {
   "cell_type": "code",
   "execution_count": 44,
   "metadata": {},
   "outputs": [],
   "source": [
    "def get_coords(address):\n",
    "    try:\n",
    "        plase = str(address) \n",
    "        URL = \"https://geocode-maps.yandex.ru/1.x/?apikey=XXXXXXXXXXXXXXXXXXXXXX\"\n",
    "        params = {\"geocode\": plase, \"format\": \"xml\", 'results':\"1\"}\n",
    "        response = requests.get(URL, params=params)\n",
    "        soup = BeautifulSoup(response.text, 'lxml')\n",
    "        coordinates = (soup.find('pos').text)\n",
    "        return coordinates\n",
    "    except:\n",
    "        return 'none'"
   ]
  },
  {
   "cell_type": "markdown",
   "metadata": {},
   "source": [
    "Создаём функцию для определения координат из запроса к API Яндекс.Геокодер по адресу."
   ]
  },
  {
   "cell_type": "raw",
   "metadata": {},
   "source": [
    "data_top_10['coords'] = data_top_10['address'].apply(get_coords)"
   ]
  },
  {
   "cell_type": "markdown",
   "metadata": {},
   "source": [
    "Обращаемся к API Яндекс.Геокодер и формируем столбец с данными о координатах объектов."
   ]
  },
  {
   "cell_type": "raw",
   "metadata": {},
   "source": [
    "data_top_10.to_csv(r'C:\\Users\\79313\\8\\top10_coord.csv', sep='\\t', index = False)"
   ]
  },
  {
   "cell_type": "markdown",
   "metadata": {},
   "source": [
    "Для ускорения времени проверки сохраняем полученный датафрейм и присваиваем ячейкам статус RAW NBConvert"
   ]
  },
  {
   "cell_type": "code",
   "execution_count": 45,
   "metadata": {},
   "outputs": [],
   "source": [
    "from io import BytesIO\n",
    "import requests\n",
    "spreadsheet_id = '1bns92eGfx3znyjy7YQNth8bfFna7Z9pMEJNgvRNL8ac'\n",
    "file_name = 'https://docs.google.com/spreadsheets/d/{}/export?format=csv'.format(spreadsheet_id)\n",
    "r = requests.get(file_name)\n",
    "data_top_10 = pd.read_csv(BytesIO(r.content))\n",
    "\n",
    "#https://docs.google.com/spreadsheets/d/1bns92eGfx3znyjy7YQNth8bfFna7Z9pMEJNgvRNL8ac/edit?usp=sharing"
   ]
  },
  {
   "cell_type": "markdown",
   "metadata": {},
   "source": [
    "Для ускорения времени проверки загружаем датафрейм из таблиц Google."
   ]
  },
  {
   "cell_type": "code",
   "execution_count": 46,
   "metadata": {},
   "outputs": [
    {
     "name": "stdout",
     "output_type": "stream",
     "text": [
      "Удалено строк: 1\n"
     ]
    }
   ],
   "source": [
    "len1 = len(data_top_10)\n",
    "data_top_10 = data_top_10.query('coords!=\"none\"')\n",
    "print('Удалено строк:',len1-len(data_top_10))"
   ]
  },
  {
   "cell_type": "markdown",
   "metadata": {},
   "source": [
    "Удаляем из датафрейма пустые занчения координат, полученные ранее в функции get_coords методом try/except"
   ]
  },
  {
   "cell_type": "code",
   "execution_count": 47,
   "metadata": {},
   "outputs": [],
   "source": [
    "def get_district(coords):\n",
    "    try:\n",
    "        plase = str(coords)\n",
    "        URL = \"https://geocode-maps.yandex.ru/1.x/?apikey=35fe2038-052e-4de1-bb68-d25b4d84a692\"\n",
    "        params = {\"geocode\": plase, \"format\": \"json\", \"kind\": \"district\", \"results\":\"1\"}\n",
    "        response = requests.get(URL, params=params)\n",
    "        district_name = (json.loads(response.text)['response']['GeoObjectCollection']\\\n",
    "      ['featureMember'][0]['GeoObject']['metaDataProperty']['GeocoderMetaData']\\\n",
    "      ['AddressDetails']['Country']['AdministrativeArea'][ 'Locality']['DependentLocality']\\\n",
    "      ['DependentLocality']['DependentLocalityName'])\n",
    "        return district_name\n",
    "    except:\n",
    "        return 'none'"
   ]
  },
  {
   "cell_type": "markdown",
   "metadata": {},
   "source": [
    "Создаём функцию для определения района из запроса к API Яндекс.Геокодер по координатам."
   ]
  },
  {
   "cell_type": "raw",
   "metadata": {},
   "source": [
    "data_top_10['district'] = data_top_10['coords'].apply(get_district)"
   ]
  },
  {
   "cell_type": "markdown",
   "metadata": {},
   "source": [
    "Обращаемся к API Яндекс.Геокодер и формируем столбец с данными о районах на основании координат объектов."
   ]
  },
  {
   "cell_type": "raw",
   "metadata": {},
   "source": [
    "data_top_10.to_csv(r'C:\\Users\\79313\\8\\top10_distr.csv', sep='\\t', index = False)"
   ]
  },
  {
   "cell_type": "markdown",
   "metadata": {},
   "source": [
    "Для ускорения времени проверки сохраняем полученный датафрейм и присваиваем ячейкам статус RAW NBConvert"
   ]
  },
  {
   "cell_type": "code",
   "execution_count": 48,
   "metadata": {},
   "outputs": [],
   "source": [
    "spreadsheet_id = '1XxAgiRTUr-oYtwsijIdFIzyMiNg370JWEsST9pLs_Pk'\n",
    "file_name = 'https://docs.google.com/spreadsheets/d/{}/export?format=csv'.format(spreadsheet_id)\n",
    "r = requests.get(file_name)\n",
    "data_top_10 = pd.read_csv(BytesIO(r.content))\n",
    "\n",
    "#https://docs.google.com/spreadsheets/d/1XxAgiRTUr-oYtwsijIdFIzyMiNg370JWEsST9pLs_Pk/edit?usp=sharing"
   ]
  },
  {
   "cell_type": "markdown",
   "metadata": {},
   "source": [
    "Для ускорения времени проверки загружаем датафрейм из таблиц Google."
   ]
  },
  {
   "cell_type": "code",
   "execution_count": 49,
   "metadata": {},
   "outputs": [
    {
     "data": {
      "text/html": [
       "<div>\n",
       "<style scoped>\n",
       "    .dataframe tbody tr th:only-of-type {\n",
       "        vertical-align: middle;\n",
       "    }\n",
       "\n",
       "    .dataframe tbody tr th {\n",
       "        vertical-align: top;\n",
       "    }\n",
       "\n",
       "    .dataframe thead th {\n",
       "        text-align: right;\n",
       "    }\n",
       "</style>\n",
       "<table border=\"1\" class=\"dataframe\">\n",
       "  <thead>\n",
       "    <tr style=\"text-align: right;\">\n",
       "      <th></th>\n",
       "      <th>index</th>\n",
       "      <th>address</th>\n",
       "      <th>coords</th>\n",
       "      <th>district</th>\n",
       "    </tr>\n",
       "  </thead>\n",
       "  <tbody>\n",
       "    <tr>\n",
       "      <td>0</td>\n",
       "      <td>151</td>\n",
       "      <td>город москва, варшавское шоссе, дом 2</td>\n",
       "      <td>37.619683 55.699943</td>\n",
       "      <td>Донской район</td>\n",
       "    </tr>\n",
       "    <tr>\n",
       "      <td>1</td>\n",
       "      <td>152</td>\n",
       "      <td>город москва, варшавское шоссе, дом 7, корпус 1</td>\n",
       "      <td>37.622405 55.700877</td>\n",
       "      <td>Донской район</td>\n",
       "    </tr>\n",
       "    <tr>\n",
       "      <td>2</td>\n",
       "      <td>153</td>\n",
       "      <td>город москва, варшавское шоссе, дом 29</td>\n",
       "      <td>37.622432 55.693226</td>\n",
       "      <td>Донской район</td>\n",
       "    </tr>\n",
       "    <tr>\n",
       "      <td>3</td>\n",
       "      <td>154</td>\n",
       "      <td>город москва, варшавское шоссе, дом 72, корпус 2</td>\n",
       "      <td>37.618758 55.656869</td>\n",
       "      <td>Нагорный район</td>\n",
       "    </tr>\n",
       "    <tr>\n",
       "      <td>4</td>\n",
       "      <td>155</td>\n",
       "      <td>город москва, варшавское шоссе, дом 100</td>\n",
       "      <td>37.618812 55.646228</td>\n",
       "      <td>Нагорный район</td>\n",
       "    </tr>\n",
       "  </tbody>\n",
       "</table>\n",
       "</div>"
      ],
      "text/plain": [
       "   index                                           address  \\\n",
       "0    151             город москва, варшавское шоссе, дом 2   \n",
       "1    152   город москва, варшавское шоссе, дом 7, корпус 1   \n",
       "2    153            город москва, варшавское шоссе, дом 29   \n",
       "3    154  город москва, варшавское шоссе, дом 72, корпус 2   \n",
       "4    155           город москва, варшавское шоссе, дом 100   \n",
       "\n",
       "                coords        district  \n",
       "0  37.619683 55.699943   Донской район  \n",
       "1  37.622405 55.700877   Донской район  \n",
       "2  37.622432 55.693226   Донской район  \n",
       "3  37.618758 55.656869  Нагорный район  \n",
       "4  37.618812 55.646228  Нагорный район  "
      ]
     },
     "metadata": {},
     "output_type": "display_data"
    }
   ],
   "source": [
    "display(data_top_10.head())"
   ]
  },
  {
   "cell_type": "code",
   "execution_count": 50,
   "metadata": {},
   "outputs": [],
   "source": [
    "data = data.merge(data_top_10[['address', 'coords', 'district']], on='address', how='left')"
   ]
  },
  {
   "cell_type": "markdown",
   "metadata": {},
   "source": [
    "Добавляем в основной датасет data информацию о координатах и районе."
   ]
  },
  {
   "cell_type": "code",
   "execution_count": 51,
   "metadata": {},
   "outputs": [
    {
     "data": {
      "text/html": [
       "<div>\n",
       "<style scoped>\n",
       "    .dataframe tbody tr th:only-of-type {\n",
       "        vertical-align: middle;\n",
       "    }\n",
       "\n",
       "    .dataframe tbody tr th {\n",
       "        vertical-align: top;\n",
       "    }\n",
       "\n",
       "    .dataframe thead th {\n",
       "        text-align: right;\n",
       "    }\n",
       "</style>\n",
       "<table border=\"1\" class=\"dataframe\">\n",
       "  <thead>\n",
       "    <tr style=\"text-align: right;\">\n",
       "      <th></th>\n",
       "      <th>id</th>\n",
       "      <th>object_name</th>\n",
       "      <th>chain</th>\n",
       "      <th>object_type</th>\n",
       "      <th>address</th>\n",
       "      <th>number</th>\n",
       "      <th>street</th>\n",
       "      <th>coords</th>\n",
       "      <th>district</th>\n",
       "    </tr>\n",
       "  </thead>\n",
       "  <tbody>\n",
       "    <tr>\n",
       "      <td>0</td>\n",
       "      <td>151635</td>\n",
       "      <td>сметана</td>\n",
       "      <td>нет</td>\n",
       "      <td>кафе</td>\n",
       "      <td>город москва, улица егора абакумова, дом 9</td>\n",
       "      <td>48</td>\n",
       "      <td>улица егора абакумова</td>\n",
       "      <td>NaN</td>\n",
       "      <td>NaN</td>\n",
       "    </tr>\n",
       "    <tr>\n",
       "      <td>1</td>\n",
       "      <td>77874</td>\n",
       "      <td>родник</td>\n",
       "      <td>нет</td>\n",
       "      <td>кафе</td>\n",
       "      <td>город москва, улица талалихина, дом 2/1, корпус 1</td>\n",
       "      <td>35</td>\n",
       "      <td>улица талалихина</td>\n",
       "      <td>NaN</td>\n",
       "      <td>NaN</td>\n",
       "    </tr>\n",
       "    <tr>\n",
       "      <td>2</td>\n",
       "      <td>24309</td>\n",
       "      <td>кафе академия</td>\n",
       "      <td>нет</td>\n",
       "      <td>кафе</td>\n",
       "      <td>город москва, абельмановская улица, дом 6</td>\n",
       "      <td>95</td>\n",
       "      <td>абельмановская улица</td>\n",
       "      <td>NaN</td>\n",
       "      <td>NaN</td>\n",
       "    </tr>\n",
       "    <tr>\n",
       "      <td>3</td>\n",
       "      <td>21894</td>\n",
       "      <td>пиццетория</td>\n",
       "      <td>сетевые</td>\n",
       "      <td>кафе</td>\n",
       "      <td>город москва, абрамцевская улица, дом 1</td>\n",
       "      <td>40</td>\n",
       "      <td>абрамцевская улица</td>\n",
       "      <td>NaN</td>\n",
       "      <td>NaN</td>\n",
       "    </tr>\n",
       "    <tr>\n",
       "      <td>4</td>\n",
       "      <td>119365</td>\n",
       "      <td>кафе вишневая метель</td>\n",
       "      <td>нет</td>\n",
       "      <td>кафе</td>\n",
       "      <td>город москва, абрамцевская улица, дом 9, корпус 1</td>\n",
       "      <td>50</td>\n",
       "      <td>абрамцевская улица</td>\n",
       "      <td>NaN</td>\n",
       "      <td>NaN</td>\n",
       "    </tr>\n",
       "  </tbody>\n",
       "</table>\n",
       "</div>"
      ],
      "text/plain": [
       "       id           object_name    chain object_type  \\\n",
       "0  151635               сметана      нет        кафе   \n",
       "1   77874                родник      нет        кафе   \n",
       "2   24309         кафе академия      нет        кафе   \n",
       "3   21894            пиццетория  сетевые        кафе   \n",
       "4  119365  кафе вишневая метель      нет        кафе   \n",
       "\n",
       "                                             address  number  \\\n",
       "0         город москва, улица егора абакумова, дом 9      48   \n",
       "1  город москва, улица талалихина, дом 2/1, корпус 1      35   \n",
       "2          город москва, абельмановская улица, дом 6      95   \n",
       "3            город москва, абрамцевская улица, дом 1      40   \n",
       "4  город москва, абрамцевская улица, дом 9, корпус 1      50   \n",
       "\n",
       "                  street coords district  \n",
       "0  улица егора абакумова    NaN      NaN  \n",
       "1       улица талалихина    NaN      NaN  \n",
       "2   абельмановская улица    NaN      NaN  \n",
       "3     абрамцевская улица    NaN      NaN  \n",
       "4     абрамцевская улица    NaN      NaN  "
      ]
     },
     "metadata": {},
     "output_type": "display_data"
    }
   ],
   "source": [
    "display(data.head())"
   ]
  },
  {
   "cell_type": "markdown",
   "metadata": {},
   "source": [
    "При этом в датасет загружаются координаты и район только для объектов, расположенных на топ-10 улиц."
   ]
  },
  {
   "cell_type": "code",
   "execution_count": 52,
   "metadata": {},
   "outputs": [],
   "source": [
    "top_district = data.query('street in @street_list')\\\n",
    "    [['address', 'street', 'district']].reset_index().groupby('district')\\\n",
    "    ['index'].count().reset_index().sort_values(by='index', ascending=False)\n",
    "top_district.rename(columns={'index': 'quantity'}, inplace=True) "
   ]
  },
  {
   "cell_type": "markdown",
   "metadata": {},
   "source": [
    "Формируем датафрейм с количеством объектов, расположенных на топ-10 улиц, по районам города."
   ]
  },
  {
   "cell_type": "code",
   "execution_count": 53,
   "metadata": {},
   "outputs": [
    {
     "name": "stdout",
     "output_type": "stream",
     "text": [
      "\u001b[1mРайоны, в которых расположены топ-10 улиц с объектами общественного питания:\u001b[0m\n"
     ]
    },
    {
     "data": {
      "text/html": [
       "<div>\n",
       "<style scoped>\n",
       "    .dataframe tbody tr th:only-of-type {\n",
       "        vertical-align: middle;\n",
       "    }\n",
       "\n",
       "    .dataframe tbody tr th {\n",
       "        vertical-align: top;\n",
       "    }\n",
       "\n",
       "    .dataframe thead th {\n",
       "        text-align: right;\n",
       "    }\n",
       "</style>\n",
       "<table border=\"1\" class=\"dataframe\">\n",
       "  <thead>\n",
       "    <tr style=\"text-align: right;\">\n",
       "      <th></th>\n",
       "      <th>district</th>\n",
       "      <th>quantity</th>\n",
       "    </tr>\n",
       "  </thead>\n",
       "  <tbody>\n",
       "    <tr>\n",
       "      <td>10</td>\n",
       "      <td>Пресненский район</td>\n",
       "      <td>165</td>\n",
       "    </tr>\n",
       "    <tr>\n",
       "      <td>30</td>\n",
       "      <td>район Чертаново Центральное</td>\n",
       "      <td>89</td>\n",
       "    </tr>\n",
       "    <tr>\n",
       "      <td>26</td>\n",
       "      <td>район Тропарёво-Никулино</td>\n",
       "      <td>83</td>\n",
       "    </tr>\n",
       "    <tr>\n",
       "      <td>13</td>\n",
       "      <td>район Аэропорт</td>\n",
       "      <td>64</td>\n",
       "    </tr>\n",
       "    <tr>\n",
       "      <td>8</td>\n",
       "      <td>Обручевский район</td>\n",
       "      <td>64</td>\n",
       "    </tr>\n",
       "    <tr>\n",
       "      <td>6</td>\n",
       "      <td>Мещанский район</td>\n",
       "      <td>63</td>\n",
       "    </tr>\n",
       "    <tr>\n",
       "      <td>15</td>\n",
       "      <td>район Дорогомилово</td>\n",
       "      <td>61</td>\n",
       "    </tr>\n",
       "    <tr>\n",
       "      <td>18</td>\n",
       "      <td>район Нагатино-Садовники</td>\n",
       "      <td>56</td>\n",
       "    </tr>\n",
       "    <tr>\n",
       "      <td>24</td>\n",
       "      <td>район Свиблово</td>\n",
       "      <td>56</td>\n",
       "    </tr>\n",
       "    <tr>\n",
       "      <td>28</td>\n",
       "      <td>район Фили-Давыдково</td>\n",
       "      <td>53</td>\n",
       "    </tr>\n",
       "    <tr>\n",
       "      <td>14</td>\n",
       "      <td>район Беговой</td>\n",
       "      <td>51</td>\n",
       "    </tr>\n",
       "    <tr>\n",
       "      <td>2</td>\n",
       "      <td>Алексеевский район</td>\n",
       "      <td>49</td>\n",
       "    </tr>\n",
       "    <tr>\n",
       "      <td>31</td>\n",
       "      <td>район Чертаново Южное</td>\n",
       "      <td>49</td>\n",
       "    </tr>\n",
       "    <tr>\n",
       "      <td>4</td>\n",
       "      <td>Донской район</td>\n",
       "      <td>48</td>\n",
       "    </tr>\n",
       "    <tr>\n",
       "      <td>29</td>\n",
       "      <td>район Чертаново Северное</td>\n",
       "      <td>44</td>\n",
       "    </tr>\n",
       "    <tr>\n",
       "      <td>27</td>\n",
       "      <td>район Тёплый Стан</td>\n",
       "      <td>43</td>\n",
       "    </tr>\n",
       "    <tr>\n",
       "      <td>17</td>\n",
       "      <td>район Москворечье-Сабурово</td>\n",
       "      <td>42</td>\n",
       "    </tr>\n",
       "    <tr>\n",
       "      <td>7</td>\n",
       "      <td>Нагорный район</td>\n",
       "      <td>41</td>\n",
       "    </tr>\n",
       "    <tr>\n",
       "      <td>3</td>\n",
       "      <td>Гагаринский район</td>\n",
       "      <td>40</td>\n",
       "    </tr>\n",
       "    <tr>\n",
       "      <td>16</td>\n",
       "      <td>район Коньково</td>\n",
       "      <td>35</td>\n",
       "    </tr>\n",
       "    <tr>\n",
       "      <td>11</td>\n",
       "      <td>Хорошёвский район</td>\n",
       "      <td>33</td>\n",
       "    </tr>\n",
       "    <tr>\n",
       "      <td>22</td>\n",
       "      <td>район Раменки</td>\n",
       "      <td>31</td>\n",
       "    </tr>\n",
       "    <tr>\n",
       "      <td>32</td>\n",
       "      <td>район Черёмушки</td>\n",
       "      <td>27</td>\n",
       "    </tr>\n",
       "    <tr>\n",
       "      <td>5</td>\n",
       "      <td>Ломоносовский район</td>\n",
       "      <td>26</td>\n",
       "    </tr>\n",
       "    <tr>\n",
       "      <td>1</td>\n",
       "      <td>Академический район</td>\n",
       "      <td>25</td>\n",
       "    </tr>\n",
       "    <tr>\n",
       "      <td>34</td>\n",
       "      <td>район Якиманка</td>\n",
       "      <td>25</td>\n",
       "    </tr>\n",
       "    <tr>\n",
       "      <td>25</td>\n",
       "      <td>район Сокол</td>\n",
       "      <td>24</td>\n",
       "    </tr>\n",
       "    <tr>\n",
       "      <td>9</td>\n",
       "      <td>Останкинский район</td>\n",
       "      <td>20</td>\n",
       "    </tr>\n",
       "    <tr>\n",
       "      <td>21</td>\n",
       "      <td>район Проспект Вернадского</td>\n",
       "      <td>18</td>\n",
       "    </tr>\n",
       "    <tr>\n",
       "      <td>35</td>\n",
       "      <td>район Ясенево</td>\n",
       "      <td>14</td>\n",
       "    </tr>\n",
       "    <tr>\n",
       "      <td>19</td>\n",
       "      <td>район Орехово-Борисово Северное</td>\n",
       "      <td>14</td>\n",
       "    </tr>\n",
       "    <tr>\n",
       "      <td>0</td>\n",
       "      <td>none</td>\n",
       "      <td>12</td>\n",
       "    </tr>\n",
       "    <tr>\n",
       "      <td>23</td>\n",
       "      <td>район Ростокино</td>\n",
       "      <td>7</td>\n",
       "    </tr>\n",
       "    <tr>\n",
       "      <td>20</td>\n",
       "      <td>район Орехово-Борисово Южное</td>\n",
       "      <td>6</td>\n",
       "    </tr>\n",
       "    <tr>\n",
       "      <td>33</td>\n",
       "      <td>район Южное Бутово</td>\n",
       "      <td>2</td>\n",
       "    </tr>\n",
       "    <tr>\n",
       "      <td>12</td>\n",
       "      <td>Ярославский район</td>\n",
       "      <td>1</td>\n",
       "    </tr>\n",
       "  </tbody>\n",
       "</table>\n",
       "</div>"
      ],
      "text/plain": [
       "                           district  quantity\n",
       "10                Пресненский район       165\n",
       "30      район Чертаново Центральное        89\n",
       "26         район Тропарёво-Никулино        83\n",
       "13                   район Аэропорт        64\n",
       "8                 Обручевский район        64\n",
       "6                   Мещанский район        63\n",
       "15               район Дорогомилово        61\n",
       "18         район Нагатино-Садовники        56\n",
       "24                   район Свиблово        56\n",
       "28             район Фили-Давыдково        53\n",
       "14                    район Беговой        51\n",
       "2                Алексеевский район        49\n",
       "31            район Чертаново Южное        49\n",
       "4                     Донской район        48\n",
       "29         район Чертаново Северное        44\n",
       "27                район Тёплый Стан        43\n",
       "17       район Москворечье-Сабурово        42\n",
       "7                    Нагорный район        41\n",
       "3                 Гагаринский район        40\n",
       "16                   район Коньково        35\n",
       "11                Хорошёвский район        33\n",
       "22                    район Раменки        31\n",
       "32                  район Черёмушки        27\n",
       "5               Ломоносовский район        26\n",
       "1               Академический район        25\n",
       "34                   район Якиманка        25\n",
       "25                      район Сокол        24\n",
       "9                Останкинский район        20\n",
       "21       район Проспект Вернадского        18\n",
       "35                    район Ясенево        14\n",
       "19  район Орехово-Борисово Северное        14\n",
       "0                              none        12\n",
       "23                  район Ростокино         7\n",
       "20     район Орехово-Борисово Южное         6\n",
       "33               район Южное Бутово         2\n",
       "12                Ярославский район         1"
      ]
     },
     "metadata": {},
     "output_type": "display_data"
    }
   ],
   "source": [
    "print(color.BOLD + 'Районы, в которых расположены топ-10 улиц с объектами общественного питания:'+ color.END)\n",
    "display(top_district)"
   ]
  },
  {
   "cell_type": "code",
   "execution_count": 54,
   "metadata": {
    "scrolled": false
   },
   "outputs": [
    {
     "data": {
      "image/png": "[encoded data removed]",
      "text/plain": [
       "<Figure size 1224x864 with 1 Axes>"
      ]
     },
     "metadata": {
      "needs_background": "light"
     },
     "output_type": "display_data"
    }
   ],
   "source": [
    "fig, test = plt.subplots()\n",
    "fig.set_figheight(12) # высота \n",
    "fig.set_figwidth(17) # ширина\n",
    "\n",
    "test.set_title('Районы, в которых расположены топ-10 улиц с объектами общественного питания:')\n",
    "ax=sns.barplot(x=\"quantity\", y=\"district\", data=top_district)\n",
    "test.set_ylabel('Район')\n",
    "test.set_xlabel('Количество объектов')\n",
    "ax.grid()\n",
    "#ax.set_xticklabels(ax.get_xticklabels(),rotation=80);"
   ]
  },
  {
   "cell_type": "markdown",
   "metadata": {},
   "source": [
    "Районы с улицами с максимальной концентрацией заведений: Пресненский, Чертаново-Центральное, Тропарёво-Никулино."
   ]
  },
  {
   "cell_type": "markdown",
   "metadata": {},
   "source": [
    "<a id=\"2.8\"></a>\n",
    "### Число улиц с одним объектом общественного питания. В каких районах Москвы находятся эти улицы?"
   ]
  },
  {
   "cell_type": "code",
   "execution_count": 55,
   "metadata": {},
   "outputs": [],
   "source": [
    "one_streets = data.groupby('street')['id'].count().reset_index().sort_values(by='street')\n",
    "one_streets.rename(columns={'id': 'quantity'}, inplace=True) \n",
    "one_streets = one_streets.query('quantity==1')"
   ]
  },
  {
   "cell_type": "markdown",
   "metadata": {},
   "source": [
    "Формирую таблицу улиц с одним объектом общественного питяния."
   ]
  },
  {
   "cell_type": "code",
   "execution_count": 56,
   "metadata": {},
   "outputs": [
    {
     "name": "stdout",
     "output_type": "stream",
     "text": [
      "Количество улиц с одним объектом общественного питания: 527\n"
     ]
    }
   ],
   "source": [
    "print('Количество улиц с одним объектом общественного питания:', one_streets['quantity'].count())"
   ]
  },
  {
   "cell_type": "code",
   "execution_count": 57,
   "metadata": {},
   "outputs": [],
   "source": [
    "one_streets = one_streets.merge(data, on='street', how='left')\n",
    "one_streets = one_streets[['street','address']]"
   ]
  },
  {
   "cell_type": "markdown",
   "metadata": {},
   "source": [
    "Добавляем информацию об адресе в таблицу."
   ]
  },
  {
   "cell_type": "raw",
   "metadata": {},
   "source": [
    "one_streets['coords'] = one_streets['address'].apply(get_coords)"
   ]
  },
  {
   "cell_type": "markdown",
   "metadata": {},
   "source": [
    "Обращаемся к API Яндекс.Геокодер и формируем столбец с данными о координатах объектов."
   ]
  },
  {
   "cell_type": "raw",
   "metadata": {},
   "source": [
    "one_streets.to_csv(r'C:\\Users\\79313\\8\\1streets_coord.csv', sep='\\t', index = False)"
   ]
  },
  {
   "cell_type": "markdown",
   "metadata": {},
   "source": [
    "Для ускорения времени проверки сохраняем полученный датафрейм и присваиваем ячейкам статус RAW NBConvert"
   ]
  },
  {
   "cell_type": "code",
   "execution_count": 58,
   "metadata": {},
   "outputs": [],
   "source": [
    "from io import BytesIO\n",
    "import requests\n",
    "spreadsheet_id = '1OPfIm11XS_bZ1qbCJLG767CN-ExTsSEavnnJESI1bls'\n",
    "file_name = 'https://docs.google.com/spreadsheets/d/{}/export?format=csv'.format(spreadsheet_id)\n",
    "r = requests.get(file_name)\n",
    "one_streets = pd.read_csv(BytesIO(r.content))\n",
    "\n",
    "#https://docs.google.com/spreadsheets/d/1OPfIm11XS_bZ1qbCJLG767CN-ExTsSEavnnJESI1bls/edit?usp=sharing"
   ]
  },
  {
   "cell_type": "markdown",
   "metadata": {},
   "source": [
    "Для ускорения времени проверки загружаем датафрейм из таблиц Google."
   ]
  },
  {
   "cell_type": "raw",
   "metadata": {},
   "source": [
    "one_streets['district'] = one_streets['coords'].apply(get_district)"
   ]
  },
  {
   "cell_type": "markdown",
   "metadata": {},
   "source": [
    "Обращаемся к API Яндекс.Геокодер и формируем столбец с данными о районах на основании координат объектов."
   ]
  },
  {
   "cell_type": "code",
   "execution_count": 59,
   "metadata": {},
   "outputs": [],
   "source": [
    "data_top_10.to_csv(r'C:\\Users\\79313\\8\\1streets_distr.csv', sep='\\t', index = False)"
   ]
  },
  {
   "cell_type": "markdown",
   "metadata": {},
   "source": [
    "Для ускорения времени проверки сохраняем полученный датафрейм и присваиваем ячейкам статус RAW NBConvert"
   ]
  },
  {
   "cell_type": "code",
   "execution_count": 60,
   "metadata": {},
   "outputs": [],
   "source": [
    "from io import BytesIO\n",
    "import requests\n",
    "spreadsheet_id = '1WFrJvYWt7aVxOC6zoP7265h53bo9ZKOtqbLWDZKPUyc'\n",
    "file_name = 'https://docs.google.com/spreadsheets/d/{}/export?format=csv'.format(spreadsheet_id)\n",
    "r = requests.get(file_name)\n",
    "one_streets = pd.read_csv(BytesIO(r.content))\n",
    "\n",
    "#https://docs.google.com/spreadsheets/d/1WFrJvYWt7aVxOC6zoP7265h53bo9ZKOtqbLWDZKPUyc/edit?usp=sharing"
   ]
  },
  {
   "cell_type": "markdown",
   "metadata": {},
   "source": [
    "Для ускорения времени проверки загружаем датафрейм из таблиц Google."
   ]
  },
  {
   "cell_type": "code",
   "execution_count": 61,
   "metadata": {},
   "outputs": [
    {
     "data": {
      "text/html": [
       "<div>\n",
       "<style scoped>\n",
       "    .dataframe tbody tr th:only-of-type {\n",
       "        vertical-align: middle;\n",
       "    }\n",
       "\n",
       "    .dataframe tbody tr th {\n",
       "        vertical-align: top;\n",
       "    }\n",
       "\n",
       "    .dataframe thead th {\n",
       "        text-align: right;\n",
       "    }\n",
       "</style>\n",
       "<table border=\"1\" class=\"dataframe\">\n",
       "  <thead>\n",
       "    <tr style=\"text-align: right;\">\n",
       "      <th></th>\n",
       "      <th>index</th>\n",
       "      <th>address</th>\n",
       "      <th>coords</th>\n",
       "      <th>district</th>\n",
       "    </tr>\n",
       "  </thead>\n",
       "  <tbody>\n",
       "    <tr>\n",
       "      <td>0</td>\n",
       "      <td>151</td>\n",
       "      <td>город москва, варшавское шоссе, дом 2</td>\n",
       "      <td>37.619683 55.699943</td>\n",
       "      <td>Донской район</td>\n",
       "    </tr>\n",
       "    <tr>\n",
       "      <td>1</td>\n",
       "      <td>152</td>\n",
       "      <td>город москва, варшавское шоссе, дом 7, корпус 1</td>\n",
       "      <td>37.622405 55.700877</td>\n",
       "      <td>Донской район</td>\n",
       "    </tr>\n",
       "    <tr>\n",
       "      <td>2</td>\n",
       "      <td>153</td>\n",
       "      <td>город москва, варшавское шоссе, дом 29</td>\n",
       "      <td>37.622432 55.693226</td>\n",
       "      <td>Донской район</td>\n",
       "    </tr>\n",
       "    <tr>\n",
       "      <td>3</td>\n",
       "      <td>154</td>\n",
       "      <td>город москва, варшавское шоссе, дом 72, корпус 2</td>\n",
       "      <td>37.618758 55.656869</td>\n",
       "      <td>Нагорный район</td>\n",
       "    </tr>\n",
       "    <tr>\n",
       "      <td>4</td>\n",
       "      <td>155</td>\n",
       "      <td>город москва, варшавское шоссе, дом 100</td>\n",
       "      <td>37.618812 55.646228</td>\n",
       "      <td>Нагорный район</td>\n",
       "    </tr>\n",
       "  </tbody>\n",
       "</table>\n",
       "</div>"
      ],
      "text/plain": [
       "   index                                           address  \\\n",
       "0    151             город москва, варшавское шоссе, дом 2   \n",
       "1    152   город москва, варшавское шоссе, дом 7, корпус 1   \n",
       "2    153            город москва, варшавское шоссе, дом 29   \n",
       "3    154  город москва, варшавское шоссе, дом 72, корпус 2   \n",
       "4    155           город москва, варшавское шоссе, дом 100   \n",
       "\n",
       "                coords        district  \n",
       "0  37.619683 55.699943   Донской район  \n",
       "1  37.622405 55.700877   Донской район  \n",
       "2  37.622432 55.693226   Донской район  \n",
       "3  37.618758 55.656869  Нагорный район  \n",
       "4  37.618812 55.646228  Нагорный район  "
      ]
     },
     "metadata": {},
     "output_type": "display_data"
    }
   ],
   "source": [
    "display(one_streets.head())"
   ]
  },
  {
   "cell_type": "code",
   "execution_count": 62,
   "metadata": {},
   "outputs": [],
   "source": [
    "one_district = one_streets.groupby('district')['index'].count().reset_index().sort_values(by='index', ascending=False)\n",
    "one_district.rename(columns={'index': 'quantity'}, inplace=True)\n",
    "one_district = one_district.query('district!=\"none\"')"
   ]
  },
  {
   "cell_type": "markdown",
   "metadata": {},
   "source": [
    "Формируем датафрейм с количеством объектов, расположенных на улицах с единственным заведением, по районам города."
   ]
  },
  {
   "cell_type": "code",
   "execution_count": 63,
   "metadata": {},
   "outputs": [
    {
     "name": "stdout",
     "output_type": "stream",
     "text": [
      "\u001b[1mРайоны, в которых расположены единственные объекты на улице:\u001b[0m\n"
     ]
    },
    {
     "data": {
      "text/html": [
       "<div>\n",
       "<style scoped>\n",
       "    .dataframe tbody tr th:only-of-type {\n",
       "        vertical-align: middle;\n",
       "    }\n",
       "\n",
       "    .dataframe tbody tr th {\n",
       "        vertical-align: top;\n",
       "    }\n",
       "\n",
       "    .dataframe thead th {\n",
       "        text-align: right;\n",
       "    }\n",
       "</style>\n",
       "<table border=\"1\" class=\"dataframe\">\n",
       "  <thead>\n",
       "    <tr style=\"text-align: right;\">\n",
       "      <th></th>\n",
       "      <th>district</th>\n",
       "      <th>quantity</th>\n",
       "    </tr>\n",
       "  </thead>\n",
       "  <tbody>\n",
       "    <tr>\n",
       "      <td>6</td>\n",
       "      <td>Мещанский район</td>\n",
       "      <td>45</td>\n",
       "    </tr>\n",
       "    <tr>\n",
       "      <td>26</td>\n",
       "      <td>район Тропарёво-Никулино</td>\n",
       "      <td>39</td>\n",
       "    </tr>\n",
       "    <tr>\n",
       "      <td>15</td>\n",
       "      <td>район Дорогомилово</td>\n",
       "      <td>29</td>\n",
       "    </tr>\n",
       "    <tr>\n",
       "      <td>31</td>\n",
       "      <td>район Чертаново Южное</td>\n",
       "      <td>28</td>\n",
       "    </tr>\n",
       "    <tr>\n",
       "      <td>14</td>\n",
       "      <td>район Беговой</td>\n",
       "      <td>27</td>\n",
       "    </tr>\n",
       "    <tr>\n",
       "      <td>17</td>\n",
       "      <td>район Москворечье-Сабурово</td>\n",
       "      <td>27</td>\n",
       "    </tr>\n",
       "    <tr>\n",
       "      <td>18</td>\n",
       "      <td>район Нагатино-Садовники</td>\n",
       "      <td>27</td>\n",
       "    </tr>\n",
       "    <tr>\n",
       "      <td>13</td>\n",
       "      <td>район Аэропорт</td>\n",
       "      <td>25</td>\n",
       "    </tr>\n",
       "    <tr>\n",
       "      <td>3</td>\n",
       "      <td>Гагаринский район</td>\n",
       "      <td>25</td>\n",
       "    </tr>\n",
       "    <tr>\n",
       "      <td>7</td>\n",
       "      <td>Нагорный район</td>\n",
       "      <td>22</td>\n",
       "    </tr>\n",
       "    <tr>\n",
       "      <td>27</td>\n",
       "      <td>район Тёплый Стан</td>\n",
       "      <td>22</td>\n",
       "    </tr>\n",
       "    <tr>\n",
       "      <td>11</td>\n",
       "      <td>Хорошёвский район</td>\n",
       "      <td>22</td>\n",
       "    </tr>\n",
       "    <tr>\n",
       "      <td>30</td>\n",
       "      <td>район Чертаново Центральное</td>\n",
       "      <td>21</td>\n",
       "    </tr>\n",
       "    <tr>\n",
       "      <td>2</td>\n",
       "      <td>Алексеевский район</td>\n",
       "      <td>21</td>\n",
       "    </tr>\n",
       "    <tr>\n",
       "      <td>4</td>\n",
       "      <td>Донской район</td>\n",
       "      <td>21</td>\n",
       "    </tr>\n",
       "    <tr>\n",
       "      <td>8</td>\n",
       "      <td>Обручевский район</td>\n",
       "      <td>20</td>\n",
       "    </tr>\n",
       "    <tr>\n",
       "      <td>29</td>\n",
       "      <td>район Чертаново Северное</td>\n",
       "      <td>19</td>\n",
       "    </tr>\n",
       "    <tr>\n",
       "      <td>34</td>\n",
       "      <td>район Якиманка</td>\n",
       "      <td>17</td>\n",
       "    </tr>\n",
       "    <tr>\n",
       "      <td>16</td>\n",
       "      <td>район Коньково</td>\n",
       "      <td>16</td>\n",
       "    </tr>\n",
       "    <tr>\n",
       "      <td>5</td>\n",
       "      <td>Ломоносовский район</td>\n",
       "      <td>15</td>\n",
       "    </tr>\n",
       "    <tr>\n",
       "      <td>21</td>\n",
       "      <td>район Проспект Вернадского</td>\n",
       "      <td>14</td>\n",
       "    </tr>\n",
       "    <tr>\n",
       "      <td>25</td>\n",
       "      <td>район Сокол</td>\n",
       "      <td>13</td>\n",
       "    </tr>\n",
       "    <tr>\n",
       "      <td>9</td>\n",
       "      <td>Останкинский район</td>\n",
       "      <td>13</td>\n",
       "    </tr>\n",
       "    <tr>\n",
       "      <td>1</td>\n",
       "      <td>Академический район</td>\n",
       "      <td>12</td>\n",
       "    </tr>\n",
       "    <tr>\n",
       "      <td>10</td>\n",
       "      <td>Пресненский район</td>\n",
       "      <td>8</td>\n",
       "    </tr>\n",
       "    <tr>\n",
       "      <td>23</td>\n",
       "      <td>район Ростокино</td>\n",
       "      <td>6</td>\n",
       "    </tr>\n",
       "    <tr>\n",
       "      <td>28</td>\n",
       "      <td>район Фили-Давыдково</td>\n",
       "      <td>5</td>\n",
       "    </tr>\n",
       "    <tr>\n",
       "      <td>20</td>\n",
       "      <td>район Орехово-Борисово Южное</td>\n",
       "      <td>5</td>\n",
       "    </tr>\n",
       "    <tr>\n",
       "      <td>19</td>\n",
       "      <td>район Орехово-Борисово Северное</td>\n",
       "      <td>5</td>\n",
       "    </tr>\n",
       "    <tr>\n",
       "      <td>32</td>\n",
       "      <td>район Черёмушки</td>\n",
       "      <td>4</td>\n",
       "    </tr>\n",
       "    <tr>\n",
       "      <td>22</td>\n",
       "      <td>район Раменки</td>\n",
       "      <td>3</td>\n",
       "    </tr>\n",
       "    <tr>\n",
       "      <td>24</td>\n",
       "      <td>район Свиблово</td>\n",
       "      <td>2</td>\n",
       "    </tr>\n",
       "    <tr>\n",
       "      <td>33</td>\n",
       "      <td>район Южное Бутово</td>\n",
       "      <td>2</td>\n",
       "    </tr>\n",
       "    <tr>\n",
       "      <td>12</td>\n",
       "      <td>Ярославский район</td>\n",
       "      <td>1</td>\n",
       "    </tr>\n",
       "    <tr>\n",
       "      <td>35</td>\n",
       "      <td>район Ясенево</td>\n",
       "      <td>1</td>\n",
       "    </tr>\n",
       "  </tbody>\n",
       "</table>\n",
       "</div>"
      ],
      "text/plain": [
       "                           district  quantity\n",
       "6                   Мещанский район        45\n",
       "26         район Тропарёво-Никулино        39\n",
       "15               район Дорогомилово        29\n",
       "31            район Чертаново Южное        28\n",
       "14                    район Беговой        27\n",
       "17       район Москворечье-Сабурово        27\n",
       "18         район Нагатино-Садовники        27\n",
       "13                   район Аэропорт        25\n",
       "3                 Гагаринский район        25\n",
       "7                    Нагорный район        22\n",
       "27                район Тёплый Стан        22\n",
       "11                Хорошёвский район        22\n",
       "30      район Чертаново Центральное        21\n",
       "2                Алексеевский район        21\n",
       "4                     Донской район        21\n",
       "8                 Обручевский район        20\n",
       "29         район Чертаново Северное        19\n",
       "34                   район Якиманка        17\n",
       "16                   район Коньково        16\n",
       "5               Ломоносовский район        15\n",
       "21       район Проспект Вернадского        14\n",
       "25                      район Сокол        13\n",
       "9                Останкинский район        13\n",
       "1               Академический район        12\n",
       "10                Пресненский район         8\n",
       "23                  район Ростокино         6\n",
       "28             район Фили-Давыдково         5\n",
       "20     район Орехово-Борисово Южное         5\n",
       "19  район Орехово-Борисово Северное         5\n",
       "32                  район Черёмушки         4\n",
       "22                    район Раменки         3\n",
       "24                   район Свиблово         2\n",
       "33               район Южное Бутово         2\n",
       "12                Ярославский район         1\n",
       "35                    район Ясенево         1"
      ]
     },
     "metadata": {},
     "output_type": "display_data"
    }
   ],
   "source": [
    "print(color.BOLD + 'Районы, в которых расположены единственные объекты на улице:'+ color.END)\n",
    "display(one_district.query('district!=\"none\"'))"
   ]
  },
  {
   "cell_type": "code",
   "execution_count": 64,
   "metadata": {
    "scrolled": false
   },
   "outputs": [
    {
     "data": {
      "image/png": "[encoded data removed]",
      "text/plain": [
       "<Figure size 1224x864 with 1 Axes>"
      ]
     },
     "metadata": {
      "needs_background": "light"
     },
     "output_type": "display_data"
    }
   ],
   "source": [
    "fig, test = plt.subplots()\n",
    "fig.set_figheight(12) # высота \n",
    "fig.set_figwidth(17) # ширина\n",
    "\n",
    "test.set_title('Районы, в которых расположены единственные объекты на улице')\n",
    "ax=sns.barplot(x=\"quantity\", y=\"district\", data=one_district)\n",
    "test.set_ylabel('Район')\n",
    "test.set_xlabel('Количество объектов')\n",
    "ax.grid()\n",
    "#ax.set_xticklabels(ax.get_xticklabels(),rotation=80);"
   ]
  },
  {
   "cell_type": "markdown",
   "metadata": {},
   "source": [
    "Районы, в которых расположены улицы с единственным объектом общественного питания с максимальным количеством заведений: Мещанский, Тропарёво-Никулино, Дорогомилово."
   ]
  },
  {
   "cell_type": "markdown",
   "metadata": {},
   "source": [
    "<a id=\"2.9\"></a>\n",
    "### Закономерности распределение количества посадочных мест для улиц с большим количеством объектов общественного питания"
   ]
  },
  {
   "cell_type": "code",
   "execution_count": 65,
   "metadata": {
    "scrolled": false
   },
   "outputs": [
    {
     "data": {
      "image/png": "[encoded data removed]",
      "text/plain": [
       "<Figure size 1080x432 with 1 Axes>"
      ]
     },
     "metadata": {
      "needs_background": "light"
     },
     "output_type": "display_data"
    }
   ],
   "source": [
    "fig, test = plt.subplots()\n",
    "fig.set_figheight(6) # высота \n",
    "fig.set_figwidth(15) # ширина\n",
    "sns.boxplot(x=data_clear.query('street in @street_list')['number'])\n",
    "test.set_title('Диаграмма размаха данных в заведениях, расположенных на улицах с большим количеством объектов')\n",
    "test.set_xlabel('Количество посадочных мест');"
   ]
  },
  {
   "cell_type": "markdown",
   "metadata": {},
   "source": [
    "Определяем границу выбросов в 200 посадочных мест."
   ]
  },
  {
   "cell_type": "code",
   "execution_count": 66,
   "metadata": {},
   "outputs": [
    {
     "data": {
      "image/png": "[encoded data removed]",
      "text/plain": [
       "<Figure size 864x432 with 1 Axes>"
      ]
     },
     "metadata": {
      "needs_background": "light"
     },
     "output_type": "display_data"
    }
   ],
   "source": [
    "x_values = pd.Series(range(0,len(data_clear.query('street in @street_list and number<200')['number'])))\n",
    "\n",
    "fig, test = plt.subplots()\n",
    "fig.set_figheight(6) # высота \n",
    "fig.set_figwidth(12) # ширина\n",
    "sns.distplot(data_clear.query('street in @street_list and number<200')['number'], bins=100)\n",
    "test.set_title('Распределение по количеству посадочных мест в объектах, расположенных на улицах с большим количеством заведений')\n",
    "test.set_ylabel('Плотность распределения')\n",
    "test.set_xlabel('Количество посадочных мест');"
   ]
  },
  {
   "cell_type": "code",
   "execution_count": 67,
   "metadata": {},
   "outputs": [
    {
     "data": {
      "image/png": "[encoded data removed]",
      "text/plain": [
       "<Figure size 864x432 with 1 Axes>"
      ]
     },
     "metadata": {
      "needs_background": "light"
     },
     "output_type": "display_data"
    }
   ],
   "source": [
    "xx_values = pd.Series(range(0,len(data_clear.query('street in @street_list and number<200')['number'])))\n",
    "\n",
    "fig, test = plt.subplots()\n",
    "fig.set_figheight(6) # высота \n",
    "fig.set_figwidth(12) # ширина\n",
    "sns.scatterplot(x=xx_values, y=data_clear.query('street in @street_list and number<200')['number'])\n",
    "test.set_title('Распределение по количеству посадочных мест в объектах, расположенных на улицах с большим количеством заведений')\n",
    "test.set_ylabel('Количество посадочных мест')\n",
    "test.set_xlabel('Общее количество объектов');"
   ]
  },
  {
   "cell_type": "markdown",
   "metadata": {},
   "source": [
    "Для объектов, расположенных на улицах с большим количеством заведений характерно до 50 посадочных мест.<br>\n",
    "Также долю занимают объекты с 50-100 посадочными местами."
   ]
  },
  {
   "cell_type": "markdown",
   "metadata": {},
   "source": [
    "<a id=\"conclusion\"></a>\n",
    "## 3. Вывод"
   ]
  },
  {
   "cell_type": "markdown",
   "metadata": {},
   "source": [
    "Сделайте общий вывод и дайте рекомендации о виде заведения, количестве посадочных мест, а также районе расположения. Прокомментируйте возможность развития сети."
   ]
  },
  {
   "cell_type": "markdown",
   "metadata": {},
   "source": [
    "<strong>Общие выводы:</strong>\n",
    "* Самые распространенные виды объектов в Москве – кафе, ресторан, столовая;\n",
    "* Сетевые заведения составляют 19% от общего числа объектов;\n",
    "* В количественном выражении больше всего сетевых кафе, предприятий быстрого обслуживания и ресторанов, а в доле от объектов того же типа: предприятий быстрого обслуживания, магазинов (отделов кулинарии), ресторанов и кафе;\n",
    "* Для сетевых заведений характерны залы до 50 посадочных мест. Залы более 100 посадочных мест встречаются редко;\n",
    "* Для улиц с большим количеством заведений также характерны залы до 50 посадочных мест. Залы более 10 посадочных мест встречаются редко;\n",
    "* Больше всего посадочных мест в среднем предоставляют столовые и рестораны (100-130 мест). Меньше всего (до 20) кафетерии и закусочные;\n",
    "* Улицы с максимальным количеством объектов: Проспект мира, Профсоюзная улица, Ленинградский проспект;\n",
    "* Районы, в которых расположен топ-10 улиц по числу заведений с максимальным количеством объектов: Пресненский, Чертаново-Центральное, Тропарёво-Никулино;\n",
    "* В Москве 527 улиц с единственным объектом общественного питания;\n",
    "* Районы, в которых расположены улицы с единственным заведением с максимальным количеством объектов: Мещанский, Тропарёво-Никулино, Дорогомилово.\n",
    "\n",
    "<strong>Рекомендации:</strong>\n",
    "* Тип объекта: кафе, на основании самого распространённого вида объектов в Москве и формата заведения (обслуживают роботы);\n",
    "* Количество посадочных мест от 30 до 50 на основании статистики по среднему количеству посадочных мест по типу объектов кафе, а также статистики по распределению количества посадочных мест в сетевых объектах и объектах на улицах с максимальным числом заведений.\n",
    "* Район расположения: Тропарёво-Никулино, Аэропорт, Мещанский район.\u000b",
    "Район выбирается по принципу: в районе находится улица из топ-10 по количеству заведений, в районе большое число объектов, в районе большое число улиц с единственным объектом. Таким образом можно занять локацию, которая с одной стороны подтверждает, что район популярен среди посетителей кафе, а с другой в районе потенциально есть место для открытия нового объекта.\n",
    "* В Москве большое число сетевых кафе (1387), однако их доля в числе всех кафе составляет всего 23%. Таким образом перспективы развития сети кафе с роботами достаточно высоки, рынок не перенасыщен. Кроме того такое кафе при адаптации формата сможет конкурировать с предприятиями быстрого обслуживания, в которых доля сетевых объектов составляет 41% и которые представлены глобальными сетями.\n"
   ]
  }
 ],
 "metadata": {
  "kernelspec": {
   "display_name": "Python 3",
   "language": "python",
   "name": "python3"
  },
  "language_info": {
   "codemirror_mode": {
    "name": "ipython",
    "version": 3
   },
   "file_extension": ".py",
   "mimetype": "text/x-python",
   "name": "python",
   "nbconvert_exporter": "python",
   "pygments_lexer": "ipython3",
   "version": "3.7.6"
  }
 },
 "nbformat": 4,
 "nbformat_minor": 2
}
