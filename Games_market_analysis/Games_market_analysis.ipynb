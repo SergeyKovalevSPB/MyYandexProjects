{
 "cells": [
  {
   "cell_type": "markdown",
   "metadata": {},
   "source": [
    "# Описание проекта\n",
    "\n",
    "Интернет-магазин продаёт по всему миру компьютерные игры. Из открытых источников доступны исторические данные о продажах игр, оценки пользователей и экспертов, жанры и платформы (например, Xbox или PlayStation). Необходимо выявить определяющие успешность игры закономерности. Это позволит сделать ставку на потенциально популярный продукт и спланировать рекламные кампании.<br><br>\n",
    "В наличии данные до 2016 года. Представим, что сейчас декабрь 2016 г., планируется кампания на 2017-й.\n",
    "\n",
    "### Проект выполнен по следующим шагам:\n",
    "<a href='#step1'>Шаг 1. Загрузка файла с данными и изучение общей информации</a><br>\n",
    "<a href='#step2'>Шаг 2. Подготовка данных</a><br>\n",
    "<a href='#step3'>Шаг 3. Исследовательский анализ данных</a><br>\n",
    "<a href='#step4'>Шаг 4. Портрет пользователя каждого региона</a><br>\n",
    "<a href='#step5'>Шаг 5. Проверка гипотез</a><br>\n",
    "<a href='#step6'>Шаг 6. Общий вывод</a><br>"
   ]
  },
  {
   "cell_type": "markdown",
   "metadata": {},
   "source": [
    "<a id='step1'></a>\n",
    "## Шаг 1. Загрузка файла с данными и изучение общей информации\n",
    "<a href='#step11'>Описание данных</a><br>\n",
    "<a href='#conclusion1'>Вывод 1</a><br>"
   ]
  },
  {
   "cell_type": "code",
   "execution_count": 1,
   "metadata": {},
   "outputs": [],
   "source": [
    "import pandas as pd\n",
    "from IPython.display import display\n",
    "import matplotlib.pyplot as plt\n",
    "import numpy as np\n",
    "from datetime import  date\n",
    "from scipy import stats as st\n",
    "import seaborn as sns\n",
    "\n",
    "#импорт необходимых библиотек"
   ]
  },
  {
   "cell_type": "code",
   "execution_count": 2,
   "metadata": {},
   "outputs": [],
   "source": [
    "data = pd.read_csv('games.csv')"
   ]
  },
  {
   "cell_type": "code",
   "execution_count": 3,
   "metadata": {},
   "outputs": [
    {
     "data": {
      "text/html": [
       "<div>\n",
       "<style scoped>\n",
       "    .dataframe tbody tr th:only-of-type {\n",
       "        vertical-align: middle;\n",
       "    }\n",
       "\n",
       "    .dataframe tbody tr th {\n",
       "        vertical-align: top;\n",
       "    }\n",
       "\n",
       "    .dataframe thead th {\n",
       "        text-align: right;\n",
       "    }\n",
       "</style>\n",
       "<table border=\"1\" class=\"dataframe\">\n",
       "  <thead>\n",
       "    <tr style=\"text-align: right;\">\n",
       "      <th></th>\n",
       "      <th>Name</th>\n",
       "      <th>Platform</th>\n",
       "      <th>Year_of_Release</th>\n",
       "      <th>Genre</th>\n",
       "      <th>NA_sales</th>\n",
       "      <th>EU_sales</th>\n",
       "      <th>JP_sales</th>\n",
       "      <th>Other_sales</th>\n",
       "      <th>Critic_Score</th>\n",
       "      <th>User_Score</th>\n",
       "      <th>Rating</th>\n",
       "    </tr>\n",
       "  </thead>\n",
       "  <tbody>\n",
       "    <tr>\n",
       "      <th>0</th>\n",
       "      <td>Wii Sports</td>\n",
       "      <td>Wii</td>\n",
       "      <td>2006.0</td>\n",
       "      <td>Sports</td>\n",
       "      <td>41.36</td>\n",
       "      <td>28.96</td>\n",
       "      <td>3.77</td>\n",
       "      <td>8.45</td>\n",
       "      <td>76.0</td>\n",
       "      <td>8</td>\n",
       "      <td>E</td>\n",
       "    </tr>\n",
       "    <tr>\n",
       "      <th>1</th>\n",
       "      <td>Super Mario Bros.</td>\n",
       "      <td>NES</td>\n",
       "      <td>1985.0</td>\n",
       "      <td>Platform</td>\n",
       "      <td>29.08</td>\n",
       "      <td>3.58</td>\n",
       "      <td>6.81</td>\n",
       "      <td>0.77</td>\n",
       "      <td>NaN</td>\n",
       "      <td>NaN</td>\n",
       "      <td>NaN</td>\n",
       "    </tr>\n",
       "    <tr>\n",
       "      <th>2</th>\n",
       "      <td>Mario Kart Wii</td>\n",
       "      <td>Wii</td>\n",
       "      <td>2008.0</td>\n",
       "      <td>Racing</td>\n",
       "      <td>15.68</td>\n",
       "      <td>12.76</td>\n",
       "      <td>3.79</td>\n",
       "      <td>3.29</td>\n",
       "      <td>82.0</td>\n",
       "      <td>8.3</td>\n",
       "      <td>E</td>\n",
       "    </tr>\n",
       "    <tr>\n",
       "      <th>3</th>\n",
       "      <td>Wii Sports Resort</td>\n",
       "      <td>Wii</td>\n",
       "      <td>2009.0</td>\n",
       "      <td>Sports</td>\n",
       "      <td>15.61</td>\n",
       "      <td>10.93</td>\n",
       "      <td>3.28</td>\n",
       "      <td>2.95</td>\n",
       "      <td>80.0</td>\n",
       "      <td>8</td>\n",
       "      <td>E</td>\n",
       "    </tr>\n",
       "    <tr>\n",
       "      <th>4</th>\n",
       "      <td>Pokemon Red/Pokemon Blue</td>\n",
       "      <td>GB</td>\n",
       "      <td>1996.0</td>\n",
       "      <td>Role-Playing</td>\n",
       "      <td>11.27</td>\n",
       "      <td>8.89</td>\n",
       "      <td>10.22</td>\n",
       "      <td>1.00</td>\n",
       "      <td>NaN</td>\n",
       "      <td>NaN</td>\n",
       "      <td>NaN</td>\n",
       "    </tr>\n",
       "    <tr>\n",
       "      <th>...</th>\n",
       "      <td>...</td>\n",
       "      <td>...</td>\n",
       "      <td>...</td>\n",
       "      <td>...</td>\n",
       "      <td>...</td>\n",
       "      <td>...</td>\n",
       "      <td>...</td>\n",
       "      <td>...</td>\n",
       "      <td>...</td>\n",
       "      <td>...</td>\n",
       "      <td>...</td>\n",
       "    </tr>\n",
       "    <tr>\n",
       "      <th>16710</th>\n",
       "      <td>Samurai Warriors: Sanada Maru</td>\n",
       "      <td>PS3</td>\n",
       "      <td>2016.0</td>\n",
       "      <td>Action</td>\n",
       "      <td>0.00</td>\n",
       "      <td>0.00</td>\n",
       "      <td>0.01</td>\n",
       "      <td>0.00</td>\n",
       "      <td>NaN</td>\n",
       "      <td>NaN</td>\n",
       "      <td>NaN</td>\n",
       "    </tr>\n",
       "    <tr>\n",
       "      <th>16711</th>\n",
       "      <td>LMA Manager 2007</td>\n",
       "      <td>X360</td>\n",
       "      <td>2006.0</td>\n",
       "      <td>Sports</td>\n",
       "      <td>0.00</td>\n",
       "      <td>0.01</td>\n",
       "      <td>0.00</td>\n",
       "      <td>0.00</td>\n",
       "      <td>NaN</td>\n",
       "      <td>NaN</td>\n",
       "      <td>NaN</td>\n",
       "    </tr>\n",
       "    <tr>\n",
       "      <th>16712</th>\n",
       "      <td>Haitaka no Psychedelica</td>\n",
       "      <td>PSV</td>\n",
       "      <td>2016.0</td>\n",
       "      <td>Adventure</td>\n",
       "      <td>0.00</td>\n",
       "      <td>0.00</td>\n",
       "      <td>0.01</td>\n",
       "      <td>0.00</td>\n",
       "      <td>NaN</td>\n",
       "      <td>NaN</td>\n",
       "      <td>NaN</td>\n",
       "    </tr>\n",
       "    <tr>\n",
       "      <th>16713</th>\n",
       "      <td>Spirits &amp; Spells</td>\n",
       "      <td>GBA</td>\n",
       "      <td>2003.0</td>\n",
       "      <td>Platform</td>\n",
       "      <td>0.01</td>\n",
       "      <td>0.00</td>\n",
       "      <td>0.00</td>\n",
       "      <td>0.00</td>\n",
       "      <td>NaN</td>\n",
       "      <td>NaN</td>\n",
       "      <td>NaN</td>\n",
       "    </tr>\n",
       "    <tr>\n",
       "      <th>16714</th>\n",
       "      <td>Winning Post 8 2016</td>\n",
       "      <td>PSV</td>\n",
       "      <td>2016.0</td>\n",
       "      <td>Simulation</td>\n",
       "      <td>0.00</td>\n",
       "      <td>0.00</td>\n",
       "      <td>0.01</td>\n",
       "      <td>0.00</td>\n",
       "      <td>NaN</td>\n",
       "      <td>NaN</td>\n",
       "      <td>NaN</td>\n",
       "    </tr>\n",
       "  </tbody>\n",
       "</table>\n",
       "<p>16715 rows × 11 columns</p>\n",
       "</div>"
      ],
      "text/plain": [
       "                                Name Platform  Year_of_Release         Genre  \\\n",
       "0                         Wii Sports      Wii           2006.0        Sports   \n",
       "1                  Super Mario Bros.      NES           1985.0      Platform   \n",
       "2                     Mario Kart Wii      Wii           2008.0        Racing   \n",
       "3                  Wii Sports Resort      Wii           2009.0        Sports   \n",
       "4           Pokemon Red/Pokemon Blue       GB           1996.0  Role-Playing   \n",
       "...                              ...      ...              ...           ...   \n",
       "16710  Samurai Warriors: Sanada Maru      PS3           2016.0        Action   \n",
       "16711               LMA Manager 2007     X360           2006.0        Sports   \n",
       "16712        Haitaka no Psychedelica      PSV           2016.0     Adventure   \n",
       "16713               Spirits & Spells      GBA           2003.0      Platform   \n",
       "16714            Winning Post 8 2016      PSV           2016.0    Simulation   \n",
       "\n",
       "       NA_sales  EU_sales  JP_sales  Other_sales  Critic_Score User_Score  \\\n",
       "0         41.36     28.96      3.77         8.45          76.0          8   \n",
       "1         29.08      3.58      6.81         0.77           NaN        NaN   \n",
       "2         15.68     12.76      3.79         3.29          82.0        8.3   \n",
       "3         15.61     10.93      3.28         2.95          80.0          8   \n",
       "4         11.27      8.89     10.22         1.00           NaN        NaN   \n",
       "...         ...       ...       ...          ...           ...        ...   \n",
       "16710      0.00      0.00      0.01         0.00           NaN        NaN   \n",
       "16711      0.00      0.01      0.00         0.00           NaN        NaN   \n",
       "16712      0.00      0.00      0.01         0.00           NaN        NaN   \n",
       "16713      0.01      0.00      0.00         0.00           NaN        NaN   \n",
       "16714      0.00      0.00      0.01         0.00           NaN        NaN   \n",
       "\n",
       "      Rating  \n",
       "0          E  \n",
       "1        NaN  \n",
       "2          E  \n",
       "3          E  \n",
       "4        NaN  \n",
       "...      ...  \n",
       "16710    NaN  \n",
       "16711    NaN  \n",
       "16712    NaN  \n",
       "16713    NaN  \n",
       "16714    NaN  \n",
       "\n",
       "[16715 rows x 11 columns]"
      ]
     },
     "metadata": {},
     "output_type": "display_data"
    }
   ],
   "source": [
    "display(data)"
   ]
  },
  {
   "cell_type": "markdown",
   "metadata": {},
   "source": [
    "Разделители распознаны корректно.<br>\n",
    "Имеются пропущенные и нулевые значения."
   ]
  },
  {
   "cell_type": "markdown",
   "metadata": {},
   "source": [
    "<a id='step11'></a>\n",
    "### Описание данных:\n",
    "Name — название игры<br>\n",
    "Platform — платформа<br>\n",
    "Year_of_Release — год выпуска<br>\n",
    "Genre — жанр игры<br>\n",
    "NA_sales — продажи в Северной Америке (миллионы проданных копий)<br>\n",
    "EU_sales — продажи в Европе (миллионы проданных копий)<br>\n",
    "JP_sales — продажи в Японии (миллионы проданных копий)<br>\n",
    "Other_sales — продажи в других странах (миллионы проданных копий)<br>\n",
    "Critic_Score — оценка критиков (максимум 100)<br>\n",
    "User_Score — оценка пользователей (максимум 10)<br>\n",
    "Rating — рейтинг от организации ESRB (англ. Entertainment Software Rating Board). Эта ассоциация определяет рейтинг компьютерных игр и присваивает им подходящую возрастную категорию.<br><br>"
   ]
  },
  {
   "cell_type": "code",
   "execution_count": 4,
   "metadata": {},
   "outputs": [
    {
     "name": "stdout",
     "output_type": "stream",
     "text": [
      "<class 'pandas.core.frame.DataFrame'>\n",
      "RangeIndex: 16715 entries, 0 to 16714\n",
      "Data columns (total 11 columns):\n",
      " #   Column           Non-Null Count  Dtype  \n",
      "---  ------           --------------  -----  \n",
      " 0   Name             16713 non-null  object \n",
      " 1   Platform         16715 non-null  object \n",
      " 2   Year_of_Release  16446 non-null  float64\n",
      " 3   Genre            16713 non-null  object \n",
      " 4   NA_sales         16715 non-null  float64\n",
      " 5   EU_sales         16715 non-null  float64\n",
      " 6   JP_sales         16715 non-null  float64\n",
      " 7   Other_sales      16715 non-null  float64\n",
      " 8   Critic_Score     8137 non-null   float64\n",
      " 9   User_Score       10014 non-null  object \n",
      " 10  Rating           9949 non-null   object \n",
      "dtypes: float64(6), object(5)\n",
      "memory usage: 1.4+ MB\n"
     ]
    }
   ],
   "source": [
    "data.info()"
   ]
  },
  {
   "cell_type": "markdown",
   "metadata": {},
   "source": [
    "Имеются пропуски в столбцах: Name, Year_of_Release, Genre, Critic_Score, User_Score, Rating.<br><br>\n",
    "Необходимо изменить типы данных в столбцах:\n",
    "1. Year_of_Release - на int (для года также подходит формат даты, однако int использовать удобнее);\n",
    "2. Critic_Score - на int (не требуется точность после запятой, т.к. в рейтинге 100 баллов)\n",
    "3. User_Score на float (предварительно, требуется анализ)"
   ]
  },
  {
   "cell_type": "code",
   "execution_count": 5,
   "metadata": {},
   "outputs": [
    {
     "data": {
      "text/plain": [
       "M       1563\n",
       "E       3990\n",
       "T       2961\n",
       "RP         3\n",
       "AO         1\n",
       "EC         8\n",
       "E10+    1420\n",
       "K-A        3\n",
       "Name: Rating, dtype: int64"
      ]
     },
     "execution_count": 5,
     "metadata": {},
     "output_type": "execute_result"
    }
   ],
   "source": [
    "data['Rating'].value_counts(sort=False)\n",
    "#вывожу уникальный значения рейтинга для проверки"
   ]
  },
  {
   "cell_type": "markdown",
   "metadata": {},
   "source": [
    "<strong>Расшифровка рейтинга ESRB</strong><br>\n",
    "Источники:<br>\n",
    "www.esrb.org/ratings-guide/<br>\n",
    "https://ru.wikipedia.org/wiki/Entertainment_Software_Rating_Board<br><br>\n",
    "\n",
    "EC -возраст 3+<br>\n",
    "E - возраст 6+ (или пользователи любого возраста)<br>\n",
    "K-A - возраст 6+(или пользователи любого возраста)<br>\n",
    "E10+ - возраст 10+<br>\n",
    "T - возраст 13+<br>\n",
    "M - возраст 17+<br>\n",
    "AO  - возраст 18+<br>\n",
    "RP - без рейтинга<br>\n",
    "\n",
    "\n",
    "\n"
   ]
  },
  {
   "cell_type": "code",
   "execution_count": 6,
   "metadata": {},
   "outputs": [
    {
     "name": "stdout",
     "output_type": "stream",
     "text": [
      "Всего дубликатов: 0\n"
     ]
    }
   ],
   "source": [
    "print('Всего дубликатов:',data.duplicated().sum())"
   ]
  },
  {
   "cell_type": "markdown",
   "metadata": {},
   "source": [
    "В датафрейме нет дубликатов."
   ]
  },
  {
   "cell_type": "markdown",
   "metadata": {},
   "source": [
    "<a id='conclusion1'></a>\n",
    "### Вывод 1"
   ]
  },
  {
   "cell_type": "markdown",
   "metadata": {},
   "source": [
    "В таблице 16715 строк и 11 колонок.<br><br>\n",
    "Имеются пропуски в столбцах: Name, Year_of_Release, Genre, Critic_Score, User_Score, Rating.<br><br>\n",
    "Необходимо изменить типы данных в столбцах:\n",
    "1. Year_of_Release - на int (считаю, что нет разницы в использовании date или );\n",
    "2. Critic_Score - на int (не требуется точность после запятой, т.к. в рейтинге 100 баллов)<br><br>\n",
    "\n",
    "В датафрейме нет дубликатов."
   ]
  },
  {
   "cell_type": "markdown",
   "metadata": {},
   "source": [
    "<a id='step2'></a>\n",
    "## Шаг 2. Подготовка данных\n",
    "<a href='#step21'>2.1 Замена названия столбцов</a><br><br>\n",
    "<a href='#step22'>2.2 Преобразование данных в нужные типы. Описание, в каких столбцах заменили тип данных и почему</a><br><br>\n",
    "<a href='#step23'>2.3 Обработка пропусков</a><br><br>\n",
    "<a href='#step24'>2.4 Расчёт суммарных продаж во всех регионах</a><br><br>\n",
    "<a href='#conclusion2'>Вывод 2</a><br>\n"
   ]
  },
  {
   "cell_type": "markdown",
   "metadata": {},
   "source": [
    "<a id='step21'></a>\n",
    "### 2.1 Замена названий столбцов"
   ]
  },
  {
   "cell_type": "code",
   "execution_count": 7,
   "metadata": {},
   "outputs": [],
   "source": [
    "data.columns = data.columns.str.lower() #привожу столбцы к нижнему регистру"
   ]
  },
  {
   "cell_type": "code",
   "execution_count": 8,
   "metadata": {},
   "outputs": [
    {
     "name": "stdout",
     "output_type": "stream",
     "text": [
      "<class 'pandas.core.frame.DataFrame'>\n",
      "RangeIndex: 16715 entries, 0 to 16714\n",
      "Data columns (total 11 columns):\n",
      " #   Column           Non-Null Count  Dtype  \n",
      "---  ------           --------------  -----  \n",
      " 0   name             16713 non-null  object \n",
      " 1   platform         16715 non-null  object \n",
      " 2   year_of_release  16446 non-null  float64\n",
      " 3   genre            16713 non-null  object \n",
      " 4   na_sales         16715 non-null  float64\n",
      " 5   eu_sales         16715 non-null  float64\n",
      " 6   jp_sales         16715 non-null  float64\n",
      " 7   other_sales      16715 non-null  float64\n",
      " 8   critic_score     8137 non-null   float64\n",
      " 9   user_score       10014 non-null  object \n",
      " 10  rating           9949 non-null   object \n",
      "dtypes: float64(6), object(5)\n",
      "memory usage: 1.4+ MB\n"
     ]
    }
   ],
   "source": [
    "data.info() #проверяю"
   ]
  },
  {
   "cell_type": "markdown",
   "metadata": {},
   "source": [
    "Привел названия столбцов к нижнему регистру"
   ]
  },
  {
   "cell_type": "markdown",
   "metadata": {},
   "source": [
    "<a id='step22'></a>\n",
    "### 2.2 Преобразование данных в нужные типы. Описание, в каких столбцах заменили тип данных и почему"
   ]
  },
  {
   "cell_type": "code",
   "execution_count": 9,
   "metadata": {},
   "outputs": [
    {
     "name": "stdout",
     "output_type": "stream",
     "text": [
      "Доля пропущенных значений о годе выпуска игры: 1.6 %\n"
     ]
    }
   ],
   "source": [
    "print('Доля пропущенных значений о годе выпуска игры:',((\n",
    "    data.year_of_release.isnull().sum()) / len(data) * 100).round(1),'%')\n",
    "#заменяю пустые значения на заведомо низкое 1900"
   ]
  },
  {
   "cell_type": "markdown",
   "metadata": {},
   "source": [
    "<a id='fillna1'></a>\n",
    "Функция astype не работает со значениями NaN.<br>\n",
    "Исходя из дальнейшего задания аналитика будет строиться на данных о дате релиза игры.<br>\n",
    "Соответственно, не имея таких значений, считаю некорректным дополнять их средними или любыми другими, сформулированными самостоятельно.<br><br>\n",
    "Доля пропущенных значений составляет 1.6%, что является незначительным количеством и может быть удалено.\n"
   ]
  },
  {
   "cell_type": "code",
   "execution_count": 10,
   "metadata": {},
   "outputs": [],
   "source": [
    "data = data.dropna(subset=['year_of_release'])"
   ]
  },
  {
   "cell_type": "markdown",
   "metadata": {},
   "source": [
    "Удаляю строки с пропусками данных о дате выхода игры (столбец year_of_release)"
   ]
  },
  {
   "cell_type": "code",
   "execution_count": 11,
   "metadata": {},
   "outputs": [],
   "source": [
    "data['year_of_release'] = data['year_of_release'].astype(int)"
   ]
  },
  {
   "cell_type": "markdown",
   "metadata": {},
   "source": [
    "Изменяю тип данных в столбце year_of_release на int."
   ]
  },
  {
   "cell_type": "markdown",
   "metadata": {},
   "source": [
    "Получаю новую таблицу с 16446 записями."
   ]
  },
  {
   "cell_type": "code",
   "execution_count": 12,
   "metadata": {},
   "outputs": [
    {
     "name": "stdout",
     "output_type": "stream",
     "text": [
      "13.0\n"
     ]
    }
   ],
   "source": [
    "print(data['critic_score'].min())"
   ]
  },
  {
   "cell_type": "markdown",
   "metadata": {},
   "source": [
    "<a id='fillna2'></a>\n",
    "Функция astype не работает со значениями NaN.<br>\n",
    "Соответстенно перед сменой типа данных в столбце critic_score необходимо заменить пропуски.<br>\n",
    "Минимальное значение в столбце составляет 13 баллов.<br>\n",
    "Считаю, что необходимо заменить пропуски на легко отличимое значени для дальнейшего использования фильтров.<br>\n",
    "\n"
   ]
  },
  {
   "cell_type": "code",
   "execution_count": 13,
   "metadata": {},
   "outputs": [],
   "source": [
    "data['critic_score'] = data['critic_score'].fillna(1)"
   ]
  },
  {
   "cell_type": "markdown",
   "metadata": {},
   "source": [
    "Заменяю пропуски в стобце critic_score на легко отличаемое значение 1 балл."
   ]
  },
  {
   "cell_type": "code",
   "execution_count": 14,
   "metadata": {},
   "outputs": [],
   "source": [
    "data['critic_score'] = data['critic_score'].astype(int)"
   ]
  },
  {
   "cell_type": "markdown",
   "metadata": {},
   "source": [
    "Изменяю тип данных в столбце critic_score на int."
   ]
  },
  {
   "cell_type": "code",
   "execution_count": 15,
   "metadata": {},
   "outputs": [
    {
     "name": "stdout",
     "output_type": "stream",
     "text": [
      "<class 'pandas.core.frame.DataFrame'>\n",
      "Int64Index: 16446 entries, 0 to 16714\n",
      "Data columns (total 11 columns):\n",
      " #   Column           Non-Null Count  Dtype  \n",
      "---  ------           --------------  -----  \n",
      " 0   name             16444 non-null  object \n",
      " 1   platform         16446 non-null  object \n",
      " 2   year_of_release  16446 non-null  int32  \n",
      " 3   genre            16444 non-null  object \n",
      " 4   na_sales         16446 non-null  float64\n",
      " 5   eu_sales         16446 non-null  float64\n",
      " 6   jp_sales         16446 non-null  float64\n",
      " 7   other_sales      16446 non-null  float64\n",
      " 8   critic_score     16446 non-null  int32  \n",
      " 9   user_score       9839 non-null   object \n",
      " 10  rating           9768 non-null   object \n",
      "dtypes: float64(4), int32(2), object(5)\n",
      "memory usage: 1.4+ MB\n"
     ]
    }
   ],
   "source": [
    "data.info() #проверяю корректность замен"
   ]
  },
  {
   "cell_type": "markdown",
   "metadata": {},
   "source": [
    "<a id='step23'></a>\n",
    "### 2.3 Обработка пропусков"
   ]
  },
  {
   "cell_type": "markdown",
   "metadata": {},
   "source": [
    "<font color=grey>Объясните, почему заполнили пропуски определённым образом или почему не стали это делать;<br>\n",
    "Опишите причины, которые могли привести к пропускам;<br>\n",
    "Обратите внимание на аббревиатуру 'tbd' в столбцах с рейтингом. Отдельно разберите это значение и опишите, как его обработать.</font>"
   ]
  },
  {
   "cell_type": "markdown",
   "metadata": {},
   "source": [
    "Пропуске в столбце year_of_release ранее были обработаны <a href='#fillna1'>здесь</a><br>\n",
    "Пропуске в столбце critic_score ранее были обработаны <a href='#fillna2'>здесь</a>\n"
   ]
  },
  {
   "cell_type": "code",
   "execution_count": 16,
   "metadata": {},
   "outputs": [],
   "source": [
    "data['name'] = data['name'].fillna('Unknown')\n",
    "data['genre'] = data['genre'].fillna('Unknown')"
   ]
  },
  {
   "cell_type": "markdown",
   "metadata": {},
   "source": [
    "В столбцах name и genre всего по 2 пропуска. Заменяю пропуски на значение \"Unknown\"."
   ]
  },
  {
   "cell_type": "code",
   "execution_count": 17,
   "metadata": {},
   "outputs": [],
   "source": [
    "data['rating'] = data['rating'].fillna('UNKN')"
   ]
  },
  {
   "cell_type": "markdown",
   "metadata": {},
   "source": [
    "В столбце rating большое количество пропусков, заменяю их на значение UNKN для дальнейшей сортировки при анализе этого показателя."
   ]
  },
  {
   "cell_type": "code",
   "execution_count": 18,
   "metadata": {},
   "outputs": [
    {
     "data": {
      "text/plain": [
       "tbd    2376\n",
       "7.8     322\n",
       "8       285\n",
       "8.2     276\n",
       "8.3     252\n",
       "       ... \n",
       "1.5       2\n",
       "1.3       2\n",
       "1.1       2\n",
       "9.7       1\n",
       "0         1\n",
       "Name: user_score, Length: 96, dtype: int64"
      ]
     },
     "execution_count": 18,
     "metadata": {},
     "output_type": "execute_result"
    }
   ],
   "source": [
    "data['user_score'].value_counts(sort=True)\n",
    "#вывожу список уникальных значений, чтобы убедиться, что есть tbd"
   ]
  },
  {
   "cell_type": "markdown",
   "metadata": {},
   "source": [
    "В столбце user_score есть значение tbd.<br>\n",
    "Согласно определению кембриджского словаря:<br>\n",
    "https://dictionary.cambridge.org/ru/%D1%81%D0%BB%D0%BE%D0%B2%D0%B0%D1%80%D1%8C/%D0%B0%D0%BD%D0%B3%D0%BB%D0%B8%D0%B9%D1%81%D0%BA%D0%B8%D0%B9/tbd<br>\n",
    "Оно означает, что пользователь ещё не определился с решением.<br><br>\n",
    "Соответственно и пропуски, и tbd можно заменить на универсальное значение, которое будет легко отсеять на сортировке."
   ]
  },
  {
   "cell_type": "code",
   "execution_count": 19,
   "metadata": {},
   "outputs": [],
   "source": [
    "data['user_score'] = data['user_score'].str.replace('tbd', '100') #заменяю tbd"
   ]
  },
  {
   "cell_type": "code",
   "execution_count": 20,
   "metadata": {},
   "outputs": [],
   "source": [
    "data['user_score'] = data['user_score'].fillna(100) #заполняю пропуски"
   ]
  },
  {
   "cell_type": "markdown",
   "metadata": {},
   "source": [
    "Заполняю пропуски и заменяю значение tbd на значение 100, которое заведомо выше максимальной оценки и может быть легко отсортировано."
   ]
  },
  {
   "cell_type": "code",
   "execution_count": 21,
   "metadata": {},
   "outputs": [],
   "source": [
    "data['user_score'] = data['user_score'].astype(float)"
   ]
  },
  {
   "cell_type": "code",
   "execution_count": 22,
   "metadata": {
    "scrolled": true
   },
   "outputs": [
    {
     "name": "stdout",
     "output_type": "stream",
     "text": [
      "<class 'pandas.core.frame.DataFrame'>\n",
      "Int64Index: 16446 entries, 0 to 16714\n",
      "Data columns (total 11 columns):\n",
      " #   Column           Non-Null Count  Dtype  \n",
      "---  ------           --------------  -----  \n",
      " 0   name             16446 non-null  object \n",
      " 1   platform         16446 non-null  object \n",
      " 2   year_of_release  16446 non-null  int32  \n",
      " 3   genre            16446 non-null  object \n",
      " 4   na_sales         16446 non-null  float64\n",
      " 5   eu_sales         16446 non-null  float64\n",
      " 6   jp_sales         16446 non-null  float64\n",
      " 7   other_sales      16446 non-null  float64\n",
      " 8   critic_score     16446 non-null  int32  \n",
      " 9   user_score       16446 non-null  float64\n",
      " 10  rating           16446 non-null  object \n",
      "dtypes: float64(5), int32(2), object(4)\n",
      "memory usage: 1.4+ MB\n"
     ]
    }
   ],
   "source": [
    "data.info() #проверяю"
   ]
  },
  {
   "cell_type": "markdown",
   "metadata": {},
   "source": [
    "<a id='step24'></a>\n",
    "### 2.4  Расчёт суммарных продаж во всех регионах"
   ]
  },
  {
   "cell_type": "code",
   "execution_count": 23,
   "metadata": {},
   "outputs": [],
   "source": [
    "data['total_sales'] = data['na_sales'] + data['eu_sales'] + data['jp_sales'] + data['other_sales']"
   ]
  },
  {
   "cell_type": "markdown",
   "metadata": {},
   "source": [
    "Добавляю столбец total_sales с суммарными продажами по всем регионам."
   ]
  },
  {
   "cell_type": "code",
   "execution_count": 24,
   "metadata": {},
   "outputs": [
    {
     "data": {
      "text/html": [
       "<div>\n",
       "<style scoped>\n",
       "    .dataframe tbody tr th:only-of-type {\n",
       "        vertical-align: middle;\n",
       "    }\n",
       "\n",
       "    .dataframe tbody tr th {\n",
       "        vertical-align: top;\n",
       "    }\n",
       "\n",
       "    .dataframe thead th {\n",
       "        text-align: right;\n",
       "    }\n",
       "</style>\n",
       "<table border=\"1\" class=\"dataframe\">\n",
       "  <thead>\n",
       "    <tr style=\"text-align: right;\">\n",
       "      <th></th>\n",
       "      <th>name</th>\n",
       "      <th>platform</th>\n",
       "      <th>year_of_release</th>\n",
       "      <th>genre</th>\n",
       "      <th>na_sales</th>\n",
       "      <th>eu_sales</th>\n",
       "      <th>jp_sales</th>\n",
       "      <th>other_sales</th>\n",
       "      <th>critic_score</th>\n",
       "      <th>user_score</th>\n",
       "      <th>rating</th>\n",
       "      <th>total_sales</th>\n",
       "    </tr>\n",
       "  </thead>\n",
       "  <tbody>\n",
       "    <tr>\n",
       "      <th>0</th>\n",
       "      <td>Wii Sports</td>\n",
       "      <td>Wii</td>\n",
       "      <td>2006</td>\n",
       "      <td>Sports</td>\n",
       "      <td>41.36</td>\n",
       "      <td>28.96</td>\n",
       "      <td>3.77</td>\n",
       "      <td>8.45</td>\n",
       "      <td>76</td>\n",
       "      <td>8.0</td>\n",
       "      <td>E</td>\n",
       "      <td>82.54</td>\n",
       "    </tr>\n",
       "    <tr>\n",
       "      <th>1</th>\n",
       "      <td>Super Mario Bros.</td>\n",
       "      <td>NES</td>\n",
       "      <td>1985</td>\n",
       "      <td>Platform</td>\n",
       "      <td>29.08</td>\n",
       "      <td>3.58</td>\n",
       "      <td>6.81</td>\n",
       "      <td>0.77</td>\n",
       "      <td>1</td>\n",
       "      <td>100.0</td>\n",
       "      <td>UNKN</td>\n",
       "      <td>40.24</td>\n",
       "    </tr>\n",
       "    <tr>\n",
       "      <th>2</th>\n",
       "      <td>Mario Kart Wii</td>\n",
       "      <td>Wii</td>\n",
       "      <td>2008</td>\n",
       "      <td>Racing</td>\n",
       "      <td>15.68</td>\n",
       "      <td>12.76</td>\n",
       "      <td>3.79</td>\n",
       "      <td>3.29</td>\n",
       "      <td>82</td>\n",
       "      <td>8.3</td>\n",
       "      <td>E</td>\n",
       "      <td>35.52</td>\n",
       "    </tr>\n",
       "    <tr>\n",
       "      <th>3</th>\n",
       "      <td>Wii Sports Resort</td>\n",
       "      <td>Wii</td>\n",
       "      <td>2009</td>\n",
       "      <td>Sports</td>\n",
       "      <td>15.61</td>\n",
       "      <td>10.93</td>\n",
       "      <td>3.28</td>\n",
       "      <td>2.95</td>\n",
       "      <td>80</td>\n",
       "      <td>8.0</td>\n",
       "      <td>E</td>\n",
       "      <td>32.77</td>\n",
       "    </tr>\n",
       "    <tr>\n",
       "      <th>4</th>\n",
       "      <td>Pokemon Red/Pokemon Blue</td>\n",
       "      <td>GB</td>\n",
       "      <td>1996</td>\n",
       "      <td>Role-Playing</td>\n",
       "      <td>11.27</td>\n",
       "      <td>8.89</td>\n",
       "      <td>10.22</td>\n",
       "      <td>1.00</td>\n",
       "      <td>1</td>\n",
       "      <td>100.0</td>\n",
       "      <td>UNKN</td>\n",
       "      <td>31.38</td>\n",
       "    </tr>\n",
       "    <tr>\n",
       "      <th>...</th>\n",
       "      <td>...</td>\n",
       "      <td>...</td>\n",
       "      <td>...</td>\n",
       "      <td>...</td>\n",
       "      <td>...</td>\n",
       "      <td>...</td>\n",
       "      <td>...</td>\n",
       "      <td>...</td>\n",
       "      <td>...</td>\n",
       "      <td>...</td>\n",
       "      <td>...</td>\n",
       "      <td>...</td>\n",
       "    </tr>\n",
       "    <tr>\n",
       "      <th>16710</th>\n",
       "      <td>Samurai Warriors: Sanada Maru</td>\n",
       "      <td>PS3</td>\n",
       "      <td>2016</td>\n",
       "      <td>Action</td>\n",
       "      <td>0.00</td>\n",
       "      <td>0.00</td>\n",
       "      <td>0.01</td>\n",
       "      <td>0.00</td>\n",
       "      <td>1</td>\n",
       "      <td>100.0</td>\n",
       "      <td>UNKN</td>\n",
       "      <td>0.01</td>\n",
       "    </tr>\n",
       "    <tr>\n",
       "      <th>16711</th>\n",
       "      <td>LMA Manager 2007</td>\n",
       "      <td>X360</td>\n",
       "      <td>2006</td>\n",
       "      <td>Sports</td>\n",
       "      <td>0.00</td>\n",
       "      <td>0.01</td>\n",
       "      <td>0.00</td>\n",
       "      <td>0.00</td>\n",
       "      <td>1</td>\n",
       "      <td>100.0</td>\n",
       "      <td>UNKN</td>\n",
       "      <td>0.01</td>\n",
       "    </tr>\n",
       "    <tr>\n",
       "      <th>16712</th>\n",
       "      <td>Haitaka no Psychedelica</td>\n",
       "      <td>PSV</td>\n",
       "      <td>2016</td>\n",
       "      <td>Adventure</td>\n",
       "      <td>0.00</td>\n",
       "      <td>0.00</td>\n",
       "      <td>0.01</td>\n",
       "      <td>0.00</td>\n",
       "      <td>1</td>\n",
       "      <td>100.0</td>\n",
       "      <td>UNKN</td>\n",
       "      <td>0.01</td>\n",
       "    </tr>\n",
       "    <tr>\n",
       "      <th>16713</th>\n",
       "      <td>Spirits &amp; Spells</td>\n",
       "      <td>GBA</td>\n",
       "      <td>2003</td>\n",
       "      <td>Platform</td>\n",
       "      <td>0.01</td>\n",
       "      <td>0.00</td>\n",
       "      <td>0.00</td>\n",
       "      <td>0.00</td>\n",
       "      <td>1</td>\n",
       "      <td>100.0</td>\n",
       "      <td>UNKN</td>\n",
       "      <td>0.01</td>\n",
       "    </tr>\n",
       "    <tr>\n",
       "      <th>16714</th>\n",
       "      <td>Winning Post 8 2016</td>\n",
       "      <td>PSV</td>\n",
       "      <td>2016</td>\n",
       "      <td>Simulation</td>\n",
       "      <td>0.00</td>\n",
       "      <td>0.00</td>\n",
       "      <td>0.01</td>\n",
       "      <td>0.00</td>\n",
       "      <td>1</td>\n",
       "      <td>100.0</td>\n",
       "      <td>UNKN</td>\n",
       "      <td>0.01</td>\n",
       "    </tr>\n",
       "  </tbody>\n",
       "</table>\n",
       "<p>16446 rows × 12 columns</p>\n",
       "</div>"
      ],
      "text/plain": [
       "                                name platform  year_of_release         genre  \\\n",
       "0                         Wii Sports      Wii             2006        Sports   \n",
       "1                  Super Mario Bros.      NES             1985      Platform   \n",
       "2                     Mario Kart Wii      Wii             2008        Racing   \n",
       "3                  Wii Sports Resort      Wii             2009        Sports   \n",
       "4           Pokemon Red/Pokemon Blue       GB             1996  Role-Playing   \n",
       "...                              ...      ...              ...           ...   \n",
       "16710  Samurai Warriors: Sanada Maru      PS3             2016        Action   \n",
       "16711               LMA Manager 2007     X360             2006        Sports   \n",
       "16712        Haitaka no Psychedelica      PSV             2016     Adventure   \n",
       "16713               Spirits & Spells      GBA             2003      Platform   \n",
       "16714            Winning Post 8 2016      PSV             2016    Simulation   \n",
       "\n",
       "       na_sales  eu_sales  jp_sales  other_sales  critic_score  user_score  \\\n",
       "0         41.36     28.96      3.77         8.45            76         8.0   \n",
       "1         29.08      3.58      6.81         0.77             1       100.0   \n",
       "2         15.68     12.76      3.79         3.29            82         8.3   \n",
       "3         15.61     10.93      3.28         2.95            80         8.0   \n",
       "4         11.27      8.89     10.22         1.00             1       100.0   \n",
       "...         ...       ...       ...          ...           ...         ...   \n",
       "16710      0.00      0.00      0.01         0.00             1       100.0   \n",
       "16711      0.00      0.01      0.00         0.00             1       100.0   \n",
       "16712      0.00      0.00      0.01         0.00             1       100.0   \n",
       "16713      0.01      0.00      0.00         0.00             1       100.0   \n",
       "16714      0.00      0.00      0.01         0.00             1       100.0   \n",
       "\n",
       "      rating  total_sales  \n",
       "0          E        82.54  \n",
       "1       UNKN        40.24  \n",
       "2          E        35.52  \n",
       "3          E        32.77  \n",
       "4       UNKN        31.38  \n",
       "...      ...          ...  \n",
       "16710   UNKN         0.01  \n",
       "16711   UNKN         0.01  \n",
       "16712   UNKN         0.01  \n",
       "16713   UNKN         0.01  \n",
       "16714   UNKN         0.01  \n",
       "\n",
       "[16446 rows x 12 columns]"
      ]
     },
     "metadata": {},
     "output_type": "display_data"
    }
   ],
   "source": [
    "display(data) #проверяю таблицу после обработки"
   ]
  },
  {
   "cell_type": "markdown",
   "metadata": {},
   "source": [
    "<a id='conclusion2'></a>\n",
    "### Вывод 2"
   ]
  },
  {
   "cell_type": "markdown",
   "metadata": {},
   "source": [
    "Названия столбцов были приведены к нижнему регистру.<br><br>\n",
    "В столбце year_of_release были удалены строки с пропусками, тип данных изменен на int.<br>\n",
    "В столбце critic_score пропуски были заменены на значение 1, тип данных изменен на int.<br>\n",
    "В столбцах name, genre и rating пропуски были заменены на универсальное значение, которое можно использовать при сортировке (Unknown, UNKN).<br>\n",
    "В столбце user_score пропуски и значение tbd были заменены на значение 100, заведомо выше максимального. Тип данных был изменен на float (т.к. требуется точность после запятой).<br>\n",
    "<br>\n",
    "В столбце total_sales были посчитаны суммарные продажи во всех регионах."
   ]
  },
  {
   "cell_type": "markdown",
   "metadata": {},
   "source": [
    "<a id='step3'></a>\n",
    "## Шаг 3. Исследовательский анализ данных\n",
    "\n",
    "<a href='#step31'>3.1 Сколько игр выпускалось в разные годы. Важны ли данные за все периоды?</a><br><br>\n",
    "<a href='#step32'>3.2 Как менялись продажи по платформам. Платформы с наибольшими суммарными продажами. Характерный срок, за который появляются новые и исчезают старые платформы?</a><br><br>\n",
    "<a href='#step33'>3.3 Актуальный период данных</a><br><br>\n",
    "<a href='#step34'>3.4 Какие платформы лидируют по продажам, растут или падают?</a><br><br>\n",
    "<a href='#step35'>3.5 График «ящик с усами» по глобальным продажам игр в разбивке по платформам</a><br><br>\n",
    "<a href='#step36'>3.6 Как влияют на продажи внутри одной популярной платформы отзывы пользователей и критиков. Диаграмма рассеяния и корреляция между отзывами и продажами. Выводы</a><br><br>\n",
    "<a href='#step37'>3.7 Выводы с продажами игр на других платформах</a><br><br>\n",
    "<a href='#step38'>3.8 Общее распределение игр по жанрам. Самые прибыльные жанры</a><br><br>\n",
    "<a href='#conclusion3'>Вывод 3</a><br>\n"
   ]
  },
  {
   "cell_type": "markdown",
   "metadata": {},
   "source": [
    "<a id='step31'></a>\n",
    "### 3.1 Сколько игр выпускалось в разные годы. Важны ли данные за все периоды?"
   ]
  },
  {
   "cell_type": "code",
   "execution_count": 25,
   "metadata": {},
   "outputs": [],
   "source": [
    "x_bins = data['year_of_release'].max() - data['year_of_release'].min()\n",
    "#рассчитываю необходимое количество корзин"
   ]
  },
  {
   "cell_type": "code",
   "execution_count": 26,
   "metadata": {},
   "outputs": [
    {
     "data": {
      "image/png": "[encoded data removed]",
      "text/plain": [
       "<Figure size 1440x720 with 1 Axes>"
      ]
     },
     "metadata": {
      "needs_background": "light"
     },
     "output_type": "display_data"
    }
   ],
   "source": [
    "data['year_of_release'].hist(grid=True, figsize=(20, 10), bins=x_bins) #строю гистраграмму\n",
    "plt.ylabel('Млн. копий')\n",
    "plt.xlabel('Год выхода игры')\n",
    "plt.title('Выпуск игр по годам');"
   ]
  },
  {
   "cell_type": "markdown",
   "metadata": {},
   "source": [
    "Устойчивый рост выпусков игр наблюдаю с 1994 года.<br><br>\n",
    "Предварительно, для рассмотрения важны данные с 2006 года по следующим причинам:\n",
    "1. В этом году количество выпусков впервые превысило 1000 штук;\n",
    "2. Данные, старше 10 лет могут быть не актуальны для прогноза."
   ]
  },
  {
   "cell_type": "markdown",
   "metadata": {},
   "source": [
    "<a id='step32'></a>\n",
    "### 3.2 Как менялись продажи по платформам. Платформы с наибольшими суммарными продажами. Характерный срок, за который появляются новые и исчезают старые платформы"
   ]
  },
  {
   "cell_type": "code",
   "execution_count": 27,
   "metadata": {},
   "outputs": [
    {
     "name": "stdout",
     "output_type": "stream",
     "text": [
      "platform\n",
      "PS2     1233.56\n",
      "X360     961.24\n",
      "PS3      931.34\n",
      "Wii      891.18\n",
      "DS       802.78\n",
      "PS       727.58\n",
      "PS4      314.14\n",
      "GBA      312.88\n",
      "PSP      289.53\n",
      "3DS      257.81\n",
      "PC       255.76\n",
      "GB       254.43\n",
      "XB       251.57\n",
      "NES      251.05\n",
      "N64      218.01\n",
      "SNES     200.04\n",
      "GC       196.73\n",
      "XOne     159.32\n",
      "2600      86.48\n",
      "WiiU      82.19\n",
      "PSV       53.81\n",
      "SAT       33.59\n",
      "GEN       30.77\n",
      "DC        15.95\n",
      "SCD        1.86\n",
      "NG         1.44\n",
      "WS         1.42\n",
      "TG16       0.16\n",
      "3DO        0.10\n",
      "GG         0.04\n",
      "PCFX       0.03\n",
      "Name: total_sales, dtype: float64\n"
     ]
    }
   ],
   "source": [
    "print(data.groupby('platform')['total_sales'].sum().sort_values(ascending=False))"
   ]
  },
  {
   "cell_type": "markdown",
   "metadata": {},
   "source": [
    "Вывожу информацию по суммарным продажам игр за все периоды, определяю топовые платформы."
   ]
  },
  {
   "cell_type": "code",
   "execution_count": 28,
   "metadata": {},
   "outputs": [],
   "source": [
    "top_platforms = pd.Series(['PS2', 'X360', 'PS3', 'Wii', 'DS', 'PS', 'PS4', 'GBA', 'PSP', '3DS'])"
   ]
  },
  {
   "cell_type": "markdown",
   "metadata": {},
   "source": [
    "Создаю массив с данными о 10 топовых платформах по продажам."
   ]
  },
  {
   "cell_type": "code",
   "execution_count": 29,
   "metadata": {
    "scrolled": false
   },
   "outputs": [
    {
     "name": "stdout",
     "output_type": "stream",
     "text": [
      "Продажи игр на платформе PS2\n"
     ]
    },
    {
     "data": {
      "image/png": "[encoded data removed]",
      "text/plain": [
       "<Figure size 720x360 with 1 Axes>"
      ]
     },
     "metadata": {
      "needs_background": "light"
     },
     "output_type": "display_data"
    },
    {
     "name": "stdout",
     "output_type": "stream",
     "text": [
      "Продажи игр на платформе X360\n"
     ]
    },
    {
     "data": {
      "image/png": "[encoded data removed]",
      "text/plain": [
       "<Figure size 720x360 with 1 Axes>"
      ]
     },
     "metadata": {
      "needs_background": "light"
     },
     "output_type": "display_data"
    },
    {
     "name": "stdout",
     "output_type": "stream",
     "text": [
      "Продажи игр на платформе PS3\n"
     ]
    },
    {
     "data": {
      "image/png": "[encoded data removed]",
      "text/plain": [
       "<Figure size 720x360 with 1 Axes>"
      ]
     },
     "metadata": {
      "needs_background": "light"
     },
     "output_type": "display_data"
    },
    {
     "name": "stdout",
     "output_type": "stream",
     "text": [
      "Продажи игр на платформе Wii\n"
     ]
    },
    {
     "data": {
      "image/png": "[encoded data removed]",
      "text/plain": [
       "<Figure size 720x360 with 1 Axes>"
      ]
     },
     "metadata": {
      "needs_background": "light"
     },
     "output_type": "display_data"
    },
    {
     "name": "stdout",
     "output_type": "stream",
     "text": [
      "Продажи игр на платформе DS\n"
     ]
    },
    {
     "data": {
      "image/png": "[encoded data removed]",
      "text/plain": [
       "<Figure size 720x360 with 1 Axes>"
      ]
     },
     "metadata": {
      "needs_background": "light"
     },
     "output_type": "display_data"
    },
    {
     "name": "stdout",
     "output_type": "stream",
     "text": [
      "Продажи игр на платформе PS\n"
     ]
    },
    {
     "data": {
      "image/png": "[encoded data removed]",
      "text/plain": [
       "<Figure size 720x360 with 1 Axes>"
      ]
     },
     "metadata": {
      "needs_background": "light"
     },
     "output_type": "display_data"
    },
    {
     "name": "stdout",
     "output_type": "stream",
     "text": [
      "Продажи игр на платформе PS4\n"
     ]
    },
    {
     "data": {
      "image/png": "[encoded data removed]",
      "text/plain": [
       "<Figure size 720x360 with 1 Axes>"
      ]
     },
     "metadata": {
      "needs_background": "light"
     },
     "output_type": "display_data"
    },
    {
     "name": "stdout",
     "output_type": "stream",
     "text": [
      "Продажи игр на платформе GBA\n"
     ]
    },
    {
     "data": {
      "image/png": "[encoded data removed]",
      "text/plain": [
       "<Figure size 720x360 with 1 Axes>"
      ]
     },
     "metadata": {
      "needs_background": "light"
     },
     "output_type": "display_data"
    },
    {
     "name": "stdout",
     "output_type": "stream",
     "text": [
      "Продажи игр на платформе PSP\n"
     ]
    },
    {
     "data": {
      "image/png": "[encoded data removed]",
      "text/plain": [
       "<Figure size 720x360 with 1 Axes>"
      ]
     },
     "metadata": {
      "needs_background": "light"
     },
     "output_type": "display_data"
    },
    {
     "name": "stdout",
     "output_type": "stream",
     "text": [
      "Продажи игр на платформе 3DS\n"
     ]
    },
    {
     "data": {
      "image/png": "[encoded data removed]",
      "text/plain": [
       "<Figure size 720x360 with 1 Axes>"
      ]
     },
     "metadata": {
      "needs_background": "light"
     },
     "output_type": "display_data"
    }
   ],
   "source": [
    "for platform_name in top_platforms: #строю графики для всех платформ, входящих в массив\n",
    "    print('Продажи игр на платформе', platform_name)\n",
    "    data.query('platform == @platform_name').groupby('year_of_release')['total_sales'].sum().plot(\n",
    "        figsize=(10, 5), kind='bar')\n",
    "    plt.ylabel('Млн. копий')\n",
    "    plt.xlabel('Год выхода игры')\n",
    "    plt.show()\n",
    "    "
   ]
  },
  {
   "cell_type": "markdown",
   "metadata": {},
   "source": [
    "По графикам на основе анализа топовых платформ делаю вывод, что средний срок существования платформы 8-12 лет.<br>\n",
    "При этом существует характерный рост доходов от платформы, пик и снижение."
   ]
  },
  {
   "cell_type": "markdown",
   "metadata": {},
   "source": [
    "<a id='step33'></a>\n",
    "### 3.3 Актуальный период данных"
   ]
  },
  {
   "cell_type": "code",
   "execution_count": 30,
   "metadata": {},
   "outputs": [
    {
     "data": {
      "text/html": [
       "<div>\n",
       "<style scoped>\n",
       "    .dataframe tbody tr th:only-of-type {\n",
       "        vertical-align: middle;\n",
       "    }\n",
       "\n",
       "    .dataframe tbody tr th {\n",
       "        vertical-align: top;\n",
       "    }\n",
       "\n",
       "    .dataframe thead th {\n",
       "        text-align: right;\n",
       "    }\n",
       "</style>\n",
       "<table border=\"1\" class=\"dataframe\">\n",
       "  <thead>\n",
       "    <tr style=\"text-align: right;\">\n",
       "      <th>platform</th>\n",
       "      <th>3DS</th>\n",
       "      <th>DC</th>\n",
       "      <th>DS</th>\n",
       "      <th>GBA</th>\n",
       "      <th>GC</th>\n",
       "      <th>PC</th>\n",
       "      <th>PS2</th>\n",
       "      <th>PS3</th>\n",
       "      <th>PS4</th>\n",
       "      <th>PSP</th>\n",
       "      <th>PSV</th>\n",
       "      <th>Wii</th>\n",
       "      <th>WiiU</th>\n",
       "      <th>X360</th>\n",
       "      <th>XB</th>\n",
       "      <th>XOne</th>\n",
       "    </tr>\n",
       "    <tr>\n",
       "      <th>year_of_release</th>\n",
       "      <th></th>\n",
       "      <th></th>\n",
       "      <th></th>\n",
       "      <th></th>\n",
       "      <th></th>\n",
       "      <th></th>\n",
       "      <th></th>\n",
       "      <th></th>\n",
       "      <th></th>\n",
       "      <th></th>\n",
       "      <th></th>\n",
       "      <th></th>\n",
       "      <th></th>\n",
       "      <th></th>\n",
       "      <th></th>\n",
       "      <th></th>\n",
       "    </tr>\n",
       "  </thead>\n",
       "  <tbody>\n",
       "    <tr>\n",
       "      <th>2005</th>\n",
       "      <td>NaN</td>\n",
       "      <td>NaN</td>\n",
       "      <td>130.14</td>\n",
       "      <td>33.86</td>\n",
       "      <td>27.62</td>\n",
       "      <td>4.37</td>\n",
       "      <td>160.66</td>\n",
       "      <td>NaN</td>\n",
       "      <td>NaN</td>\n",
       "      <td>43.84</td>\n",
       "      <td>NaN</td>\n",
       "      <td>NaN</td>\n",
       "      <td>NaN</td>\n",
       "      <td>8.25</td>\n",
       "      <td>49.08</td>\n",
       "      <td>NaN</td>\n",
       "    </tr>\n",
       "    <tr>\n",
       "      <th>2006</th>\n",
       "      <td>NaN</td>\n",
       "      <td>NaN</td>\n",
       "      <td>119.81</td>\n",
       "      <td>5.28</td>\n",
       "      <td>11.26</td>\n",
       "      <td>2.85</td>\n",
       "      <td>103.42</td>\n",
       "      <td>20.96</td>\n",
       "      <td>NaN</td>\n",
       "      <td>55.32</td>\n",
       "      <td>NaN</td>\n",
       "      <td>137.15</td>\n",
       "      <td>NaN</td>\n",
       "      <td>51.62</td>\n",
       "      <td>10.04</td>\n",
       "      <td>NaN</td>\n",
       "    </tr>\n",
       "    <tr>\n",
       "      <th>2007</th>\n",
       "      <td>NaN</td>\n",
       "      <td>0.02</td>\n",
       "      <td>146.94</td>\n",
       "      <td>3.40</td>\n",
       "      <td>0.27</td>\n",
       "      <td>9.28</td>\n",
       "      <td>75.99</td>\n",
       "      <td>73.19</td>\n",
       "      <td>NaN</td>\n",
       "      <td>46.93</td>\n",
       "      <td>NaN</td>\n",
       "      <td>152.77</td>\n",
       "      <td>NaN</td>\n",
       "      <td>95.41</td>\n",
       "      <td>0.55</td>\n",
       "      <td>NaN</td>\n",
       "    </tr>\n",
       "    <tr>\n",
       "      <th>2008</th>\n",
       "      <td>NaN</td>\n",
       "      <td>0.04</td>\n",
       "      <td>145.31</td>\n",
       "      <td>NaN</td>\n",
       "      <td>NaN</td>\n",
       "      <td>12.42</td>\n",
       "      <td>53.90</td>\n",
       "      <td>118.52</td>\n",
       "      <td>NaN</td>\n",
       "      <td>34.55</td>\n",
       "      <td>NaN</td>\n",
       "      <td>171.32</td>\n",
       "      <td>NaN</td>\n",
       "      <td>135.26</td>\n",
       "      <td>0.18</td>\n",
       "      <td>NaN</td>\n",
       "    </tr>\n",
       "    <tr>\n",
       "      <th>2009</th>\n",
       "      <td>NaN</td>\n",
       "      <td>NaN</td>\n",
       "      <td>119.54</td>\n",
       "      <td>NaN</td>\n",
       "      <td>NaN</td>\n",
       "      <td>16.91</td>\n",
       "      <td>26.40</td>\n",
       "      <td>130.93</td>\n",
       "      <td>NaN</td>\n",
       "      <td>37.78</td>\n",
       "      <td>NaN</td>\n",
       "      <td>206.97</td>\n",
       "      <td>NaN</td>\n",
       "      <td>120.29</td>\n",
       "      <td>NaN</td>\n",
       "      <td>NaN</td>\n",
       "    </tr>\n",
       "    <tr>\n",
       "      <th>2010</th>\n",
       "      <td>NaN</td>\n",
       "      <td>NaN</td>\n",
       "      <td>85.02</td>\n",
       "      <td>NaN</td>\n",
       "      <td>NaN</td>\n",
       "      <td>24.28</td>\n",
       "      <td>5.64</td>\n",
       "      <td>142.17</td>\n",
       "      <td>NaN</td>\n",
       "      <td>35.04</td>\n",
       "      <td>NaN</td>\n",
       "      <td>127.95</td>\n",
       "      <td>NaN</td>\n",
       "      <td>170.03</td>\n",
       "      <td>NaN</td>\n",
       "      <td>NaN</td>\n",
       "    </tr>\n",
       "    <tr>\n",
       "      <th>2011</th>\n",
       "      <td>63.20</td>\n",
       "      <td>NaN</td>\n",
       "      <td>26.18</td>\n",
       "      <td>NaN</td>\n",
       "      <td>NaN</td>\n",
       "      <td>35.03</td>\n",
       "      <td>0.45</td>\n",
       "      <td>156.78</td>\n",
       "      <td>NaN</td>\n",
       "      <td>17.82</td>\n",
       "      <td>4.63</td>\n",
       "      <td>59.65</td>\n",
       "      <td>NaN</td>\n",
       "      <td>143.84</td>\n",
       "      <td>NaN</td>\n",
       "      <td>NaN</td>\n",
       "    </tr>\n",
       "    <tr>\n",
       "      <th>2012</th>\n",
       "      <td>51.36</td>\n",
       "      <td>NaN</td>\n",
       "      <td>11.01</td>\n",
       "      <td>NaN</td>\n",
       "      <td>NaN</td>\n",
       "      <td>23.22</td>\n",
       "      <td>NaN</td>\n",
       "      <td>107.36</td>\n",
       "      <td>NaN</td>\n",
       "      <td>7.69</td>\n",
       "      <td>16.19</td>\n",
       "      <td>21.71</td>\n",
       "      <td>17.56</td>\n",
       "      <td>99.74</td>\n",
       "      <td>NaN</td>\n",
       "      <td>NaN</td>\n",
       "    </tr>\n",
       "    <tr>\n",
       "      <th>2013</th>\n",
       "      <td>56.57</td>\n",
       "      <td>NaN</td>\n",
       "      <td>1.54</td>\n",
       "      <td>NaN</td>\n",
       "      <td>NaN</td>\n",
       "      <td>12.38</td>\n",
       "      <td>NaN</td>\n",
       "      <td>113.25</td>\n",
       "      <td>25.99</td>\n",
       "      <td>3.14</td>\n",
       "      <td>10.59</td>\n",
       "      <td>8.59</td>\n",
       "      <td>21.65</td>\n",
       "      <td>88.58</td>\n",
       "      <td>NaN</td>\n",
       "      <td>18.96</td>\n",
       "    </tr>\n",
       "    <tr>\n",
       "      <th>2014</th>\n",
       "      <td>43.76</td>\n",
       "      <td>NaN</td>\n",
       "      <td>NaN</td>\n",
       "      <td>NaN</td>\n",
       "      <td>NaN</td>\n",
       "      <td>13.28</td>\n",
       "      <td>NaN</td>\n",
       "      <td>47.76</td>\n",
       "      <td>100.00</td>\n",
       "      <td>0.24</td>\n",
       "      <td>11.90</td>\n",
       "      <td>3.75</td>\n",
       "      <td>22.03</td>\n",
       "      <td>34.74</td>\n",
       "      <td>NaN</td>\n",
       "      <td>54.07</td>\n",
       "    </tr>\n",
       "    <tr>\n",
       "      <th>2015</th>\n",
       "      <td>27.78</td>\n",
       "      <td>NaN</td>\n",
       "      <td>NaN</td>\n",
       "      <td>NaN</td>\n",
       "      <td>NaN</td>\n",
       "      <td>8.52</td>\n",
       "      <td>NaN</td>\n",
       "      <td>16.82</td>\n",
       "      <td>118.90</td>\n",
       "      <td>0.12</td>\n",
       "      <td>6.25</td>\n",
       "      <td>1.14</td>\n",
       "      <td>16.35</td>\n",
       "      <td>11.96</td>\n",
       "      <td>NaN</td>\n",
       "      <td>60.14</td>\n",
       "    </tr>\n",
       "    <tr>\n",
       "      <th>2016</th>\n",
       "      <td>15.14</td>\n",
       "      <td>NaN</td>\n",
       "      <td>NaN</td>\n",
       "      <td>NaN</td>\n",
       "      <td>NaN</td>\n",
       "      <td>5.25</td>\n",
       "      <td>NaN</td>\n",
       "      <td>3.60</td>\n",
       "      <td>69.25</td>\n",
       "      <td>NaN</td>\n",
       "      <td>4.25</td>\n",
       "      <td>0.18</td>\n",
       "      <td>4.60</td>\n",
       "      <td>1.52</td>\n",
       "      <td>NaN</td>\n",
       "      <td>26.15</td>\n",
       "    </tr>\n",
       "  </tbody>\n",
       "</table>\n",
       "</div>"
      ],
      "text/plain": [
       "platform           3DS    DC      DS    GBA     GC     PC     PS2     PS3  \\\n",
       "year_of_release                                                             \n",
       "2005               NaN   NaN  130.14  33.86  27.62   4.37  160.66     NaN   \n",
       "2006               NaN   NaN  119.81   5.28  11.26   2.85  103.42   20.96   \n",
       "2007               NaN  0.02  146.94   3.40   0.27   9.28   75.99   73.19   \n",
       "2008               NaN  0.04  145.31    NaN    NaN  12.42   53.90  118.52   \n",
       "2009               NaN   NaN  119.54    NaN    NaN  16.91   26.40  130.93   \n",
       "2010               NaN   NaN   85.02    NaN    NaN  24.28    5.64  142.17   \n",
       "2011             63.20   NaN   26.18    NaN    NaN  35.03    0.45  156.78   \n",
       "2012             51.36   NaN   11.01    NaN    NaN  23.22     NaN  107.36   \n",
       "2013             56.57   NaN    1.54    NaN    NaN  12.38     NaN  113.25   \n",
       "2014             43.76   NaN     NaN    NaN    NaN  13.28     NaN   47.76   \n",
       "2015             27.78   NaN     NaN    NaN    NaN   8.52     NaN   16.82   \n",
       "2016             15.14   NaN     NaN    NaN    NaN   5.25     NaN    3.60   \n",
       "\n",
       "platform            PS4    PSP    PSV     Wii   WiiU    X360     XB   XOne  \n",
       "year_of_release                                                             \n",
       "2005                NaN  43.84    NaN     NaN    NaN    8.25  49.08    NaN  \n",
       "2006                NaN  55.32    NaN  137.15    NaN   51.62  10.04    NaN  \n",
       "2007                NaN  46.93    NaN  152.77    NaN   95.41   0.55    NaN  \n",
       "2008                NaN  34.55    NaN  171.32    NaN  135.26   0.18    NaN  \n",
       "2009                NaN  37.78    NaN  206.97    NaN  120.29    NaN    NaN  \n",
       "2010                NaN  35.04    NaN  127.95    NaN  170.03    NaN    NaN  \n",
       "2011                NaN  17.82   4.63   59.65    NaN  143.84    NaN    NaN  \n",
       "2012                NaN   7.69  16.19   21.71  17.56   99.74    NaN    NaN  \n",
       "2013              25.99   3.14  10.59    8.59  21.65   88.58    NaN  18.96  \n",
       "2014             100.00   0.24  11.90    3.75  22.03   34.74    NaN  54.07  \n",
       "2015             118.90   0.12   6.25    1.14  16.35   11.96    NaN  60.14  \n",
       "2016              69.25    NaN   4.25    0.18   4.60    1.52    NaN  26.15  "
      ]
     },
     "metadata": {},
     "output_type": "display_data"
    }
   ],
   "source": [
    "pd.set_option('display.max_columns', 100) \n",
    "#строю таблицу с суммарным доходам по годам/платформам не старше 12 лет\n",
    "display(data.query(\n",
    "    'year_of_release > 2004').pivot_table(index='year_of_release',\n",
    "    columns='platform', values='total_sales', aggfunc='sum'))"
   ]
  },
  {
   "cell_type": "markdown",
   "metadata": {},
   "source": [
    "Согласно таблице в 2016 происходили продажи игр на платформах: <strong>3DS, PC, PS3, PS4, PSV, Wii, WiiU, X360, XOne.</strong> Т.е. остальные платформы утратили свою актуальность.<br>\n",
    "При этом большая часть из актуальных платформ находится в стадии спада продаж и, очевидно, они устарели и в 2017 году будут слабо актуальны.<br>\n",
    "Актуальные платформы:\n",
    "<table>\n",
    "    <table align=\"left\">\n",
    "\t<tbody>\n",
    "\t\t<tr>\n",
    "\t\t\t<td>Платформа</td>\n",
    "\t\t\t<td>Год старта</td>\n",
    "\t\t\t<td>Возраст</td>\n",
    "\t\t</tr>\n",
    "\t\t<tr>\n",
    "\t\t\t<td>PS4</td>\n",
    "\t\t\t<td>2013</td>\n",
    "\t\t\t<td>4 года</td>\n",
    "\t\t</tr>\n",
    "\t\t<tr>\n",
    "\t\t\t<td>PSV</td>\n",
    "\t\t\t<td>2011</td>\n",
    "\t\t\t<td>6 лет</td>\n",
    "\t\t</tr>\n",
    "\t\t<tr>\n",
    "\t\t\t<td>WiiU</td>\n",
    "\t\t\t<td>2012</td>\n",
    "\t\t\t<td>5 лет</td>\n",
    "\t\t</tr>\n",
    "\t\t<tr>\n",
    "\t\t\t<td>X-one</td>\n",
    "\t\t\t<td>2013</td>\n",
    "\t\t\t<td>4 года</td>\n",
    "\t\t</tr>\n",
    "\t</tbody>\n",
    "</table>\n",
    "<br><br><br><br><br><br><br><br>\n",
    "\n",
    "PC в расчёт не принимаю, потому что платформа старая, отличная от игровых консолей и далее будет актуальна.<br><br>\n",
    "Исходя из того, что возраст актуальных платформ 4-6 лет, рынок игр быстро развивается и меняется, а за 2016 года данные могут быть неполными, считаю, что за актуальный период следует принять данные c 2012 года (5 лет)"
   ]
  },
  {
   "cell_type": "code",
   "execution_count": 31,
   "metadata": {},
   "outputs": [],
   "source": [
    "data = data.query('year_of_release > 2011')"
   ]
  },
  {
   "cell_type": "markdown",
   "metadata": {},
   "source": [
    "Изменяю исходный датафрейм."
   ]
  },
  {
   "cell_type": "markdown",
   "metadata": {},
   "source": [
    "<a id='step34'></a>\n",
    "### Какие платформы лидируют по продажам, растут или падают?"
   ]
  },
  {
   "cell_type": "markdown",
   "metadata": {},
   "source": [
    "Для лучшего понимания из внешнего источника получаю расшифровку название платформ:<br>\n",
    "http://old.igromania.ru/platforms/<br><br>\n",
    "Отмечаю следующие особенности:\n",
    "1. PS4 заменяет PS3 (игровая приставка, Sony);\n",
    "2. XOne заменяет X360 (игровая приставка, Microsoft);\n",
    "3. WiiU заменяет Wii (игровая приставка, Nintendo);\n",
    "4. PSV заменяет PSP (карманная приставка, Sony);\n",
    "5. 3DS заменяет DS (карманная приставка, Nintendo);\n",
    "6. PC - персональные компьютеры."
   ]
  },
  {
   "cell_type": "code",
   "execution_count": 32,
   "metadata": {},
   "outputs": [
    {
     "name": "stdout",
     "output_type": "stream",
     "text": [
      "platform\n",
      "PS4     314.14\n",
      "PS3     288.79\n",
      "X360    236.54\n",
      "3DS     194.61\n",
      "XOne    159.32\n",
      "WiiU     82.19\n",
      "PC       62.65\n",
      "PSV      49.18\n",
      "Wii      35.37\n",
      "DS       12.55\n",
      "PSP      11.19\n",
      "Name: total_sales, dtype: float64\n"
     ]
    }
   ],
   "source": [
    "print(data.groupby('platform')['total_sales'].sum().sort_values(ascending=False))"
   ]
  },
  {
   "cell_type": "code",
   "execution_count": 33,
   "metadata": {},
   "outputs": [
    {
     "data": {
      "image/png": "[encoded data removed]",
      "text/plain": [
       "<Figure size 720x360 with 1 Axes>"
      ]
     },
     "metadata": {
      "needs_background": "light"
     },
     "output_type": "display_data"
    }
   ],
   "source": [
    "data.groupby('platform')['total_sales'].sum().sort_values(ascending=False).plot(\n",
    "        figsize=(10, 5), kind='bar')\n",
    "plt.ylabel('Млн. копий')\n",
    "plt.xlabel('Платформа')\n",
    "plt.title('Продажи по платформам в 2011-2016 годах (суммарно)');"
   ]
  },
  {
   "cell_type": "markdown",
   "metadata": {},
   "source": [
    "По продажам за 5 лет лидируют: PS3, X360, PS4, 3DS, XOne.<br>\n",
    "Однако ряд этих платформ уже устарёл."
   ]
  },
  {
   "cell_type": "code",
   "execution_count": 34,
   "metadata": {},
   "outputs": [
    {
     "name": "stdout",
     "output_type": "stream",
     "text": [
      "platform\n",
      "PS4     118.90\n",
      "XOne     60.14\n",
      "3DS      27.78\n",
      "PS3      16.82\n",
      "WiiU     16.35\n",
      "X360     11.96\n",
      "PC        8.52\n",
      "PSV       6.25\n",
      "Wii       1.14\n",
      "PSP       0.12\n",
      "Name: total_sales, dtype: float64\n"
     ]
    }
   ],
   "source": [
    "print(data.query('year_of_release == 2015').groupby('platform')['total_sales'].sum().sort_values(ascending=False))"
   ]
  },
  {
   "cell_type": "code",
   "execution_count": 35,
   "metadata": {},
   "outputs": [
    {
     "name": "stdout",
     "output_type": "stream",
     "text": [
      "platform\n",
      "PS4     69.25\n",
      "XOne    26.15\n",
      "3DS     15.14\n",
      "PC       5.25\n",
      "WiiU     4.60\n",
      "PSV      4.25\n",
      "PS3      3.60\n",
      "X360     1.52\n",
      "Wii      0.18\n",
      "Name: total_sales, dtype: float64\n"
     ]
    }
   ],
   "source": [
    "print(data.query('year_of_release == 2016').groupby('platform')['total_sales'].sum().sort_values(ascending=False))"
   ]
  },
  {
   "cell_type": "code",
   "execution_count": 36,
   "metadata": {},
   "outputs": [
    {
     "data": {
      "image/png": "[encoded data removed]",
      "text/plain": [
       "<Figure size 720x360 with 1 Axes>"
      ]
     },
     "metadata": {
      "needs_background": "light"
     },
     "output_type": "display_data"
    }
   ],
   "source": [
    "fig, ax = plt.subplots()\n",
    "\n",
    "ax = data.query(\n",
    "    'year_of_release == 2015').groupby(\n",
    "    'platform')['total_sales'].sum().sort_values(ascending=False).plot(\n",
    "        figsize=(10, 5), kind='bar', alpha=0.5)\n",
    "data.query(\n",
    "    'year_of_release == 2016').groupby(\n",
    "    'platform')['total_sales'].sum().sort_values(ascending=False).plot(\n",
    "        figsize=(10, 5), kind='bar', ax=ax, alpha=0.5, color='r')\n",
    "plt.ylabel('Млн. копий')\n",
    "plt.xlabel('Платформа')\n",
    "plt.legend([\"2015\", \"2016\"])\n",
    "plt.title('Продажи по платформам в 2015-2016 годах');\n"
   ]
  },
  {
   "cell_type": "markdown",
   "metadata": {},
   "source": [
    "В 2015 и 2016 годах лидировали PS4, XOne, 3DS."
   ]
  },
  {
   "cell_type": "code",
   "execution_count": 37,
   "metadata": {},
   "outputs": [
    {
     "data": {
      "text/html": [
       "<div>\n",
       "<style scoped>\n",
       "    .dataframe tbody tr th:only-of-type {\n",
       "        vertical-align: middle;\n",
       "    }\n",
       "\n",
       "    .dataframe tbody tr th {\n",
       "        vertical-align: top;\n",
       "    }\n",
       "\n",
       "    .dataframe thead th {\n",
       "        text-align: right;\n",
       "    }\n",
       "</style>\n",
       "<table border=\"1\" class=\"dataframe\">\n",
       "  <thead>\n",
       "    <tr style=\"text-align: right;\">\n",
       "      <th>platform</th>\n",
       "      <th>3DS</th>\n",
       "      <th>DS</th>\n",
       "      <th>PC</th>\n",
       "      <th>PS3</th>\n",
       "      <th>PS4</th>\n",
       "      <th>PSP</th>\n",
       "      <th>PSV</th>\n",
       "      <th>Wii</th>\n",
       "      <th>WiiU</th>\n",
       "      <th>X360</th>\n",
       "      <th>XOne</th>\n",
       "    </tr>\n",
       "    <tr>\n",
       "      <th>year_of_release</th>\n",
       "      <th></th>\n",
       "      <th></th>\n",
       "      <th></th>\n",
       "      <th></th>\n",
       "      <th></th>\n",
       "      <th></th>\n",
       "      <th></th>\n",
       "      <th></th>\n",
       "      <th></th>\n",
       "      <th></th>\n",
       "      <th></th>\n",
       "    </tr>\n",
       "  </thead>\n",
       "  <tbody>\n",
       "    <tr>\n",
       "      <th>2012</th>\n",
       "      <td>51.36</td>\n",
       "      <td>11.01</td>\n",
       "      <td>23.22</td>\n",
       "      <td>107.36</td>\n",
       "      <td>NaN</td>\n",
       "      <td>7.69</td>\n",
       "      <td>16.19</td>\n",
       "      <td>21.71</td>\n",
       "      <td>17.56</td>\n",
       "      <td>99.74</td>\n",
       "      <td>NaN</td>\n",
       "    </tr>\n",
       "    <tr>\n",
       "      <th>2013</th>\n",
       "      <td>56.57</td>\n",
       "      <td>1.54</td>\n",
       "      <td>12.38</td>\n",
       "      <td>113.25</td>\n",
       "      <td>25.99</td>\n",
       "      <td>3.14</td>\n",
       "      <td>10.59</td>\n",
       "      <td>8.59</td>\n",
       "      <td>21.65</td>\n",
       "      <td>88.58</td>\n",
       "      <td>18.96</td>\n",
       "    </tr>\n",
       "    <tr>\n",
       "      <th>2014</th>\n",
       "      <td>43.76</td>\n",
       "      <td>NaN</td>\n",
       "      <td>13.28</td>\n",
       "      <td>47.76</td>\n",
       "      <td>100.00</td>\n",
       "      <td>0.24</td>\n",
       "      <td>11.90</td>\n",
       "      <td>3.75</td>\n",
       "      <td>22.03</td>\n",
       "      <td>34.74</td>\n",
       "      <td>54.07</td>\n",
       "    </tr>\n",
       "    <tr>\n",
       "      <th>2015</th>\n",
       "      <td>27.78</td>\n",
       "      <td>NaN</td>\n",
       "      <td>8.52</td>\n",
       "      <td>16.82</td>\n",
       "      <td>118.90</td>\n",
       "      <td>0.12</td>\n",
       "      <td>6.25</td>\n",
       "      <td>1.14</td>\n",
       "      <td>16.35</td>\n",
       "      <td>11.96</td>\n",
       "      <td>60.14</td>\n",
       "    </tr>\n",
       "    <tr>\n",
       "      <th>2016</th>\n",
       "      <td>15.14</td>\n",
       "      <td>NaN</td>\n",
       "      <td>5.25</td>\n",
       "      <td>3.60</td>\n",
       "      <td>69.25</td>\n",
       "      <td>NaN</td>\n",
       "      <td>4.25</td>\n",
       "      <td>0.18</td>\n",
       "      <td>4.60</td>\n",
       "      <td>1.52</td>\n",
       "      <td>26.15</td>\n",
       "    </tr>\n",
       "  </tbody>\n",
       "</table>\n",
       "</div>"
      ],
      "text/plain": [
       "platform           3DS     DS     PC     PS3     PS4   PSP    PSV    Wii  \\\n",
       "year_of_release                                                            \n",
       "2012             51.36  11.01  23.22  107.36     NaN  7.69  16.19  21.71   \n",
       "2013             56.57   1.54  12.38  113.25   25.99  3.14  10.59   8.59   \n",
       "2014             43.76    NaN  13.28   47.76  100.00  0.24  11.90   3.75   \n",
       "2015             27.78    NaN   8.52   16.82  118.90  0.12   6.25   1.14   \n",
       "2016             15.14    NaN   5.25    3.60   69.25   NaN   4.25   0.18   \n",
       "\n",
       "platform          WiiU   X360   XOne  \n",
       "year_of_release                       \n",
       "2012             17.56  99.74    NaN  \n",
       "2013             21.65  88.58  18.96  \n",
       "2014             22.03  34.74  54.07  \n",
       "2015             16.35  11.96  60.14  \n",
       "2016              4.60   1.52  26.15  "
      ]
     },
     "metadata": {},
     "output_type": "display_data"
    }
   ],
   "source": [
    "display(data.pivot_table(index='year_of_release',\n",
    "    columns='platform', values='total_sales', aggfunc='sum'))"
   ]
  },
  {
   "cell_type": "markdown",
   "metadata": {},
   "source": [
    "Такие платформы, как DS и PSP вообще не продавались в 2016 году, а также имеют продолжения от производителя (3DS и PSV). Принимаю решение также исключить их из исследования."
   ]
  },
  {
   "cell_type": "code",
   "execution_count": 38,
   "metadata": {},
   "outputs": [],
   "source": [
    "data = data.query('platform != \"DS\" & platform != \"PSP\"')"
   ]
  },
  {
   "cell_type": "markdown",
   "metadata": {},
   "source": [
    "Исключаю из датафрейма платформы DS и PSP как неактуальные."
   ]
  },
  {
   "cell_type": "code",
   "execution_count": 39,
   "metadata": {},
   "outputs": [],
   "source": [
    "actual_platforms = data['platform'].unique() #создаю массив с именами платформ"
   ]
  },
  {
   "cell_type": "code",
   "execution_count": 40,
   "metadata": {
    "scrolled": false
   },
   "outputs": [
    {
     "name": "stdout",
     "output_type": "stream",
     "text": [
      "Продажи игр на платформе PS3\n"
     ]
    },
    {
     "data": {
      "image/png": "[encoded data removed]",
      "text/plain": [
       "<Figure size 720x360 with 1 Axes>"
      ]
     },
     "metadata": {
      "needs_background": "light"
     },
     "output_type": "display_data"
    },
    {
     "name": "stdout",
     "output_type": "stream",
     "text": [
      "Продажи игр на платформе X360\n"
     ]
    },
    {
     "data": {
      "image/png": "[encoded data removed]",
      "text/plain": [
       "<Figure size 720x360 with 1 Axes>"
      ]
     },
     "metadata": {
      "needs_background": "light"
     },
     "output_type": "display_data"
    },
    {
     "name": "stdout",
     "output_type": "stream",
     "text": [
      "Продажи игр на платформе PS4\n"
     ]
    },
    {
     "data": {
      "image/png": "[encoded data removed]",
      "text/plain": [
       "<Figure size 720x360 with 1 Axes>"
      ]
     },
     "metadata": {
      "needs_background": "light"
     },
     "output_type": "display_data"
    },
    {
     "name": "stdout",
     "output_type": "stream",
     "text": [
      "Продажи игр на платформе 3DS\n"
     ]
    },
    {
     "data": {
      "image/png": "[encoded data removed]",
      "text/plain": [
       "<Figure size 720x360 with 1 Axes>"
      ]
     },
     "metadata": {
      "needs_background": "light"
     },
     "output_type": "display_data"
    },
    {
     "name": "stdout",
     "output_type": "stream",
     "text": [
      "Продажи игр на платформе XOne\n"
     ]
    },
    {
     "data": {
      "image/png": "[encoded data removed]",
      "text/plain": [
       "<Figure size 720x360 with 1 Axes>"
      ]
     },
     "metadata": {
      "needs_background": "light"
     },
     "output_type": "display_data"
    },
    {
     "name": "stdout",
     "output_type": "stream",
     "text": [
      "Продажи игр на платформе WiiU\n"
     ]
    },
    {
     "data": {
      "image/png": "[encoded data removed]",
      "text/plain": [
       "<Figure size 720x360 with 1 Axes>"
      ]
     },
     "metadata": {
      "needs_background": "light"
     },
     "output_type": "display_data"
    },
    {
     "name": "stdout",
     "output_type": "stream",
     "text": [
      "Продажи игр на платформе Wii\n"
     ]
    },
    {
     "data": {
      "image/png": "[encoded data removed]",
      "text/plain": [
       "<Figure size 720x360 with 1 Axes>"
      ]
     },
     "metadata": {
      "needs_background": "light"
     },
     "output_type": "display_data"
    },
    {
     "name": "stdout",
     "output_type": "stream",
     "text": [
      "Продажи игр на платформе PC\n"
     ]
    },
    {
     "data": {
      "image/png": "[encoded data removed]",
      "text/plain": [
       "<Figure size 720x360 with 1 Axes>"
      ]
     },
     "metadata": {
      "needs_background": "light"
     },
     "output_type": "display_data"
    },
    {
     "name": "stdout",
     "output_type": "stream",
     "text": [
      "Продажи игр на платформе PSV\n"
     ]
    },
    {
     "data": {
      "image/png": "[encoded data removed]",
      "text/plain": [
       "<Figure size 720x360 with 1 Axes>"
      ]
     },
     "metadata": {
      "needs_background": "light"
     },
     "output_type": "display_data"
    }
   ],
   "source": [
    "for platform_name in actual_platforms: #строю графики для всех платформ, входящих в массив\n",
    "    print('Продажи игр на платформе', platform_name)\n",
    "    data.query('platform == @platform_name').groupby(\n",
    "        'year_of_release')['total_sales'].sum().plot(figsize=(10, 5), kind='bar')\n",
    "    plt.ylabel('Млн. копий')\n",
    "    plt.xlabel('Год выхода игры')\n",
    "    plt.show()"
   ]
  },
  {
   "cell_type": "code",
   "execution_count": 41,
   "metadata": {
    "scrolled": true
   },
   "outputs": [
    {
     "data": {
      "image/png": "[encoded data removed]",
      "text/plain": [
       "<Figure size 720x360 with 2 Axes>"
      ]
     },
     "metadata": {
      "needs_background": "light"
     },
     "output_type": "display_data"
    }
   ],
   "source": [
    "#дополнительно строю \"тепловой график\"\n",
    "plt.figure(figsize=(10,5))\n",
    "sns.heatmap(data.pivot_table(index='year_of_release',\n",
    "    columns='platform', values='total_sales', aggfunc='sum').fillna(0), annot=True,\n",
    "           fmt=\".0f\", cmap=\"Blues\")\n",
    "plt.ylabel('Год выхода')\n",
    "plt.xlabel('Платформа')\n",
    "plt.title('Продажи игр по платформам')\n",
    "plt.show()"
   ]
  },
  {
   "cell_type": "markdown",
   "metadata": {},
   "source": [
    "Данные за 2016 год могут быть не полными.<br>\n",
    "Соответственно растущими платформами и я считаю те, которые в 2015 году росли относительно 2013 и 2014.<br><br>\n",
    "Платформы, продажи которых однозначно падают: PS3, X360, Wii, т.к. имеют замены.<br>\n",
    "Платформы, продажи которых однозначно растут: <strong>PS4, XOne</strong>.<br>\n",
    "Они же являтся потенциально прибыльными, т.к. они молодые (4 года) и могли ещё не достигуть пиков по продажам<br><br>\n",
    "\n",
    "По платформе WiiU нельзя сделать однозначного вывода, в целом тренд на падение, но она не являются старой (6 лет) и также может ещё удерживать долю рынка или продаваться со слабым падением показателей.<br><br>\n",
    "3DS и PSV падают, но могу трактовать это как падение рынка карманных приставок в целом.<br><br>\n",
    "PC также падает, но особенность платформы в том, что она не может устареть и исчезнуть в ближайшее время, формат игр на персональном компьютере будет актуален.\n",
    "\n",
    "\n",
    "\t\t\t\t\t"
   ]
  },
  {
   "cell_type": "markdown",
   "metadata": {},
   "source": [
    "<a id='step35'></a>\n",
    "### 3.5 График «ящик с усами» по глобальным продажам игр в разбивке по платформам"
   ]
  },
  {
   "cell_type": "code",
   "execution_count": 42,
   "metadata": {
    "scrolled": false
   },
   "outputs": [
    {
     "name": "stdout",
     "output_type": "stream",
     "text": [
      "Диаграмма размаха для платформы PS3\n"
     ]
    },
    {
     "data": {
      "image/png": "[encoded data removed]",
      "text/plain": [
       "<Figure size 1080x144 with 1 Axes>"
      ]
     },
     "metadata": {
      "needs_background": "light"
     },
     "output_type": "display_data"
    },
    {
     "name": "stdout",
     "output_type": "stream",
     "text": [
      "Диаграмма размаха для платформы X360\n"
     ]
    },
    {
     "data": {
      "image/png": "[encoded data removed]",
      "text/plain": [
       "<Figure size 1080x144 with 1 Axes>"
      ]
     },
     "metadata": {
      "needs_background": "light"
     },
     "output_type": "display_data"
    },
    {
     "name": "stdout",
     "output_type": "stream",
     "text": [
      "Диаграмма размаха для платформы PS4\n"
     ]
    },
    {
     "data": {
      "image/png": "[encoded data removed]",
      "text/plain": [
       "<Figure size 1080x144 with 1 Axes>"
      ]
     },
     "metadata": {
      "needs_background": "light"
     },
     "output_type": "display_data"
    },
    {
     "name": "stdout",
     "output_type": "stream",
     "text": [
      "Диаграмма размаха для платформы 3DS\n"
     ]
    },
    {
     "data": {
      "image/png": "[encoded data removed]",
      "text/plain": [
       "<Figure size 1080x144 with 1 Axes>"
      ]
     },
     "metadata": {
      "needs_background": "light"
     },
     "output_type": "display_data"
    },
    {
     "name": "stdout",
     "output_type": "stream",
     "text": [
      "Диаграмма размаха для платформы XOne\n"
     ]
    },
    {
     "data": {
      "image/png": "[encoded data removed]",
      "text/plain": [
       "<Figure size 1080x144 with 1 Axes>"
      ]
     },
     "metadata": {
      "needs_background": "light"
     },
     "output_type": "display_data"
    },
    {
     "name": "stdout",
     "output_type": "stream",
     "text": [
      "Диаграмма размаха для платформы WiiU\n"
     ]
    },
    {
     "data": {
      "image/png": "[encoded data removed]",
      "text/plain": [
       "<Figure size 1080x144 with 1 Axes>"
      ]
     },
     "metadata": {
      "needs_background": "light"
     },
     "output_type": "display_data"
    },
    {
     "name": "stdout",
     "output_type": "stream",
     "text": [
      "Диаграмма размаха для платформы Wii\n"
     ]
    },
    {
     "data": {
      "image/png": "[encoded data removed]",
      "text/plain": [
       "<Figure size 1080x144 with 1 Axes>"
      ]
     },
     "metadata": {
      "needs_background": "light"
     },
     "output_type": "display_data"
    },
    {
     "name": "stdout",
     "output_type": "stream",
     "text": [
      "Диаграмма размаха для платформы PC\n"
     ]
    },
    {
     "data": {
      "image/png": "[encoded data removed]",
      "text/plain": [
       "<Figure size 1080x144 with 1 Axes>"
      ]
     },
     "metadata": {
      "needs_background": "light"
     },
     "output_type": "display_data"
    },
    {
     "name": "stdout",
     "output_type": "stream",
     "text": [
      "Диаграмма размаха для платформы PSV\n"
     ]
    },
    {
     "data": {
      "image/png": "[encoded data removed]",
      "text/plain": [
       "<Figure size 1080x144 with 1 Axes>"
      ]
     },
     "metadata": {
      "needs_background": "light"
     },
     "output_type": "display_data"
    }
   ],
   "source": [
    "for platform_name in actual_platforms: #строю диаграммы размаха для всех платформ, входящих в массив\n",
    "    print('Диаграмма размаха для платформы', platform_name)\n",
    "    data.query('platform == @platform_name').boxplot(column='total_sales', vert=False, figsize=(15, 2))\n",
    "    plt.xlim(0, 3)\n",
    "    plt.xlabel('Млн. копий')\n",
    "    plt.show()"
   ]
  },
  {
   "cell_type": "markdown",
   "metadata": {},
   "source": [
    "Границы нормального размаха для глобальных продаж для платформ:<br>\n",
    "\n",
    "X360 - до 1.9;<br>\n",
    "<strong>PS4, XOne, Wii</strong> - до 1.7;<br>\n",
    "PS3, WiiU - до 1,4;<br>\n",
    "PC, 3DS - до 0.7;<br>\n",
    "PSV - до 0.25.<br>\n",
    "\n",
    "Распределения продаж для потенциально прибыльных платформ PS4 и XOne схожи, в среднем они составляют до 1.7 млн копий.<br>\n",
    "X360, Wii, PS3 - являются устаревающими платформами, высокие средние значения обусловленны популярностью на пике развития<br>\n",
    "Карманные приставки 3DS и PSV ожидаемо имеют низкие показатели средних значений.\n"
   ]
  },
  {
   "cell_type": "code",
   "execution_count": 43,
   "metadata": {
    "scrolled": false
   },
   "outputs": [
    {
     "name": "stdout",
     "output_type": "stream",
     "text": [
      "Диаграмма размаха для платформы PS3\n"
     ]
    },
    {
     "data": {
      "image/png": "[encoded data removed]",
      "text/plain": [
       "<Figure size 1080x144 with 1 Axes>"
      ]
     },
     "metadata": {
      "needs_background": "light"
     },
     "output_type": "display_data"
    },
    {
     "name": "stdout",
     "output_type": "stream",
     "text": [
      "Диаграмма размаха для платформы X360\n"
     ]
    },
    {
     "data": {
      "image/png": "[encoded data removed]",
      "text/plain": [
       "<Figure size 1080x144 with 1 Axes>"
      ]
     },
     "metadata": {
      "needs_background": "light"
     },
     "output_type": "display_data"
    },
    {
     "name": "stdout",
     "output_type": "stream",
     "text": [
      "Диаграмма размаха для платформы PS4\n"
     ]
    },
    {
     "data": {
      "image/png": "[encoded data removed]",
      "text/plain": [
       "<Figure size 1080x144 with 1 Axes>"
      ]
     },
     "metadata": {
      "needs_background": "light"
     },
     "output_type": "display_data"
    },
    {
     "name": "stdout",
     "output_type": "stream",
     "text": [
      "Диаграмма размаха для платформы 3DS\n"
     ]
    },
    {
     "data": {
      "image/png": "[encoded data removed]",
      "text/plain": [
       "<Figure size 1080x144 with 1 Axes>"
      ]
     },
     "metadata": {
      "needs_background": "light"
     },
     "output_type": "display_data"
    },
    {
     "name": "stdout",
     "output_type": "stream",
     "text": [
      "Диаграмма размаха для платформы XOne\n"
     ]
    },
    {
     "data": {
      "image/png": "[encoded data removed]",
      "text/plain": [
       "<Figure size 1080x144 with 1 Axes>"
      ]
     },
     "metadata": {
      "needs_background": "light"
     },
     "output_type": "display_data"
    },
    {
     "name": "stdout",
     "output_type": "stream",
     "text": [
      "Диаграмма размаха для платформы WiiU\n"
     ]
    },
    {
     "data": {
      "image/png": "[encoded data removed]",
      "text/plain": [
       "<Figure size 1080x144 with 1 Axes>"
      ]
     },
     "metadata": {
      "needs_background": "light"
     },
     "output_type": "display_data"
    },
    {
     "name": "stdout",
     "output_type": "stream",
     "text": [
      "Диаграмма размаха для платформы Wii\n"
     ]
    },
    {
     "data": {
      "image/png": "[encoded data removed]",
      "text/plain": [
       "<Figure size 1080x144 with 1 Axes>"
      ]
     },
     "metadata": {
      "needs_background": "light"
     },
     "output_type": "display_data"
    },
    {
     "name": "stdout",
     "output_type": "stream",
     "text": [
      "Диаграмма размаха для платформы PC\n"
     ]
    },
    {
     "data": {
      "image/png": "[encoded data removed]",
      "text/plain": [
       "<Figure size 1080x144 with 1 Axes>"
      ]
     },
     "metadata": {
      "needs_background": "light"
     },
     "output_type": "display_data"
    },
    {
     "name": "stdout",
     "output_type": "stream",
     "text": [
      "Диаграмма размаха для платформы PSV\n"
     ]
    },
    {
     "data": {
      "image/png": "[encoded data removed]",
      "text/plain": [
       "<Figure size 1080x144 with 1 Axes>"
      ]
     },
     "metadata": {
      "needs_background": "light"
     },
     "output_type": "display_data"
    }
   ],
   "source": [
    "for platform_name in actual_platforms: #строю диаграммы размаха для всех платформ, входящих в массив\n",
    "    print('Диаграмма размаха для платформы', platform_name)\n",
    "    data.query('platform == @platform_name').boxplot(column='total_sales', vert=False, figsize=(15, 2))\n",
    "    plt.xlim(0, 17)\n",
    "    plt.xlabel('Млн. копий')\n",
    "    plt.show()"
   ]
  },
  {
   "cell_type": "markdown",
   "metadata": {},
   "source": [
    "Также на диаграммах имеются выбросы.<br>\n",
    "На платформах PS3, PS4, X360, 3DS существовали такие игры, которые продавались более чем 12 млн. копий. Такие выбросы характерны для игр - хитов продаж.<br>\n",
    "Примечательно, что для развивающейся платформы XOne лимит таких выбросов равен 7 млн. копий. Это может объяснятся более поздним переходом пользователей с платформы X360 на платформу XOne<br>\n",
    "В таком контексте PS4 выглядит более перспективной, по отношению к XOne."
   ]
  },
  {
   "cell_type": "markdown",
   "metadata": {},
   "source": [
    "<a id='step36'></a>\n",
    "### 3.6 Как влияют на продажи внутри одной популярной платформы отзывы пользователей и критиков. Диаграмма рассеяния и корреляция между отзывами и продажами. Выводы"
   ]
  },
  {
   "cell_type": "code",
   "execution_count": 44,
   "metadata": {},
   "outputs": [],
   "source": [
    "data_PS4_cor = data.query(\n",
    "    'platform == \"PS4\" & user_score < 100 & critic_score > 1').loc[:, [ #отсеиваю данные, которыми я заменял пропуски\n",
    "    'total_sales', 'user_score', 'critic_score']] #оставляю только необходимые таблицы"
   ]
  },
  {
   "cell_type": "markdown",
   "metadata": {},
   "source": [
    "Формирую датафрейм с данными об оценках пользователей и критиков для платформы PS4."
   ]
  },
  {
   "cell_type": "code",
   "execution_count": 45,
   "metadata": {},
   "outputs": [
    {
     "data": {
      "image/png": "[encoded data removed]",
      "text/plain": [
       "<Figure size 1080x720 with 1 Axes>"
      ]
     },
     "metadata": {
      "needs_background": "light"
     },
     "output_type": "display_data"
    }
   ],
   "source": [
    "data_PS4_cor.plot(\n",
    "    x='user_score',\n",
    "    title='Распределение продаж в зависимости от оценок пользователей',\n",
    "    y='total_sales', kind='scatter', grid=True, figsize=(15, 10), alpha=0.5)\n",
    "plt.ylabel('Млн. копий')\n",
    "plt.xlabel('Оценка пользователей');"
   ]
  },
  {
   "cell_type": "markdown",
   "metadata": {},
   "source": [
    "Не наблюдаю яркой зависимости продаж от оценок пользователей.<br>\n",
    "Основная масса точек находится в зоне от 5.5 до 8.5 баллов с продажами до 1 млн копий.<br>\n",
    "Примечательно, что на диаграмме есть выбросы, когда хиты продаж имеют достаточно низкую оценку пользователей.<br>\n",
    "Так, самая продаваемая игра имела оценку 8.3 балла, а остальные игры из топ-5 по продажам оценки от 4.3 до 6.5."
   ]
  },
  {
   "cell_type": "code",
   "execution_count": 46,
   "metadata": {},
   "outputs": [
    {
     "data": {
      "image/png": "[encoded data removed]",
      "text/plain": [
       "<Figure size 1080x720 with 1 Axes>"
      ]
     },
     "metadata": {
      "needs_background": "light"
     },
     "output_type": "display_data"
    }
   ],
   "source": [
    "data_PS4_cor.plot(\n",
    "    x='critic_score',\n",
    "    title='Распределение продаж в зависимости от оценок критиков',\n",
    "    y='total_sales', kind='scatter', grid=True, figsize=(15, 10), alpha=0.5)\n",
    "plt.ylabel('Млн. копий')\n",
    "plt.xlabel('Оценка критиков');"
   ]
  },
  {
   "cell_type": "markdown",
   "metadata": {},
   "source": [
    "Зависимость продаж от от оценок критиков более выраженная.<br>\n",
    "Так игры, продающиеся тиражом более 2 млн экземпляров имеют рейтинг 70 и более.<br>\n",
    "Основная масса точек находится в зоне от 55 до 85 баллов с продажами до 1.5 млн копий<br>\n",
    "Топовая игра по продажам имеет рейтинг 97 баллов, а играм из топ-5 присвоены оценки более 80 баллов."
   ]
  },
  {
   "cell_type": "code",
   "execution_count": 47,
   "metadata": {},
   "outputs": [
    {
     "name": "stdout",
     "output_type": "stream",
     "text": [
      "              total_sales  user_score  critic_score\n",
      "total_sales      1.000000   -0.033625      0.405895\n",
      "user_score      -0.033625    1.000000      0.557654\n",
      "critic_score     0.405895    0.557654      1.000000\n"
     ]
    }
   ],
   "source": [
    "print(data_PS4_cor.corr())"
   ]
  },
  {
   "cell_type": "markdown",
   "metadata": {},
   "source": [
    "Для определения зависимости продаж от рейтингов применяю коэффициент Пирсона, который показывает, как изменение одной величины (рейтинга) влияет на изменнение другой (продаж).<br>\n",
    "Коэффициент Пирсона выбираю т.к. исследуемые данные выглядят как нормально распределенные, количество переменных одинаково.<br><br>\n",
    "Данное исследование подтверждает выводы по графикам.<br>\n",
    "Между оценками пользователей и продажами зависимости нет, между оценками критиков есть, но достаточно слабая (коэффициент 0.40)"
   ]
  },
  {
   "cell_type": "markdown",
   "metadata": {},
   "source": [
    "<a id='step37'></a>\n",
    "### 3.7 Выводы с продажами игр на других платформах"
   ]
  },
  {
   "cell_type": "code",
   "execution_count": 48,
   "metadata": {},
   "outputs": [
    {
     "name": "stdout",
     "output_type": "stream",
     "text": [
      "\n",
      "\n",
      " Корреляция данных для платформы PS3\n",
      "              total_sales  user_score  critic_score\n",
      "total_sales      1.000000    0.003227      0.331057\n",
      "user_score       0.003227    1.000000      0.539456\n",
      "critic_score     0.331057    0.539456      1.000000\n",
      "\n",
      "\n",
      " Корреляция данных для платформы X360\n",
      "              total_sales  user_score  critic_score\n",
      "total_sales      1.000000   -0.002014      0.360573\n",
      "user_score      -0.002014    1.000000      0.557352\n",
      "critic_score     0.360573    0.557352      1.000000\n",
      "\n",
      "\n",
      " Корреляция данных для платформы PS4\n",
      "              total_sales  user_score  critic_score\n",
      "total_sales      1.000000   -0.033625      0.405895\n",
      "user_score      -0.033625    1.000000      0.557654\n",
      "critic_score     0.405895    0.557654      1.000000\n",
      "\n",
      "\n",
      " Корреляция данных для платформы 3DS\n",
      "              total_sales  user_score  critic_score\n",
      "total_sales      1.000000    0.201813      0.310553\n",
      "user_score       0.201813    1.000000      0.722762\n",
      "critic_score     0.310553    0.722762      1.000000\n",
      "\n",
      "\n",
      " Корреляция данных для платформы XOne\n",
      "              total_sales  user_score  critic_score\n",
      "total_sales      1.000000   -0.094003      0.410422\n",
      "user_score      -0.094003    1.000000      0.472462\n",
      "critic_score     0.410422    0.472462      1.000000\n",
      "\n",
      "\n",
      " Корреляция данных для платформы WiiU\n",
      "              total_sales  user_score  critic_score\n",
      "total_sales      1.000000    0.391848      0.350882\n",
      "user_score       0.391848    1.000000      0.770080\n",
      "critic_score     0.350882    0.770080      1.000000\n",
      "\n",
      "\n",
      " Корреляция данных для платформы Wii\n",
      "              total_sales  user_score  critic_score\n",
      "total_sales      1.000000    0.009756     -0.424341\n",
      "user_score       0.009756    1.000000      0.816295\n",
      "critic_score    -0.424341    0.816295      1.000000\n",
      "\n",
      "\n",
      " Корреляция данных для платформы PC\n",
      "              total_sales  user_score  critic_score\n",
      "total_sales      1.000000   -0.136934      0.236008\n",
      "user_score      -0.136934    1.000000      0.432587\n",
      "critic_score     0.236008    0.432587      1.000000\n",
      "\n",
      "\n",
      " Корреляция данных для платформы PSV\n",
      "              total_sales  user_score  critic_score\n",
      "total_sales      1.000000    0.013902      0.093988\n",
      "user_score       0.013902    1.000000      0.699199\n",
      "critic_score     0.093988    0.699199      1.000000\n"
     ]
    }
   ],
   "source": [
    "for platform_name in actual_platforms: #строю диаграммы размаха для всех платформ, входящих в массив\n",
    "    print('\\n\\n Корреляция данных для платформы', platform_name)\n",
    "    print(data.query('platform == @platform_name & user_score < 100 & critic_score > 1').loc[:, [ #отсеиваю данные, которыми я заменял пропуски\n",
    "    'total_sales', 'user_score', 'critic_score']].corr())"
   ]
  },
  {
   "cell_type": "markdown",
   "metadata": {},
   "source": [
    "Аналогично для других платформ применяю коэффициент Пирсона.\n",
    "<br><br>\n",
    "На продажи игр влияют:\n",
    "1. Рейтинги критиков, слабо, для платформ: PS4, XOne, PS3, X360, Wii;\n",
    "2. Ретинги критиков и пользоваталей, очень слабо: WiiU, 3DS, PC;\n",
    "3. На продажи платформы PSV не влияют никакие оценки."
   ]
  },
  {
   "cell_type": "markdown",
   "metadata": {},
   "source": [
    "<a id='step38'></a>\n",
    "### 3.8 Общее распределение игр по жанрам. Самые прибыльные жанры"
   ]
  },
  {
   "cell_type": "code",
   "execution_count": 49,
   "metadata": {},
   "outputs": [],
   "source": [
    "genre_data_count = data.groupby('genre')['total_sales'].count().sort_values(ascending=False).reset_index()\n",
    "#считаю количество игр по жанрам"
   ]
  },
  {
   "cell_type": "code",
   "execution_count": 50,
   "metadata": {},
   "outputs": [
    {
     "name": "stdout",
     "output_type": "stream",
     "text": [
      "           genre  total_sales\n",
      "0         Action          435\n",
      "1        Shooter          304\n",
      "2   Role-Playing          180\n",
      "3         Sports          179\n",
      "4           Misc           84\n",
      "5       Platform           60\n",
      "6         Racing           53\n",
      "7       Fighting           44\n",
      "8     Simulation           34\n",
      "9      Adventure           27\n",
      "10      Strategy           12\n",
      "11        Puzzle            4\n"
     ]
    }
   ],
   "source": [
    "genre_data_sum = data.groupby('genre')['total_sales'].sum().sort_values(ascending=False).astype(int).reset_index()\n",
    "#считаю продажи игр по жанрам\n",
    "print(genre_data_sum)"
   ]
  },
  {
   "cell_type": "markdown",
   "metadata": {},
   "source": [
    "Выделяются жанры с высокими продажами: Action, Shooter.<br>\n",
    "Выделяются жанры с низкими продажами: Strategy, Puzzle."
   ]
  },
  {
   "cell_type": "code",
   "execution_count": 51,
   "metadata": {},
   "outputs": [],
   "source": [
    "genre_data = genre_data_count.merge(genre_data_sum, on='genre', how='left') #объединяю данные\n",
    "genre_data.rename(columns={'total_sales_x': 'quantity', 'total_sales_y': 'sales'}, inplace=True) #переименовываю колонки"
   ]
  },
  {
   "cell_type": "code",
   "execution_count": 52,
   "metadata": {},
   "outputs": [
    {
     "data": {
      "image/png": "[encoded data removed]",
      "text/plain": [
       "<Figure size 720x360 with 1 Axes>"
      ]
     },
     "metadata": {
      "needs_background": "light"
     },
     "output_type": "display_data"
    }
   ],
   "source": [
    "genre_data.plot(figsize=(10, 5))\n",
    "names = genre_data['genre']\n",
    " \n",
    "plt.xticks(np.arange(len(names)), names, rotation = 45)\n",
    "plt.title('Распределение выпуска и продаж игр по жанрам')\n",
    "plt.ylabel('Выпущено / продано')\n",
    "plt.xlabel('Жанр')\n",
    "plt.legend([\"Продано, млн. копий\", \"Выпущено игр, шт.\"]);"
   ]
  },
  {
   "cell_type": "code",
   "execution_count": 53,
   "metadata": {},
   "outputs": [
    {
     "name": "stdout",
     "output_type": "stream",
     "text": [
      "           genre  quantity  sales     Ratio\n",
      "0         Action       953    435  0.456453\n",
      "1   Role-Playing       339    180  0.530973\n",
      "2         Sports       256    179  0.699219\n",
      "3      Adventure       247     27  0.109312\n",
      "4        Shooter       235    304  1.293617\n",
      "5           Misc       180     84  0.466667\n",
      "6         Racing       115     53  0.460870\n",
      "7       Fighting       105     44  0.419048\n",
      "8       Platform        83     60  0.722892\n",
      "9     Simulation        78     34  0.435897\n",
      "10      Strategy        67     12  0.179104\n",
      "11        Puzzle        24      4  0.166667\n"
     ]
    }
   ],
   "source": [
    "genre_data['Ratio'] = genre_data['sales']/genre_data['quantity']\n",
    "#рассчитываю соотношение проданных игр к выпущенным\n",
    "print(genre_data)"
   ]
  },
  {
   "cell_type": "markdown",
   "metadata": {},
   "source": [
    "Выявляю закономерность, согласно которой чем больше выпущено разлчиных игр определённого жанра, тем выше суммарные продажи в этом жанре. <br>\n",
    "Однако данная закономерность не распространяется на жанр Shooter, который, находясь на 4м месте по количеству выпущенных игр, занимает 2е место по суммарным продажам, что является успешным кейсом и в этом жанре есть хиты, формирующие высокое соотношение проданных игр к выпущенным. Аналогично обращаю внимание на результат жанра Sports, в котором показатель такого соотношения также высок.<br>\n",
    "При этом жанр Action является безусловным лидером как по количеству выпущенных игр, так и по продажам."
   ]
  },
  {
   "cell_type": "markdown",
   "metadata": {},
   "source": [
    "<a id='conclusion3'></a>\n",
    "### Вывод 3"
   ]
  },
  {
   "cell_type": "markdown",
   "metadata": {},
   "source": [
    "С 1994 года наблюдается рост выпусков игр, в 2006 году впервые количество релизов превышает 1000 штук.<br>\n",
    "Срок существования платформ из ТОП-10 по продажам - 8-12 лет.<br>\n",
    "Платформы, актуальные (по которым были продажи) в 2016 году: 3DS, PC, PS3, PS4, PSV, Wii, WiiU, X360, XOne.<br><br>\n",
    "Для анализа данных актуальным периодом были приняты данные с 2012 года.<br><br>\n",
    "В актуальном периоде за 5 лет лидируют по продажам платформы:  PS4, PS3, X360, 3DS, XOne.<br>\n",
    "В 2015 и 2016 годах лидируют по продажам платформы:  PS4, XOne, 3DS.\n",
    "<br><br>\n",
    "Растущие, молодые и потенциально прибыльные платформы: PS4 и XOne.<br>\n",
    "Платформы, которые ожидаемо будут падать ещё глубже в следующем году, т.к. имеют замены: PS3, X360, Wii.<br>\n",
    "Платформы PC, карманных приставок 3DS и PSV также падают, однако в любом случае останутся актуальными на следующий год.<br><br>\n",
    "Границы нормального размаха продаж для платформ PS4 и XOne схожи, в среднем они составляют до 1.7 млн копий, однако на PS4 выбросы до 12 млн копий против 7 млн у XOne, что говорит о большей успешности хитовых игр на платформе PS4.<br>\n",
    "<br>\n",
    "<br>\n",
    "На продажи игр влияют:\n",
    "1. Рейтинги критиков, слабо, для платформ: PS4, XOne, PS3, X360, Wii;\n",
    "2. Ретинги критиков и пользоваталей, очень слабо: WiiU, 3DS, PC;\n",
    "3. На продажи платформы PSV не влияют никакие рейтинги.\n",
    "<br>\n",
    "<br>\n",
    "\n",
    "Жанры с высокими продажами: Action, Shooter.<br>\n",
    "Жанры с низкими продажами: Strategy, Puzzle.<br>\n",
    "Жанр Action - лидер по количеству игр.<br>\n",
    "Жанры Shooter и Sport имеют самые высокие показатели проданных игр к выпущенным.<br>"
   ]
  },
  {
   "cell_type": "markdown",
   "metadata": {},
   "source": [
    "<a id='step4'></a>\n",
    "## Шаг 4. Портрет пользователя каждого региона\n",
    "<a href='#step41'>4.1 Самые популярные платформы (топ-5) для пользователя каждого региона (NA, EU, JP). Различия в долях продаж</a><br><br>\n",
    "<a href='#step42'>4.2 Самые популярные жанры (топ-5) для пользователя каждого региона (NA, EU, JP)</a><br><br>\n",
    "<a href='#step43'>4.3 Влияет ли рейтинг ESRB на продажи в отдельном регионе для пользователя каждого региона (NA, EU, JP)?</a><br><br>\n",
    "<a href='#conclusion4'>Вывод 4</a><br>\n"
   ]
  },
  {
   "cell_type": "markdown",
   "metadata": {},
   "source": [
    "<a id='step41'></a>\n",
    "### 4.1 Самые популярные платформы (топ-5) для пользователя каждого региона (NA, EU, JP). Различия в долях продаж"
   ]
  },
  {
   "cell_type": "code",
   "execution_count": 54,
   "metadata": {},
   "outputs": [],
   "source": [
    "na_platforms = data.query('na_sales > 0').groupby(\n",
    "    'platform')['na_sales'].sum().sort_values(ascending=False).reset_index()\n",
    "#формирую датафрейм с данными о продажах по платформам в N/A регионе\n",
    "na_platforms = na_platforms.loc[:4] #оставляю топ-5\n",
    "na_platforms_sum = na_platforms['na_sales'].sum()\n",
    "na_platforms['%'] = (na_platforms['na_sales']/na_platforms_sum)\n",
    "na_platforms['%'] = na_platforms['%'].apply('{:.0%}'.format) #добавляю столбец с долями"
   ]
  },
  {
   "cell_type": "code",
   "execution_count": 55,
   "metadata": {},
   "outputs": [],
   "source": [
    "eu_platforms = data.query('eu_sales > 0').groupby('platform')['eu_sales'].sum().sort_values(ascending=False).reset_index()\n",
    "eu_platforms = eu_platforms.loc[:4]\n",
    "eu_platforms_sum = eu_platforms['eu_sales'].sum()\n",
    "eu_platforms['%'] = (eu_platforms['eu_sales']/eu_platforms_sum)\n",
    "eu_platforms['%'] = eu_platforms['%'].apply('{:.0%}'.format) "
   ]
  },
  {
   "cell_type": "code",
   "execution_count": 56,
   "metadata": {},
   "outputs": [],
   "source": [
    "jp_platforms = data.query('jp_sales > 0').groupby('platform')['jp_sales'].sum().sort_values(ascending=False).reset_index()\n",
    "jp_platforms = jp_platforms.loc[:4]\n",
    "jp_platforms_sum = jp_platforms['jp_sales'].sum()\n",
    "jp_platforms['%'] = (jp_platforms['jp_sales']/jp_platforms_sum)\n",
    "jp_platforms['%'] = jp_platforms['%'].apply('{:.0%}'.format) "
   ]
  },
  {
   "cell_type": "code",
   "execution_count": 57,
   "metadata": {},
   "outputs": [],
   "source": [
    "general_platforms = na_platforms.merge(eu_platforms, on='platform', how='outer')\n",
    "general_platforms = general_platforms.merge(jp_platforms, on='platform', how='outer').fillna(0)\n",
    "general_platforms.rename(columns={'%_x': '%', '%_y': '%'}, inplace=True)"
   ]
  },
  {
   "cell_type": "code",
   "execution_count": 58,
   "metadata": {},
   "outputs": [
    {
     "name": "stdout",
     "output_type": "stream",
     "text": [
      "Топ-5 платформ по регионам\n"
     ]
    },
    {
     "data": {
      "text/plain": [
       "<matplotlib.axes._subplots.AxesSubplot at 0x229172d8a48>"
      ]
     },
     "execution_count": 58,
     "metadata": {},
     "output_type": "execute_result"
    },
    {
     "data": {
      "image/png": "[encoded data removed]",
      "text/plain": [
       "<Figure size 1080x720 with 3 Axes>"
      ]
     },
     "metadata": {},
     "output_type": "display_data"
    }
   ],
   "source": [
    "print('Топ-5 платформ по регионам')\n",
    "fig, axes = plt.subplots(1,3, figsize = (15,10))\n",
    "general_platforms.query(\n",
    "    'na_sales > 0').plot(\n",
    "    kind='pie', labels=general_platforms.platform, y='na_sales', legend=False, title='N/A', autopct='%.0f', ax = axes[0])\n",
    "general_platforms.query(\n",
    "    'eu_sales > 0').plot(\n",
    "    kind='pie', labels=general_platforms.platform, y='eu_sales', legend=False, title='Europe', autopct='%.0f', ax = axes[1])\n",
    "general_platforms.query(\n",
    "    'jp_sales > 0').plot(\n",
    "    kind='pie', labels=general_platforms.platform, y='jp_sales', legend=False, title='Japan', autopct='%.0f', ax = axes[2])"
   ]
  },
  {
   "cell_type": "markdown",
   "metadata": {},
   "source": [
    "Визуализирую данные. Регионы отличаются по трендам, но для более точного анализа строю дополнительную таблицу."
   ]
  },
  {
   "cell_type": "code",
   "execution_count": 59,
   "metadata": {},
   "outputs": [
    {
     "data": {
      "text/html": [
       "<div>\n",
       "<style scoped>\n",
       "    .dataframe tbody tr th:only-of-type {\n",
       "        vertical-align: middle;\n",
       "    }\n",
       "\n",
       "    .dataframe tbody tr th {\n",
       "        vertical-align: top;\n",
       "    }\n",
       "\n",
       "    .dataframe thead th {\n",
       "        text-align: right;\n",
       "    }\n",
       "</style>\n",
       "<table border=\"1\" class=\"dataframe\">\n",
       "  <thead>\n",
       "    <tr style=\"text-align: right;\">\n",
       "      <th></th>\n",
       "      <th>platform</th>\n",
       "      <th>na_sales</th>\n",
       "      <th>%</th>\n",
       "      <th>eu_sales</th>\n",
       "      <th>%</th>\n",
       "      <th>jp_sales</th>\n",
       "      <th>%</th>\n",
       "    </tr>\n",
       "  </thead>\n",
       "  <tbody>\n",
       "    <tr>\n",
       "      <th>0</th>\n",
       "      <td>X360</td>\n",
       "      <td>140.05</td>\n",
       "      <td>28%</td>\n",
       "      <td>74.52</td>\n",
       "      <td>18%</td>\n",
       "      <td>0.00</td>\n",
       "      <td>0</td>\n",
       "    </tr>\n",
       "    <tr>\n",
       "      <th>1</th>\n",
       "      <td>PS4</td>\n",
       "      <td>108.74</td>\n",
       "      <td>22%</td>\n",
       "      <td>141.09</td>\n",
       "      <td>34%</td>\n",
       "      <td>15.96</td>\n",
       "      <td>9%</td>\n",
       "    </tr>\n",
       "    <tr>\n",
       "      <th>2</th>\n",
       "      <td>PS3</td>\n",
       "      <td>103.38</td>\n",
       "      <td>21%</td>\n",
       "      <td>106.86</td>\n",
       "      <td>26%</td>\n",
       "      <td>35.29</td>\n",
       "      <td>20%</td>\n",
       "    </tr>\n",
       "    <tr>\n",
       "      <th>3</th>\n",
       "      <td>XOne</td>\n",
       "      <td>93.12</td>\n",
       "      <td>19%</td>\n",
       "      <td>51.59</td>\n",
       "      <td>12%</td>\n",
       "      <td>0.00</td>\n",
       "      <td>0</td>\n",
       "    </tr>\n",
       "    <tr>\n",
       "      <th>4</th>\n",
       "      <td>3DS</td>\n",
       "      <td>55.31</td>\n",
       "      <td>11%</td>\n",
       "      <td>42.64</td>\n",
       "      <td>10%</td>\n",
       "      <td>87.79</td>\n",
       "      <td>51%</td>\n",
       "    </tr>\n",
       "    <tr>\n",
       "      <th>5</th>\n",
       "      <td>PSV</td>\n",
       "      <td>0.00</td>\n",
       "      <td>0</td>\n",
       "      <td>0.00</td>\n",
       "      <td>0</td>\n",
       "      <td>21.04</td>\n",
       "      <td>12%</td>\n",
       "    </tr>\n",
       "    <tr>\n",
       "      <th>6</th>\n",
       "      <td>WiiU</td>\n",
       "      <td>0.00</td>\n",
       "      <td>0</td>\n",
       "      <td>0.00</td>\n",
       "      <td>0</td>\n",
       "      <td>13.01</td>\n",
       "      <td>8%</td>\n",
       "    </tr>\n",
       "  </tbody>\n",
       "</table>\n",
       "</div>"
      ],
      "text/plain": [
       "  platform  na_sales    %  eu_sales    %  jp_sales    %\n",
       "0     X360    140.05  28%     74.52  18%      0.00    0\n",
       "1      PS4    108.74  22%    141.09  34%     15.96   9%\n",
       "2      PS3    103.38  21%    106.86  26%     35.29  20%\n",
       "3     XOne     93.12  19%     51.59  12%      0.00    0\n",
       "4      3DS     55.31  11%     42.64  10%     87.79  51%\n",
       "5      PSV      0.00    0      0.00    0     21.04  12%\n",
       "6     WiiU      0.00    0      0.00    0     13.01   8%"
      ]
     },
     "metadata": {},
     "output_type": "display_data"
    }
   ],
   "source": [
    "display(general_platforms)"
   ]
  },
  {
   "cell_type": "markdown",
   "metadata": {},
   "source": [
    "В каждом регионе ТОП-5 отличается.<br><br>\n",
    "Так в Европе самая продаваемая платформа: PS4, далее PS3, X360 и XOne.\n",
    "Это означает, что в будущем году продажи PS4 будут увеличиваться. Из карманных платформ в топ-5 входит 3DS.<br><br>\n",
    "В Японии почти всю долю рынка занимают карманные платформы: 3DS и PSV, в консолях лидирует PS3 (вероятен переход на PS4), а платформы XOne и X360 не продаются вообще.<br><br>\n",
    "В Северной Америке - ситуация аналогична Европейским, с разницей в том, что совокупные доли XOne и X360 примерно равны совокупным долям PS3 и PS4, в качестве карманной платформы из топ-5 также выступает 3DS.\n",
    "    "
   ]
  },
  {
   "cell_type": "markdown",
   "metadata": {},
   "source": [
    "<a id='step42'></a>\n",
    "### 4.2 Самые популярные жанры (топ-5) для пользователя каждого региона (NA, EU, JP)"
   ]
  },
  {
   "cell_type": "code",
   "execution_count": 60,
   "metadata": {},
   "outputs": [],
   "source": [
    "na_genres = data.query('na_sales > 0').groupby(\n",
    "    'genre')['na_sales'].sum().sort_values(ascending=False).reset_index()\n",
    "#формирую датафрейм с данными о продажах по жанрам в N/A регионе\n",
    "na_genres = na_genres.loc[:4] #оставляю топ-5\n",
    "na_genres_sum = na_genres['na_sales'].sum()\n",
    "na_genres['%'] = (na_genres['na_sales']/na_genres_sum)\n",
    "na_genres['%'] = na_genres['%'].apply('{:.0%}'.format) #добавляю столбец с долями"
   ]
  },
  {
   "cell_type": "code",
   "execution_count": 61,
   "metadata": {},
   "outputs": [],
   "source": [
    "eu_genres = data.query('eu_sales > 0').groupby('genre')['eu_sales'].sum().sort_values(ascending=False).reset_index()\n",
    "eu_genres = eu_genres.loc[:4]\n",
    "eu_genres_sum = eu_genres['eu_sales'].sum()\n",
    "eu_genres['%'] = (eu_genres['eu_sales']/eu_platforms_sum)\n",
    "eu_genres['%'] = eu_genres['%'].apply('{:.0%}'.format) "
   ]
  },
  {
   "cell_type": "code",
   "execution_count": 62,
   "metadata": {},
   "outputs": [],
   "source": [
    "jp_genres = data.query('jp_sales > 0').groupby('genre')['jp_sales'].sum().sort_values(ascending=False).reset_index()\n",
    "jp_genres = jp_genres.loc[:4]\n",
    "jp_genres_sum = jp_genres['jp_sales'].sum()\n",
    "jp_genres['%'] = (jp_genres['jp_sales']/jp_genres_sum)\n",
    "jp_genres['%'] = jp_genres['%'].apply('{:.0%}'.format) "
   ]
  },
  {
   "cell_type": "code",
   "execution_count": 63,
   "metadata": {},
   "outputs": [],
   "source": [
    "general_genres = na_genres.merge(eu_genres, on='genre', how='outer')\n",
    "general_genres = general_genres.merge(jp_genres, on='genre', how='outer').fillna(0)\n",
    "general_genres.rename(columns={'%_x': '%', '%_y': '%'}, inplace=True)"
   ]
  },
  {
   "cell_type": "code",
   "execution_count": 64,
   "metadata": {},
   "outputs": [
    {
     "name": "stdout",
     "output_type": "stream",
     "text": [
      "Топ-5 жанров по регионам\n"
     ]
    },
    {
     "data": {
      "image/png": "[encoded data removed]",
      "text/plain": [
       "<Figure size 1080x720 with 3 Axes>"
      ]
     },
     "metadata": {},
     "output_type": "display_data"
    }
   ],
   "source": [
    "print('Топ-5 жанров по регионам')\n",
    "fig, axes = plt.subplots(1,3, figsize = (15,10))\n",
    "\n",
    "general_genres.query(\n",
    "    'na_sales > 0').plot(\n",
    "    kind='pie', labels=general_genres.genre, y='na_sales', legend=False, title='N/A', autopct='%.0f', ax = axes[0])\n",
    "general_genres.query(\n",
    "    'eu_sales > 0').plot(\n",
    "    kind='pie', labels=general_genres.genre, y='eu_sales', legend=False, title='Europe', autopct='%.0f', ax = axes[1])\n",
    "general_genres.query(\n",
    "    'jp_sales > 0').plot(\n",
    "    kind='pie', labels=general_genres.genre, y='jp_sales', legend=False, title='Japan', autopct='%.0f', ax = axes[2]);"
   ]
  },
  {
   "cell_type": "markdown",
   "metadata": {},
   "source": [
    "Визуализирую данные. Регионы отличаются по трендам, но для более точного анализа строю дополнительную таблицу."
   ]
  },
  {
   "cell_type": "code",
   "execution_count": 65,
   "metadata": {},
   "outputs": [
    {
     "data": {
      "text/html": [
       "<div>\n",
       "<style scoped>\n",
       "    .dataframe tbody tr th:only-of-type {\n",
       "        vertical-align: middle;\n",
       "    }\n",
       "\n",
       "    .dataframe tbody tr th {\n",
       "        vertical-align: top;\n",
       "    }\n",
       "\n",
       "    .dataframe thead th {\n",
       "        text-align: right;\n",
       "    }\n",
       "</style>\n",
       "<table border=\"1\" class=\"dataframe\">\n",
       "  <thead>\n",
       "    <tr style=\"text-align: right;\">\n",
       "      <th></th>\n",
       "      <th>genre</th>\n",
       "      <th>na_sales</th>\n",
       "      <th>%</th>\n",
       "      <th>eu_sales</th>\n",
       "      <th>%</th>\n",
       "      <th>jp_sales</th>\n",
       "      <th>%</th>\n",
       "    </tr>\n",
       "  </thead>\n",
       "  <tbody>\n",
       "    <tr>\n",
       "      <th>0</th>\n",
       "      <td>Action</td>\n",
       "      <td>177.00</td>\n",
       "      <td>35%</td>\n",
       "      <td>158.43</td>\n",
       "      <td>38%</td>\n",
       "      <td>49.18</td>\n",
       "      <td>35%</td>\n",
       "    </tr>\n",
       "    <tr>\n",
       "      <th>1</th>\n",
       "      <td>Shooter</td>\n",
       "      <td>144.77</td>\n",
       "      <td>29%</td>\n",
       "      <td>113.47</td>\n",
       "      <td>27%</td>\n",
       "      <td>9.23</td>\n",
       "      <td>7%</td>\n",
       "    </tr>\n",
       "    <tr>\n",
       "      <th>2</th>\n",
       "      <td>Sports</td>\n",
       "      <td>81.38</td>\n",
       "      <td>16%</td>\n",
       "      <td>68.84</td>\n",
       "      <td>17%</td>\n",
       "      <td>0.00</td>\n",
       "      <td>0</td>\n",
       "    </tr>\n",
       "    <tr>\n",
       "      <th>3</th>\n",
       "      <td>Role-Playing</td>\n",
       "      <td>60.65</td>\n",
       "      <td>12%</td>\n",
       "      <td>46.76</td>\n",
       "      <td>11%</td>\n",
       "      <td>59.12</td>\n",
       "      <td>42%</td>\n",
       "    </tr>\n",
       "    <tr>\n",
       "      <th>4</th>\n",
       "      <td>Misc</td>\n",
       "      <td>38.13</td>\n",
       "      <td>8%</td>\n",
       "      <td>0.00</td>\n",
       "      <td>0</td>\n",
       "      <td>12.45</td>\n",
       "      <td>9%</td>\n",
       "    </tr>\n",
       "    <tr>\n",
       "      <th>5</th>\n",
       "      <td>Racing</td>\n",
       "      <td>0.00</td>\n",
       "      <td>0</td>\n",
       "      <td>27.29</td>\n",
       "      <td>7%</td>\n",
       "      <td>0.00</td>\n",
       "      <td>0</td>\n",
       "    </tr>\n",
       "    <tr>\n",
       "      <th>6</th>\n",
       "      <td>Simulation</td>\n",
       "      <td>0.00</td>\n",
       "      <td>0</td>\n",
       "      <td>0.00</td>\n",
       "      <td>0</td>\n",
       "      <td>10.35</td>\n",
       "      <td>7%</td>\n",
       "    </tr>\n",
       "  </tbody>\n",
       "</table>\n",
       "</div>"
      ],
      "text/plain": [
       "          genre  na_sales    %  eu_sales    %  jp_sales    %\n",
       "0        Action    177.00  35%    158.43  38%     49.18  35%\n",
       "1       Shooter    144.77  29%    113.47  27%      9.23   7%\n",
       "2        Sports     81.38  16%     68.84  17%      0.00    0\n",
       "3  Role-Playing     60.65  12%     46.76  11%     59.12  42%\n",
       "4          Misc     38.13   8%      0.00    0     12.45   9%\n",
       "5        Racing      0.00    0     27.29   7%      0.00    0\n",
       "6    Simulation      0.00    0      0.00    0     10.35   7%"
      ]
     },
     "metadata": {},
     "output_type": "display_data"
    }
   ],
   "source": [
    "display(general_genres)"
   ]
  },
  {
   "cell_type": "markdown",
   "metadata": {},
   "source": [
    "Безусловный лидер во Европе и Северной Америке - жанр Action, в Японии - Role-Playing.\n",
    "В Европе и Северной Америке второй по популярности жанр Shooter, в то время как в Японии Action.\n",
    "На третьем и четвертом месте в Европе и Северной Америке Sports и Role-Playing.\n"
   ]
  },
  {
   "cell_type": "markdown",
   "metadata": {},
   "source": [
    "<a id='step43'></a>\n",
    "### 4.3 Влияет ли рейтинг ESRB на продажи в отдельном регионе для пользователя каждого региона (NA, EU, JP)?"
   ]
  },
  {
   "cell_type": "code",
   "execution_count": 66,
   "metadata": {},
   "outputs": [],
   "source": [
    "na_rating = data.query('na_sales > 0').groupby(\n",
    "    'rating')['na_sales'].sum().sort_values(ascending=False).reset_index()\n",
    "#формирую датафрейм с данными о продажах по рейтингам в N/A регионе\n",
    "na_rating_sum = na_rating['na_sales'].sum()\n",
    "na_rating['%'] = (na_rating['na_sales']/na_rating_sum)\n",
    "na_rating['%'] = na_rating['%'].apply('{:.0%}'.format) #добавляю столбец с долями"
   ]
  },
  {
   "cell_type": "code",
   "execution_count": 67,
   "metadata": {},
   "outputs": [
    {
     "name": "stdout",
     "output_type": "stream",
     "text": [
      "  rating  eu_sales    %\n",
      "0      M    193.96  39%\n",
      "1      E    111.79  22%\n",
      "2   UNKN     89.32  18%\n",
      "3   E10+     54.84  11%\n",
      "4      T     52.96  11%\n"
     ]
    }
   ],
   "source": [
    "eu_rating = data.query('eu_sales > 0').groupby('rating')['eu_sales'].sum().sort_values(ascending=False).reset_index()\n",
    "eu_rating_sum = eu_rating['eu_sales'].sum()\n",
    "eu_rating['%'] = (eu_rating['eu_sales']/eu_rating_sum)\n",
    "eu_rating['%'] = eu_rating['%'].apply('{:.0%}'.format) \n",
    "\n",
    "print(eu_rating)"
   ]
  },
  {
   "cell_type": "code",
   "execution_count": 68,
   "metadata": {},
   "outputs": [],
   "source": [
    "jp_rating = data.query('jp_sales > 0').groupby('rating')['jp_sales'].sum().sort_values(ascending=False).reset_index()\n",
    "jp_rating_sum = jp_rating['jp_sales'].sum()\n",
    "jp_rating['%'] = (jp_rating['jp_sales']/jp_rating_sum)\n",
    "jp_rating['%'] = jp_rating['%'].apply('{:.0%}'.format) "
   ]
  },
  {
   "cell_type": "code",
   "execution_count": 69,
   "metadata": {},
   "outputs": [],
   "source": [
    "general_rating = na_rating.merge(eu_rating, on='rating', how='outer')\n",
    "general_rating = general_rating.merge(jp_rating, on='rating', how='outer').fillna(0)\n",
    "general_rating.rename(columns={'%_x': '%', '%_y': '%'}, inplace=True)"
   ]
  },
  {
   "cell_type": "code",
   "execution_count": 70,
   "metadata": {},
   "outputs": [
    {
     "name": "stdout",
     "output_type": "stream",
     "text": [
      "Топ-5 рейтингов ESRB по регионам\n"
     ]
    },
    {
     "data": {
      "image/png": "[encoded data removed]",
      "text/plain": [
       "<Figure size 1080x720 with 3 Axes>"
      ]
     },
     "metadata": {},
     "output_type": "display_data"
    }
   ],
   "source": [
    "print('Топ-5 рейтингов ESRB по регионам')\n",
    "fig, axes = plt.subplots(1,3, figsize = (15,10))\n",
    "\n",
    "general_rating.plot(\n",
    "    kind='pie', labels=general_rating.rating, y='na_sales', legend=False, title='N/A', autopct='%.0f', ax = axes[0])\n",
    "general_rating.plot(\n",
    "    kind='pie', labels=general_rating.rating, y='eu_sales', legend=False, title='Europe', autopct='%.0f', ax = axes[1])\n",
    "general_rating.plot(\n",
    "    kind='pie', labels=general_rating.rating, y='jp_sales', legend=False, title='Japan', autopct='%.0f', ax = axes[2]);"
   ]
  },
  {
   "cell_type": "markdown",
   "metadata": {},
   "source": [
    "Визуализирую данные. Регионы отличаются по трендам, но для более точного анализа строю дополнительную таблицу."
   ]
  },
  {
   "cell_type": "code",
   "execution_count": 71,
   "metadata": {},
   "outputs": [
    {
     "data": {
      "text/html": [
       "<div>\n",
       "<style scoped>\n",
       "    .dataframe tbody tr th:only-of-type {\n",
       "        vertical-align: middle;\n",
       "    }\n",
       "\n",
       "    .dataframe tbody tr th {\n",
       "        vertical-align: top;\n",
       "    }\n",
       "\n",
       "    .dataframe thead th {\n",
       "        text-align: right;\n",
       "    }\n",
       "</style>\n",
       "<table border=\"1\" class=\"dataframe\">\n",
       "  <thead>\n",
       "    <tr style=\"text-align: right;\">\n",
       "      <th></th>\n",
       "      <th>rating</th>\n",
       "      <th>na_sales</th>\n",
       "      <th>%</th>\n",
       "      <th>eu_sales</th>\n",
       "      <th>%</th>\n",
       "      <th>jp_sales</th>\n",
       "      <th>%</th>\n",
       "    </tr>\n",
       "  </thead>\n",
       "  <tbody>\n",
       "    <tr>\n",
       "      <th>0</th>\n",
       "      <td>M</td>\n",
       "      <td>231.57</td>\n",
       "      <td>40%</td>\n",
       "      <td>193.96</td>\n",
       "      <td>39%</td>\n",
       "      <td>21.20</td>\n",
       "      <td>12%</td>\n",
       "    </tr>\n",
       "    <tr>\n",
       "      <th>1</th>\n",
       "      <td>E</td>\n",
       "      <td>113.44</td>\n",
       "      <td>19%</td>\n",
       "      <td>111.79</td>\n",
       "      <td>22%</td>\n",
       "      <td>27.62</td>\n",
       "      <td>15%</td>\n",
       "    </tr>\n",
       "    <tr>\n",
       "      <th>2</th>\n",
       "      <td>UNKN</td>\n",
       "      <td>100.13</td>\n",
       "      <td>17%</td>\n",
       "      <td>89.32</td>\n",
       "      <td>18%</td>\n",
       "      <td>95.62</td>\n",
       "      <td>54%</td>\n",
       "    </tr>\n",
       "    <tr>\n",
       "      <th>3</th>\n",
       "      <td>E10+</td>\n",
       "      <td>75.09</td>\n",
       "      <td>13%</td>\n",
       "      <td>54.84</td>\n",
       "      <td>11%</td>\n",
       "      <td>8.19</td>\n",
       "      <td>5%</td>\n",
       "    </tr>\n",
       "    <tr>\n",
       "      <th>4</th>\n",
       "      <td>T</td>\n",
       "      <td>66.02</td>\n",
       "      <td>11%</td>\n",
       "      <td>52.96</td>\n",
       "      <td>11%</td>\n",
       "      <td>25.76</td>\n",
       "      <td>14%</td>\n",
       "    </tr>\n",
       "  </tbody>\n",
       "</table>\n",
       "</div>"
      ],
      "text/plain": [
       "  rating  na_sales    %  eu_sales    %  jp_sales    %\n",
       "0      M    231.57  40%    193.96  39%     21.20  12%\n",
       "1      E    113.44  19%    111.79  22%     27.62  15%\n",
       "2   UNKN    100.13  17%     89.32  18%     95.62  54%\n",
       "3   E10+     75.09  13%     54.84  11%      8.19   5%\n",
       "4      T     66.02  11%     52.96  11%     25.76  14%"
      ]
     },
     "metadata": {},
     "output_type": "display_data"
    }
   ],
   "source": [
    "display(general_rating)"
   ]
  },
  {
   "cell_type": "markdown",
   "metadata": {},
   "source": [
    "В Европе и N/A абсолютно аналогичная картина: больше всего игр продаётся с рейтингом М, далее E, неизвестныйб E10+ и Т.<br>\n",
    "В Японии большая часть продаж у игр с неисвестным (не установленным) рейтингом, и почти в равных долях E, M, T (минимально Е10+)."
   ]
  },
  {
   "cell_type": "markdown",
   "metadata": {},
   "source": [
    "<a id='conclusion4'></a>\n",
    "### Вывод 4"
   ]
  },
  {
   "cell_type": "markdown",
   "metadata": {},
   "source": [
    "В каждом регионе есть отличия по продаваемым платформам и жанрам<br><br>\n",
    "Так в Европе самая продаваемая платформа: PS4, далее PS3, X360 и XOne.\n",
    "Это означает, что в будущем году продажи PS4 будут увеличиваться. Из карманных платформ в топ-5 входит 3DS.<br>\n",
    "В Японии почти всю долю рынка занимают карманные платформы: 3DS и PSV, в консолях лидирует PS3 (вероятен переход на PS4), а платформы XOne и X360 не продаются вообще.<br>\n",
    "В Северной Америке - ситуация аналогична Европейским, с разницей в том, что совокупные доли XOne и X360 примерно равны совокупным долям PS3 и PS4, в качестве карманной платформы из топ-5 также выступает 3DS.\n",
    "<br><br>\n",
    "Безусловный лидер во Европе и Северной Америке - жанр Action, в Японии - Role-Playing.\n",
    "В Европе и Северной Америке второй по популярности жанр Shooter, в то время как в Японии Action.\n",
    "На третьем и четвертом месте в Европе и Северной Америке Sports и Role-Playing.<br><br>\n",
    "В Европе и Северной полностью аналогичная картина: больше всего игр продаётся с рейтингом М, далее E, неизвестныйб E10+ и Т.<br>\n",
    "В Японии большая часть продаж у игр с неисвестным (не установленным) рейтингом, и почти в равных долях E, M, T (минимально Е10+)."
   ]
  },
  {
   "cell_type": "markdown",
   "metadata": {},
   "source": [
    "<a id='step5'></a>\n",
    "## Шаг 5. Проверка гипотез\n",
    "<a href='#step51'>5.1 Средние пользовательские рейтинги платформ Xbox One и PC одинаковые</a><br><br>\n",
    "<a href='#step52'>5.2 Средние пользовательские рейтинги жанров Action (англ. «действие», экшен-игры) и Sports (англ. «спортивные соревнования») разные</a><br><br>\n",
    "<a href='#conclusion5'>Вывод 5</a><br>\n"
   ]
  },
  {
   "cell_type": "markdown",
   "metadata": {},
   "source": [
    "<a id='step51'></a>\n",
    "### 5.1 Средние пользовательские рейтинги платформ Xbox One и PC одинаковые"
   ]
  },
  {
   "cell_type": "code",
   "execution_count": 72,
   "metadata": {},
   "outputs": [],
   "source": [
    "user_score_xone = data.query('platform == \"XOne\" & user_score < 100')['user_score']\n",
    "user_score_pc = data.query('platform == \"PC\" & user_score < 100')['user_score']\n"
   ]
  },
  {
   "cell_type": "markdown",
   "metadata": {},
   "source": [
    "Формирую массивы с данными."
   ]
  },
  {
   "cell_type": "code",
   "execution_count": 73,
   "metadata": {},
   "outputs": [
    {
     "data": {
      "image/png": "[encoded data removed]",
      "text/plain": [
       "<Figure size 1080x504 with 1 Axes>"
      ]
     },
     "metadata": {
      "needs_background": "light"
     },
     "output_type": "display_data"
    }
   ],
   "source": [
    "user_score_xone.hist(bins=30, alpha = 0.9)\n",
    "user_score_pc.hist(bins=50, alpha = 0.6, figsize=(15, 7))\n",
    "plt.title('Гистограмма рейтингов по платформам')\n",
    "plt.legend([\"PC\", \"XOne\"])\n",
    "plt.ylabel('Количество оценок')\n",
    "plt.xlabel('Оценка пользователей');"
   ]
  },
  {
   "cell_type": "markdown",
   "metadata": {},
   "source": [
    "Диаграмма скошена влево. Выбросы в зонее <4 баллов."
   ]
  },
  {
   "cell_type": "code",
   "execution_count": 74,
   "metadata": {},
   "outputs": [],
   "source": [
    "user_score_xone = user_score_xone[user_score_xone>=4]\n",
    "user_score_pc = user_score_pc[user_score_pc>=4]"
   ]
  },
  {
   "cell_type": "markdown",
   "metadata": {},
   "source": [
    "Удаляю выбросы."
   ]
  },
  {
   "cell_type": "code",
   "execution_count": 75,
   "metadata": {
    "scrolled": true
   },
   "outputs": [
    {
     "name": "stdout",
     "output_type": "stream",
     "text": [
      "Дисперсия для рейтингов XOne: 1.30\n",
      "Дисперсия для рейтингов PC: 1.59\n"
     ]
    }
   ],
   "source": [
    "print('Дисперсия для рейтингов XOne: {:.2f}'.format(np.var(user_score_xone))) #рассчитываю дисперсии\n",
    "print('Дисперсия для рейтингов PC: {:.2f}'.format(np.var(user_score_pc)))"
   ]
  },
  {
   "cell_type": "markdown",
   "metadata": {},
   "source": [
    "Дисперсии не равны."
   ]
  },
  {
   "cell_type": "markdown",
   "metadata": {},
   "source": [
    "Выбор критерия для проверки гипотезы:\n",
    "1. Тип данных: количественные, непрерывные;\n",
    "2. Данные ведут себя как при нормальном распределении;\n",
    "3. Данные из выборок независимы друг от друга (в каждой выборке представлены разные игры);\n",
    "4. В сравнении участвуют средние показатели из выборки.\n",
    "<br>\n",
    "\n",
    "Исходя из этих пунктов выбираю критерий Стьюдента (t-test) \n",
    "<br>\n",
    "Исходя из того, что дисперсии выборок не равны,при расчёте передаю параметр <i>equal_var = False</i>.<br>\n",
    "Пороговое значение alpha - 5%"
   ]
  },
  {
   "cell_type": "markdown",
   "metadata": {},
   "source": [
    "Формулирую нулевую гипотезу:<br>\n",
    "Средние пользовательские рейтинги платформ XOne и PC равны.<br>\n",
    "Альтернативная гипотеза:<br>\n",
    "Средние пользовательские рейтинги платформы XOne отличаются от рейтингов платформы PC<br>\n",
    "<br>\n",
    "Для проверки гипотез использовал массивы данных с рейтингами, отсортированные по платформе, очищенные от выбросов.<br>"
   ]
  },
  {
   "cell_type": "code",
   "execution_count": 76,
   "metadata": {},
   "outputs": [
    {
     "name": "stdout",
     "output_type": "stream",
     "text": [
      "p-значение:0.410\n",
      "Не получилось отвергнуть нулевую гипотезу\n"
     ]
    }
   ],
   "source": [
    "alpha = 0.05 #выбираю значение согласно примеру в теоретической части\n",
    "\n",
    "results = st.ttest_ind(\n",
    "    user_score_xone, \n",
    "    user_score_pc,\n",
    "    equal_var = False)#дисперсии разные\n",
    "\n",
    "print('p-значение:{:.3f}'.format(results.pvalue))\n",
    "\n",
    "if (results.pvalue < alpha):\n",
    "    print(\"Отвергаем нулевую гипотезу\")\n",
    "else:\n",
    "    print(\"Не получилось отвергнуть нулевую гипотезу\")"
   ]
  },
  {
   "cell_type": "markdown",
   "metadata": {},
   "source": [
    "<a id='step52'></a>\n",
    "### 5.2 Средние пользовательские рейтинги жанров Action (англ. «действие», экшен-игры) и Sports (англ. «спортивные соревнования») разные"
   ]
  },
  {
   "cell_type": "markdown",
   "metadata": {},
   "source": [
    "<font color=grey>Задайте самостоятельно пороговое значение alpha.\n",
    "Поясните как вы сформулировали нулевую и альтернативную гипотезы;\n",
    "Поясните как какой критерий применили для проверки гипотез и почему.</font>"
   ]
  },
  {
   "cell_type": "code",
   "execution_count": 77,
   "metadata": {},
   "outputs": [],
   "source": [
    "user_score_action = data.query('genre == \"Action\" & user_score < 100')['user_score']\n",
    "user_score_sports = data.query('genre == \"Sports\" & user_score < 100')['user_score']"
   ]
  },
  {
   "cell_type": "markdown",
   "metadata": {},
   "source": [
    "Формирую массивы с данными."
   ]
  },
  {
   "cell_type": "code",
   "execution_count": 78,
   "metadata": {},
   "outputs": [
    {
     "data": {
      "image/png": "[encoded data removed]",
      "text/plain": [
       "<Figure size 1080x504 with 1 Axes>"
      ]
     },
     "metadata": {
      "needs_background": "light"
     },
     "output_type": "display_data"
    }
   ],
   "source": [
    "user_score_action.hist(bins=30, alpha = 0.9)\n",
    "user_score_sports.hist(bins=50, alpha = 0.6, figsize=(15, 7))\n",
    "plt.title('Гистограмма рейтингов по жанрам')\n",
    "plt.legend([\"Sports\", \"Action\"])\n",
    "plt.ylabel('Количество оценок')\n",
    "plt.xlabel('Оценка пользователей');"
   ]
  },
  {
   "cell_type": "markdown",
   "metadata": {},
   "source": [
    "Диаграмма скошена влево. Выбросы в зонее <3 баллов."
   ]
  },
  {
   "cell_type": "code",
   "execution_count": 79,
   "metadata": {},
   "outputs": [],
   "source": [
    "user_score_action = user_score_action[user_score_action>=3]\n",
    "user_score_sports = user_score_sports[user_score_sports>=3]"
   ]
  },
  {
   "cell_type": "markdown",
   "metadata": {},
   "source": [
    "Удаляю выбросы."
   ]
  },
  {
   "cell_type": "code",
   "execution_count": 80,
   "metadata": {
    "scrolled": true
   },
   "outputs": [
    {
     "name": "stdout",
     "output_type": "stream",
     "text": [
      "Дисперсия для рейтингов Action: 1.60\n",
      "Дисперсия для рейтингов Sports: 1.97\n"
     ]
    }
   ],
   "source": [
    "print('Дисперсия для рейтингов Action: {:.2f}'.format(np.var(user_score_action))) #расcчитываю дисперсии\n",
    "print('Дисперсия для рейтингов Sports: {:.2f}'.format(np.var(user_score_sports)))"
   ]
  },
  {
   "cell_type": "markdown",
   "metadata": {},
   "source": [
    "Дисперсии не равны."
   ]
  },
  {
   "cell_type": "markdown",
   "metadata": {},
   "source": [
    "Выбор критерия для проверки гипотезы:\n",
    "1. Тип данных: количественные, непрерывные;\n",
    "2. Данные ведут себя как при нормальном распределении;\n",
    "3. Данные из выборок независимы друг от друга (в каждой выборке представлены разные игры);\n",
    "4. В сравнении участвуют средние показатели из выборки.\n",
    "<br>\n",
    "\n",
    "Исходя из этих пунктов выбираю критерий Стьюдента (t-test) \n",
    "<br>\n",
    "Исходя из того, что дисперсии выборок не равны,при расчёте передаю параметр <i>equal_var = False</i>.<br>\n",
    "Пороговое значение alpha - 5%"
   ]
  },
  {
   "cell_type": "markdown",
   "metadata": {},
   "source": [
    "Формулирую нулевую гипотезу:<br>\n",
    "Средние пользовательские рейтинги жанров Action и Sports равны.<br>\n",
    "Альтернативная гипотеза:<br>\n",
    "Средние пользовательские рейтинги жанра Action отличаются от рейтингов жанра Sports.<br>\n",
    "<br>\n",
    "Для проверки гипотез использовал массивы данных с рейтингами, отсортированные по платформе, очищенные от выбросов.<br>"
   ]
  },
  {
   "cell_type": "code",
   "execution_count": 81,
   "metadata": {},
   "outputs": [
    {
     "name": "stdout",
     "output_type": "stream",
     "text": [
      "p-значение:0.000\n",
      "Отвергаем нулевую гипотезу\n"
     ]
    }
   ],
   "source": [
    "alpha = 0.05 #выбираю значение согласно примеру в теоретической части\n",
    "\n",
    "results = st.ttest_ind(\n",
    "    user_score_action, \n",
    "    user_score_sports,\n",
    "    equal_var = False)#дисперсии разные\n",
    "\n",
    "print('p-значение:{:.3f}'.format(results.pvalue))\n",
    "\n",
    "if (results.pvalue < alpha):\n",
    "    print(\"Отвергаем нулевую гипотезу\")\n",
    "else:\n",
    "    print(\"Не получилось отвергнуть нулевую гипотезу\")"
   ]
  },
  {
   "cell_type": "markdown",
   "metadata": {},
   "source": [
    "<a id='conclusion5'></a>\n",
    "### Вывод 5"
   ]
  },
  {
   "cell_type": "markdown",
   "metadata": {},
   "source": [
    "С высокой вероятностью средние пользовательские рейтинги платформ XOne и PC равны.<br>\n",
    "Средние пользовательские рейтинги жанра Action отличаются от рейтингов жанра Sports."
   ]
  },
  {
   "cell_type": "markdown",
   "metadata": {},
   "source": [
    "<a id='step6'></a>\n",
    "## Шаг 6. Общий вывод\n"
   ]
  },
  {
   "cell_type": "markdown",
   "metadata": {},
   "source": [
    "### Информация о файле\n",
    "В исходном датафрейме 16715 строк и 11 колонок, имеются пропуски в столбцах: Name, Year_of_Release, Genre, Critic_Score, User_Score, Rating.<br>\n",
    "В сторонних источниках дополнительно были найдены значения столбца Rating с расшифровкой значений рейтинга ESRB.<br><br>\n",
    "### Подготовка данных\n",
    "Названия столбцов были приведены к нижнему регистру.<br><br>\n",
    "В столбце year_of_release были удалены строки с пропусками (1.6% данных);<br>\n",
    "В столбцах: year_of_release, critic_score тип данных был заменен на int, в столбце user_score на float;<br>\n",
    "В столбцах: critic_score, name, genre, user_score и rating пропуски были замены на легкосортируемые значения.<br>\n",
    "<br>\n",
    "В столбце total_sales были посчитаны суммарные продажи во всех регионах.\n",
    "<br><br>\n",
    "### Исследовательский анализ данных\n",
    "Средний срок существования платформ из ТОП-10 по продажам - 8-12 лет.<br>\n",
    "Для анализа данных актуальным периодом были приняты данные с 2012 года.<br>\n",
    "\n",
    "Платформы, актуальные (по которым были продажи) в 2016 году: 3DS, PC, PS3, PS4, PSV, Wii, WiiU, X360, XOne.<br><br>\n",
    "В 2015 и 2016 годах лидируют по продажам платформы:  PS4, XOne, 3DS.<br>\n",
    "Платформы, которые ожидаемо будут падать или исчезнут в следующем году, т.к. имеют замены: PS3, X360, Wii.<br>\n",
    "Соответственно актуальными в 2017 останутся платформы:\n",
    "1. Консольные: PS4, XOne, WiiU;\n",
    "2. Карманные: 3DS, PSV;\n",
    "3. PC.\n",
    "\n",
    "Остальные либо исчезнут совсем, либо будут иметь минимальные продажи.\n",
    "<br><br>\n",
    "\n",
    "Растущие, молодые и потенциально прибыльные платформы: <strong>PS4 и XOne</strong>.<br>\n",
    "Границы нормального размаха продаж для платформ PS4 и XOne схожи, в среднем они составляют до 1.7 млн копий, однако на PS4 выбросы до 12 млн копий против 7 млн у XOne, что говорит о большей успешности хитовых игр на платформе PS4.<br>\n",
    "<br>\n",
    "<br>\n",
    "На продажи игр влияют:\n",
    "1. Рейтинги критиков, слабо, для платформ: PS4, XOne, PS3, X360, Wii;\n",
    "2. Ретинги критиков и пользоваталей, очень слабо: WiiU, 3DS, PC;\n",
    "3. На продажи платформы PSV не влияют никакие рейтинги.\n",
    "<br>\n",
    "<br>\n",
    "\n",
    "Жанры с высокими продажами: Action, Shooter.<br>\n",
    "Жанры с низкими продажами: Strategy, Puzzle.<br>\n",
    "Жанр Action - лидер по количеству выпущенных и проданных игр.<br>\n",
    "Жанры Shooter и Sport имеют самые высокие показатели проданных игр к выпущенным.<br><br>\n",
    "### Портрет пользователя каждого региона\n",
    "Регион Европа:<br>\n",
    "&bull; топовые платформы PS4 и PS3 (консоли), что говорит о дальнейшем потенциальном росте именно PS4, а не XOne. Карманная платформа с низкой долей продаж - 3DS;<br>\n",
    "&bull; жанры самых продаваемых игр - Action, Shooter;\n",
    "&bull; самые продаваемые игры с рейтингом: M и Е.\n",
    "<br><br>\n",
    "Регион Северная Америка:<br>\n",
    "&bull; топовые платформы поддерживают паритет, так PS4 и PS3 в общей доле равны XOne и X360. Соответственно PS4 будет развиваться одинакого с XOne. Карманная платформа с низкой долей продаж - 3DS.<br>\n",
    "&bull; жанры самых продаваемых игр - Action, Shooter;<br>\n",
    "&bull; самые продаваемые игры с рейтингом: M и Е.\n",
    "<br><br>\n",
    "Регион Япония:<br> \n",
    "&bull; топовые платформы представлены карманными 3DS и PSV, в консолях с отрывом от карманных платформ PS3 (вероятен переход на PS4), а платформы XOne и X360 не продаются вообще;<br>\n",
    "&bull; жанры самых продаваемых игр - Role-Playing, Action;<br>\n",
    "&bull; большая часть продаж у игр с неисвестным (не установленным) рейтингом, и почти в равных долях E, M, T.\n",
    "<br><br>\n",
    "В целом в регионах Европа и Северная Америка портреты пользователей схожи, в то время как в Японии совершенно другие предпочтения как по платформам, так и по жанрам.\n",
    "<br><br>\n",
    "### Проверка гипотез\n",
    "С высокой вероятностью средние пользовательские рейтинги платформ XOne и PC равны.<br>\n",
    "Средние пользовательские рейтинги жанра Action отличаются от рейтингов жанра Sports."
   ]
  }
 ],
 "metadata": {
  "kernelspec": {
   "display_name": "Python 3",
   "language": "python",
   "name": "python3"
  },
  "language_info": {
   "codemirror_mode": {
    "name": "ipython",
    "version": 3
   },
   "file_extension": ".py",
   "mimetype": "text/x-python",
   "name": "python",
   "nbconvert_exporter": "python",
   "pygments_lexer": "ipython3",
   "version": "3.7.6"
  }
 },
 "nbformat": 4,
 "nbformat_minor": 2
}
