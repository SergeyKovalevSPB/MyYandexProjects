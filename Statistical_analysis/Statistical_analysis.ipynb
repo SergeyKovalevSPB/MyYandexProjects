{
 "cells": [
  {
   "cell_type": "markdown",
   "metadata": {},
   "source": [
    "# Описание проекта\n",
    "\n",
    "Оператора сотовой связи предлагает клиентам два тарифных плана: «Смарт» и «Ультра». Чтобы скорректировать рекламный бюджет, коммерческий департамент хочет понять, какой тариф приносит больше денег.<br><br>\n",
    "Необходимо выполнить предварительный анализ тарифов на небольшой выборке клиентов, проанализировать поведение клиентов и сделать вывод — какой тариф лучше.\n",
    "\n",
    "Описание данных представлено для соответствующей таблицы:<br>\n",
    "<a href='#calls'>Таблица calls</a><br>\n",
    "<a href='#internet'>Таблица internet</a><br>\n",
    "<a href='#messages'>Таблица messages</a><br>\n",
    "<a href='#tariffs'>Таблица tariffs</a><br>\n",
    "<a href='#users'>Таблица users</a><br><br>\n",
    "Проект выполнен по следующим шагам:<br>\n",
    "<a href='#step1'>Шаг 1. Загрузка файлов и изучение общей информации</a><br>\n",
    "<a href='#step2'>Шаг 2. Подготовка данных</a><br>\n",
    "<a href='#step3'>Шаг 3. Анализ данных</a><br>\n",
    "<a href='#step4'>Шаг 4. Проверка гипотез</a><br>\n",
    "<a href='#step5'>Шаг 5. Общий вывод</a><br>"
   ]
  },
  {
   "cell_type": "markdown",
   "metadata": {},
   "source": [
    "<a id='step1'></a>\n",
    "## Шаг 1. Загрузка файлов и изучение общей информации\n",
    "<a href='#calls'>Таблица calls</a><br>\n",
    "<a href='#internet'>Таблица internet</a><br>\n",
    "<a href='#messages'>Таблица messages</a><br>\n",
    "<a href='#tariffs'>Таблица tariffs</a><br>\n",
    "<a href='#users'>Таблица users</a><br>\n",
    "<a href='#conclusion1'>Вывод 1</a><br>"
   ]
  },
  {
   "cell_type": "code",
   "execution_count": 1,
   "metadata": {},
   "outputs": [],
   "source": [
    "import pandas as pd\n",
    "from IPython.display import display\n",
    "import matplotlib.pyplot as plt\n",
    "import numpy as np\n",
    "from datetime import  date\n",
    "from scipy import stats as st\n",
    "\n",
    "#импорт необходимых библиотек"
   ]
  },
  {
   "cell_type": "markdown",
   "metadata": {},
   "source": [
    "<a id='calls'></a>\n",
    "<strong>Таблица calls (информация о звонках):</strong><br>\n",
    "id — уникальный номер звонка<br>\n",
    "call_date — дата звонка<br>\n",
    "duration — длительность звонка в минутах<br>\n",
    "user_id — идентификатор пользователя, сделавшего звонок<br><br>"
   ]
  },
  {
   "cell_type": "code",
   "execution_count": 2,
   "metadata": {},
   "outputs": [],
   "source": [
    "calls = pd.read_csv('calls.csv')"
   ]
  },
  {
   "cell_type": "code",
   "execution_count": 3,
   "metadata": {},
   "outputs": [
    {
     "data": {
      "text/html": [
       "<div>\n",
       "<style scoped>\n",
       "    .dataframe tbody tr th:only-of-type {\n",
       "        vertical-align: middle;\n",
       "    }\n",
       "\n",
       "    .dataframe tbody tr th {\n",
       "        vertical-align: top;\n",
       "    }\n",
       "\n",
       "    .dataframe thead th {\n",
       "        text-align: right;\n",
       "    }\n",
       "</style>\n",
       "<table border=\"1\" class=\"dataframe\">\n",
       "  <thead>\n",
       "    <tr style=\"text-align: right;\">\n",
       "      <th></th>\n",
       "      <th>id</th>\n",
       "      <th>call_date</th>\n",
       "      <th>duration</th>\n",
       "      <th>user_id</th>\n",
       "    </tr>\n",
       "  </thead>\n",
       "  <tbody>\n",
       "    <tr>\n",
       "      <th>0</th>\n",
       "      <td>1000_0</td>\n",
       "      <td>2018-07-25</td>\n",
       "      <td>0.00</td>\n",
       "      <td>1000</td>\n",
       "    </tr>\n",
       "    <tr>\n",
       "      <th>1</th>\n",
       "      <td>1000_1</td>\n",
       "      <td>2018-08-17</td>\n",
       "      <td>0.00</td>\n",
       "      <td>1000</td>\n",
       "    </tr>\n",
       "    <tr>\n",
       "      <th>2</th>\n",
       "      <td>1000_2</td>\n",
       "      <td>2018-06-11</td>\n",
       "      <td>2.85</td>\n",
       "      <td>1000</td>\n",
       "    </tr>\n",
       "    <tr>\n",
       "      <th>3</th>\n",
       "      <td>1000_3</td>\n",
       "      <td>2018-09-21</td>\n",
       "      <td>13.80</td>\n",
       "      <td>1000</td>\n",
       "    </tr>\n",
       "    <tr>\n",
       "      <th>4</th>\n",
       "      <td>1000_4</td>\n",
       "      <td>2018-12-15</td>\n",
       "      <td>5.18</td>\n",
       "      <td>1000</td>\n",
       "    </tr>\n",
       "    <tr>\n",
       "      <th>...</th>\n",
       "      <td>...</td>\n",
       "      <td>...</td>\n",
       "      <td>...</td>\n",
       "      <td>...</td>\n",
       "    </tr>\n",
       "    <tr>\n",
       "      <th>202602</th>\n",
       "      <td>1499_215</td>\n",
       "      <td>2018-12-26</td>\n",
       "      <td>0.76</td>\n",
       "      <td>1499</td>\n",
       "    </tr>\n",
       "    <tr>\n",
       "      <th>202603</th>\n",
       "      <td>1499_216</td>\n",
       "      <td>2018-10-18</td>\n",
       "      <td>18.83</td>\n",
       "      <td>1499</td>\n",
       "    </tr>\n",
       "    <tr>\n",
       "      <th>202604</th>\n",
       "      <td>1499_217</td>\n",
       "      <td>2018-11-10</td>\n",
       "      <td>10.81</td>\n",
       "      <td>1499</td>\n",
       "    </tr>\n",
       "    <tr>\n",
       "      <th>202605</th>\n",
       "      <td>1499_218</td>\n",
       "      <td>2018-10-06</td>\n",
       "      <td>4.27</td>\n",
       "      <td>1499</td>\n",
       "    </tr>\n",
       "    <tr>\n",
       "      <th>202606</th>\n",
       "      <td>1499_219</td>\n",
       "      <td>2018-12-14</td>\n",
       "      <td>19.62</td>\n",
       "      <td>1499</td>\n",
       "    </tr>\n",
       "  </tbody>\n",
       "</table>\n",
       "<p>202607 rows × 4 columns</p>\n",
       "</div>"
      ],
      "text/plain": [
       "              id   call_date  duration  user_id\n",
       "0         1000_0  2018-07-25      0.00     1000\n",
       "1         1000_1  2018-08-17      0.00     1000\n",
       "2         1000_2  2018-06-11      2.85     1000\n",
       "3         1000_3  2018-09-21     13.80     1000\n",
       "4         1000_4  2018-12-15      5.18     1000\n",
       "...          ...         ...       ...      ...\n",
       "202602  1499_215  2018-12-26      0.76     1499\n",
       "202603  1499_216  2018-10-18     18.83     1499\n",
       "202604  1499_217  2018-11-10     10.81     1499\n",
       "202605  1499_218  2018-10-06      4.27     1499\n",
       "202606  1499_219  2018-12-14     19.62     1499\n",
       "\n",
       "[202607 rows x 4 columns]"
      ]
     },
     "metadata": {},
     "output_type": "display_data"
    }
   ],
   "source": [
    "display(calls)"
   ]
  },
  {
   "cell_type": "markdown",
   "metadata": {},
   "source": [
    "Разделители опознаны корректно."
   ]
  },
  {
   "cell_type": "code",
   "execution_count": 4,
   "metadata": {},
   "outputs": [
    {
     "name": "stdout",
     "output_type": "stream",
     "text": [
      "<class 'pandas.core.frame.DataFrame'>\n",
      "RangeIndex: 202607 entries, 0 to 202606\n",
      "Data columns (total 4 columns):\n",
      " #   Column     Non-Null Count   Dtype  \n",
      "---  ------     --------------   -----  \n",
      " 0   id         202607 non-null  object \n",
      " 1   call_date  202607 non-null  object \n",
      " 2   duration   202607 non-null  float64\n",
      " 3   user_id    202607 non-null  int64  \n",
      "dtypes: float64(1), int64(1), object(2)\n",
      "memory usage: 6.2+ MB\n"
     ]
    }
   ],
   "source": [
    "calls.info()"
   ]
  },
  {
   "cell_type": "markdown",
   "metadata": {},
   "source": [
    "Пропущенных значений нет.<br>\n",
    "В столбце call_date требуется изменение типа данных с object на date.<br>\n",
    "В столбце duration требуется изменение типа данных с float на unt"
   ]
  },
  {
   "cell_type": "code",
   "execution_count": 5,
   "metadata": {},
   "outputs": [
    {
     "data": {
      "text/html": [
       "<div>\n",
       "<style scoped>\n",
       "    .dataframe tbody tr th:only-of-type {\n",
       "        vertical-align: middle;\n",
       "    }\n",
       "\n",
       "    .dataframe tbody tr th {\n",
       "        vertical-align: top;\n",
       "    }\n",
       "\n",
       "    .dataframe thead th {\n",
       "        text-align: right;\n",
       "    }\n",
       "</style>\n",
       "<table border=\"1\" class=\"dataframe\">\n",
       "  <thead>\n",
       "    <tr style=\"text-align: right;\">\n",
       "      <th></th>\n",
       "      <th>duration</th>\n",
       "      <th>user_id</th>\n",
       "    </tr>\n",
       "  </thead>\n",
       "  <tbody>\n",
       "    <tr>\n",
       "      <th>count</th>\n",
       "      <td>202607.000000</td>\n",
       "      <td>202607.000000</td>\n",
       "    </tr>\n",
       "    <tr>\n",
       "      <th>mean</th>\n",
       "      <td>6.755887</td>\n",
       "      <td>1253.940619</td>\n",
       "    </tr>\n",
       "    <tr>\n",
       "      <th>std</th>\n",
       "      <td>5.843365</td>\n",
       "      <td>144.722751</td>\n",
       "    </tr>\n",
       "    <tr>\n",
       "      <th>min</th>\n",
       "      <td>0.000000</td>\n",
       "      <td>1000.000000</td>\n",
       "    </tr>\n",
       "    <tr>\n",
       "      <th>25%</th>\n",
       "      <td>1.300000</td>\n",
       "      <td>1126.000000</td>\n",
       "    </tr>\n",
       "    <tr>\n",
       "      <th>50%</th>\n",
       "      <td>6.000000</td>\n",
       "      <td>1260.000000</td>\n",
       "    </tr>\n",
       "    <tr>\n",
       "      <th>75%</th>\n",
       "      <td>10.700000</td>\n",
       "      <td>1379.000000</td>\n",
       "    </tr>\n",
       "    <tr>\n",
       "      <th>max</th>\n",
       "      <td>38.000000</td>\n",
       "      <td>1499.000000</td>\n",
       "    </tr>\n",
       "  </tbody>\n",
       "</table>\n",
       "</div>"
      ],
      "text/plain": [
       "            duration        user_id\n",
       "count  202607.000000  202607.000000\n",
       "mean        6.755887    1253.940619\n",
       "std         5.843365     144.722751\n",
       "min         0.000000    1000.000000\n",
       "25%         1.300000    1126.000000\n",
       "50%         6.000000    1260.000000\n",
       "75%        10.700000    1379.000000\n",
       "max        38.000000    1499.000000"
      ]
     },
     "execution_count": 5,
     "metadata": {},
     "output_type": "execute_result"
    }
   ],
   "source": [
    "calls.describe()"
   ]
  },
  {
   "cell_type": "markdown",
   "metadata": {},
   "source": [
    "Минимальное значение продолжительности разговора - 0 минут.<br>\n",
    "Требуется дополнительная проверка по количеству нулевых звонков."
   ]
  },
  {
   "cell_type": "markdown",
   "metadata": {},
   "source": [
    "<a id='internet'></a>\n",
    "<strong>Таблица internet (информация об интернет-сессиях):</strong><br>\n",
    "id — уникальный номер сессии<br>\n",
    "mb_used — объём потраченного за сессию интернет-трафика (в мегабайтах)<br>\n",
    "session_date — дата интернет-сессии<br>\n",
    "user_id — идентификатор пользователя<br><br>"
   ]
  },
  {
   "cell_type": "code",
   "execution_count": 6,
   "metadata": {},
   "outputs": [],
   "source": [
    "internet = pd.read_csv('internet.csv')"
   ]
  },
  {
   "cell_type": "code",
   "execution_count": 7,
   "metadata": {
    "scrolled": false
   },
   "outputs": [
    {
     "data": {
      "text/html": [
       "<div>\n",
       "<style scoped>\n",
       "    .dataframe tbody tr th:only-of-type {\n",
       "        vertical-align: middle;\n",
       "    }\n",
       "\n",
       "    .dataframe tbody tr th {\n",
       "        vertical-align: top;\n",
       "    }\n",
       "\n",
       "    .dataframe thead th {\n",
       "        text-align: right;\n",
       "    }\n",
       "</style>\n",
       "<table border=\"1\" class=\"dataframe\">\n",
       "  <thead>\n",
       "    <tr style=\"text-align: right;\">\n",
       "      <th></th>\n",
       "      <th>Unnamed: 0</th>\n",
       "      <th>id</th>\n",
       "      <th>mb_used</th>\n",
       "      <th>session_date</th>\n",
       "      <th>user_id</th>\n",
       "    </tr>\n",
       "  </thead>\n",
       "  <tbody>\n",
       "    <tr>\n",
       "      <th>0</th>\n",
       "      <td>0</td>\n",
       "      <td>1000_0</td>\n",
       "      <td>112.95</td>\n",
       "      <td>2018-11-25</td>\n",
       "      <td>1000</td>\n",
       "    </tr>\n",
       "    <tr>\n",
       "      <th>1</th>\n",
       "      <td>1</td>\n",
       "      <td>1000_1</td>\n",
       "      <td>1052.81</td>\n",
       "      <td>2018-09-07</td>\n",
       "      <td>1000</td>\n",
       "    </tr>\n",
       "    <tr>\n",
       "      <th>2</th>\n",
       "      <td>2</td>\n",
       "      <td>1000_2</td>\n",
       "      <td>1197.26</td>\n",
       "      <td>2018-06-25</td>\n",
       "      <td>1000</td>\n",
       "    </tr>\n",
       "    <tr>\n",
       "      <th>3</th>\n",
       "      <td>3</td>\n",
       "      <td>1000_3</td>\n",
       "      <td>550.27</td>\n",
       "      <td>2018-08-22</td>\n",
       "      <td>1000</td>\n",
       "    </tr>\n",
       "    <tr>\n",
       "      <th>4</th>\n",
       "      <td>4</td>\n",
       "      <td>1000_4</td>\n",
       "      <td>302.56</td>\n",
       "      <td>2018-09-24</td>\n",
       "      <td>1000</td>\n",
       "    </tr>\n",
       "    <tr>\n",
       "      <th>...</th>\n",
       "      <td>...</td>\n",
       "      <td>...</td>\n",
       "      <td>...</td>\n",
       "      <td>...</td>\n",
       "      <td>...</td>\n",
       "    </tr>\n",
       "    <tr>\n",
       "      <th>149391</th>\n",
       "      <td>149391</td>\n",
       "      <td>1499_152</td>\n",
       "      <td>318.90</td>\n",
       "      <td>2018-10-03</td>\n",
       "      <td>1499</td>\n",
       "    </tr>\n",
       "    <tr>\n",
       "      <th>149392</th>\n",
       "      <td>149392</td>\n",
       "      <td>1499_153</td>\n",
       "      <td>490.13</td>\n",
       "      <td>2018-12-14</td>\n",
       "      <td>1499</td>\n",
       "    </tr>\n",
       "    <tr>\n",
       "      <th>149393</th>\n",
       "      <td>149393</td>\n",
       "      <td>1499_154</td>\n",
       "      <td>0.00</td>\n",
       "      <td>2018-10-27</td>\n",
       "      <td>1499</td>\n",
       "    </tr>\n",
       "    <tr>\n",
       "      <th>149394</th>\n",
       "      <td>149394</td>\n",
       "      <td>1499_155</td>\n",
       "      <td>1246.32</td>\n",
       "      <td>2018-11-26</td>\n",
       "      <td>1499</td>\n",
       "    </tr>\n",
       "    <tr>\n",
       "      <th>149395</th>\n",
       "      <td>149395</td>\n",
       "      <td>1499_156</td>\n",
       "      <td>544.37</td>\n",
       "      <td>2018-10-26</td>\n",
       "      <td>1499</td>\n",
       "    </tr>\n",
       "  </tbody>\n",
       "</table>\n",
       "<p>149396 rows × 5 columns</p>\n",
       "</div>"
      ],
      "text/plain": [
       "        Unnamed: 0        id  mb_used session_date  user_id\n",
       "0                0    1000_0   112.95   2018-11-25     1000\n",
       "1                1    1000_1  1052.81   2018-09-07     1000\n",
       "2                2    1000_2  1197.26   2018-06-25     1000\n",
       "3                3    1000_3   550.27   2018-08-22     1000\n",
       "4                4    1000_4   302.56   2018-09-24     1000\n",
       "...            ...       ...      ...          ...      ...\n",
       "149391      149391  1499_152   318.90   2018-10-03     1499\n",
       "149392      149392  1499_153   490.13   2018-12-14     1499\n",
       "149393      149393  1499_154     0.00   2018-10-27     1499\n",
       "149394      149394  1499_155  1246.32   2018-11-26     1499\n",
       "149395      149395  1499_156   544.37   2018-10-26     1499\n",
       "\n",
       "[149396 rows x 5 columns]"
      ]
     },
     "metadata": {},
     "output_type": "display_data"
    }
   ],
   "source": [
    "display(internet)"
   ]
  },
  {
   "cell_type": "markdown",
   "metadata": {},
   "source": [
    "Разделители опознаны корректно.<br>\n",
    "В таблице имеется столбец <strong>Unnamed: 0</strong>, который не отражён в описании данных."
   ]
  },
  {
   "cell_type": "code",
   "execution_count": 8,
   "metadata": {
    "scrolled": true
   },
   "outputs": [
    {
     "name": "stdout",
     "output_type": "stream",
     "text": [
      "<class 'pandas.core.frame.DataFrame'>\n",
      "RangeIndex: 149396 entries, 0 to 149395\n",
      "Data columns (total 5 columns):\n",
      " #   Column        Non-Null Count   Dtype  \n",
      "---  ------        --------------   -----  \n",
      " 0   Unnamed: 0    149396 non-null  int64  \n",
      " 1   id            149396 non-null  object \n",
      " 2   mb_used       149396 non-null  float64\n",
      " 3   session_date  149396 non-null  object \n",
      " 4   user_id       149396 non-null  int64  \n",
      "dtypes: float64(1), int64(2), object(2)\n",
      "memory usage: 5.7+ MB\n"
     ]
    }
   ],
   "source": [
    "internet.info()"
   ]
  },
  {
   "cell_type": "markdown",
   "metadata": {},
   "source": [
    "Пропущенных значений нет.<br>\n",
    "В столбце mb_used требуется изменение типа данных на int, т.к. точность после запятой не играет роли<br>\n",
    "В столбце session_date требуется изменение типа данных с object на date.\n"
   ]
  },
  {
   "cell_type": "code",
   "execution_count": 9,
   "metadata": {},
   "outputs": [
    {
     "data": {
      "text/html": [
       "<div>\n",
       "<style scoped>\n",
       "    .dataframe tbody tr th:only-of-type {\n",
       "        vertical-align: middle;\n",
       "    }\n",
       "\n",
       "    .dataframe tbody tr th {\n",
       "        vertical-align: top;\n",
       "    }\n",
       "\n",
       "    .dataframe thead th {\n",
       "        text-align: right;\n",
       "    }\n",
       "</style>\n",
       "<table border=\"1\" class=\"dataframe\">\n",
       "  <thead>\n",
       "    <tr style=\"text-align: right;\">\n",
       "      <th></th>\n",
       "      <th>Unnamed: 0</th>\n",
       "      <th>mb_used</th>\n",
       "      <th>user_id</th>\n",
       "    </tr>\n",
       "  </thead>\n",
       "  <tbody>\n",
       "    <tr>\n",
       "      <th>count</th>\n",
       "      <td>149396.000000</td>\n",
       "      <td>149396.000000</td>\n",
       "      <td>149396.000000</td>\n",
       "    </tr>\n",
       "    <tr>\n",
       "      <th>mean</th>\n",
       "      <td>74697.500000</td>\n",
       "      <td>370.192426</td>\n",
       "      <td>1252.099842</td>\n",
       "    </tr>\n",
       "    <tr>\n",
       "      <th>std</th>\n",
       "      <td>43127.054745</td>\n",
       "      <td>278.300951</td>\n",
       "      <td>144.050823</td>\n",
       "    </tr>\n",
       "    <tr>\n",
       "      <th>min</th>\n",
       "      <td>0.000000</td>\n",
       "      <td>0.000000</td>\n",
       "      <td>1000.000000</td>\n",
       "    </tr>\n",
       "    <tr>\n",
       "      <th>25%</th>\n",
       "      <td>37348.750000</td>\n",
       "      <td>138.187500</td>\n",
       "      <td>1130.000000</td>\n",
       "    </tr>\n",
       "    <tr>\n",
       "      <th>50%</th>\n",
       "      <td>74697.500000</td>\n",
       "      <td>348.015000</td>\n",
       "      <td>1251.000000</td>\n",
       "    </tr>\n",
       "    <tr>\n",
       "      <th>75%</th>\n",
       "      <td>112046.250000</td>\n",
       "      <td>559.552500</td>\n",
       "      <td>1380.000000</td>\n",
       "    </tr>\n",
       "    <tr>\n",
       "      <th>max</th>\n",
       "      <td>149395.000000</td>\n",
       "      <td>1724.830000</td>\n",
       "      <td>1499.000000</td>\n",
       "    </tr>\n",
       "  </tbody>\n",
       "</table>\n",
       "</div>"
      ],
      "text/plain": [
       "          Unnamed: 0        mb_used        user_id\n",
       "count  149396.000000  149396.000000  149396.000000\n",
       "mean    74697.500000     370.192426    1252.099842\n",
       "std     43127.054745     278.300951     144.050823\n",
       "min         0.000000       0.000000    1000.000000\n",
       "25%     37348.750000     138.187500    1130.000000\n",
       "50%     74697.500000     348.015000    1251.000000\n",
       "75%    112046.250000     559.552500    1380.000000\n",
       "max    149395.000000    1724.830000    1499.000000"
      ]
     },
     "execution_count": 9,
     "metadata": {},
     "output_type": "execute_result"
    }
   ],
   "source": [
    "internet.describe()"
   ]
  },
  {
   "cell_type": "markdown",
   "metadata": {},
   "source": [
    "Минимальное значение объёма потраченного за сессию интернет-трафика - 0 мб.<br>\n",
    "Требуется дополнительная проверка по количеству нулевых сессий."
   ]
  },
  {
   "cell_type": "markdown",
   "metadata": {},
   "source": [
    "<a id='messages'></a>\n",
    "<strong>Таблица messages (информация о сообщениях):</strong><br>\n",
    "id — уникальный номер сообщения<br>\n",
    "message_date — дата сообщения<br>\n",
    "user_id — идентификатор пользователя, отправившего сообщение<br><br>"
   ]
  },
  {
   "cell_type": "code",
   "execution_count": 10,
   "metadata": {},
   "outputs": [],
   "source": [
    "messages = pd.read_csv('messages.csv')"
   ]
  },
  {
   "cell_type": "code",
   "execution_count": 11,
   "metadata": {},
   "outputs": [
    {
     "data": {
      "text/html": [
       "<div>\n",
       "<style scoped>\n",
       "    .dataframe tbody tr th:only-of-type {\n",
       "        vertical-align: middle;\n",
       "    }\n",
       "\n",
       "    .dataframe tbody tr th {\n",
       "        vertical-align: top;\n",
       "    }\n",
       "\n",
       "    .dataframe thead th {\n",
       "        text-align: right;\n",
       "    }\n",
       "</style>\n",
       "<table border=\"1\" class=\"dataframe\">\n",
       "  <thead>\n",
       "    <tr style=\"text-align: right;\">\n",
       "      <th></th>\n",
       "      <th>id</th>\n",
       "      <th>message_date</th>\n",
       "      <th>user_id</th>\n",
       "    </tr>\n",
       "  </thead>\n",
       "  <tbody>\n",
       "    <tr>\n",
       "      <th>0</th>\n",
       "      <td>1000_0</td>\n",
       "      <td>2018-06-27</td>\n",
       "      <td>1000</td>\n",
       "    </tr>\n",
       "    <tr>\n",
       "      <th>1</th>\n",
       "      <td>1000_1</td>\n",
       "      <td>2018-10-08</td>\n",
       "      <td>1000</td>\n",
       "    </tr>\n",
       "    <tr>\n",
       "      <th>2</th>\n",
       "      <td>1000_2</td>\n",
       "      <td>2018-08-04</td>\n",
       "      <td>1000</td>\n",
       "    </tr>\n",
       "    <tr>\n",
       "      <th>3</th>\n",
       "      <td>1000_3</td>\n",
       "      <td>2018-06-16</td>\n",
       "      <td>1000</td>\n",
       "    </tr>\n",
       "    <tr>\n",
       "      <th>4</th>\n",
       "      <td>1000_4</td>\n",
       "      <td>2018-12-05</td>\n",
       "      <td>1000</td>\n",
       "    </tr>\n",
       "    <tr>\n",
       "      <th>...</th>\n",
       "      <td>...</td>\n",
       "      <td>...</td>\n",
       "      <td>...</td>\n",
       "    </tr>\n",
       "    <tr>\n",
       "      <th>123031</th>\n",
       "      <td>1499_179</td>\n",
       "      <td>2018-12-12</td>\n",
       "      <td>1499</td>\n",
       "    </tr>\n",
       "    <tr>\n",
       "      <th>123032</th>\n",
       "      <td>1499_180</td>\n",
       "      <td>2018-09-28</td>\n",
       "      <td>1499</td>\n",
       "    </tr>\n",
       "    <tr>\n",
       "      <th>123033</th>\n",
       "      <td>1499_181</td>\n",
       "      <td>2018-09-27</td>\n",
       "      <td>1499</td>\n",
       "    </tr>\n",
       "    <tr>\n",
       "      <th>123034</th>\n",
       "      <td>1499_182</td>\n",
       "      <td>2018-11-15</td>\n",
       "      <td>1499</td>\n",
       "    </tr>\n",
       "    <tr>\n",
       "      <th>123035</th>\n",
       "      <td>1499_183</td>\n",
       "      <td>2018-11-16</td>\n",
       "      <td>1499</td>\n",
       "    </tr>\n",
       "  </tbody>\n",
       "</table>\n",
       "<p>123036 rows × 3 columns</p>\n",
       "</div>"
      ],
      "text/plain": [
       "              id message_date  user_id\n",
       "0         1000_0   2018-06-27     1000\n",
       "1         1000_1   2018-10-08     1000\n",
       "2         1000_2   2018-08-04     1000\n",
       "3         1000_3   2018-06-16     1000\n",
       "4         1000_4   2018-12-05     1000\n",
       "...          ...          ...      ...\n",
       "123031  1499_179   2018-12-12     1499\n",
       "123032  1499_180   2018-09-28     1499\n",
       "123033  1499_181   2018-09-27     1499\n",
       "123034  1499_182   2018-11-15     1499\n",
       "123035  1499_183   2018-11-16     1499\n",
       "\n",
       "[123036 rows x 3 columns]"
      ]
     },
     "metadata": {},
     "output_type": "display_data"
    }
   ],
   "source": [
    "display(messages)"
   ]
  },
  {
   "cell_type": "markdown",
   "metadata": {},
   "source": [
    "Разделители опознаны корректно.<br>"
   ]
  },
  {
   "cell_type": "code",
   "execution_count": 12,
   "metadata": {
    "scrolled": true
   },
   "outputs": [
    {
     "name": "stdout",
     "output_type": "stream",
     "text": [
      "<class 'pandas.core.frame.DataFrame'>\n",
      "RangeIndex: 123036 entries, 0 to 123035\n",
      "Data columns (total 3 columns):\n",
      " #   Column        Non-Null Count   Dtype \n",
      "---  ------        --------------   ----- \n",
      " 0   id            123036 non-null  object\n",
      " 1   message_date  123036 non-null  object\n",
      " 2   user_id       123036 non-null  int64 \n",
      "dtypes: int64(1), object(2)\n",
      "memory usage: 2.8+ MB\n"
     ]
    }
   ],
   "source": [
    "messages.info()"
   ]
  },
  {
   "cell_type": "markdown",
   "metadata": {},
   "source": [
    "Пропущенных значений нет.<br>\n",
    "В столбце message_date требуется изменение типа данных с object на date."
   ]
  },
  {
   "cell_type": "markdown",
   "metadata": {},
   "source": [
    "<a id='tariffs'></a>\n",
    "<strong>Таблица tariffs (информация о тарифах):</strong><br>\n",
    "tariff_name — название тарифа<br>\n",
    "rub_monthly_fee — ежемесячная абонентская плата в рублях<br>\n",
    "minutes_included — количество минут разговора в месяц, включённых в абонентскую плату<br>\n",
    "messages_included — количество сообщений в месяц, включённых в абонентскую плату<br>\n",
    "mb_per_month_included — объём интернет-трафика, включённого в абонентскую плату (в мегабайтах)<br>\n",
    "rub_per_minute — стоимость минуты разговора сверх тарифного пакета (например, если в тарифе 100 минут разговора в месяц, то со 101 минуты будет взиматься плата)<br>\n",
    "rub_per_message — стоимость отправки сообщения сверх тарифного пакета<br>\n",
    "rub_per_gb — стоимость дополнительного гигабайта интернет-трафика сверх тарифного пакета (1 гигабайт = 1024 мегабайта)<br>"
   ]
  },
  {
   "cell_type": "code",
   "execution_count": 13,
   "metadata": {},
   "outputs": [],
   "source": [
    "tariffs = pd.read_csv('tariffs.csv')"
   ]
  },
  {
   "cell_type": "code",
   "execution_count": 14,
   "metadata": {},
   "outputs": [
    {
     "data": {
      "text/html": [
       "<div>\n",
       "<style scoped>\n",
       "    .dataframe tbody tr th:only-of-type {\n",
       "        vertical-align: middle;\n",
       "    }\n",
       "\n",
       "    .dataframe tbody tr th {\n",
       "        vertical-align: top;\n",
       "    }\n",
       "\n",
       "    .dataframe thead th {\n",
       "        text-align: right;\n",
       "    }\n",
       "</style>\n",
       "<table border=\"1\" class=\"dataframe\">\n",
       "  <thead>\n",
       "    <tr style=\"text-align: right;\">\n",
       "      <th></th>\n",
       "      <th>messages_included</th>\n",
       "      <th>mb_per_month_included</th>\n",
       "      <th>minutes_included</th>\n",
       "      <th>rub_monthly_fee</th>\n",
       "      <th>rub_per_gb</th>\n",
       "      <th>rub_per_message</th>\n",
       "      <th>rub_per_minute</th>\n",
       "      <th>tariff_name</th>\n",
       "    </tr>\n",
       "  </thead>\n",
       "  <tbody>\n",
       "    <tr>\n",
       "      <th>0</th>\n",
       "      <td>50</td>\n",
       "      <td>15360</td>\n",
       "      <td>500</td>\n",
       "      <td>550</td>\n",
       "      <td>200</td>\n",
       "      <td>3</td>\n",
       "      <td>3</td>\n",
       "      <td>smart</td>\n",
       "    </tr>\n",
       "    <tr>\n",
       "      <th>1</th>\n",
       "      <td>1000</td>\n",
       "      <td>30720</td>\n",
       "      <td>3000</td>\n",
       "      <td>1950</td>\n",
       "      <td>150</td>\n",
       "      <td>1</td>\n",
       "      <td>1</td>\n",
       "      <td>ultra</td>\n",
       "    </tr>\n",
       "  </tbody>\n",
       "</table>\n",
       "</div>"
      ],
      "text/plain": [
       "   messages_included  mb_per_month_included  minutes_included  \\\n",
       "0                 50                  15360               500   \n",
       "1               1000                  30720              3000   \n",
       "\n",
       "   rub_monthly_fee  rub_per_gb  rub_per_message  rub_per_minute tariff_name  \n",
       "0              550         200                3               3       smart  \n",
       "1             1950         150                1               1       ultra  "
      ]
     },
     "metadata": {},
     "output_type": "display_data"
    }
   ],
   "source": [
    "display(tariffs)"
   ]
  },
  {
   "cell_type": "markdown",
   "metadata": {},
   "source": [
    "Разделители опознаны корректно."
   ]
  },
  {
   "cell_type": "code",
   "execution_count": 15,
   "metadata": {},
   "outputs": [
    {
     "name": "stdout",
     "output_type": "stream",
     "text": [
      "<class 'pandas.core.frame.DataFrame'>\n",
      "RangeIndex: 2 entries, 0 to 1\n",
      "Data columns (total 8 columns):\n",
      " #   Column                 Non-Null Count  Dtype \n",
      "---  ------                 --------------  ----- \n",
      " 0   messages_included      2 non-null      int64 \n",
      " 1   mb_per_month_included  2 non-null      int64 \n",
      " 2   minutes_included       2 non-null      int64 \n",
      " 3   rub_monthly_fee        2 non-null      int64 \n",
      " 4   rub_per_gb             2 non-null      int64 \n",
      " 5   rub_per_message        2 non-null      int64 \n",
      " 6   rub_per_minute         2 non-null      int64 \n",
      " 7   tariff_name            2 non-null      object\n",
      "dtypes: int64(7), object(1)\n",
      "memory usage: 256.0+ bytes\n"
     ]
    }
   ],
   "source": [
    "tariffs.info()"
   ]
  },
  {
   "cell_type": "markdown",
   "metadata": {},
   "source": [
    "Пропущенных значений нет.<br>\n",
    "Изменений типов данных не требуется."
   ]
  },
  {
   "cell_type": "markdown",
   "metadata": {},
   "source": [
    "<a id='users'></a>\n",
    "<strong>Таблица users (информация о пользователях):</strong><br>\n",
    "user_id — уникальный идентификатор пользователя<br>\n",
    "first_name — имя пользователя<br>\n",
    "last_name — фамилия пользователя<br>\n",
    "age — возраст пользователя (годы)<br>\n",
    "reg_date — дата подключения тарифа (день, месяц, год)<br>\n",
    "churn_date — дата прекращения пользования тарифом (если значение пропущено, то тариф ещё действовал на момент выгрузки данных)<br>\n",
    "city — город проживания пользователя<br>\n",
    "tariff — название тарифного плана<br><br>"
   ]
  },
  {
   "cell_type": "code",
   "execution_count": 16,
   "metadata": {},
   "outputs": [],
   "source": [
    "users = pd.read_csv('users.csv')"
   ]
  },
  {
   "cell_type": "code",
   "execution_count": 17,
   "metadata": {},
   "outputs": [
    {
     "data": {
      "text/html": [
       "<div>\n",
       "<style scoped>\n",
       "    .dataframe tbody tr th:only-of-type {\n",
       "        vertical-align: middle;\n",
       "    }\n",
       "\n",
       "    .dataframe tbody tr th {\n",
       "        vertical-align: top;\n",
       "    }\n",
       "\n",
       "    .dataframe thead th {\n",
       "        text-align: right;\n",
       "    }\n",
       "</style>\n",
       "<table border=\"1\" class=\"dataframe\">\n",
       "  <thead>\n",
       "    <tr style=\"text-align: right;\">\n",
       "      <th></th>\n",
       "      <th>user_id</th>\n",
       "      <th>age</th>\n",
       "      <th>churn_date</th>\n",
       "      <th>city</th>\n",
       "      <th>first_name</th>\n",
       "      <th>last_name</th>\n",
       "      <th>reg_date</th>\n",
       "      <th>tariff</th>\n",
       "    </tr>\n",
       "  </thead>\n",
       "  <tbody>\n",
       "    <tr>\n",
       "      <th>0</th>\n",
       "      <td>1000</td>\n",
       "      <td>52</td>\n",
       "      <td>NaN</td>\n",
       "      <td>Краснодар</td>\n",
       "      <td>Рафаил</td>\n",
       "      <td>Верещагин</td>\n",
       "      <td>2018-05-25</td>\n",
       "      <td>ultra</td>\n",
       "    </tr>\n",
       "    <tr>\n",
       "      <th>1</th>\n",
       "      <td>1001</td>\n",
       "      <td>41</td>\n",
       "      <td>NaN</td>\n",
       "      <td>Москва</td>\n",
       "      <td>Иван</td>\n",
       "      <td>Ежов</td>\n",
       "      <td>2018-11-01</td>\n",
       "      <td>smart</td>\n",
       "    </tr>\n",
       "    <tr>\n",
       "      <th>2</th>\n",
       "      <td>1002</td>\n",
       "      <td>59</td>\n",
       "      <td>NaN</td>\n",
       "      <td>Стерлитамак</td>\n",
       "      <td>Евгений</td>\n",
       "      <td>Абрамович</td>\n",
       "      <td>2018-06-17</td>\n",
       "      <td>smart</td>\n",
       "    </tr>\n",
       "    <tr>\n",
       "      <th>3</th>\n",
       "      <td>1003</td>\n",
       "      <td>23</td>\n",
       "      <td>NaN</td>\n",
       "      <td>Москва</td>\n",
       "      <td>Белла</td>\n",
       "      <td>Белякова</td>\n",
       "      <td>2018-08-17</td>\n",
       "      <td>ultra</td>\n",
       "    </tr>\n",
       "    <tr>\n",
       "      <th>4</th>\n",
       "      <td>1004</td>\n",
       "      <td>68</td>\n",
       "      <td>NaN</td>\n",
       "      <td>Новокузнецк</td>\n",
       "      <td>Татьяна</td>\n",
       "      <td>Авдеенко</td>\n",
       "      <td>2018-05-14</td>\n",
       "      <td>ultra</td>\n",
       "    </tr>\n",
       "    <tr>\n",
       "      <th>...</th>\n",
       "      <td>...</td>\n",
       "      <td>...</td>\n",
       "      <td>...</td>\n",
       "      <td>...</td>\n",
       "      <td>...</td>\n",
       "      <td>...</td>\n",
       "      <td>...</td>\n",
       "      <td>...</td>\n",
       "    </tr>\n",
       "    <tr>\n",
       "      <th>495</th>\n",
       "      <td>1495</td>\n",
       "      <td>65</td>\n",
       "      <td>NaN</td>\n",
       "      <td>Иркутск</td>\n",
       "      <td>Авксентий</td>\n",
       "      <td>Фокин</td>\n",
       "      <td>2018-08-28</td>\n",
       "      <td>ultra</td>\n",
       "    </tr>\n",
       "    <tr>\n",
       "      <th>496</th>\n",
       "      <td>1496</td>\n",
       "      <td>36</td>\n",
       "      <td>NaN</td>\n",
       "      <td>Вологда</td>\n",
       "      <td>Трифон</td>\n",
       "      <td>Блохин</td>\n",
       "      <td>2018-01-27</td>\n",
       "      <td>smart</td>\n",
       "    </tr>\n",
       "    <tr>\n",
       "      <th>497</th>\n",
       "      <td>1497</td>\n",
       "      <td>32</td>\n",
       "      <td>NaN</td>\n",
       "      <td>Челябинск</td>\n",
       "      <td>Каролина</td>\n",
       "      <td>Агеева</td>\n",
       "      <td>2018-10-09</td>\n",
       "      <td>smart</td>\n",
       "    </tr>\n",
       "    <tr>\n",
       "      <th>498</th>\n",
       "      <td>1498</td>\n",
       "      <td>68</td>\n",
       "      <td>2018-10-25</td>\n",
       "      <td>Владикавказ</td>\n",
       "      <td>Всеволод</td>\n",
       "      <td>Акимчин</td>\n",
       "      <td>2018-07-19</td>\n",
       "      <td>smart</td>\n",
       "    </tr>\n",
       "    <tr>\n",
       "      <th>499</th>\n",
       "      <td>1499</td>\n",
       "      <td>35</td>\n",
       "      <td>NaN</td>\n",
       "      <td>Пермь</td>\n",
       "      <td>Гектор</td>\n",
       "      <td>Корнилов</td>\n",
       "      <td>2018-09-27</td>\n",
       "      <td>smart</td>\n",
       "    </tr>\n",
       "  </tbody>\n",
       "</table>\n",
       "<p>500 rows × 8 columns</p>\n",
       "</div>"
      ],
      "text/plain": [
       "     user_id  age  churn_date         city first_name  last_name    reg_date  \\\n",
       "0       1000   52         NaN    Краснодар     Рафаил  Верещагин  2018-05-25   \n",
       "1       1001   41         NaN       Москва       Иван       Ежов  2018-11-01   \n",
       "2       1002   59         NaN  Стерлитамак    Евгений  Абрамович  2018-06-17   \n",
       "3       1003   23         NaN       Москва      Белла   Белякова  2018-08-17   \n",
       "4       1004   68         NaN  Новокузнецк    Татьяна   Авдеенко  2018-05-14   \n",
       "..       ...  ...         ...          ...        ...        ...         ...   \n",
       "495     1495   65         NaN      Иркутск  Авксентий      Фокин  2018-08-28   \n",
       "496     1496   36         NaN      Вологда     Трифон     Блохин  2018-01-27   \n",
       "497     1497   32         NaN    Челябинск   Каролина     Агеева  2018-10-09   \n",
       "498     1498   68  2018-10-25  Владикавказ   Всеволод    Акимчин  2018-07-19   \n",
       "499     1499   35         NaN        Пермь     Гектор   Корнилов  2018-09-27   \n",
       "\n",
       "    tariff  \n",
       "0    ultra  \n",
       "1    smart  \n",
       "2    smart  \n",
       "3    ultra  \n",
       "4    ultra  \n",
       "..     ...  \n",
       "495  ultra  \n",
       "496  smart  \n",
       "497  smart  \n",
       "498  smart  \n",
       "499  smart  \n",
       "\n",
       "[500 rows x 8 columns]"
      ]
     },
     "metadata": {},
     "output_type": "display_data"
    }
   ],
   "source": [
    "display(users)"
   ]
  },
  {
   "cell_type": "markdown",
   "metadata": {},
   "source": [
    "Разделители опознаны корректно."
   ]
  },
  {
   "cell_type": "code",
   "execution_count": 18,
   "metadata": {},
   "outputs": [
    {
     "name": "stdout",
     "output_type": "stream",
     "text": [
      "<class 'pandas.core.frame.DataFrame'>\n",
      "RangeIndex: 500 entries, 0 to 499\n",
      "Data columns (total 8 columns):\n",
      " #   Column      Non-Null Count  Dtype \n",
      "---  ------      --------------  ----- \n",
      " 0   user_id     500 non-null    int64 \n",
      " 1   age         500 non-null    int64 \n",
      " 2   churn_date  38 non-null     object\n",
      " 3   city        500 non-null    object\n",
      " 4   first_name  500 non-null    object\n",
      " 5   last_name   500 non-null    object\n",
      " 6   reg_date    500 non-null    object\n",
      " 7   tariff      500 non-null    object\n",
      "dtypes: int64(2), object(6)\n",
      "memory usage: 31.4+ KB\n"
     ]
    }
   ],
   "source": [
    "users.info()"
   ]
  },
  {
   "cell_type": "markdown",
   "metadata": {},
   "source": [
    "Определены пропущенные значения в столбце churn_date, в значительном количестве. Пропуски означают, что пользователь по сей день пользуется тарифом<br>\n",
    "В столбцах churn_date и reg_date требуется изменение типа данных с object на date."
   ]
  },
  {
   "cell_type": "code",
   "execution_count": 19,
   "metadata": {},
   "outputs": [
    {
     "data": {
      "text/html": [
       "<div>\n",
       "<style scoped>\n",
       "    .dataframe tbody tr th:only-of-type {\n",
       "        vertical-align: middle;\n",
       "    }\n",
       "\n",
       "    .dataframe tbody tr th {\n",
       "        vertical-align: top;\n",
       "    }\n",
       "\n",
       "    .dataframe thead th {\n",
       "        text-align: right;\n",
       "    }\n",
       "</style>\n",
       "<table border=\"1\" class=\"dataframe\">\n",
       "  <thead>\n",
       "    <tr style=\"text-align: right;\">\n",
       "      <th></th>\n",
       "      <th>user_id</th>\n",
       "      <th>age</th>\n",
       "    </tr>\n",
       "  </thead>\n",
       "  <tbody>\n",
       "    <tr>\n",
       "      <th>count</th>\n",
       "      <td>500.000000</td>\n",
       "      <td>500.00000</td>\n",
       "    </tr>\n",
       "    <tr>\n",
       "      <th>mean</th>\n",
       "      <td>1249.500000</td>\n",
       "      <td>46.58800</td>\n",
       "    </tr>\n",
       "    <tr>\n",
       "      <th>std</th>\n",
       "      <td>144.481833</td>\n",
       "      <td>16.66763</td>\n",
       "    </tr>\n",
       "    <tr>\n",
       "      <th>min</th>\n",
       "      <td>1000.000000</td>\n",
       "      <td>18.00000</td>\n",
       "    </tr>\n",
       "    <tr>\n",
       "      <th>25%</th>\n",
       "      <td>1124.750000</td>\n",
       "      <td>32.00000</td>\n",
       "    </tr>\n",
       "    <tr>\n",
       "      <th>50%</th>\n",
       "      <td>1249.500000</td>\n",
       "      <td>46.00000</td>\n",
       "    </tr>\n",
       "    <tr>\n",
       "      <th>75%</th>\n",
       "      <td>1374.250000</td>\n",
       "      <td>62.00000</td>\n",
       "    </tr>\n",
       "    <tr>\n",
       "      <th>max</th>\n",
       "      <td>1499.000000</td>\n",
       "      <td>75.00000</td>\n",
       "    </tr>\n",
       "  </tbody>\n",
       "</table>\n",
       "</div>"
      ],
      "text/plain": [
       "           user_id        age\n",
       "count   500.000000  500.00000\n",
       "mean   1249.500000   46.58800\n",
       "std     144.481833   16.66763\n",
       "min    1000.000000   18.00000\n",
       "25%    1124.750000   32.00000\n",
       "50%    1249.500000   46.00000\n",
       "75%    1374.250000   62.00000\n",
       "max    1499.000000   75.00000"
      ]
     },
     "execution_count": 19,
     "metadata": {},
     "output_type": "execute_result"
    }
   ],
   "source": [
    "users.describe()"
   ]
  },
  {
   "cell_type": "markdown",
   "metadata": {},
   "source": [
    "Данные о возрасте выгружены корректно<br>\n"
   ]
  },
  {
   "cell_type": "markdown",
   "metadata": {},
   "source": [
    "Для проверки на корректность значений вывожу список уникальных значений по городам.<br>\n",
    "Названия городов выгружены корректно."
   ]
  },
  {
   "cell_type": "markdown",
   "metadata": {},
   "source": [
    "<a id='conclusion1'></a>\n",
    "### Вывод 1"
   ]
  },
  {
   "cell_type": "markdown",
   "metadata": {},
   "source": [
    "В датафреймах представлена следующая информация:<br>\n",
    "202607 строк с данными о разговорах пользователей;<br>\n",
    "149396 строк с данными об интернет-сессиях пользователей;<br>\n",
    "123036 строк с данным о сообщениях пользователей;<br>\n",
    "2 тарифах;<br>\n",
    "500 уникальных пользователях.\n",
    "<br><br>\n",
    "Требуется изменение данных в:\n",
    "1. В таблице <strong>calls</strong> в столбце call_date требуется изменение типа данных с object на date, в столбце duration требуется изменение типа данных с float на int\n",
    "2. В таблице <strong>internet</strong> в столбце mb_used требуется изменение типа данных на int, т.к. точность после запятой не играет роли, В столбце session_date требуется изменение типа данных с object на date.\n",
    "3. В таблице <strong>messages</strong> в столбце message_date требуется изменение типа данных с object на date.\n",
    "4. В таблице <strong>users</strong> в столбцах churn_date и reg_date требуется изменение типа данных с object на date.\n",
    "<br><br>\n",
    "\n",
    "В таблице <strong>internet</strong> имеется столбец <strong>Unnamed: 0</strong>, который не отражён в описании данных, значения дублируются с индексами и столбец может быть удалён.\n",
    "<br><br>\n",
    "Также требуется дополнительная проверка данных:\n",
    "1. В таблице <strong>calls</strong> в столбце duration минимальное значение продолжительности разговора - 0 минут. Требуется подсчёт количества таких звонков и определение их доли.\n",
    "2. В таблице <strong>internet</strong> в столбце mb_used инимальное значение объёма потраченного за сессию интернет-трафика - 0 минут. Требуется подсчёт количества таких сессий и определение их доли.\n",
    "<br><br>\n",
    "\n",
    "В талице <strong>users</strong> в столбце churn_date присутствуют пропуски, которые означают, что пользователь по сей день пользуется тарифом<br>\n"
   ]
  },
  {
   "cell_type": "markdown",
   "metadata": {},
   "source": [
    "<a id='step2'></a>\n",
    "## Шаг 2. Подготовка данных\n",
    "<a href='#step21'>Приведение данных к нужным типам</a><br>\n",
    "<a href='#step22'>Исправление ошибок в данных</a><br>\n",
    "<a href='#step23'>Расчёт для каждого пользователя количества сделанных звонков и израсходованных минут разговора по месяцам</a><br>\n",
    "<a href='#step24'>Расчёт для каждого пользователя количества отправленных сообщений по месяцам</a><br>\n",
    "<a href='#step25'>Расчёт для каждого пользователя объема израсходованного интернет-трафика по месяцам</a><br>\n",
    "<a href='#step26'>Расчёт для каждого пользователя помесячной выручки</a><br>\n",
    "<a href='#conclusion2'>Вывод 2</a><br>"
   ]
  },
  {
   "cell_type": "markdown",
   "metadata": {},
   "source": [
    "<a id='step21'></a>\n",
    "### Приведите данные к нужным типам"
   ]
  },
  {
   "cell_type": "markdown",
   "metadata": {},
   "source": [
    "<font color=grey>Обратите внимание: «Мегалайн» всегда округляет вверх значения минут и мегабайтов. Если пользователь проговорил всего 1 секунду, в тарифе засчитывается целая минута.</font>"
   ]
  },
  {
   "cell_type": "code",
   "execution_count": 20,
   "metadata": {},
   "outputs": [],
   "source": [
    "calls['duration'] = np.ceil(calls.duration) #округляю вверх"
   ]
  },
  {
   "cell_type": "code",
   "execution_count": 21,
   "metadata": {},
   "outputs": [],
   "source": [
    "internet['mb_used'] = np.ceil(internet.mb_used) #округляю вверх"
   ]
  },
  {
   "cell_type": "markdown",
   "metadata": {},
   "source": [
    "В соответствиями с условиями тарифа округляю продолжительность звонков и количество использованных мегабайт."
   ]
  },
  {
   "cell_type": "code",
   "execution_count": 22,
   "metadata": {},
   "outputs": [],
   "source": [
    "internet['mb_used'] = internet['mb_used'].astype(int) #точность после запятой не требуется, меняю на целое"
   ]
  },
  {
   "cell_type": "code",
   "execution_count": 23,
   "metadata": {},
   "outputs": [],
   "source": [
    "internet['session_date'] = pd.to_datetime(internet['session_date'], format='%Y-%m-%d') #изменяю на формат date"
   ]
  },
  {
   "cell_type": "code",
   "execution_count": 24,
   "metadata": {},
   "outputs": [],
   "source": [
    "calls['call_date'] = pd.to_datetime(calls['call_date'], format='%Y-%m-%d') #изменяю на формат date"
   ]
  },
  {
   "cell_type": "code",
   "execution_count": 25,
   "metadata": {},
   "outputs": [],
   "source": [
    "calls['duration'] = calls['duration'].astype(int) #точность после запятой не требуется, меняю на целое"
   ]
  },
  {
   "cell_type": "code",
   "execution_count": 26,
   "metadata": {},
   "outputs": [],
   "source": [
    "messages['messages_date'] = pd.to_datetime(calls['call_date'], format='%Y-%m-%d') #изменяю на формат date"
   ]
  },
  {
   "cell_type": "code",
   "execution_count": 27,
   "metadata": {},
   "outputs": [],
   "source": [
    "users['churn_date'] = pd.to_datetime(users['churn_date'], format='%Y-%m-%d') #изменяю на формат date"
   ]
  },
  {
   "cell_type": "code",
   "execution_count": 28,
   "metadata": {},
   "outputs": [],
   "source": [
    "users['reg_date'] = pd.to_datetime(users['reg_date'], format='%Y-%m-%d') #изменяю на формат date"
   ]
  },
  {
   "cell_type": "markdown",
   "metadata": {},
   "source": [
    "Все типы данных, ранее выявленные как некорректные, были заменены на требуемый формат."
   ]
  },
  {
   "cell_type": "markdown",
   "metadata": {},
   "source": [
    "<a id='step22'></a>\n",
    "### Исправление ошибок в данных"
   ]
  },
  {
   "cell_type": "markdown",
   "metadata": {},
   "source": [
    "<font color=grey>Поясните, какие ошибки вы нашли и как их исправили. Обратите внимание, что у большого количества звонков длительность — 0.0 минут. Это проблема в данных, нужна предобработка.</font>"
   ]
  },
  {
   "cell_type": "code",
   "execution_count": 29,
   "metadata": {},
   "outputs": [
    {
     "data": {
      "text/plain": [
       "['Архангельск',\n",
       " 'Астрахань',\n",
       " 'Балашиха',\n",
       " 'Барнаул',\n",
       " 'Белгород',\n",
       " 'Брянск',\n",
       " 'Владивосток',\n",
       " 'Владикавказ',\n",
       " 'Владимир',\n",
       " 'Волгоград',\n",
       " 'Волжский',\n",
       " 'Вологда',\n",
       " 'Воронеж',\n",
       " 'Грозный',\n",
       " 'Екатеринбург',\n",
       " 'Иваново',\n",
       " 'Ижевск',\n",
       " 'Иркутск',\n",
       " 'Казань',\n",
       " 'Калининград',\n",
       " 'Калуга',\n",
       " 'Кемерово',\n",
       " 'Киров',\n",
       " 'Кострома',\n",
       " 'Краснодар',\n",
       " 'Красноярск',\n",
       " 'Курган',\n",
       " 'Курск',\n",
       " 'Липецк',\n",
       " 'Магнитогорск',\n",
       " 'Махачкала',\n",
       " 'Москва',\n",
       " 'Мурманск',\n",
       " 'Набережные Челны',\n",
       " 'Нижневартовск',\n",
       " 'Нижний Новгород',\n",
       " 'Нижний Тагил',\n",
       " 'Новокузнецк',\n",
       " 'Новороссийск',\n",
       " 'Новосибирск',\n",
       " 'Омск',\n",
       " 'Оренбург',\n",
       " 'Орёл',\n",
       " 'Пенза',\n",
       " 'Пермь',\n",
       " 'Петрозаводск',\n",
       " 'Подольск',\n",
       " 'Ростов-на-Дону',\n",
       " 'Рязань',\n",
       " 'Самара',\n",
       " 'Санкт-Петербург',\n",
       " 'Саранск',\n",
       " 'Саратов',\n",
       " 'Севастополь',\n",
       " 'Смоленск',\n",
       " 'Сочи',\n",
       " 'Ставрополь',\n",
       " 'Стерлитамак',\n",
       " 'Сургут',\n",
       " 'Тамбов',\n",
       " 'Тверь',\n",
       " 'Тольятти',\n",
       " 'Томск',\n",
       " 'Тула',\n",
       " 'Тюмень',\n",
       " 'Улан-Удэ',\n",
       " 'Ульяновск',\n",
       " 'Уфа',\n",
       " 'Хабаровск',\n",
       " 'Химки',\n",
       " 'Чебоксары',\n",
       " 'Челябинск',\n",
       " 'Череповец',\n",
       " 'Чита',\n",
       " 'Якутск',\n",
       " 'Ярославль']"
      ]
     },
     "execution_count": 29,
     "metadata": {},
     "output_type": "execute_result"
    }
   ],
   "source": [
    "sorted(users['city'].unique()) #вывожу список уникальных значений по городам"
   ]
  },
  {
   "cell_type": "code",
   "execution_count": 30,
   "metadata": {},
   "outputs": [],
   "source": [
    "del internet['Unnamed: 0'] #удаляю столбец, не представляющий ценности"
   ]
  },
  {
   "cell_type": "code",
   "execution_count": 31,
   "metadata": {},
   "outputs": [
    {
     "name": "stdout",
     "output_type": "stream",
     "text": [
      "Общее количество строк в фрейме calls: 202607\n",
      "Количество строк, с нулевой продолжительностью разговора: 39613\n",
      "Доля: 19.6%\n"
     ]
    }
   ],
   "source": [
    "print('Общее количество строк в фрейме calls:',len(calls))\n",
    "print('Количество строк, с нулевой продолжительностью разговора:',len(calls.query('duration == 0')))\n",
    "print('Доля: {:.1%}'.format(len(calls.query('duration == 0'))/len(calls)))"
   ]
  },
  {
   "cell_type": "code",
   "execution_count": 32,
   "metadata": {},
   "outputs": [
    {
     "name": "stdout",
     "output_type": "stream",
     "text": [
      "Общее количество строк в фрейме calls: 149396\n",
      "Количество строк, с нулевым объемом сессий: 19598\n",
      "Доля: 13.1%\n"
     ]
    }
   ],
   "source": [
    "print('Общее количество строк в фрейме calls:',len(internet))\n",
    "print('Количество строк, с нулевым объемом сессий:',len(internet.query('mb_used == 0')))\n",
    "print('Доля: {:.1%}'.format(len(internet.query('mb_used == 0'))/len(internet)))"
   ]
  },
  {
   "cell_type": "markdown",
   "metadata": {},
   "source": [
    "Объем нулевых данных в обоих таблицах занимает значимую долю (более 10%). Принимаю решения не заменять эти данные, чтобы не анализировать данные, построенные на собственной гипотезе. При анализе, включающем в себя столбец calls['duration'] и internet['mb_used'] принимаю решение применять сортировку >0, для чего создаю две соответствующие таблицы calls_clear и internet_clear."
   ]
  },
  {
   "cell_type": "code",
   "execution_count": 33,
   "metadata": {},
   "outputs": [],
   "source": [
    "calls_clear = calls.query('duration > 0').copy() #создаю таблицу с ненулевыми данными по продолжительности звонков"
   ]
  },
  {
   "cell_type": "code",
   "execution_count": 34,
   "metadata": {},
   "outputs": [],
   "source": [
    "internet_clear = internet.query('mb_used > 0').copy() #создаю таблицу с ненулевыми данными по интернет сессиям"
   ]
  },
  {
   "cell_type": "markdown",
   "metadata": {},
   "source": [
    "Датафреймы созданы."
   ]
  },
  {
   "cell_type": "code",
   "execution_count": 35,
   "metadata": {},
   "outputs": [
    {
     "name": "stdout",
     "output_type": "stream",
     "text": [
      "2018-01-01 00:00:00\n"
     ]
    }
   ],
   "source": [
    "print(users['reg_date'].min()) #рассчитываю минимальную дату регистрации"
   ]
  },
  {
   "cell_type": "markdown",
   "metadata": {},
   "source": [
    "Все абоненты были подключены в текущем году (или ранее, но в таблице фигурируют как зарегистрированные 2018-01-01 00:00:00), соответствено можно применять разделение по месяцам."
   ]
  },
  {
   "cell_type": "code",
   "execution_count": 36,
   "metadata": {},
   "outputs": [],
   "source": [
    "start_finish = users[['user_id', 'reg_date', 'churn_date']].copy()"
   ]
  },
  {
   "cell_type": "markdown",
   "metadata": {},
   "source": [
    "Создаю таблицу, в которой будут храниться только данные о дате подключения пользователя и дате прекращения пользования тарифом."
   ]
  },
  {
   "cell_type": "code",
   "execution_count": 37,
   "metadata": {},
   "outputs": [],
   "source": [
    "start_finish['reg_date'] = start_finish['reg_date'].dt.month"
   ]
  },
  {
   "cell_type": "code",
   "execution_count": 38,
   "metadata": {},
   "outputs": [],
   "source": [
    "start_finish['churn_date'] = start_finish['churn_date'].dt.month"
   ]
  },
  {
   "cell_type": "markdown",
   "metadata": {},
   "source": [
    "Изменяю дату на формате месяца регистрациии"
   ]
  },
  {
   "cell_type": "code",
   "execution_count": 39,
   "metadata": {},
   "outputs": [],
   "source": [
    "start_finish['churn_date'] = start_finish['churn_date'].fillna(12)"
   ]
  },
  {
   "cell_type": "markdown",
   "metadata": {},
   "source": [
    "Если пользователь не прекращал использование тарифа - присваиваю значение 12го месяца для дальнейшей обработки."
   ]
  },
  {
   "cell_type": "code",
   "execution_count": 40,
   "metadata": {},
   "outputs": [],
   "source": [
    "start_finish['churn_date'] = start_finish['churn_date'].astype(int) #привожу столбец к типу целое"
   ]
  },
  {
   "cell_type": "code",
   "execution_count": 41,
   "metadata": {},
   "outputs": [
    {
     "data": {
      "text/html": [
       "<div>\n",
       "<style scoped>\n",
       "    .dataframe tbody tr th:only-of-type {\n",
       "        vertical-align: middle;\n",
       "    }\n",
       "\n",
       "    .dataframe tbody tr th {\n",
       "        vertical-align: top;\n",
       "    }\n",
       "\n",
       "    .dataframe thead th {\n",
       "        text-align: right;\n",
       "    }\n",
       "</style>\n",
       "<table border=\"1\" class=\"dataframe\">\n",
       "  <thead>\n",
       "    <tr style=\"text-align: right;\">\n",
       "      <th></th>\n",
       "      <th>user_id</th>\n",
       "      <th>reg_date</th>\n",
       "      <th>churn_date</th>\n",
       "    </tr>\n",
       "  </thead>\n",
       "  <tbody>\n",
       "    <tr>\n",
       "      <th>0</th>\n",
       "      <td>1000</td>\n",
       "      <td>5</td>\n",
       "      <td>12</td>\n",
       "    </tr>\n",
       "    <tr>\n",
       "      <th>1</th>\n",
       "      <td>1001</td>\n",
       "      <td>11</td>\n",
       "      <td>12</td>\n",
       "    </tr>\n",
       "    <tr>\n",
       "      <th>2</th>\n",
       "      <td>1002</td>\n",
       "      <td>6</td>\n",
       "      <td>12</td>\n",
       "    </tr>\n",
       "    <tr>\n",
       "      <th>3</th>\n",
       "      <td>1003</td>\n",
       "      <td>8</td>\n",
       "      <td>12</td>\n",
       "    </tr>\n",
       "    <tr>\n",
       "      <th>4</th>\n",
       "      <td>1004</td>\n",
       "      <td>5</td>\n",
       "      <td>12</td>\n",
       "    </tr>\n",
       "    <tr>\n",
       "      <th>...</th>\n",
       "      <td>...</td>\n",
       "      <td>...</td>\n",
       "      <td>...</td>\n",
       "    </tr>\n",
       "    <tr>\n",
       "      <th>495</th>\n",
       "      <td>1495</td>\n",
       "      <td>8</td>\n",
       "      <td>12</td>\n",
       "    </tr>\n",
       "    <tr>\n",
       "      <th>496</th>\n",
       "      <td>1496</td>\n",
       "      <td>1</td>\n",
       "      <td>12</td>\n",
       "    </tr>\n",
       "    <tr>\n",
       "      <th>497</th>\n",
       "      <td>1497</td>\n",
       "      <td>10</td>\n",
       "      <td>12</td>\n",
       "    </tr>\n",
       "    <tr>\n",
       "      <th>498</th>\n",
       "      <td>1498</td>\n",
       "      <td>7</td>\n",
       "      <td>10</td>\n",
       "    </tr>\n",
       "    <tr>\n",
       "      <th>499</th>\n",
       "      <td>1499</td>\n",
       "      <td>9</td>\n",
       "      <td>12</td>\n",
       "    </tr>\n",
       "  </tbody>\n",
       "</table>\n",
       "<p>500 rows × 3 columns</p>\n",
       "</div>"
      ],
      "text/plain": [
       "     user_id  reg_date  churn_date\n",
       "0       1000         5          12\n",
       "1       1001        11          12\n",
       "2       1002         6          12\n",
       "3       1003         8          12\n",
       "4       1004         5          12\n",
       "..       ...       ...         ...\n",
       "495     1495         8          12\n",
       "496     1496         1          12\n",
       "497     1497        10          12\n",
       "498     1498         7          10\n",
       "499     1499         9          12\n",
       "\n",
       "[500 rows x 3 columns]"
      ]
     },
     "metadata": {},
     "output_type": "display_data"
    },
    {
     "name": "stdout",
     "output_type": "stream",
     "text": [
      "<class 'pandas.core.frame.DataFrame'>\n",
      "RangeIndex: 500 entries, 0 to 499\n",
      "Data columns (total 3 columns):\n",
      " #   Column      Non-Null Count  Dtype\n",
      "---  ------      --------------  -----\n",
      " 0   user_id     500 non-null    int64\n",
      " 1   reg_date    500 non-null    int64\n",
      " 2   churn_date  500 non-null    int32\n",
      "dtypes: int32(1), int64(2)\n",
      "memory usage: 9.9 KB\n"
     ]
    }
   ],
   "source": [
    "display(start_finish)\n",
    "start_finish.info()"
   ]
  },
  {
   "cell_type": "markdown",
   "metadata": {},
   "source": [
    "Формирую таблицу, которая будет использоваться далее."
   ]
  },
  {
   "cell_type": "code",
   "execution_count": 42,
   "metadata": {},
   "outputs": [
    {
     "data": {
      "text/html": [
       "<div>\n",
       "<style scoped>\n",
       "    .dataframe tbody tr th:only-of-type {\n",
       "        vertical-align: middle;\n",
       "    }\n",
       "\n",
       "    .dataframe tbody tr th {\n",
       "        vertical-align: top;\n",
       "    }\n",
       "\n",
       "    .dataframe thead th {\n",
       "        text-align: right;\n",
       "    }\n",
       "</style>\n",
       "<table border=\"1\" class=\"dataframe\">\n",
       "  <thead>\n",
       "    <tr style=\"text-align: right;\">\n",
       "      <th></th>\n",
       "      <th>user_id</th>\n",
       "      <th>reg_date</th>\n",
       "      <th>churn_date</th>\n",
       "      <th>month</th>\n",
       "    </tr>\n",
       "  </thead>\n",
       "  <tbody>\n",
       "    <tr>\n",
       "      <th>0</th>\n",
       "      <td>1000</td>\n",
       "      <td>5</td>\n",
       "      <td>12</td>\n",
       "      <td>5</td>\n",
       "    </tr>\n",
       "    <tr>\n",
       "      <th>1</th>\n",
       "      <td>1001</td>\n",
       "      <td>11</td>\n",
       "      <td>12</td>\n",
       "      <td>11</td>\n",
       "    </tr>\n",
       "    <tr>\n",
       "      <th>2</th>\n",
       "      <td>1002</td>\n",
       "      <td>6</td>\n",
       "      <td>12</td>\n",
       "      <td>6</td>\n",
       "    </tr>\n",
       "    <tr>\n",
       "      <th>3</th>\n",
       "      <td>1003</td>\n",
       "      <td>8</td>\n",
       "      <td>12</td>\n",
       "      <td>8</td>\n",
       "    </tr>\n",
       "    <tr>\n",
       "      <th>4</th>\n",
       "      <td>1004</td>\n",
       "      <td>5</td>\n",
       "      <td>12</td>\n",
       "      <td>5</td>\n",
       "    </tr>\n",
       "    <tr>\n",
       "      <th>...</th>\n",
       "      <td>...</td>\n",
       "      <td>...</td>\n",
       "      <td>...</td>\n",
       "      <td>...</td>\n",
       "    </tr>\n",
       "    <tr>\n",
       "      <th>495</th>\n",
       "      <td>1495</td>\n",
       "      <td>8</td>\n",
       "      <td>12</td>\n",
       "      <td>8</td>\n",
       "    </tr>\n",
       "    <tr>\n",
       "      <th>496</th>\n",
       "      <td>1496</td>\n",
       "      <td>1</td>\n",
       "      <td>12</td>\n",
       "      <td>1</td>\n",
       "    </tr>\n",
       "    <tr>\n",
       "      <th>497</th>\n",
       "      <td>1497</td>\n",
       "      <td>10</td>\n",
       "      <td>12</td>\n",
       "      <td>10</td>\n",
       "    </tr>\n",
       "    <tr>\n",
       "      <th>498</th>\n",
       "      <td>1498</td>\n",
       "      <td>7</td>\n",
       "      <td>10</td>\n",
       "      <td>7</td>\n",
       "    </tr>\n",
       "    <tr>\n",
       "      <th>499</th>\n",
       "      <td>1499</td>\n",
       "      <td>9</td>\n",
       "      <td>12</td>\n",
       "      <td>9</td>\n",
       "    </tr>\n",
       "  </tbody>\n",
       "</table>\n",
       "<p>500 rows × 4 columns</p>\n",
       "</div>"
      ],
      "text/plain": [
       "     user_id  reg_date  churn_date  month\n",
       "0       1000         5          12      5\n",
       "1       1001        11          12     11\n",
       "2       1002         6          12      6\n",
       "3       1003         8          12      8\n",
       "4       1004         5          12      5\n",
       "..       ...       ...         ...    ...\n",
       "495     1495         8          12      8\n",
       "496     1496         1          12      1\n",
       "497     1497        10          12     10\n",
       "498     1498         7          10      7\n",
       "499     1499         9          12      9\n",
       "\n",
       "[500 rows x 4 columns]"
      ]
     },
     "metadata": {},
     "output_type": "display_data"
    }
   ],
   "source": [
    "start_finish['month'] = start_finish['reg_date']\n",
    "display(start_finish)"
   ]
  },
  {
   "cell_type": "markdown",
   "metadata": {},
   "source": [
    "<a id='step23'></a>\n",
    "### Расчёт для каждого пользователя количества сделанных звонков и израсходованных минут разговора по месяцам"
   ]
  },
  {
   "cell_type": "code",
   "execution_count": 43,
   "metadata": {},
   "outputs": [
    {
     "name": "stdout",
     "output_type": "stream",
     "text": [
      "2018-01-01 00:00:00\n",
      "2018-12-31 00:00:00\n"
     ]
    }
   ],
   "source": [
    "print(calls_clear['call_date'].min()) #рассчитываю минимальную дату\n",
    "print(calls_clear['call_date'].max()) #рассчитываю максимальную дату"
   ]
  },
  {
   "cell_type": "markdown",
   "metadata": {},
   "source": [
    "Проверяю, что данные в таблице ограничены одним годом."
   ]
  },
  {
   "cell_type": "code",
   "execution_count": 44,
   "metadata": {},
   "outputs": [],
   "source": [
    "calls_clear['month'] = calls_clear['call_date'].dt.month"
   ]
  },
  {
   "cell_type": "markdown",
   "metadata": {},
   "source": [
    "Для расчёта по месяцам добавляю в таблицу столбец c обозначением месяца."
   ]
  },
  {
   "cell_type": "markdown",
   "metadata": {},
   "source": [
    "Расчёты произвожу по таблице calls_clear, т.к. если считать по исходной таблице calls с большим количеством нулевых звонков измениться значение среднего."
   ]
  },
  {
   "cell_type": "code",
   "execution_count": 45,
   "metadata": {},
   "outputs": [
    {
     "data": {
      "text/html": [
       "<div>\n",
       "<style scoped>\n",
       "    .dataframe tbody tr th:only-of-type {\n",
       "        vertical-align: middle;\n",
       "    }\n",
       "\n",
       "    .dataframe tbody tr th {\n",
       "        vertical-align: top;\n",
       "    }\n",
       "\n",
       "    .dataframe thead th {\n",
       "        text-align: right;\n",
       "    }\n",
       "</style>\n",
       "<table border=\"1\" class=\"dataframe\">\n",
       "  <thead>\n",
       "    <tr style=\"text-align: right;\">\n",
       "      <th></th>\n",
       "      <th>user_id</th>\n",
       "      <th>month</th>\n",
       "      <th>duration</th>\n",
       "    </tr>\n",
       "  </thead>\n",
       "  <tbody>\n",
       "    <tr>\n",
       "      <th>0</th>\n",
       "      <td>1000</td>\n",
       "      <td>5</td>\n",
       "      <td>159</td>\n",
       "    </tr>\n",
       "    <tr>\n",
       "      <th>1</th>\n",
       "      <td>1000</td>\n",
       "      <td>6</td>\n",
       "      <td>172</td>\n",
       "    </tr>\n",
       "    <tr>\n",
       "      <th>2</th>\n",
       "      <td>1000</td>\n",
       "      <td>7</td>\n",
       "      <td>340</td>\n",
       "    </tr>\n",
       "    <tr>\n",
       "      <th>3</th>\n",
       "      <td>1000</td>\n",
       "      <td>8</td>\n",
       "      <td>408</td>\n",
       "    </tr>\n",
       "    <tr>\n",
       "      <th>4</th>\n",
       "      <td>1000</td>\n",
       "      <td>9</td>\n",
       "      <td>466</td>\n",
       "    </tr>\n",
       "    <tr>\n",
       "      <th>...</th>\n",
       "      <td>...</td>\n",
       "      <td>...</td>\n",
       "      <td>...</td>\n",
       "    </tr>\n",
       "    <tr>\n",
       "      <th>3163</th>\n",
       "      <td>1498</td>\n",
       "      <td>10</td>\n",
       "      <td>247</td>\n",
       "    </tr>\n",
       "    <tr>\n",
       "      <th>3164</th>\n",
       "      <td>1499</td>\n",
       "      <td>9</td>\n",
       "      <td>70</td>\n",
       "    </tr>\n",
       "    <tr>\n",
       "      <th>3165</th>\n",
       "      <td>1499</td>\n",
       "      <td>10</td>\n",
       "      <td>449</td>\n",
       "    </tr>\n",
       "    <tr>\n",
       "      <th>3166</th>\n",
       "      <td>1499</td>\n",
       "      <td>11</td>\n",
       "      <td>612</td>\n",
       "    </tr>\n",
       "    <tr>\n",
       "      <th>3167</th>\n",
       "      <td>1499</td>\n",
       "      <td>12</td>\n",
       "      <td>492</td>\n",
       "    </tr>\n",
       "  </tbody>\n",
       "</table>\n",
       "<p>3168 rows × 3 columns</p>\n",
       "</div>"
      ],
      "text/plain": [
       "      user_id  month  duration\n",
       "0        1000      5       159\n",
       "1        1000      6       172\n",
       "2        1000      7       340\n",
       "3        1000      8       408\n",
       "4        1000      9       466\n",
       "...       ...    ...       ...\n",
       "3163     1498     10       247\n",
       "3164     1499      9        70\n",
       "3165     1499     10       449\n",
       "3166     1499     11       612\n",
       "3167     1499     12       492\n",
       "\n",
       "[3168 rows x 3 columns]"
      ]
     },
     "metadata": {},
     "output_type": "display_data"
    }
   ],
   "source": [
    "calls_sum = calls_clear.groupby(['user_id','month'])['duration'].sum().reset_index() #группирую данные\n",
    "display(calls_sum)"
   ]
  },
  {
   "cell_type": "markdown",
   "metadata": {},
   "source": [
    "Формирую таблицу с количеством израсходованных минут пользователями по месяцам."
   ]
  },
  {
   "cell_type": "code",
   "execution_count": 46,
   "metadata": {},
   "outputs": [
    {
     "data": {
      "text/html": [
       "<div>\n",
       "<style scoped>\n",
       "    .dataframe tbody tr th:only-of-type {\n",
       "        vertical-align: middle;\n",
       "    }\n",
       "\n",
       "    .dataframe tbody tr th {\n",
       "        vertical-align: top;\n",
       "    }\n",
       "\n",
       "    .dataframe thead th {\n",
       "        text-align: right;\n",
       "    }\n",
       "</style>\n",
       "<table border=\"1\" class=\"dataframe\">\n",
       "  <thead>\n",
       "    <tr style=\"text-align: right;\">\n",
       "      <th></th>\n",
       "      <th>user_id</th>\n",
       "      <th>month</th>\n",
       "      <th>calls</th>\n",
       "    </tr>\n",
       "  </thead>\n",
       "  <tbody>\n",
       "    <tr>\n",
       "      <th>0</th>\n",
       "      <td>1000</td>\n",
       "      <td>5</td>\n",
       "      <td>17</td>\n",
       "    </tr>\n",
       "    <tr>\n",
       "      <th>1</th>\n",
       "      <td>1000</td>\n",
       "      <td>6</td>\n",
       "      <td>28</td>\n",
       "    </tr>\n",
       "    <tr>\n",
       "      <th>2</th>\n",
       "      <td>1000</td>\n",
       "      <td>7</td>\n",
       "      <td>41</td>\n",
       "    </tr>\n",
       "    <tr>\n",
       "      <th>3</th>\n",
       "      <td>1000</td>\n",
       "      <td>8</td>\n",
       "      <td>42</td>\n",
       "    </tr>\n",
       "    <tr>\n",
       "      <th>4</th>\n",
       "      <td>1000</td>\n",
       "      <td>9</td>\n",
       "      <td>46</td>\n",
       "    </tr>\n",
       "    <tr>\n",
       "      <th>...</th>\n",
       "      <td>...</td>\n",
       "      <td>...</td>\n",
       "      <td>...</td>\n",
       "    </tr>\n",
       "    <tr>\n",
       "      <th>3163</th>\n",
       "      <td>1498</td>\n",
       "      <td>10</td>\n",
       "      <td>30</td>\n",
       "    </tr>\n",
       "    <tr>\n",
       "      <th>3164</th>\n",
       "      <td>1499</td>\n",
       "      <td>9</td>\n",
       "      <td>8</td>\n",
       "    </tr>\n",
       "    <tr>\n",
       "      <th>3165</th>\n",
       "      <td>1499</td>\n",
       "      <td>10</td>\n",
       "      <td>44</td>\n",
       "    </tr>\n",
       "    <tr>\n",
       "      <th>3166</th>\n",
       "      <td>1499</td>\n",
       "      <td>11</td>\n",
       "      <td>62</td>\n",
       "    </tr>\n",
       "    <tr>\n",
       "      <th>3167</th>\n",
       "      <td>1499</td>\n",
       "      <td>12</td>\n",
       "      <td>56</td>\n",
       "    </tr>\n",
       "  </tbody>\n",
       "</table>\n",
       "<p>3168 rows × 3 columns</p>\n",
       "</div>"
      ],
      "text/plain": [
       "      user_id  month  calls\n",
       "0        1000      5     17\n",
       "1        1000      6     28\n",
       "2        1000      7     41\n",
       "3        1000      8     42\n",
       "4        1000      9     46\n",
       "...       ...    ...    ...\n",
       "3163     1498     10     30\n",
       "3164     1499      9      8\n",
       "3165     1499     10     44\n",
       "3166     1499     11     62\n",
       "3167     1499     12     56\n",
       "\n",
       "[3168 rows x 3 columns]"
      ]
     },
     "metadata": {},
     "output_type": "display_data"
    }
   ],
   "source": [
    "calls_count = calls_clear.groupby(['user_id','month'])['duration'].count().reset_index() #группирую данные\n",
    "calls_count.rename(columns={'duration': 'calls'}, inplace=True) #переименовываю столбец\n",
    "display(calls_count)"
   ]
  },
  {
   "cell_type": "markdown",
   "metadata": {},
   "source": [
    "Формирую таблицу с количеством звонков пользователями по месяцам."
   ]
  },
  {
   "cell_type": "markdown",
   "metadata": {},
   "source": [
    "<a id='step24'></a>\n",
    "### Расчёт для каждого пользователя количества отправленных сообщений по месяцам"
   ]
  },
  {
   "cell_type": "code",
   "execution_count": 47,
   "metadata": {},
   "outputs": [
    {
     "name": "stdout",
     "output_type": "stream",
     "text": [
      "2018-01-01 00:00:00\n",
      "2018-12-31 00:00:00\n"
     ]
    }
   ],
   "source": [
    "print(messages['messages_date'].min()) #рассчитываю минимальную дату\n",
    "print(messages['messages_date'].max()) #рассчитываю максимальную дату"
   ]
  },
  {
   "cell_type": "markdown",
   "metadata": {},
   "source": [
    "Проверяю, что данные в таблице ограничены одним годом."
   ]
  },
  {
   "cell_type": "code",
   "execution_count": 48,
   "metadata": {},
   "outputs": [],
   "source": [
    "messages['month'] = messages['messages_date'].dt.month"
   ]
  },
  {
   "cell_type": "markdown",
   "metadata": {},
   "source": [
    "Для расчёта по месяцам добавляю в таблицу столбец c обозначением месяца."
   ]
  },
  {
   "cell_type": "code",
   "execution_count": 49,
   "metadata": {},
   "outputs": [
    {
     "data": {
      "text/html": [
       "<div>\n",
       "<style scoped>\n",
       "    .dataframe tbody tr th:only-of-type {\n",
       "        vertical-align: middle;\n",
       "    }\n",
       "\n",
       "    .dataframe tbody tr th {\n",
       "        vertical-align: top;\n",
       "    }\n",
       "\n",
       "    .dataframe thead th {\n",
       "        text-align: right;\n",
       "    }\n",
       "</style>\n",
       "<table border=\"1\" class=\"dataframe\">\n",
       "  <thead>\n",
       "    <tr style=\"text-align: right;\">\n",
       "      <th></th>\n",
       "      <th>user_id</th>\n",
       "      <th>month</th>\n",
       "      <th>messages</th>\n",
       "    </tr>\n",
       "  </thead>\n",
       "  <tbody>\n",
       "    <tr>\n",
       "      <th>0</th>\n",
       "      <td>1000</td>\n",
       "      <td>5</td>\n",
       "      <td>22</td>\n",
       "    </tr>\n",
       "    <tr>\n",
       "      <th>1</th>\n",
       "      <td>1000</td>\n",
       "      <td>6</td>\n",
       "      <td>43</td>\n",
       "    </tr>\n",
       "    <tr>\n",
       "      <th>2</th>\n",
       "      <td>1000</td>\n",
       "      <td>7</td>\n",
       "      <td>47</td>\n",
       "    </tr>\n",
       "    <tr>\n",
       "      <th>3</th>\n",
       "      <td>1000</td>\n",
       "      <td>8</td>\n",
       "      <td>53</td>\n",
       "    </tr>\n",
       "    <tr>\n",
       "      <th>4</th>\n",
       "      <td>1000</td>\n",
       "      <td>9</td>\n",
       "      <td>59</td>\n",
       "    </tr>\n",
       "    <tr>\n",
       "      <th>...</th>\n",
       "      <td>...</td>\n",
       "      <td>...</td>\n",
       "      <td>...</td>\n",
       "    </tr>\n",
       "    <tr>\n",
       "      <th>3736</th>\n",
       "      <td>1499</td>\n",
       "      <td>8</td>\n",
       "      <td>24</td>\n",
       "    </tr>\n",
       "    <tr>\n",
       "      <th>3737</th>\n",
       "      <td>1499</td>\n",
       "      <td>9</td>\n",
       "      <td>20</td>\n",
       "    </tr>\n",
       "    <tr>\n",
       "      <th>3738</th>\n",
       "      <td>1499</td>\n",
       "      <td>10</td>\n",
       "      <td>35</td>\n",
       "    </tr>\n",
       "    <tr>\n",
       "      <th>3739</th>\n",
       "      <td>1499</td>\n",
       "      <td>11</td>\n",
       "      <td>37</td>\n",
       "    </tr>\n",
       "    <tr>\n",
       "      <th>3740</th>\n",
       "      <td>1499</td>\n",
       "      <td>12</td>\n",
       "      <td>29</td>\n",
       "    </tr>\n",
       "  </tbody>\n",
       "</table>\n",
       "<p>3741 rows × 3 columns</p>\n",
       "</div>"
      ],
      "text/plain": [
       "      user_id  month  messages\n",
       "0        1000      5        22\n",
       "1        1000      6        43\n",
       "2        1000      7        47\n",
       "3        1000      8        53\n",
       "4        1000      9        59\n",
       "...       ...    ...       ...\n",
       "3736     1499      8        24\n",
       "3737     1499      9        20\n",
       "3738     1499     10        35\n",
       "3739     1499     11        37\n",
       "3740     1499     12        29\n",
       "\n",
       "[3741 rows x 3 columns]"
      ]
     },
     "metadata": {},
     "output_type": "display_data"
    }
   ],
   "source": [
    "messages_count = messages.groupby(['user_id','month'])['id'].count().reset_index() #группирую данные\n",
    "messages_count.rename(columns={'id': 'messages'}, inplace=True) #переименовываю столбец\n",
    "display(messages_count)"
   ]
  },
  {
   "cell_type": "markdown",
   "metadata": {},
   "source": [
    "Формирую таблицу с количеством сообщений пользователями по месяцам."
   ]
  },
  {
   "cell_type": "markdown",
   "metadata": {},
   "source": [
    "<a id='step25'></a>\n",
    "### Расчёт для каждого пользователя объема израсходованного интернет-трафика по месяцам"
   ]
  },
  {
   "cell_type": "code",
   "execution_count": 50,
   "metadata": {},
   "outputs": [
    {
     "name": "stdout",
     "output_type": "stream",
     "text": [
      "2018-01-01 00:00:00\n",
      "2018-01-01 00:00:00\n"
     ]
    }
   ],
   "source": [
    "print(internet['session_date'].min()) #рассчитываю минимальную дату\n",
    "print(internet['session_date'].min()) #рассчитываю максимальную дату"
   ]
  },
  {
   "cell_type": "markdown",
   "metadata": {},
   "source": [
    "Проверяю, что данные в таблице ограничены одним годом."
   ]
  },
  {
   "cell_type": "code",
   "execution_count": 51,
   "metadata": {},
   "outputs": [],
   "source": [
    "internet_clear['month'] = internet_clear['session_date'].dt.month"
   ]
  },
  {
   "cell_type": "markdown",
   "metadata": {},
   "source": [
    "Для расчёта по месяцам добавляю в таблицу столбец c обозначением месяца."
   ]
  },
  {
   "cell_type": "code",
   "execution_count": 52,
   "metadata": {},
   "outputs": [
    {
     "data": {
      "text/html": [
       "<div>\n",
       "<style scoped>\n",
       "    .dataframe tbody tr th:only-of-type {\n",
       "        vertical-align: middle;\n",
       "    }\n",
       "\n",
       "    .dataframe tbody tr th {\n",
       "        vertical-align: top;\n",
       "    }\n",
       "\n",
       "    .dataframe thead th {\n",
       "        text-align: right;\n",
       "    }\n",
       "</style>\n",
       "<table border=\"1\" class=\"dataframe\">\n",
       "  <thead>\n",
       "    <tr style=\"text-align: right;\">\n",
       "      <th></th>\n",
       "      <th>user_id</th>\n",
       "      <th>month</th>\n",
       "      <th>mb_used</th>\n",
       "    </tr>\n",
       "  </thead>\n",
       "  <tbody>\n",
       "    <tr>\n",
       "      <th>0</th>\n",
       "      <td>1000</td>\n",
       "      <td>5</td>\n",
       "      <td>2256</td>\n",
       "    </tr>\n",
       "    <tr>\n",
       "      <th>1</th>\n",
       "      <td>1000</td>\n",
       "      <td>6</td>\n",
       "      <td>23257</td>\n",
       "    </tr>\n",
       "    <tr>\n",
       "      <th>2</th>\n",
       "      <td>1000</td>\n",
       "      <td>7</td>\n",
       "      <td>14016</td>\n",
       "    </tr>\n",
       "    <tr>\n",
       "      <th>3</th>\n",
       "      <td>1000</td>\n",
       "      <td>8</td>\n",
       "      <td>14070</td>\n",
       "    </tr>\n",
       "    <tr>\n",
       "      <th>4</th>\n",
       "      <td>1000</td>\n",
       "      <td>9</td>\n",
       "      <td>14581</td>\n",
       "    </tr>\n",
       "    <tr>\n",
       "      <th>...</th>\n",
       "      <td>...</td>\n",
       "      <td>...</td>\n",
       "      <td>...</td>\n",
       "    </tr>\n",
       "    <tr>\n",
       "      <th>3196</th>\n",
       "      <td>1498</td>\n",
       "      <td>10</td>\n",
       "      <td>20604</td>\n",
       "    </tr>\n",
       "    <tr>\n",
       "      <th>3197</th>\n",
       "      <td>1499</td>\n",
       "      <td>9</td>\n",
       "      <td>1848</td>\n",
       "    </tr>\n",
       "    <tr>\n",
       "      <th>3198</th>\n",
       "      <td>1499</td>\n",
       "      <td>10</td>\n",
       "      <td>17809</td>\n",
       "    </tr>\n",
       "    <tr>\n",
       "      <th>3199</th>\n",
       "      <td>1499</td>\n",
       "      <td>11</td>\n",
       "      <td>17984</td>\n",
       "    </tr>\n",
       "    <tr>\n",
       "      <th>3200</th>\n",
       "      <td>1499</td>\n",
       "      <td>12</td>\n",
       "      <td>13077</td>\n",
       "    </tr>\n",
       "  </tbody>\n",
       "</table>\n",
       "<p>3201 rows × 3 columns</p>\n",
       "</div>"
      ],
      "text/plain": [
       "      user_id  month  mb_used\n",
       "0        1000      5     2256\n",
       "1        1000      6    23257\n",
       "2        1000      7    14016\n",
       "3        1000      8    14070\n",
       "4        1000      9    14581\n",
       "...       ...    ...      ...\n",
       "3196     1498     10    20604\n",
       "3197     1499      9     1848\n",
       "3198     1499     10    17809\n",
       "3199     1499     11    17984\n",
       "3200     1499     12    13077\n",
       "\n",
       "[3201 rows x 3 columns]"
      ]
     },
     "metadata": {},
     "output_type": "display_data"
    }
   ],
   "source": [
    "internet_sum = internet_clear.groupby(['user_id','month'])['mb_used'].sum().reset_index() #группирую данные\n",
    "display(internet_sum)"
   ]
  },
  {
   "cell_type": "markdown",
   "metadata": {},
   "source": [
    "Формирую таблицу с объемом израсходованного траффика пользователями по месяцам."
   ]
  },
  {
   "cell_type": "markdown",
   "metadata": {},
   "source": [
    "<a id='step26'></a>\n",
    "### Расчёт для каждого пользователя помесячной выручки"
   ]
  },
  {
   "cell_type": "markdown",
   "metadata": {},
   "source": [
    "Для расчёта помесячной выручки с каждого пользователя требуется провести ряд действий.<br>\n",
    "Начинаю формировать объединенную таблицу."
   ]
  },
  {
   "cell_type": "code",
   "execution_count": 53,
   "metadata": {},
   "outputs": [],
   "source": [
    "total = calls_sum.merge(calls_count, on=['user_id', 'month'])\n",
    "#не применяю параметр how, т.к. количество строк одинаковое, данные аналогичны"
   ]
  },
  {
   "cell_type": "markdown",
   "metadata": {},
   "source": [
    "На первом этапе объединяю таблицы <strong>calls_sum</strong> и <strong>calls_count</strong> по столбцам 'user_id' и 'month'."
   ]
  },
  {
   "cell_type": "code",
   "execution_count": 54,
   "metadata": {},
   "outputs": [],
   "source": [
    "total = total.merge(messages_count, on=['user_id', 'month'], how='outer')\n",
    "#применяю параметр how='outer', чтобы в таблицу попали пользователи с нулевыми значениями звонков и сообщений"
   ]
  },
  {
   "cell_type": "markdown",
   "metadata": {},
   "source": [
    "На втором этапе объединяю таблицу <strong>total</strong> и <strong>messages_count</strong> по столбцам 'user_id' и 'month'.<br>\n",
    "В таблицу попадают пользователи с нулевыми значениями сообщений (не попавшие в таблицу <strong>messages_count</strong>), а также остаются пользователи с нулевыми значениями звонков (которых не было в таблицах <strong>calls_xxx</strong>)."
   ]
  },
  {
   "cell_type": "code",
   "execution_count": 55,
   "metadata": {},
   "outputs": [],
   "source": [
    "total = total.merge(internet_sum, on=['user_id', 'month'], how='outer')\n",
    "#применяю параметр how='outer', чтобы в таблицу попали пользователи с нулевыми значениями сессий интернета"
   ]
  },
  {
   "cell_type": "markdown",
   "metadata": {},
   "source": [
    "На третьем этапе объединяю таблицу <strong>total</strong> и <strong>internet_sum</strong> по столбцам 'user_id' и 'month'.<br>\n",
    "В таблицу попадают пользователи с нулевыми значениями сессий интернета (не отраженные в таблице <strong>internet_sum</strong>), а также остаются пользователи с ранее полученными нулевыми значениями."
   ]
  },
  {
   "cell_type": "markdown",
   "metadata": {},
   "source": [
    "Исходя из дальнейшего задания мне понадобятся только следующие данные из таблицы <strong>users</strong>:\n",
    "1. user_id — уникальный идентификатор пользователя\n",
    "2. city — город проживания пользователя\n",
    "3. tariff — название тарифного плана\n",
    "<br><br>"
   ]
  },
  {
   "cell_type": "code",
   "execution_count": 56,
   "metadata": {},
   "outputs": [],
   "source": [
    "users_short = users[['user_id', 'city', 'tariff']].copy()"
   ]
  },
  {
   "cell_type": "markdown",
   "metadata": {},
   "source": [
    "Строю новую таблицу на основе датафрейма <strong>users</strong>"
   ]
  },
  {
   "cell_type": "code",
   "execution_count": 57,
   "metadata": {},
   "outputs": [],
   "source": [
    "total = total.merge(users_short, on='user_id', how='left')\n",
    "#применяю параметр how='left', чтобы в таблицу попали толькосоответствующие значения из users"
   ]
  },
  {
   "cell_type": "markdown",
   "metadata": {},
   "source": [
    "На четвертом этапе объединяю таблицу <strong>total</strong> и <strong>users_short</strong> по столбцу 'user_id'<br>\n",
    "Таким образом получаю общую таблицу с необходимыми мне для дальнейших расчётов данными о пользователях."
   ]
  },
  {
   "cell_type": "code",
   "execution_count": 58,
   "metadata": {},
   "outputs": [],
   "source": [
    "tariffs.rename(columns={'tariff_name': 'tariff'}, inplace=True) #переименовываю столбец для корректной работы merge()"
   ]
  },
  {
   "cell_type": "code",
   "execution_count": 59,
   "metadata": {},
   "outputs": [],
   "source": [
    "total = total.merge(tariffs, on='tariff', how='left')\n",
    "#применяю параметр how='left', чтобы в таблицу попали только соответствующие значения из tariff"
   ]
  },
  {
   "cell_type": "markdown",
   "metadata": {},
   "source": [
    "На пятом этапе объединяю таблицу <strong>total</strong> и <strong>tariffs</strong> по столбцу 'tariff'<br>\n",
    "Таким образом получаю общую таблицу с необходимыми мне для дальнейших расчётов данными о тарифах."
   ]
  },
  {
   "cell_type": "code",
   "execution_count": 60,
   "metadata": {},
   "outputs": [],
   "source": [
    "total = total.fillna(0) #заполняю все пропущенные значения в таблице нолём"
   ]
  },
  {
   "cell_type": "code",
   "execution_count": 61,
   "metadata": {},
   "outputs": [],
   "source": [
    "def over_duration(row):\n",
    "    \"\"\"\n",
    "    заполняю в таблице столбец с\n",
    "    количеством минут, которые пользователь\n",
    "    потратил сверх тарифного плана\n",
    "    \"\"\"\n",
    "    data_included=row['minutes_included']\n",
    "    result=row['duration']\n",
    "    summ = result - data_included\n",
    "    if summ > 0:\n",
    "        return summ\n",
    "    return 0\n",
    "\n",
    "total['over_duration']=total.apply(over_duration, axis = 1)"
   ]
  },
  {
   "cell_type": "markdown",
   "metadata": {},
   "source": [
    "Вычисляю количество минут, потраченные пользователем сверх тарифного плана.<br>\n",
    "Если пользователь потратил меньше минут, чем предусмотрено тарифом, то заполняю строку нулевым значением."
   ]
  },
  {
   "cell_type": "code",
   "execution_count": 62,
   "metadata": {},
   "outputs": [],
   "source": [
    "total['messages'] = total['messages'].astype(int) #привожу к целым значениям\n",
    "\n",
    "def over_messages(row):\n",
    "    \"\"\"\n",
    "    заполняю в таблице столбец с\n",
    "    количеством сообщений, которые пользователь\n",
    "    потратил сверх тарифного плана\n",
    "    \"\"\"\n",
    "    data_included=row['messages_included']\n",
    "    result=row['messages']\n",
    "    summ = result - data_included\n",
    "    if summ > 0:\n",
    "        return summ\n",
    "    return 0\n",
    "\n",
    "total['over_messages']=total.apply(over_messages, axis = 1)"
   ]
  },
  {
   "cell_type": "markdown",
   "metadata": {},
   "source": [
    "Вычисляю количество сообщений, потраченные пользователем сверх тарифного плана.<br>\n",
    "Если пользователь потратил меньше сообщений, чем предусмотрено тарифом, то заполняю строку нулевым значением."
   ]
  },
  {
   "cell_type": "code",
   "execution_count": 63,
   "metadata": {},
   "outputs": [],
   "source": [
    "total['mb_used'] = total['mb_used'].astype(int) #привожу к целым значениям\n",
    "\n",
    "def over_mb(row):\n",
    "    \"\"\"\n",
    "    заполняю в таблице столбец с\n",
    "    количеством мегабайт, которые пользователь\n",
    "    потратил сверх тарифного плана\n",
    "    \"\"\"\n",
    "    data_included=row['mb_per_month_included']\n",
    "    result=row['mb_used']\n",
    "    summ = result - data_included\n",
    "    if summ > 0:\n",
    "        return summ\n",
    "    return 0\n",
    "\n",
    "total['over_mb_used']=total.apply(over_mb, axis = 1)"
   ]
  },
  {
   "cell_type": "markdown",
   "metadata": {},
   "source": [
    "Вычисляю количество мегабайт, потраченные пользователем сверх тарифного плана.<br>\n",
    "Если пользователь потратил меньше мегабайт, чем предусмотрено тарифом, то заполняю строку нулевым значением."
   ]
  },
  {
   "cell_type": "code",
   "execution_count": 64,
   "metadata": {},
   "outputs": [],
   "source": [
    "total['over_gb_used'] = np.ceil(total['over_mb_used']/1024) #перевожу потраченный траффик в ГБ и округляю вверх"
   ]
  },
  {
   "cell_type": "code",
   "execution_count": 65,
   "metadata": {},
   "outputs": [
    {
     "data": {
      "text/html": [
       "<div>\n",
       "<style scoped>\n",
       "    .dataframe tbody tr th:only-of-type {\n",
       "        vertical-align: middle;\n",
       "    }\n",
       "\n",
       "    .dataframe tbody tr th {\n",
       "        vertical-align: top;\n",
       "    }\n",
       "\n",
       "    .dataframe thead th {\n",
       "        text-align: right;\n",
       "    }\n",
       "</style>\n",
       "<table border=\"1\" class=\"dataframe\">\n",
       "  <thead>\n",
       "    <tr style=\"text-align: right;\">\n",
       "      <th></th>\n",
       "      <th>user_id</th>\n",
       "      <th>month</th>\n",
       "      <th>duration</th>\n",
       "      <th>calls</th>\n",
       "      <th>messages</th>\n",
       "      <th>mb_used</th>\n",
       "      <th>city</th>\n",
       "      <th>tariff</th>\n",
       "      <th>messages_included</th>\n",
       "      <th>mb_per_month_included</th>\n",
       "      <th>minutes_included</th>\n",
       "      <th>rub_monthly_fee</th>\n",
       "      <th>rub_per_gb</th>\n",
       "      <th>rub_per_message</th>\n",
       "      <th>rub_per_minute</th>\n",
       "      <th>over_duration</th>\n",
       "      <th>over_messages</th>\n",
       "      <th>over_mb_used</th>\n",
       "      <th>over_gb_used</th>\n",
       "    </tr>\n",
       "  </thead>\n",
       "  <tbody>\n",
       "    <tr>\n",
       "      <th>0</th>\n",
       "      <td>1000</td>\n",
       "      <td>5</td>\n",
       "      <td>159.0</td>\n",
       "      <td>17.0</td>\n",
       "      <td>22</td>\n",
       "      <td>2256</td>\n",
       "      <td>Краснодар</td>\n",
       "      <td>ultra</td>\n",
       "      <td>1000</td>\n",
       "      <td>30720</td>\n",
       "      <td>3000</td>\n",
       "      <td>1950</td>\n",
       "      <td>150</td>\n",
       "      <td>1</td>\n",
       "      <td>1</td>\n",
       "      <td>0.0</td>\n",
       "      <td>0</td>\n",
       "      <td>0</td>\n",
       "      <td>0.0</td>\n",
       "    </tr>\n",
       "    <tr>\n",
       "      <th>1</th>\n",
       "      <td>1000</td>\n",
       "      <td>6</td>\n",
       "      <td>172.0</td>\n",
       "      <td>28.0</td>\n",
       "      <td>43</td>\n",
       "      <td>23257</td>\n",
       "      <td>Краснодар</td>\n",
       "      <td>ultra</td>\n",
       "      <td>1000</td>\n",
       "      <td>30720</td>\n",
       "      <td>3000</td>\n",
       "      <td>1950</td>\n",
       "      <td>150</td>\n",
       "      <td>1</td>\n",
       "      <td>1</td>\n",
       "      <td>0.0</td>\n",
       "      <td>0</td>\n",
       "      <td>0</td>\n",
       "      <td>0.0</td>\n",
       "    </tr>\n",
       "    <tr>\n",
       "      <th>2</th>\n",
       "      <td>1000</td>\n",
       "      <td>7</td>\n",
       "      <td>340.0</td>\n",
       "      <td>41.0</td>\n",
       "      <td>47</td>\n",
       "      <td>14016</td>\n",
       "      <td>Краснодар</td>\n",
       "      <td>ultra</td>\n",
       "      <td>1000</td>\n",
       "      <td>30720</td>\n",
       "      <td>3000</td>\n",
       "      <td>1950</td>\n",
       "      <td>150</td>\n",
       "      <td>1</td>\n",
       "      <td>1</td>\n",
       "      <td>0.0</td>\n",
       "      <td>0</td>\n",
       "      <td>0</td>\n",
       "      <td>0.0</td>\n",
       "    </tr>\n",
       "    <tr>\n",
       "      <th>3</th>\n",
       "      <td>1000</td>\n",
       "      <td>8</td>\n",
       "      <td>408.0</td>\n",
       "      <td>42.0</td>\n",
       "      <td>53</td>\n",
       "      <td>14070</td>\n",
       "      <td>Краснодар</td>\n",
       "      <td>ultra</td>\n",
       "      <td>1000</td>\n",
       "      <td>30720</td>\n",
       "      <td>3000</td>\n",
       "      <td>1950</td>\n",
       "      <td>150</td>\n",
       "      <td>1</td>\n",
       "      <td>1</td>\n",
       "      <td>0.0</td>\n",
       "      <td>0</td>\n",
       "      <td>0</td>\n",
       "      <td>0.0</td>\n",
       "    </tr>\n",
       "    <tr>\n",
       "      <th>4</th>\n",
       "      <td>1000</td>\n",
       "      <td>9</td>\n",
       "      <td>466.0</td>\n",
       "      <td>46.0</td>\n",
       "      <td>59</td>\n",
       "      <td>14581</td>\n",
       "      <td>Краснодар</td>\n",
       "      <td>ultra</td>\n",
       "      <td>1000</td>\n",
       "      <td>30720</td>\n",
       "      <td>3000</td>\n",
       "      <td>1950</td>\n",
       "      <td>150</td>\n",
       "      <td>1</td>\n",
       "      <td>1</td>\n",
       "      <td>0.0</td>\n",
       "      <td>0</td>\n",
       "      <td>0</td>\n",
       "      <td>0.0</td>\n",
       "    </tr>\n",
       "    <tr>\n",
       "      <th>...</th>\n",
       "      <td>...</td>\n",
       "      <td>...</td>\n",
       "      <td>...</td>\n",
       "      <td>...</td>\n",
       "      <td>...</td>\n",
       "      <td>...</td>\n",
       "      <td>...</td>\n",
       "      <td>...</td>\n",
       "      <td>...</td>\n",
       "      <td>...</td>\n",
       "      <td>...</td>\n",
       "      <td>...</td>\n",
       "      <td>...</td>\n",
       "      <td>...</td>\n",
       "      <td>...</td>\n",
       "      <td>...</td>\n",
       "      <td>...</td>\n",
       "      <td>...</td>\n",
       "      <td>...</td>\n",
       "    </tr>\n",
       "    <tr>\n",
       "      <th>4531</th>\n",
       "      <td>1499</td>\n",
       "      <td>7</td>\n",
       "      <td>0.0</td>\n",
       "      <td>0.0</td>\n",
       "      <td>25</td>\n",
       "      <td>0</td>\n",
       "      <td>Пермь</td>\n",
       "      <td>smart</td>\n",
       "      <td>50</td>\n",
       "      <td>15360</td>\n",
       "      <td>500</td>\n",
       "      <td>550</td>\n",
       "      <td>200</td>\n",
       "      <td>3</td>\n",
       "      <td>3</td>\n",
       "      <td>0.0</td>\n",
       "      <td>0</td>\n",
       "      <td>0</td>\n",
       "      <td>0.0</td>\n",
       "    </tr>\n",
       "    <tr>\n",
       "      <th>4532</th>\n",
       "      <td>1499</td>\n",
       "      <td>8</td>\n",
       "      <td>0.0</td>\n",
       "      <td>0.0</td>\n",
       "      <td>24</td>\n",
       "      <td>0</td>\n",
       "      <td>Пермь</td>\n",
       "      <td>smart</td>\n",
       "      <td>50</td>\n",
       "      <td>15360</td>\n",
       "      <td>500</td>\n",
       "      <td>550</td>\n",
       "      <td>200</td>\n",
       "      <td>3</td>\n",
       "      <td>3</td>\n",
       "      <td>0.0</td>\n",
       "      <td>0</td>\n",
       "      <td>0</td>\n",
       "      <td>0.0</td>\n",
       "    </tr>\n",
       "    <tr>\n",
       "      <th>4533</th>\n",
       "      <td>1240</td>\n",
       "      <td>2</td>\n",
       "      <td>0.0</td>\n",
       "      <td>0.0</td>\n",
       "      <td>0</td>\n",
       "      <td>961</td>\n",
       "      <td>Воронеж</td>\n",
       "      <td>ultra</td>\n",
       "      <td>1000</td>\n",
       "      <td>30720</td>\n",
       "      <td>3000</td>\n",
       "      <td>1950</td>\n",
       "      <td>150</td>\n",
       "      <td>1</td>\n",
       "      <td>1</td>\n",
       "      <td>0.0</td>\n",
       "      <td>0</td>\n",
       "      <td>0</td>\n",
       "      <td>0.0</td>\n",
       "    </tr>\n",
       "    <tr>\n",
       "      <th>4534</th>\n",
       "      <td>1373</td>\n",
       "      <td>1</td>\n",
       "      <td>0.0</td>\n",
       "      <td>0.0</td>\n",
       "      <td>0</td>\n",
       "      <td>9184</td>\n",
       "      <td>Улан-Удэ</td>\n",
       "      <td>smart</td>\n",
       "      <td>50</td>\n",
       "      <td>15360</td>\n",
       "      <td>500</td>\n",
       "      <td>550</td>\n",
       "      <td>200</td>\n",
       "      <td>3</td>\n",
       "      <td>3</td>\n",
       "      <td>0.0</td>\n",
       "      <td>0</td>\n",
       "      <td>0</td>\n",
       "      <td>0.0</td>\n",
       "    </tr>\n",
       "    <tr>\n",
       "      <th>4535</th>\n",
       "      <td>1476</td>\n",
       "      <td>4</td>\n",
       "      <td>0.0</td>\n",
       "      <td>0.0</td>\n",
       "      <td>0</td>\n",
       "      <td>531</td>\n",
       "      <td>Москва</td>\n",
       "      <td>ultra</td>\n",
       "      <td>1000</td>\n",
       "      <td>30720</td>\n",
       "      <td>3000</td>\n",
       "      <td>1950</td>\n",
       "      <td>150</td>\n",
       "      <td>1</td>\n",
       "      <td>1</td>\n",
       "      <td>0.0</td>\n",
       "      <td>0</td>\n",
       "      <td>0</td>\n",
       "      <td>0.0</td>\n",
       "    </tr>\n",
       "  </tbody>\n",
       "</table>\n",
       "<p>4536 rows × 19 columns</p>\n",
       "</div>"
      ],
      "text/plain": [
       "      user_id  month  duration  calls  messages  mb_used       city tariff  \\\n",
       "0        1000      5     159.0   17.0        22     2256  Краснодар  ultra   \n",
       "1        1000      6     172.0   28.0        43    23257  Краснодар  ultra   \n",
       "2        1000      7     340.0   41.0        47    14016  Краснодар  ultra   \n",
       "3        1000      8     408.0   42.0        53    14070  Краснодар  ultra   \n",
       "4        1000      9     466.0   46.0        59    14581  Краснодар  ultra   \n",
       "...       ...    ...       ...    ...       ...      ...        ...    ...   \n",
       "4531     1499      7       0.0    0.0        25        0      Пермь  smart   \n",
       "4532     1499      8       0.0    0.0        24        0      Пермь  smart   \n",
       "4533     1240      2       0.0    0.0         0      961    Воронеж  ultra   \n",
       "4534     1373      1       0.0    0.0         0     9184   Улан-Удэ  smart   \n",
       "4535     1476      4       0.0    0.0         0      531     Москва  ultra   \n",
       "\n",
       "      messages_included  mb_per_month_included  minutes_included  \\\n",
       "0                  1000                  30720              3000   \n",
       "1                  1000                  30720              3000   \n",
       "2                  1000                  30720              3000   \n",
       "3                  1000                  30720              3000   \n",
       "4                  1000                  30720              3000   \n",
       "...                 ...                    ...               ...   \n",
       "4531                 50                  15360               500   \n",
       "4532                 50                  15360               500   \n",
       "4533               1000                  30720              3000   \n",
       "4534                 50                  15360               500   \n",
       "4535               1000                  30720              3000   \n",
       "\n",
       "      rub_monthly_fee  rub_per_gb  rub_per_message  rub_per_minute  \\\n",
       "0                1950         150                1               1   \n",
       "1                1950         150                1               1   \n",
       "2                1950         150                1               1   \n",
       "3                1950         150                1               1   \n",
       "4                1950         150                1               1   \n",
       "...               ...         ...              ...             ...   \n",
       "4531              550         200                3               3   \n",
       "4532              550         200                3               3   \n",
       "4533             1950         150                1               1   \n",
       "4534              550         200                3               3   \n",
       "4535             1950         150                1               1   \n",
       "\n",
       "      over_duration  over_messages  over_mb_used  over_gb_used  \n",
       "0               0.0              0             0           0.0  \n",
       "1               0.0              0             0           0.0  \n",
       "2               0.0              0             0           0.0  \n",
       "3               0.0              0             0           0.0  \n",
       "4               0.0              0             0           0.0  \n",
       "...             ...            ...           ...           ...  \n",
       "4531            0.0              0             0           0.0  \n",
       "4532            0.0              0             0           0.0  \n",
       "4533            0.0              0             0           0.0  \n",
       "4534            0.0              0             0           0.0  \n",
       "4535            0.0              0             0           0.0  \n",
       "\n",
       "[4536 rows x 19 columns]"
      ]
     },
     "metadata": {},
     "output_type": "display_data"
    }
   ],
   "source": [
    "display(total)"
   ]
  },
  {
   "cell_type": "code",
   "execution_count": 66,
   "metadata": {},
   "outputs": [],
   "source": [
    "total['proceeds'] = total['rub_monthly_fee'] + ( #плата за месяц\n",
    "    total['over_duration']*total['rub_per_minute']) + ( #сверх лимита по минутам\n",
    "    total['over_messages']*total['rub_per_message']) + ( #сверх лимита по сообщениям\n",
    "    total['over_gb_used']*total['rub_per_gb']) #сверх лимита по трафику"
   ]
  },
  {
   "cell_type": "code",
   "execution_count": 67,
   "metadata": {},
   "outputs": [
    {
     "data": {
      "text/html": [
       "<div>\n",
       "<style scoped>\n",
       "    .dataframe tbody tr th:only-of-type {\n",
       "        vertical-align: middle;\n",
       "    }\n",
       "\n",
       "    .dataframe tbody tr th {\n",
       "        vertical-align: top;\n",
       "    }\n",
       "\n",
       "    .dataframe thead th {\n",
       "        text-align: right;\n",
       "    }\n",
       "</style>\n",
       "<table border=\"1\" class=\"dataframe\">\n",
       "  <thead>\n",
       "    <tr style=\"text-align: right;\">\n",
       "      <th></th>\n",
       "      <th>user_id</th>\n",
       "      <th>month</th>\n",
       "      <th>duration</th>\n",
       "      <th>calls</th>\n",
       "      <th>messages</th>\n",
       "      <th>mb_used</th>\n",
       "      <th>city</th>\n",
       "      <th>tariff</th>\n",
       "      <th>messages_included</th>\n",
       "      <th>mb_per_month_included</th>\n",
       "      <th>minutes_included</th>\n",
       "      <th>rub_monthly_fee</th>\n",
       "      <th>rub_per_gb</th>\n",
       "      <th>rub_per_message</th>\n",
       "      <th>rub_per_minute</th>\n",
       "      <th>over_duration</th>\n",
       "      <th>over_messages</th>\n",
       "      <th>over_mb_used</th>\n",
       "      <th>over_gb_used</th>\n",
       "      <th>proceeds</th>\n",
       "    </tr>\n",
       "  </thead>\n",
       "  <tbody>\n",
       "    <tr>\n",
       "      <th>0</th>\n",
       "      <td>1000</td>\n",
       "      <td>5</td>\n",
       "      <td>159.0</td>\n",
       "      <td>17.0</td>\n",
       "      <td>22</td>\n",
       "      <td>2256</td>\n",
       "      <td>Краснодар</td>\n",
       "      <td>ultra</td>\n",
       "      <td>1000</td>\n",
       "      <td>30720</td>\n",
       "      <td>3000</td>\n",
       "      <td>1950</td>\n",
       "      <td>150</td>\n",
       "      <td>1</td>\n",
       "      <td>1</td>\n",
       "      <td>0.0</td>\n",
       "      <td>0</td>\n",
       "      <td>0</td>\n",
       "      <td>0.0</td>\n",
       "      <td>1950.0</td>\n",
       "    </tr>\n",
       "    <tr>\n",
       "      <th>1</th>\n",
       "      <td>1000</td>\n",
       "      <td>6</td>\n",
       "      <td>172.0</td>\n",
       "      <td>28.0</td>\n",
       "      <td>43</td>\n",
       "      <td>23257</td>\n",
       "      <td>Краснодар</td>\n",
       "      <td>ultra</td>\n",
       "      <td>1000</td>\n",
       "      <td>30720</td>\n",
       "      <td>3000</td>\n",
       "      <td>1950</td>\n",
       "      <td>150</td>\n",
       "      <td>1</td>\n",
       "      <td>1</td>\n",
       "      <td>0.0</td>\n",
       "      <td>0</td>\n",
       "      <td>0</td>\n",
       "      <td>0.0</td>\n",
       "      <td>1950.0</td>\n",
       "    </tr>\n",
       "    <tr>\n",
       "      <th>2</th>\n",
       "      <td>1000</td>\n",
       "      <td>7</td>\n",
       "      <td>340.0</td>\n",
       "      <td>41.0</td>\n",
       "      <td>47</td>\n",
       "      <td>14016</td>\n",
       "      <td>Краснодар</td>\n",
       "      <td>ultra</td>\n",
       "      <td>1000</td>\n",
       "      <td>30720</td>\n",
       "      <td>3000</td>\n",
       "      <td>1950</td>\n",
       "      <td>150</td>\n",
       "      <td>1</td>\n",
       "      <td>1</td>\n",
       "      <td>0.0</td>\n",
       "      <td>0</td>\n",
       "      <td>0</td>\n",
       "      <td>0.0</td>\n",
       "      <td>1950.0</td>\n",
       "    </tr>\n",
       "    <tr>\n",
       "      <th>3</th>\n",
       "      <td>1000</td>\n",
       "      <td>8</td>\n",
       "      <td>408.0</td>\n",
       "      <td>42.0</td>\n",
       "      <td>53</td>\n",
       "      <td>14070</td>\n",
       "      <td>Краснодар</td>\n",
       "      <td>ultra</td>\n",
       "      <td>1000</td>\n",
       "      <td>30720</td>\n",
       "      <td>3000</td>\n",
       "      <td>1950</td>\n",
       "      <td>150</td>\n",
       "      <td>1</td>\n",
       "      <td>1</td>\n",
       "      <td>0.0</td>\n",
       "      <td>0</td>\n",
       "      <td>0</td>\n",
       "      <td>0.0</td>\n",
       "      <td>1950.0</td>\n",
       "    </tr>\n",
       "    <tr>\n",
       "      <th>4</th>\n",
       "      <td>1000</td>\n",
       "      <td>9</td>\n",
       "      <td>466.0</td>\n",
       "      <td>46.0</td>\n",
       "      <td>59</td>\n",
       "      <td>14581</td>\n",
       "      <td>Краснодар</td>\n",
       "      <td>ultra</td>\n",
       "      <td>1000</td>\n",
       "      <td>30720</td>\n",
       "      <td>3000</td>\n",
       "      <td>1950</td>\n",
       "      <td>150</td>\n",
       "      <td>1</td>\n",
       "      <td>1</td>\n",
       "      <td>0.0</td>\n",
       "      <td>0</td>\n",
       "      <td>0</td>\n",
       "      <td>0.0</td>\n",
       "      <td>1950.0</td>\n",
       "    </tr>\n",
       "    <tr>\n",
       "      <th>...</th>\n",
       "      <td>...</td>\n",
       "      <td>...</td>\n",
       "      <td>...</td>\n",
       "      <td>...</td>\n",
       "      <td>...</td>\n",
       "      <td>...</td>\n",
       "      <td>...</td>\n",
       "      <td>...</td>\n",
       "      <td>...</td>\n",
       "      <td>...</td>\n",
       "      <td>...</td>\n",
       "      <td>...</td>\n",
       "      <td>...</td>\n",
       "      <td>...</td>\n",
       "      <td>...</td>\n",
       "      <td>...</td>\n",
       "      <td>...</td>\n",
       "      <td>...</td>\n",
       "      <td>...</td>\n",
       "      <td>...</td>\n",
       "    </tr>\n",
       "    <tr>\n",
       "      <th>4531</th>\n",
       "      <td>1499</td>\n",
       "      <td>7</td>\n",
       "      <td>0.0</td>\n",
       "      <td>0.0</td>\n",
       "      <td>25</td>\n",
       "      <td>0</td>\n",
       "      <td>Пермь</td>\n",
       "      <td>smart</td>\n",
       "      <td>50</td>\n",
       "      <td>15360</td>\n",
       "      <td>500</td>\n",
       "      <td>550</td>\n",
       "      <td>200</td>\n",
       "      <td>3</td>\n",
       "      <td>3</td>\n",
       "      <td>0.0</td>\n",
       "      <td>0</td>\n",
       "      <td>0</td>\n",
       "      <td>0.0</td>\n",
       "      <td>550.0</td>\n",
       "    </tr>\n",
       "    <tr>\n",
       "      <th>4532</th>\n",
       "      <td>1499</td>\n",
       "      <td>8</td>\n",
       "      <td>0.0</td>\n",
       "      <td>0.0</td>\n",
       "      <td>24</td>\n",
       "      <td>0</td>\n",
       "      <td>Пермь</td>\n",
       "      <td>smart</td>\n",
       "      <td>50</td>\n",
       "      <td>15360</td>\n",
       "      <td>500</td>\n",
       "      <td>550</td>\n",
       "      <td>200</td>\n",
       "      <td>3</td>\n",
       "      <td>3</td>\n",
       "      <td>0.0</td>\n",
       "      <td>0</td>\n",
       "      <td>0</td>\n",
       "      <td>0.0</td>\n",
       "      <td>550.0</td>\n",
       "    </tr>\n",
       "    <tr>\n",
       "      <th>4533</th>\n",
       "      <td>1240</td>\n",
       "      <td>2</td>\n",
       "      <td>0.0</td>\n",
       "      <td>0.0</td>\n",
       "      <td>0</td>\n",
       "      <td>961</td>\n",
       "      <td>Воронеж</td>\n",
       "      <td>ultra</td>\n",
       "      <td>1000</td>\n",
       "      <td>30720</td>\n",
       "      <td>3000</td>\n",
       "      <td>1950</td>\n",
       "      <td>150</td>\n",
       "      <td>1</td>\n",
       "      <td>1</td>\n",
       "      <td>0.0</td>\n",
       "      <td>0</td>\n",
       "      <td>0</td>\n",
       "      <td>0.0</td>\n",
       "      <td>1950.0</td>\n",
       "    </tr>\n",
       "    <tr>\n",
       "      <th>4534</th>\n",
       "      <td>1373</td>\n",
       "      <td>1</td>\n",
       "      <td>0.0</td>\n",
       "      <td>0.0</td>\n",
       "      <td>0</td>\n",
       "      <td>9184</td>\n",
       "      <td>Улан-Удэ</td>\n",
       "      <td>smart</td>\n",
       "      <td>50</td>\n",
       "      <td>15360</td>\n",
       "      <td>500</td>\n",
       "      <td>550</td>\n",
       "      <td>200</td>\n",
       "      <td>3</td>\n",
       "      <td>3</td>\n",
       "      <td>0.0</td>\n",
       "      <td>0</td>\n",
       "      <td>0</td>\n",
       "      <td>0.0</td>\n",
       "      <td>550.0</td>\n",
       "    </tr>\n",
       "    <tr>\n",
       "      <th>4535</th>\n",
       "      <td>1476</td>\n",
       "      <td>4</td>\n",
       "      <td>0.0</td>\n",
       "      <td>0.0</td>\n",
       "      <td>0</td>\n",
       "      <td>531</td>\n",
       "      <td>Москва</td>\n",
       "      <td>ultra</td>\n",
       "      <td>1000</td>\n",
       "      <td>30720</td>\n",
       "      <td>3000</td>\n",
       "      <td>1950</td>\n",
       "      <td>150</td>\n",
       "      <td>1</td>\n",
       "      <td>1</td>\n",
       "      <td>0.0</td>\n",
       "      <td>0</td>\n",
       "      <td>0</td>\n",
       "      <td>0.0</td>\n",
       "      <td>1950.0</td>\n",
       "    </tr>\n",
       "  </tbody>\n",
       "</table>\n",
       "<p>4536 rows × 20 columns</p>\n",
       "</div>"
      ],
      "text/plain": [
       "      user_id  month  duration  calls  messages  mb_used       city tariff  \\\n",
       "0        1000      5     159.0   17.0        22     2256  Краснодар  ultra   \n",
       "1        1000      6     172.0   28.0        43    23257  Краснодар  ultra   \n",
       "2        1000      7     340.0   41.0        47    14016  Краснодар  ultra   \n",
       "3        1000      8     408.0   42.0        53    14070  Краснодар  ultra   \n",
       "4        1000      9     466.0   46.0        59    14581  Краснодар  ultra   \n",
       "...       ...    ...       ...    ...       ...      ...        ...    ...   \n",
       "4531     1499      7       0.0    0.0        25        0      Пермь  smart   \n",
       "4532     1499      8       0.0    0.0        24        0      Пермь  smart   \n",
       "4533     1240      2       0.0    0.0         0      961    Воронеж  ultra   \n",
       "4534     1373      1       0.0    0.0         0     9184   Улан-Удэ  smart   \n",
       "4535     1476      4       0.0    0.0         0      531     Москва  ultra   \n",
       "\n",
       "      messages_included  mb_per_month_included  minutes_included  \\\n",
       "0                  1000                  30720              3000   \n",
       "1                  1000                  30720              3000   \n",
       "2                  1000                  30720              3000   \n",
       "3                  1000                  30720              3000   \n",
       "4                  1000                  30720              3000   \n",
       "...                 ...                    ...               ...   \n",
       "4531                 50                  15360               500   \n",
       "4532                 50                  15360               500   \n",
       "4533               1000                  30720              3000   \n",
       "4534                 50                  15360               500   \n",
       "4535               1000                  30720              3000   \n",
       "\n",
       "      rub_monthly_fee  rub_per_gb  rub_per_message  rub_per_minute  \\\n",
       "0                1950         150                1               1   \n",
       "1                1950         150                1               1   \n",
       "2                1950         150                1               1   \n",
       "3                1950         150                1               1   \n",
       "4                1950         150                1               1   \n",
       "...               ...         ...              ...             ...   \n",
       "4531              550         200                3               3   \n",
       "4532              550         200                3               3   \n",
       "4533             1950         150                1               1   \n",
       "4534              550         200                3               3   \n",
       "4535             1950         150                1               1   \n",
       "\n",
       "      over_duration  over_messages  over_mb_used  over_gb_used  proceeds  \n",
       "0               0.0              0             0           0.0    1950.0  \n",
       "1               0.0              0             0           0.0    1950.0  \n",
       "2               0.0              0             0           0.0    1950.0  \n",
       "3               0.0              0             0           0.0    1950.0  \n",
       "4               0.0              0             0           0.0    1950.0  \n",
       "...             ...            ...           ...           ...       ...  \n",
       "4531            0.0              0             0           0.0     550.0  \n",
       "4532            0.0              0             0           0.0     550.0  \n",
       "4533            0.0              0             0           0.0    1950.0  \n",
       "4534            0.0              0             0           0.0     550.0  \n",
       "4535            0.0              0             0           0.0    1950.0  \n",
       "\n",
       "[4536 rows x 20 columns]"
      ]
     },
     "metadata": {},
     "output_type": "display_data"
    }
   ],
   "source": [
    "display(total) #просмтриваю получившуюся таблицу"
   ]
  },
  {
   "cell_type": "code",
   "execution_count": 68,
   "metadata": {},
   "outputs": [
    {
     "data": {
      "text/html": [
       "<div>\n",
       "<style scoped>\n",
       "    .dataframe tbody tr th:only-of-type {\n",
       "        vertical-align: middle;\n",
       "    }\n",
       "\n",
       "    .dataframe tbody tr th {\n",
       "        vertical-align: top;\n",
       "    }\n",
       "\n",
       "    .dataframe thead th {\n",
       "        text-align: right;\n",
       "    }\n",
       "</style>\n",
       "<table border=\"1\" class=\"dataframe\">\n",
       "  <thead>\n",
       "    <tr style=\"text-align: right;\">\n",
       "      <th></th>\n",
       "      <th>user_id</th>\n",
       "      <th>month</th>\n",
       "      <th>proceeds</th>\n",
       "    </tr>\n",
       "  </thead>\n",
       "  <tbody>\n",
       "    <tr>\n",
       "      <th>0</th>\n",
       "      <td>1000</td>\n",
       "      <td>5</td>\n",
       "      <td>1950.0</td>\n",
       "    </tr>\n",
       "    <tr>\n",
       "      <th>1</th>\n",
       "      <td>1000</td>\n",
       "      <td>6</td>\n",
       "      <td>1950.0</td>\n",
       "    </tr>\n",
       "    <tr>\n",
       "      <th>2</th>\n",
       "      <td>1000</td>\n",
       "      <td>7</td>\n",
       "      <td>1950.0</td>\n",
       "    </tr>\n",
       "    <tr>\n",
       "      <th>3</th>\n",
       "      <td>1000</td>\n",
       "      <td>8</td>\n",
       "      <td>1950.0</td>\n",
       "    </tr>\n",
       "    <tr>\n",
       "      <th>4</th>\n",
       "      <td>1000</td>\n",
       "      <td>9</td>\n",
       "      <td>1950.0</td>\n",
       "    </tr>\n",
       "    <tr>\n",
       "      <th>...</th>\n",
       "      <td>...</td>\n",
       "      <td>...</td>\n",
       "      <td>...</td>\n",
       "    </tr>\n",
       "    <tr>\n",
       "      <th>4531</th>\n",
       "      <td>1499</td>\n",
       "      <td>7</td>\n",
       "      <td>550.0</td>\n",
       "    </tr>\n",
       "    <tr>\n",
       "      <th>4532</th>\n",
       "      <td>1499</td>\n",
       "      <td>8</td>\n",
       "      <td>550.0</td>\n",
       "    </tr>\n",
       "    <tr>\n",
       "      <th>4533</th>\n",
       "      <td>1240</td>\n",
       "      <td>2</td>\n",
       "      <td>1950.0</td>\n",
       "    </tr>\n",
       "    <tr>\n",
       "      <th>4534</th>\n",
       "      <td>1373</td>\n",
       "      <td>1</td>\n",
       "      <td>550.0</td>\n",
       "    </tr>\n",
       "    <tr>\n",
       "      <th>4535</th>\n",
       "      <td>1476</td>\n",
       "      <td>4</td>\n",
       "      <td>1950.0</td>\n",
       "    </tr>\n",
       "  </tbody>\n",
       "</table>\n",
       "<p>4536 rows × 3 columns</p>\n",
       "</div>"
      ],
      "text/plain": [
       "      user_id  month  proceeds\n",
       "0        1000      5    1950.0\n",
       "1        1000      6    1950.0\n",
       "2        1000      7    1950.0\n",
       "3        1000      8    1950.0\n",
       "4        1000      9    1950.0\n",
       "...       ...    ...       ...\n",
       "4531     1499      7     550.0\n",
       "4532     1499      8     550.0\n",
       "4533     1240      2    1950.0\n",
       "4534     1373      1     550.0\n",
       "4535     1476      4    1950.0\n",
       "\n",
       "[4536 rows x 3 columns]"
      ]
     },
     "metadata": {},
     "output_type": "display_data"
    }
   ],
   "source": [
    "proceeds = total[['user_id', 'month', 'proceeds']]\n",
    "display(proceeds)"
   ]
  },
  {
   "cell_type": "markdown",
   "metadata": {},
   "source": [
    "Формирую сокращенную таблицу <strong>proceeds</strong> с данными о выручке с каждого пользователя по месяцам."
   ]
  },
  {
   "cell_type": "markdown",
   "metadata": {},
   "source": [
    "<a id='conclusion2'></a>\n",
    "### Вывод 2\n"
   ]
  },
  {
   "cell_type": "markdown",
   "metadata": {},
   "source": [
    "В таблицах <strong>calls</strong> и <strong>internet</strong> столбцы 'duration' и 'mb_used' были округлены до целого значения в большую сторону.\n",
    "<br><br>\n",
    "Данные были приведены к необходимым типам, описанным в <a href='#conclusion1'>Вывод 1</a>.<br>\n",
    "Были проверены уникальные значения имён городов в таблице <strong>users</strong>, корректировка не требуется.<br>\n",
    "В таблицах <strong>calls</strong> и <strong>internet</strong> были отсечены нулевые данные (звонки, сессии), которые составляли <strong>19.6%</strong> и <strong>13.2%</strong> соответстветственно.\n",
    "<br><br>\n",
    "Также я выяснил, что все данные датированы 2018 годом.<br>\n",
    "Пропущенные значения в столбце 'churn_date' (дата прекращения пользования тарифом также были заменены на значение 12), а при расчётах заданий использовалось значение текущего месяца (от 1 до 12).<br>\n",
    "<br>\n",
    "Далее я сформировал 5 таблиц:<br>\n",
    "с количеством израсходованных минут пользователями по месяцам;<br>\n",
    "с количеством звонков пользователями по месяцам;<br>\n",
    "с количеством сообщений пользователями по месяцам;<br>\n",
    "с объемом израсходованного траффика пользователями по месяцам;<br>\n",
    "с данными о выручке с каждого пользователя по месяцам.<br>\n",
    "<br>\n",
    "Кроме того, в ходе вычислений была сформирована таблица <strong>total</strong>, на основе которой будут производиться дальнейшие расчёты.\n"
   ]
  },
  {
   "cell_type": "markdown",
   "metadata": {},
   "source": [
    "<a id='step3'></a>\n",
    "## Шаг 3. Анализ данных\n",
    "<a href='#step31'>Сколько минут разговора требуется пользователям каждого тарифа в месяц?</a><br>\n",
    "<a href='#step32'>Сколько сообщений требуется пользователям каждого тарифа в месяц?</a><br>\n",
    "<a href='#step33'>Какой объём интернет-трафика требуется пользователям каждого тарифа в месяц?</a><br>\n",
    "<a href='#conclusion3'>Вывод 3</a><br>"
   ]
  },
  {
   "cell_type": "markdown",
   "metadata": {},
   "source": [
    "<a id='step31'></a>\n",
    "### Сколько минут разговора требуется пользователям каждого тарифа в месяц?"
   ]
  },
  {
   "cell_type": "code",
   "execution_count": 69,
   "metadata": {},
   "outputs": [],
   "source": [
    "total_duration_smart = total.query('tariff == \"smart\"')['duration']\n",
    "total_duration_ultra = total.query('tariff == \"ultra\"')['duration']"
   ]
  },
  {
   "cell_type": "code",
   "execution_count": 70,
   "metadata": {},
   "outputs": [
    {
     "name": "stdout",
     "output_type": "stream",
     "text": [
      "Среднее для тарифа Ультра: 375.61\n",
      "Медиана для тарифа Ультра: 332.00\n",
      "Дисперсия для тарифа Ультра: 128596\n",
      "Стандартное отклонение для тарифа Ультра: 358.60\n",
      "_________________________________________________\n",
      "Среднее для тарифа Смарт: 295.27\n",
      "Медиана для тарифа Смарт: 310.00\n",
      "Дисперсия для тарифа Смарт: 61797\n",
      "Стандартное отклонение для тарифа Смарт: 248.59\n"
     ]
    }
   ],
   "source": [
    "print('Среднее для тарифа Ультра: {:.2f}'.format(total_duration_ultra.mean()))\n",
    "print('Медиана для тарифа Ультра: {:.2f}'.format(total_duration_ultra.median()))\n",
    "variance = np.var(total_duration_ultra)\n",
    "print('Дисперсия для тарифа Ультра: {:.0f}'.format(variance))\n",
    "standard_deviation = np.std(total_duration_ultra)\n",
    "print('Стандартное отклонение для тарифа Ультра: {:.2f}'.format(standard_deviation))\n",
    "\n",
    "print('_________________________________________________')\n",
    "\n",
    "print('Среднее для тарифа Смарт: {:.2f}'.format(total_duration_smart.mean()))\n",
    "variance = np.var(total_duration_smart)\n",
    "print('Медиана для тарифа Смарт: {:.2f}'.format(total_duration_smart.median()))\n",
    "print('Дисперсия для тарифа Смарт: {:.0f}'.format(variance))\n",
    "standard_deviation = np.std(total_duration_smart)\n",
    "print ('Стандартное отклонение для тарифа Смарт: {:.2f}'.format(standard_deviation))\n",
    "\n"
   ]
  },
  {
   "cell_type": "markdown",
   "metadata": {},
   "source": [
    "Среднее и медианное значение израсходованных минут по тарифу Ультра выше, чем по тарифу Смарт.<br>\n",
    "Это означает, что пользователи тарифа Ультра тратят на 10-30% больше минут.<br>"
   ]
  },
  {
   "cell_type": "code",
   "execution_count": 71,
   "metadata": {},
   "outputs": [
    {
     "data": {
      "image/png": "[encoded data removed]",
      "text/plain": [
       "<Figure size 1080x720 with 1 Axes>"
      ]
     },
     "metadata": {
      "needs_background": "light"
     },
     "output_type": "display_data"
    }
   ],
   "source": [
    "total_duration_smart.hist(bins=50, alpha = 0.6)\n",
    "total_duration_ultra.hist(bins=50, alpha = 0.6, figsize=(15, 10))\n",
    "plt.title('Гистограмма по продолжительности разговоров пользователей в месяц')\n",
    "plt.legend([\"Ультра\", \"Смарт\"]);"
   ]
  },
  {
   "cell_type": "markdown",
   "metadata": {},
   "source": [
    "На гистограмме есть выбросы в околонулевых значениях, которые могут объясняться большим количеством пользователей, которые используют другие тарифные опции (сообщения, интернет)<br>\n",
    "В тарифе Ультра большее количество пользователей, тратящих от 100 до 600 минут в месяц, а тарифе Смарт более \"плоское\" распределение в зоне до 900 минут в месяц.<br>\n",
    "Диаграмма скошена вправо.<br>\n",
    "Тип распределение - нормальное распределение."
   ]
  },
  {
   "cell_type": "code",
   "execution_count": 72,
   "metadata": {},
   "outputs": [],
   "source": [
    "def limits (array_in):\n",
    "    \"\"\"\n",
    "    функция для расчёта верхней и нижней границы\n",
    "    нормального размаха\n",
    "    \"\"\"\n",
    "    upper_quartile = np.percentile(array_in, 75)\n",
    "    lower_quartile = np.percentile(array_in, 25)\n",
    "    iqr = upper_quartile - lower_quartile\n",
    "    \n",
    "    upper_whisker = array_in[array_in<=(upper_quartile+1.5*iqr)].max()\n",
    "    lower_whisker = array_in[array_in>=(lower_quartile-1.5*iqr)].min()\n",
    "    return print('Нижняя граница нормального размаха массива:', lower_whisker,\n",
    "                 '\\nВерхняя граница нормального размаха массива:', upper_whisker)"
   ]
  },
  {
   "cell_type": "code",
   "execution_count": 73,
   "metadata": {
    "scrolled": true
   },
   "outputs": [
    {
     "name": "stdout",
     "output_type": "stream",
     "text": [
      "Для тарифа Смарт:\n",
      "Нижняя граница нормального размаха массива: 0.0 \n",
      "Верхняя граница нормального размаха массива: 1144.0\n"
     ]
    }
   ],
   "source": [
    "print('Для тарифа Смарт:')\n",
    "limits(total_duration_smart) #вычисляю границы нормального размаха"
   ]
  },
  {
   "cell_type": "code",
   "execution_count": 74,
   "metadata": {},
   "outputs": [
    {
     "name": "stdout",
     "output_type": "stream",
     "text": [
      "Для тарифа Ультра:\n",
      "Нижняя граница нормального размаха массива: 0.0 \n",
      "Верхняя граница нормального размаха массива: 1410.0\n"
     ]
    }
   ],
   "source": [
    "print('Для тарифа Ультра:')\n",
    "limits(total_duration_ultra) #вычисляю границы нормального размаха"
   ]
  },
  {
   "cell_type": "code",
   "execution_count": 75,
   "metadata": {},
   "outputs": [],
   "source": [
    "total_duration_smart = total_duration_smart[total_duration_smart>=7]\n",
    "#удаляю выбросы в массиве данных по тарифу смарт по нижней границе\n",
    "total_duration_smart = total_duration_smart[total_duration_smart<=1000]\n",
    "#удаляю выбросы в массиве данных по тарифу смарт по верхней границе\n",
    "total_duration_ultra = total_duration_ultra[total_duration_ultra>=5] \n",
    "#удаляю выбросы в массиве данных по тарифу ультра по нижней границе\n",
    "total_duration_ultra = total_duration_ultra[total_duration_ultra<=1000]\n",
    "#удаляю выбросы в массиве данных по тарифу смарт по верхней границе"
   ]
  },
  {
   "cell_type": "markdown",
   "metadata": {},
   "source": [
    "Рассчитав границы нормальных размахов для массивов по обоим тарифам удаляю выбросы.<br>\n",
    "Т.к. границы нормальных размахов отличались, принимаю для обоих тарифов одинаковые значения, повысив нижнию границу согласно диаграмме:<br>\n",
    "Нижняя граница: <strong>7</strong><br>\n",
    "Верхняя граница: <strong>1000</strong><br>"
   ]
  },
  {
   "cell_type": "code",
   "execution_count": 76,
   "metadata": {},
   "outputs": [
    {
     "data": {
      "image/png": "[encoded data removed]",
      "text/plain": [
       "<Figure size 1080x720 with 1 Axes>"
      ]
     },
     "metadata": {
      "needs_background": "light"
     },
     "output_type": "display_data"
    }
   ],
   "source": [
    "total_duration_smart.hist(bins=50, alpha = 0.6)\n",
    "total_duration_ultra.hist(bins=50, alpha = 0.6, figsize=(15, 10))\n",
    "plt.title('Гистограмма по продолжительности разговоров пользователей в месяц')\n",
    "plt.legend([\"Ультра\", \"Смарт\"]);"
   ]
  },
  {
   "cell_type": "markdown",
   "metadata": {},
   "source": [
    "Для проверки вывожу на экран диаграммы по продолжительности разговоров без выбросов.<br>\n",
    "Диаграмма принимает вид, характерный для нормального распределения."
   ]
  },
  {
   "cell_type": "markdown",
   "metadata": {},
   "source": [
    "<a id='step32'></a>\n",
    "### Сколько сообщений требуется пользователям каждого тарифа в месяц?"
   ]
  },
  {
   "cell_type": "markdown",
   "metadata": {},
   "source": [
    "<font color=grey>Посчитайте среднее количество, дисперсию и стандартное отклонение. Постройте гистограммы. Опишите распределения.</font>"
   ]
  },
  {
   "cell_type": "code",
   "execution_count": 77,
   "metadata": {},
   "outputs": [],
   "source": [
    "total_messages_smart = total.query('tariff == \"smart\"')['messages']\n",
    "total_messages_ultra = total.query('tariff == \"ultra\"')['messages']"
   ]
  },
  {
   "cell_type": "code",
   "execution_count": 78,
   "metadata": {},
   "outputs": [
    {
     "name": "stdout",
     "output_type": "stream",
     "text": [
      "Среднее для тарифа Ультра: 35.21\n",
      "Медиана для тарифа Ультра: 20.00\n",
      "Дисперсия для тарифа Ультра: 2018\n",
      "Стандартное отклонение для тарифа Ультра: 44.92\n",
      "_________________________________________________\n",
      "Среднее для тарифа Смарт: 23.59\n",
      "Медиана для тарифа Смарт: 13.00\n",
      "Дисперсия для тарифа Смарт: 935\n",
      "Стандартное отклонение для тарифа Смарт: 30.58\n"
     ]
    }
   ],
   "source": [
    "print('Среднее для тарифа Ультра: {:.2f}'.format(total_messages_ultra.mean()))\n",
    "print('Медиана для тарифа Ультра: {:.2f}'.format(total_messages_ultra.median()))\n",
    "variance = np.var(total_messages_ultra)\n",
    "print('Дисперсия для тарифа Ультра: {:.0f}'.format(variance))\n",
    "standard_deviation = np.std(total_messages_ultra)\n",
    "print ('Стандартное отклонение для тарифа Ультра: {:.2f}'.format(standard_deviation))\n",
    "\n",
    "print('_________________________________________________')\n",
    "\n",
    "print('Среднее для тарифа Смарт: {:.2f}'.format(total_messages_smart.mean()))\n",
    "print('Медиана для тарифа Смарт: {:.2f}'.format(total_messages_smart.median()))\n",
    "variance = np.var(total_messages_smart)\n",
    "print('Дисперсия для тарифа Смарт: {:.0f}'.format(variance))\n",
    "standard_deviation = np.std(total_messages_smart)\n",
    "print ('Стандартное отклонение для тарифа Смарт: {:.2f}'.format(standard_deviation))"
   ]
  },
  {
   "cell_type": "markdown",
   "metadata": {},
   "source": [
    "Среднее и медианное значение отправленных сообщений по тарифу Ультра выше, чем по тарифу Смарт.<br>\n",
    "Это означает, что пользователи тарифа Ультра отправляют на 50% больше сообщений.<br>"
   ]
  },
  {
   "cell_type": "code",
   "execution_count": 79,
   "metadata": {
    "scrolled": false
   },
   "outputs": [
    {
     "data": {
      "image/png": "[encoded data removed]",
      "text/plain": [
       "<Figure size 1080x720 with 1 Axes>"
      ]
     },
     "metadata": {
      "needs_background": "light"
     },
     "output_type": "display_data"
    }
   ],
   "source": [
    "total_messages_smart.hist(bins=30, alpha = 0.6)\n",
    "total_messages_ultra.hist(bins=30, alpha = 0.6, figsize=(15, 10))\n",
    "plt.title('Гистограмма по количеству сообщений пользователей в месяц')\n",
    "plt.legend([\"Ультра\", \"Смарт\"]);"
   ]
  },
  {
   "cell_type": "markdown",
   "metadata": {},
   "source": [
    "На гистограмме есть выбросы в околонулевых значениях, которые могут объясняться большим количеством пользователей, которые используют другие тарифные опции (звонки, интернет)<br>\n",
    "В тарифе Ультра большее количество пользователей, тратящих до 80 сообщений в месяц, а тарифе Смарт больше пользователей, тратящих более 100 сообщений в месяц.<br>\n",
    "Диаграмма скошена вправо.<br>\n",
    "Тип распределение - распределение Пуассона."
   ]
  },
  {
   "cell_type": "code",
   "execution_count": 80,
   "metadata": {
    "scrolled": true
   },
   "outputs": [
    {
     "name": "stdout",
     "output_type": "stream",
     "text": [
      "Для тарифа Смарт:\n",
      "Нижняя граница нормального размаха массива: 0 \n",
      "Верхняя граница нормального размаха массива: 75\n"
     ]
    }
   ],
   "source": [
    "print('Для тарифа Смарт:')\n",
    "limits(total_messages_smart) #вычисляю границы нормального размаха"
   ]
  },
  {
   "cell_type": "code",
   "execution_count": 81,
   "metadata": {},
   "outputs": [
    {
     "name": "stdout",
     "output_type": "stream",
     "text": [
      "Для тарифа Ультра:\n",
      "Нижняя граница нормального размаха массива: 0 \n",
      "Верхняя граница нормального размаха массива: 115\n"
     ]
    }
   ],
   "source": [
    "print('Для тарифа Ультра:')\n",
    "limits(total_messages_ultra) #вычисляю границы нормального размаха"
   ]
  },
  {
   "cell_type": "code",
   "execution_count": 82,
   "metadata": {},
   "outputs": [],
   "source": [
    "total_messages_smart = total_messages_smart[total_messages_smart<=100]\n",
    "#удаляю выбросы в массиве данных по тарифу смарт по верхней границе\n",
    "total_messages_ultra = total_messages_ultra[total_messages_ultra<=100]\n",
    "#удаляю выбросы в массиве данных по тарифу смарт по верхней границе"
   ]
  },
  {
   "cell_type": "markdown",
   "metadata": {},
   "source": [
    "Рассчитав границы нормальных размахов для массивов по обоим тарифам удаляю выбросы.<br>\n",
    "Т.к. в обоих массивах распредление Пуассона, то удаляю только верхние выбросы, придав им одинаковые значения:\n",
    "Верхняя граница: <strong>100</strong><br>"
   ]
  },
  {
   "cell_type": "code",
   "execution_count": 83,
   "metadata": {
    "scrolled": false
   },
   "outputs": [
    {
     "data": {
      "image/png": "[encoded data removed]",
      "text/plain": [
       "<Figure size 1080x720 with 1 Axes>"
      ]
     },
     "metadata": {
      "needs_background": "light"
     },
     "output_type": "display_data"
    }
   ],
   "source": [
    "total_messages_smart.hist(bins=30, alpha = 0.6)\n",
    "total_messages_ultra.hist(bins=30, alpha = 0.6, figsize=(15, 10))\n",
    "plt.title('Гистограмма по количеству сообщений пользователей в месяц')\n",
    "plt.legend([\"Ультра\", \"Смарт\"]);"
   ]
  },
  {
   "cell_type": "markdown",
   "metadata": {},
   "source": [
    "Для проверки вывожу на экран диаграммы по количеству сообщений без выбросов."
   ]
  },
  {
   "cell_type": "markdown",
   "metadata": {},
   "source": [
    "<a id='step33'></a>\n",
    "### Какой объём интернет-трафика требуется пользователям каждого тарифа в месяц?"
   ]
  },
  {
   "cell_type": "markdown",
   "metadata": {},
   "source": [
    "<font color=grey>Посчитайте среднее количество, дисперсию и стандартное отклонение. Постройте гистограммы. Опишите распределения.</font>"
   ]
  },
  {
   "cell_type": "code",
   "execution_count": 84,
   "metadata": {},
   "outputs": [],
   "source": [
    "total_mb_smart = total.query('tariff == \"smart\"')['mb_used']\n",
    "total_mb_ultra = total.query('tariff == \"ultra\"')['mb_used']"
   ]
  },
  {
   "cell_type": "code",
   "execution_count": 85,
   "metadata": {},
   "outputs": [
    {
     "name": "stdout",
     "output_type": "stream",
     "text": [
      "Среднее для тарифа Ультра: 13899.06\n",
      "Медиана для тарифа Ультра: 13861.00\n",
      "Дисперсия для тарифа Ультра: 150297666\n",
      "Стандартное отклонение для тарифа Ультра: 12259.59\n",
      "_________________________________________________\n",
      "Среднее для тарифа Смарт: 11465.88\n",
      "Медиана для тарифа Смарт: 13495.00\n",
      "Дисперсия для тарифа Смарт: 79011157\n",
      "Стандартное отклонение для тарифа Смарт: 8888.82\n"
     ]
    }
   ],
   "source": [
    "print('Среднее для тарифа Ультра: {:.2f}'.format(total_mb_ultra.mean()))\n",
    "print('Медиана для тарифа Ультра: {:.2f}'.format(total_mb_ultra.median()))\n",
    "variance = np.var(total_mb_ultra)\n",
    "print('Дисперсия для тарифа Ультра: {:.0f}'.format(variance))\n",
    "standard_deviation = np.std(total_mb_ultra)\n",
    "print ('Стандартное отклонение для тарифа Ультра: {:.2f}'.format(standard_deviation))\n",
    "\n",
    "print('_________________________________________________')\n",
    "\n",
    "print('Среднее для тарифа Смарт: {:.2f}'.format(total_mb_smart.mean()))\n",
    "print('Медиана для тарифа Смарт: {:.2f}'.format(total_mb_smart.median()))\n",
    "variance = np.var(total_mb_smart)\n",
    "print('Дисперсия для тарифа Смарт: {:.0f}'.format(variance))\n",
    "standard_deviation = np.std(total_mb_smart)\n",
    "print ('Стандартное отклонение для тарифа Смарт: {:.2f}'.format(standard_deviation))"
   ]
  },
  {
   "cell_type": "markdown",
   "metadata": {},
   "source": [
    "Среднее и медианное значение трафика по тарифу Ультра выше, чем по тарифу Смарт.\n",
    "Это означает, что пользователи тарифа Ультра тратят на 3%-20% больше трафика."
   ]
  },
  {
   "cell_type": "code",
   "execution_count": 86,
   "metadata": {},
   "outputs": [
    {
     "data": {
      "image/png": "[encoded data removed]",
      "text/plain": [
       "<Figure size 1080x720 with 1 Axes>"
      ]
     },
     "metadata": {
      "needs_background": "light"
     },
     "output_type": "display_data"
    }
   ],
   "source": [
    "total_mb_smart.hist(bins=50, alpha = 0.6)\n",
    "total_mb_ultra.hist(bins=50, alpha = 0.6, figsize=(15, 10))\n",
    "plt.title('Гистограмма по объему данных пользователей в месяц')\n",
    "plt.legend([\"Ультра\", \"Смарт\"]);"
   ]
  },
  {
   "cell_type": "markdown",
   "metadata": {},
   "source": [
    "На гистограмме есть выбросы в околонулевых значениях, которые могут объясняться большим количеством пользователей, которые используют другие тарифные опции (сообщения, звонки)<br>\n",
    "В тарифе Ультра большее количество пользователей, тратящих от 10000 до 25000 мегабайт в месяц, а тарифе Смарт более \"плоское\" распределение в зоне до 35000 мегабайт в месяц.<br>\n",
    "Диаграмма скошена вправо.<br>\n",
    "Тип распределение - нормальное распределение."
   ]
  },
  {
   "cell_type": "code",
   "execution_count": 87,
   "metadata": {
    "scrolled": true
   },
   "outputs": [
    {
     "name": "stdout",
     "output_type": "stream",
     "text": [
      "Для тарифа Смарт:\n",
      "Нижняя граница нормального размаха массива: 0 \n",
      "Верхняя граница нормального размаха массива: 38610\n"
     ]
    }
   ],
   "source": [
    "print('Для тарифа Смарт:')\n",
    "limits(total_mb_smart) #вычисляю границы нормального размаха"
   ]
  },
  {
   "cell_type": "code",
   "execution_count": 88,
   "metadata": {},
   "outputs": [
    {
     "name": "stdout",
     "output_type": "stream",
     "text": [
      "Для тарифа Ультра:\n",
      "Нижняя граница нормального размаха массива: 0 \n",
      "Верхняя граница нормального размаха массива: 49789\n"
     ]
    }
   ],
   "source": [
    "print('Для тарифа Ультра:')\n",
    "limits(total_mb_ultra) #вычисляю границы нормального размаха"
   ]
  },
  {
   "cell_type": "code",
   "execution_count": 89,
   "metadata": {},
   "outputs": [],
   "source": [
    "total_mb_smart = total_mb_smart[total_mb_smart>=1000]\n",
    "#удаляю выбросы в массиве данных по тарифу смарт по нижней границе\n",
    "total_mb_smart = total_mb_smart[total_mb_smart<=45000]\n",
    "#удаляю выбросы в массиве данных по тарифу смарт по верхней границе\n",
    "total_mb_ultra = total_mb_ultra[total_mb_ultra>=1000] \n",
    "#удаляю выбросы в массиве данных по тарифу ультра по нижней границе\n",
    "total_mb_ultra = total_mb_ultra[total_mb_ultra<=45000]\n",
    "#удаляю выбросы в массиве данных по тарифу смарт по верхней границе"
   ]
  },
  {
   "cell_type": "markdown",
   "metadata": {},
   "source": [
    "Рассчитав границы нормальных размахов для массивов по обоим тарифам удаляю выбросы.<br>\n",
    "Т.к. границы нормальных размахов отличались, принимаю для обоих тарифов одинаковые значения, повысив нижнию границу согласно диаграмме::<br>\n",
    "Нижняя граница: <strong>10</strong><br>\n",
    "Верхняя граница: <strong>45000</strong><br>"
   ]
  },
  {
   "cell_type": "code",
   "execution_count": 90,
   "metadata": {},
   "outputs": [
    {
     "data": {
      "image/png": "[encoded data removed]",
      "text/plain": [
       "<Figure size 1080x720 with 1 Axes>"
      ]
     },
     "metadata": {
      "needs_background": "light"
     },
     "output_type": "display_data"
    }
   ],
   "source": [
    "total_mb_smart.hist(bins=50, alpha = 0.6)\n",
    "total_mb_ultra.hist(bins=50, alpha = 0.6, figsize=(15, 10))\n",
    "plt.title('Гистограмма по объему данных пользователей в месяц')\n",
    "plt.legend([\"Ультра\", \"Смарт\"]);"
   ]
  },
  {
   "cell_type": "markdown",
   "metadata": {},
   "source": [
    "Для проверки вывожу на экран диаграммы по продолжительности разговоров без выбросов.<br>\n",
    "Диаграмма принимает вид, характерный для нормального распределения."
   ]
  },
  {
   "cell_type": "markdown",
   "metadata": {},
   "source": [
    "<a id='conclusion3'></a>\n",
    "### Вывод 3"
   ]
  },
  {
   "cell_type": "markdown",
   "metadata": {},
   "source": [
    "1. Пользователи тарифа Ультра тратят больше минут, сообщений и интернет трафика, чем пользователи тарифа Смарт.\n",
    "2. В данных по обоим тарифам есть выбросы в околонулевой зоне. Это может быть связано с тем, что пользователи активно используют другие тарифные опции (например не пользуются звонками, но активно отправляют смс сообщения).\n",
    "3. Данные пользователей тарифа Смарт распределены более линейно."
   ]
  },
  {
   "cell_type": "markdown",
   "metadata": {},
   "source": [
    "<a id='step4'></a>\n",
    "## Шаг 4. Проверка гипотез\n",
    "<a href='#step41'>Средняя выручка пользователей тарифов «Ультра» и «Смарт» различается</a><br>\n",
    "<a href='#step42'>Средняя выручка пользователей из Москвы отличается от выручки пользователей из других регионов</a><br>\n",
    "<a href='#conclusion4'>Вывод 4</a><br>"
   ]
  },
  {
   "cell_type": "markdown",
   "metadata": {},
   "source": [
    "<a id='stepX'></a>\n",
    "### Удаление выбросов"
   ]
  },
  {
   "cell_type": "code",
   "execution_count": 91,
   "metadata": {},
   "outputs": [],
   "source": [
    "total_proceeds_smart = total.query('tariff == \"smart\"')['proceeds']\n",
    "total_proceeds_ultra = total.query('tariff == \"ultra\"')['proceeds']"
   ]
  },
  {
   "cell_type": "markdown",
   "metadata": {},
   "source": [
    "Формирую массивы данных о выручке в зависимости от тарифа."
   ]
  },
  {
   "cell_type": "code",
   "execution_count": 92,
   "metadata": {},
   "outputs": [
    {
     "data": {
      "image/png": "[encoded data removed]",
      "text/plain": [
       "<Figure size 1080x720 with 1 Axes>"
      ]
     },
     "metadata": {
      "needs_background": "light"
     },
     "output_type": "display_data"
    }
   ],
   "source": [
    "total_proceeds_ultra.hist(bins=30, alpha = 0.6)\n",
    "total_proceeds_smart.hist(bins=30, alpha = 0.6, figsize=(15, 10))\n",
    "plt.title('Гистограмма по выручке пользователей в месяц')\n",
    "plt.legend([\"Ультра\", \"Смарт\"]);"
   ]
  },
  {
   "cell_type": "markdown",
   "metadata": {},
   "source": [
    "На гистограмме видны выбросы в 500 рублёвой зоне для Смарт и в 2000 зоне для Ультра.<br>\n",
    "Эти выбросы объясняются тем, что такие же значения имеют ежемесячные платы по тарифам, соответственно пользователи, которые укладываются в лимиты по услугам платят в рамках этих значений.\n"
   ]
  },
  {
   "cell_type": "code",
   "execution_count": 93,
   "metadata": {},
   "outputs": [],
   "source": [
    "city_proceeds_moscow = total.query('city == \"Москва\"')['proceeds']\n",
    "city_proceeds_cities = total.query('city != \"Москва\"')['proceeds']"
   ]
  },
  {
   "cell_type": "markdown",
   "metadata": {},
   "source": [
    "Формирую массивы данных о выручке в зависимости от города абонента."
   ]
  },
  {
   "cell_type": "code",
   "execution_count": 94,
   "metadata": {},
   "outputs": [
    {
     "data": {
      "image/png": "[encoded data removed]",
      "text/plain": [
       "<Figure size 1080x720 with 1 Axes>"
      ]
     },
     "metadata": {
      "needs_background": "light"
     },
     "output_type": "display_data"
    }
   ],
   "source": [
    "city_proceeds_moscow.hist(bins=30, alpha = 0.6)\n",
    "city_proceeds_cities.hist(bins=30, alpha = 0.6, figsize=(15, 10))\n",
    "plt.title('Гистограмма по выручке пользователей в месяц по городам')\n",
    "plt.legend([\"Москва\", \"Города\"]);"
   ]
  },
  {
   "cell_type": "markdown",
   "metadata": {},
   "source": [
    "На гистограмме также видны аналогиные выбросы в 500 и 2000 рублёвой зоне.<br>\n",
    "Эти выбросы можно объяснить аналогично.\n"
   ]
  },
  {
   "cell_type": "code",
   "execution_count": 95,
   "metadata": {},
   "outputs": [],
   "source": [
    "total_proceeds_smart_clear = total.query('tariff == \"smart\" & proceeds != 550')['proceeds']\n",
    "#отсекаю значения, равные платежам по тарифу\n",
    "total_proceeds_ultra_clear = total.query('tariff == \"ultra\" & proceeds!= 1950')['proceeds']"
   ]
  },
  {
   "cell_type": "markdown",
   "metadata": {},
   "source": [
    "Формирую массивы данных о выручке в зависимости от тарифа."
   ]
  },
  {
   "cell_type": "code",
   "execution_count": 96,
   "metadata": {},
   "outputs": [
    {
     "data": {
      "image/png": "[encoded data removed]",
      "text/plain": [
       "<Figure size 1080x720 with 1 Axes>"
      ]
     },
     "metadata": {
      "needs_background": "light"
     },
     "output_type": "display_data"
    }
   ],
   "source": [
    "total_proceeds_ultra_clear.hist(bins=30, alpha = 0.9)\n",
    "total_proceeds_smart_clear.hist(bins=30, alpha = 0.6, figsize=(15, 10))\n",
    "plt.title('Гистограмма по выручке пользователей в месяц')\n",
    "plt.legend([\"Ультра\", \"Смарт\"]);"
   ]
  },
  {
   "cell_type": "markdown",
   "metadata": {},
   "source": [
    "Гистограмма принимает вид массива данных без выбросов.\n",
    "Для тарифа Смарт распределение Пуассона, а для тарифа Ультра более похоже на нормальное распределение.\n"
   ]
  },
  {
   "cell_type": "code",
   "execution_count": 97,
   "metadata": {},
   "outputs": [],
   "source": [
    "city_proceeds_moscow_clear = total.query('city == \"Москва\" & proceeds != 550 & proceeds!= 1950')['proceeds']\n",
    "city_proceeds_cities_clear = total.query('city != \"Москва\" & proceeds != 550 & proceeds!= 1950')['proceeds']"
   ]
  },
  {
   "cell_type": "markdown",
   "metadata": {},
   "source": [
    "Формирую массивы данных о выручке в зависимости от города абонента."
   ]
  },
  {
   "cell_type": "code",
   "execution_count": 98,
   "metadata": {},
   "outputs": [
    {
     "data": {
      "image/png": "[encoded data removed]",
      "text/plain": [
       "<Figure size 1080x720 with 1 Axes>"
      ]
     },
     "metadata": {
      "needs_background": "light"
     },
     "output_type": "display_data"
    }
   ],
   "source": [
    "city_proceeds_moscow_clear.hist(bins=30, alpha = 0.6)\n",
    "city_proceeds_cities_clear.hist(bins=30, alpha = 0.6, figsize=(15, 10))\n",
    "plt.title('Гистограмма по выручке пользователей в месяц по городам')\n",
    "plt.legend([\"Москва\", \"Города\"]);"
   ]
  },
  {
   "cell_type": "markdown",
   "metadata": {},
   "source": [
    "Гистограмма принимает вид массива данных без выбросов.\n",
    "Для обоих массивов характерно распределение Пуассона.\n"
   ]
  },
  {
   "cell_type": "markdown",
   "metadata": {},
   "source": [
    "<a id='step41'></a>\n",
    "### Гипотеза: средняя выручка пользователей тарифов «Ультра» и «Смарт» различается"
   ]
  },
  {
   "cell_type": "markdown",
   "metadata": {},
   "source": [
    "<font color=grey>Пороговое значение alpha задайте самостоятельно.<br><br>\n",
    "Поясните:<br>\n",
    "как вы формулировали нулевую и альтернативную гипотезы;<br>\n",
    "какой критерий использовали для проверки гипотез и почему.<br></font>"
   ]
  },
  {
   "cell_type": "code",
   "execution_count": 99,
   "metadata": {},
   "outputs": [
    {
     "name": "stdout",
     "output_type": "stream",
     "text": [
      "Дисперсия для выручки по Смарт: 588373\n",
      "Дисперсия для выручки по Ультра: 105239\n"
     ]
    }
   ],
   "source": [
    "print('Дисперсия для выручки по Смарт: {:.0f}'.format(np.var(total_proceeds_smart)))\n",
    "print('Дисперсия для выручки по Ультра: {:.0f}'.format(np.var(total_proceeds_ultra)))"
   ]
  },
  {
   "cell_type": "markdown",
   "metadata": {},
   "source": [
    "Дисперсия для данных по тарифу Смартвыше, чем для данных по тарифу Ультра, дисперсии не равны."
   ]
  },
  {
   "cell_type": "markdown",
   "metadata": {},
   "source": [
    "<strong>Выбор критерия для проверки гипотезы.</strong>\n",
    "1. Тип данных: количественные, непрерывные;\n",
    "2. Данные ведут себя как при нормальном распределении;\n",
    "3. Данные из выборок независимы друг от друга (в каждой выборке представлены разные абоненты);\n",
    "4. В сравнении участвуют средние показатели из выборки.\n",
    "<br>\n",
    "\n",
    "Исходя из этих пунктов выбираю критерий Стьюдента (t-test) \n",
    "<br>\n",
    "Исходя из того, что дисперсии выборок не равны,при расчёте передаю параметр <i>equal_var = False</i>.<br>\n",
    "Пороговое значение alpha - 5%"
   ]
  },
  {
   "cell_type": "markdown",
   "metadata": {},
   "source": [
    "Тип данных - количественные, непрерывные."
   ]
  },
  {
   "cell_type": "markdown",
   "metadata": {},
   "source": [
    "Формулирую нулевую гипотезу:<br>\n",
    "Средняя выручка пользователей тарифа Ультра равна средней выручке тарифа Смарт.<br>\n",
    "<br>\n",
    "Альтернативная гипотеза:<br>\n",
    "Средняя выручка пользователей тарифа Ультра отличается от средней выручки тарифа Смарт.<br>\n",
    "<br>\n",
    "Для проверки гипотез использовал массивы данных с помесячной выручкой пользователей, отсортированные по тарифу.<br>"
   ]
  },
  {
   "cell_type": "code",
   "execution_count": 100,
   "metadata": {},
   "outputs": [
    {
     "name": "stdout",
     "output_type": "stream",
     "text": [
      "p-значение:0.000\n",
      "Отвергаем нулевую гипотезу\n"
     ]
    }
   ],
   "source": [
    "alpha = 0.05 #выбираю значение согласно примеру в теоретической части\n",
    "\n",
    "results = st.ttest_ind(\n",
    "    total_proceeds_smart, \n",
    "    total_proceeds_ultra,\n",
    "    equal_var = False)#добавил пункт\n",
    "\n",
    "print('p-значение:{:.3f}'.format(results.pvalue))\n",
    "\n",
    "if (results.pvalue < alpha):\n",
    "    print(\"Отвергаем нулевую гипотезу\")\n",
    "else:\n",
    "    print(\"Не получилось отвергнуть нулевую гипотезу\")"
   ]
  },
  {
   "cell_type": "markdown",
   "metadata": {},
   "source": [
    "Соответственно средняя выручка пользователей тарифа «Ультра» отличается от средней выручки тарифа «Смарт»."
   ]
  },
  {
   "cell_type": "code",
   "execution_count": 101,
   "metadata": {},
   "outputs": [
    {
     "name": "stdout",
     "output_type": "stream",
     "text": [
      "p-значение:0.000\n",
      "Отвергаем нулевую гипотезу\n"
     ]
    }
   ],
   "source": [
    "alpha = 0.05 #выбираю значение согласно примеру в теоретической части\n",
    "#далее расчёты для массивов без выбросов\n",
    "results = st.ttest_ind(\n",
    "    total_proceeds_smart_clear, \n",
    "    total_proceeds_ultra_clear,\n",
    "    equal_var = False)\n",
    "\n",
    "\n",
    "print('p-значение:{:.3f}'.format(results.pvalue))\n",
    "\n",
    "if (results.pvalue < alpha):\n",
    "    print(\"Отвергаем нулевую гипотезу\")\n",
    "else:\n",
    "    print(\"Не получилось отвергнуть нулевую гипотезу\")"
   ]
  },
  {
   "cell_type": "markdown",
   "metadata": {},
   "source": [
    "Соответственно значение p после удаления выбросов не изменилось, средняя выручка пользователей тарифа \"Ультра\" отличается от средней выручки тарифа \"Смарт\"."
   ]
  },
  {
   "cell_type": "markdown",
   "metadata": {},
   "source": [
    "<a id='step42'></a>\n",
    "### Гипотеза: средняя выручка пользователей из Москвы отличается от выручки пользователей из других регионов"
   ]
  },
  {
   "cell_type": "markdown",
   "metadata": {},
   "source": [
    "<font color=grey>Пороговое значение alpha задайте самостоятельно.<br><br>\n",
    "Поясните:<br>\n",
    "как вы формулировали нулевую и альтернативную гипотезы;<br>\n",
    "какой критерий использовали для проверки гипотез и почему.<br></font>"
   ]
  },
  {
   "cell_type": "code",
   "execution_count": 102,
   "metadata": {},
   "outputs": [
    {
     "name": "stdout",
     "output_type": "stream",
     "text": [
      "Дисперсия для выручки по Москве: 591225\n",
      "Дисперсия для выручки по городам: 646325\n"
     ]
    }
   ],
   "source": [
    "print('Дисперсия для выручки по Москве: {:.0f}'.format(np.var(city_proceeds_moscow)))\n",
    "print('Дисперсия для выручки по городам: {:.0f}'.format(np.var(city_proceeds_cities)))"
   ]
  },
  {
   "cell_type": "markdown",
   "metadata": {},
   "source": [
    "Рассчитываю дисперсии. Для остальных городов дисперсия выше, чем для массива данных по Москве, дисперсии не равны.<br>"
   ]
  },
  {
   "cell_type": "markdown",
   "metadata": {},
   "source": [
    "<strong>Выбор критерия для проверки гипотезы.</strong>\n",
    "1. Тип данных: количественные, непрерывные;\n",
    "2. Данные ведут себя как при нормальном распределении;\n",
    "3. Данные из выборок независимы друг от друга (в каждой выборке представлены разные абоненты);\n",
    "4. В сравнении участвуют средние показатели из выборки.\n",
    "<br>\n",
    "\n",
    "Исходя из этих пунктов выбираю критерий Стьюдента (t-test) \n",
    "<br>\n",
    "Исходя из того, что дисперсии выборок не равны,при расчёте передаю параметр <i>equal_var = False</i>.<br>\n",
    "Пороговое значение alpha - 5%"
   ]
  },
  {
   "cell_type": "markdown",
   "metadata": {},
   "source": [
    "Формулирую нулевую гипотезу:<br>\n",
    "Средняя выручка пользователей жителей Москвы равна выручке пользователей других регионов.<br>\n",
    "<br>\n",
    "Альтернативная гипотеза:<br>\n",
    "Средняя выручка пользователей жителей Москвы отличается от выручки пользователей других регионов.<br>\n",
    "<br>\n",
    "Для проверки гипотез использовал массивы данных с помесячной выручкой пользователей, отсортированные по городу.<br>"
   ]
  },
  {
   "cell_type": "code",
   "execution_count": 103,
   "metadata": {},
   "outputs": [
    {
     "name": "stdout",
     "output_type": "stream",
     "text": [
      "p-значение:0.771\n",
      "Не получилось отвергнуть нулевую гипотезу\n"
     ]
    }
   ],
   "source": [
    "alpha = 0.05 #выбираю значение согласно примеру в теоретической части\n",
    "\n",
    "results = st.ttest_ind(\n",
    "    city_proceeds_moscow, \n",
    "    city_proceeds_cities,\n",
    "    equal_var = False)\n",
    "\n",
    "print('p-значение:{:.3f}'.format(results.pvalue))\n",
    "\n",
    "if (results.pvalue < alpha):\n",
    "    print(\"Отвергаем нулевую гипотезу\")\n",
    "else:\n",
    "    print(\"Не получилось отвергнуть нулевую гипотезу\")"
   ]
  },
  {
   "cell_type": "markdown",
   "metadata": {},
   "source": [
    "Соответственно средняя выручка пользователей жителей Москвы равна выручке пользователей других регионов."
   ]
  },
  {
   "cell_type": "code",
   "execution_count": 104,
   "metadata": {},
   "outputs": [
    {
     "name": "stdout",
     "output_type": "stream",
     "text": [
      "p-значение:0.793\n",
      "Не получилось отвергнуть нулевую гипотезу\n"
     ]
    }
   ],
   "source": [
    "alpha = 0.05 #выбираю значение согласно примеру в теоретической части\n",
    "#далее расчёты для массивов без выбросов\n",
    "results = st.ttest_ind(\n",
    "    city_proceeds_moscow_clear, \n",
    "    city_proceeds_cities_clear,\n",
    "    equal_var = False)\n",
    "\n",
    "print('p-значение:{:.3f}'.format(results.pvalue))\n",
    "\n",
    "if (results.pvalue < alpha):\n",
    "    print(\"Отвергаем нулевую гипотезу\")\n",
    "else:\n",
    "    print(\"Не получилось отвергнуть нулевую гипотезу\")"
   ]
  },
  {
   "cell_type": "markdown",
   "metadata": {},
   "source": [
    "Соответственно значение p после удаления выбросов критически не изменилось, средняя выручка пользователей жителей Москвы равна выручке пользователей других регионов."
   ]
  },
  {
   "cell_type": "markdown",
   "metadata": {},
   "source": [
    "<a id='conclusion4'></a>\n",
    "### Вывод 4"
   ]
  },
  {
   "cell_type": "markdown",
   "metadata": {},
   "source": [
    "Cредняя выручка пользователей тарифа Ультра отличается от средней выручки тарифа Смарт.<br>\n",
    "Cредняя выручка пользователей жителей Москвы равна выручке пользователей других регионов.<br>\n",
    "<br>\n",
    "На данных, очищенных от выбросов результаты не изменились.<br>\n",
    "<br>\n",
    "Дисперсия для данных по тарифу Смарт почти в два раза выше, чем для данных по тарифу Ультра.<br>\n",
    "Для остальных городов дисперсия выше, чем для массива данных по Москве."
   ]
  },
  {
   "cell_type": "markdown",
   "metadata": {},
   "source": [
    "<strong>Исходя из того, что данные распределены не нормально, а тип данных количественный, непрерывный и данные независимы (т.к. пользователи используют разные тарифы), а также мы сравниваем всего 2 группы, то необходимо применить критерий Манна-Уитни.</strong>"
   ]
  },
  {
   "cell_type": "markdown",
   "metadata": {},
   "source": [
    "Формулирую нулевую гипотезу:<br>\n",
    "Средняя выручка пользователей тарифа Ультра равна средней выручке тарифа Смарт.<br>\n",
    "<br>\n",
    "Альтернативная гипотеза:<br>\n",
    "Средняя выручка пользователей тарифа Ультра отличается от средней выручки тарифа Смарт.<br>\n",
    "<br>\n",
    "Для проверки гипотез использовал массивы данных с помесячной выручкой пользователей, отсортированные по тарифу, очищенные от выбросов<br>"
   ]
  },
  {
   "cell_type": "code",
   "execution_count": 105,
   "metadata": {},
   "outputs": [
    {
     "name": "stdout",
     "output_type": "stream",
     "text": [
      "Statistics=21917.500, p=0.000\n",
      "Different distribution (reject H0)\n"
     ]
    }
   ],
   "source": [
    "# Mann-Whitney U test\n",
    "from scipy.stats import mannwhitneyu\n",
    "# compare samples\n",
    "stat, p = mannwhitneyu(total_proceeds_smart_clear, total_proceeds_ultra_clear)\n",
    "print('Statistics=%.3f, p=%.3f' % (stat, p))\n",
    "# interpret\n",
    "alpha = 0.05\n",
    "if p > alpha:\n",
    "    print('Same distribution (fail to reject H0)')\n",
    "else:\n",
    "    print('Different distribution (reject H0)')"
   ]
  },
  {
   "cell_type": "markdown",
   "metadata": {},
   "source": [
    "Нулевая гипотеза отклонена.<br>\n",
    "Распределения выборки не равны.<br>\n",
    "Соответственно средняя выручка пользователей тарифа «Ультра» отличается от средней выручки тарифа «Смарт».<br>"
   ]
  },
  {
   "cell_type": "markdown",
   "metadata": {},
   "source": [
    "Формулирую нулевую гипотезу:<br>\n",
    "Средняя выручка пользователей жителей Москвы равна выручке пользователей других регионов.<br>\n",
    "<br>\n",
    "Альтернативная гипотеза:<br>\n",
    "Средняя выручка пользователей жителей Москвы отличается от выручки пользователей других регионов.<br>\n",
    "<br>\n",
    "Для проверки гипотез использовал массивы данных с помесячной выручкой пользователей, отсортированные по городу, очищенные от выбросов.<br>"
   ]
  },
  {
   "cell_type": "code",
   "execution_count": 106,
   "metadata": {},
   "outputs": [
    {
     "name": "stdout",
     "output_type": "stream",
     "text": [
      "Statistics=229737.500, p=0.407\n",
      "Same distribution (fail to reject H0)\n"
     ]
    }
   ],
   "source": [
    "# Mann-Whitney U test\n",
    "from scipy.stats import mannwhitneyu\n",
    "# compare samples\n",
    "stat, p = mannwhitneyu(city_proceeds_moscow_clear, city_proceeds_cities_clear)\n",
    "print('Statistics=%.3f, p=%.3f' % (stat, p))\n",
    "# interpret\n",
    "alpha = 0.05\n",
    "if p > alpha:\n",
    "    print('Same distribution (fail to reject H0)')\n",
    "else:\n",
    "    print('Different distribution (reject H0)')"
   ]
  },
  {
   "cell_type": "markdown",
   "metadata": {},
   "source": [
    "Не удаётся отклонить нулевую гипотезу.<br>\n",
    "Распределения выборки равны.<br>\n",
    "Соответственно средняя выручка пользователей жителей Москвы равна выручке пользователей других регионов.<br>"
   ]
  },
  {
   "cell_type": "markdown",
   "metadata": {},
   "source": [
    "Таким образом, результаты, полученные по критерию Манна-Уитни на массивах, очищенные от выбросов, всё равно равны результатам по методу Стьюдента на \"грязных\" данных."
   ]
  },
  {
   "cell_type": "markdown",
   "metadata": {},
   "source": [
    "<a id='step5'></a>\n",
    "## Шаг 5. Общий вывод"
   ]
  },
  {
   "cell_type": "markdown",
   "metadata": {},
   "source": [
    "В датафреймах представлена следующая информация:<br>\n",
    "1. 202607 строк с данными о разговорах пользователей;<br>\n",
    "2. 149396 строк с данными об интернет-сессиях пользователей;<br>\n",
    "3. 123036 строк с данным о сообщениях пользователей;<br>\n",
    "4. 2 тарифах;<br>\n",
    "5. 500 уникальных пользователях.\n",
    "<br><br>\n",
    "\n",
    "В таблицах <strong>calls</strong> и <strong>internet</strong> столбцы 'duration' и 'mb_used' были округлены до целого значения в большую сторону, т.к. это задано условиями тарифа.\n",
    "<br><br>\n",
    "\n",
    "По типам данных были произведены следующие изменения:<br>\n",
    "1. В таблице <strong>calls</strong> в столбце call_date с object на date, в столбце duration требуется с float на int;\n",
    "2. В таблице <strong>internet</strong> в столбце mb_used с float на int, т.к. точность после запятой не требуется, а в столбце session_date с object на date;\n",
    "3. В таблице <strong>messages</strong> в столбце message_date с object на date;\n",
    "4. В таблице <strong>users</strong> в столбцах churn_date и reg_date с object на date.\n",
    "<br><br>\n",
    "\n",
    "В таблице <strong>internet</strong> удалён столбец <strong>Unnamed: 0</strong>, который не отражён в описании данных, значения дублируются с индексами.\n",
    "<br><br>\n",
    "В таблицах <strong>calls</strong> и <strong>internet</strong> были удалены нулевые данные (звонки, сессии), которые составляли <strong>19.6%</strong> и <strong>13.2%</strong> соответстветственно. Природа появления этих данных требует дополнительного анализа.\n",
    "<br><br>\n",
    "Пропущенные значения в столбце 'churn_date' (дата прекращения пользования тарифом также были заменены на значение 12), а при расчётах заданий использовалось значение текущего месяца (от 1 до 12).<br>\n",
    "<br><br>\n",
    "Также были сформированы таблицы:<br>\n",
    "с количеством израсходованных минут пользователями по месяцам;<br>\n",
    "с количеством звонков пользователями по месяцам;<br>\n",
    "с количеством сообщений пользователями по месяцам;<br>\n",
    "с объемом израсходованного траффика пользователями по месяцам;<br>\n",
    "с данными о выручке с каждого пользователя по месяцам.<br>\n",
    "<br><br>\n",
    "Выводы по ходу изучения данных:\n",
    "1. Пользователи тарифа Ультра тратят больше минут, сообщений и интернет трафика, чем пользователи тарифа Смарт.\n",
    "2. В данных по обоим тарифам есть выбросы в околонулевой зоне. Это может быть связано с тем, что пользователи активно используют другие тарифные опции (например не пользуются звонками, но активно отправляют смс сообщения).\n",
    "3. Данные пользователей тарифа Смарт распределены более линейно.\n",
    "<br><br>\n",
    "\n",
    "Т.к. данные распределены не нормально, тип данных количественный, непрерывный и данные независимы, а также в сравнении всего 2 группы, необходимо применить критерий Манна-Уитни.<br><br>\n",
    "<strong>Cредняя выручка пользователей тарифа «Ультра» отличается от средней выручки тарифа «Смарт».<br>\n",
    "Cредняя выручка пользователей жителей Москвы равна выручке пользователей других регионов.<br></strong>\n",
    "<br>\n",
    "Дисперсия для данных по тарифу Смарт выше, чем для данных по тарифу Ультра.<br>\n",
    "Для остальных городов дисперсия выше, чем для массива данных по Москве.\n",
    "\n"
   ]
  },
  {
   "cell_type": "code",
   "execution_count": null,
   "metadata": {},
   "outputs": [],
   "source": []
  }
 ],
 "metadata": {
  "kernelspec": {
   "display_name": "Python 3",
   "language": "python",
   "name": "python3"
  },
  "language_info": {
   "codemirror_mode": {
    "name": "ipython",
    "version": 3
   },
   "file_extension": ".py",
   "mimetype": "text/x-python",
   "name": "python",
   "nbconvert_exporter": "python",
   "pygments_lexer": "ipython3",
   "version": "3.7.6"
  }
 },
 "nbformat": 4,
 "nbformat_minor": 2
}
